{
 "cells": [
  {
   "cell_type": "markdown",
   "metadata": {
    "toc": true
   },
   "source": [
    "<h1>Table of Contents<span class=\"tocSkip\"></span></h1>\n",
    "<div class=\"toc\"><ul class=\"toc-item\"><li><span><a href=\"#Diffusion-equation\" data-toc-modified-id=\"Diffusion-equation-1\"><span class=\"toc-item-num\">1&nbsp;&nbsp;</span>Diffusion equation</a></span></li><li><span><a href=\"#implementations\" data-toc-modified-id=\"implementations-2\"><span class=\"toc-item-num\">2&nbsp;&nbsp;</span>implementations</a></span><ul class=\"toc-item\"><li><span><a href=\"#Environment\" data-toc-modified-id=\"Environment-2.1\"><span class=\"toc-item-num\">2.1&nbsp;&nbsp;</span>Environment</a></span></li><li><span><a href=\"#Python:-list[]\" data-toc-modified-id=\"Python:-list[]-2.2\"><span class=\"toc-item-num\">2.2&nbsp;&nbsp;</span>Python: <code>list[]</code></a></span></li><li><span><a href=\"#Python:-ndarray[]\" data-toc-modified-id=\"Python:-ndarray[]-2.3\"><span class=\"toc-item-num\">2.3&nbsp;&nbsp;</span>Python: <code>ndarray[]</code></a></span></li><li><span><a href=\"#Numpy\" data-toc-modified-id=\"Numpy-2.4\"><span class=\"toc-item-num\">2.4&nbsp;&nbsp;</span>Numpy</a></span></li><li><span><a href=\"#Numba\" data-toc-modified-id=\"Numba-2.5\"><span class=\"toc-item-num\">2.5&nbsp;&nbsp;</span>Numba</a></span></li><li><span><a href=\"#Cython:-exact-python\" data-toc-modified-id=\"Cython:-exact-python-2.6\"><span class=\"toc-item-num\">2.6&nbsp;&nbsp;</span>Cython: exact python</a></span></li><li><span><a href=\"#Cython:-with-type-annotation\" data-toc-modified-id=\"Cython:-with-type-annotation-2.7\"><span class=\"toc-item-num\">2.7&nbsp;&nbsp;</span>Cython: with type annotation</a></span></li><li><span><a href=\"#Cython:-optimized-for-strides\" data-toc-modified-id=\"Cython:-optimized-for-strides-2.8\"><span class=\"toc-item-num\">2.8&nbsp;&nbsp;</span>Cython: optimized for strides</a></span></li><li><span><a href=\"#Cython:-C\" data-toc-modified-id=\"Cython:-C-2.9\"><span class=\"toc-item-num\">2.9&nbsp;&nbsp;</span>Cython: C</a></span></li><li><span><a href=\"#C/C++\" data-toc-modified-id=\"C/C++-2.10\"><span class=\"toc-item-num\">2.10&nbsp;&nbsp;</span>C/C++</a></span></li><li><span><a href=\"#PyPy\" data-toc-modified-id=\"PyPy-2.11\"><span class=\"toc-item-num\">2.11&nbsp;&nbsp;</span>PyPy</a></span></li><li><span><a href=\"#Java\" data-toc-modified-id=\"Java-2.12\"><span class=\"toc-item-num\">2.12&nbsp;&nbsp;</span>Java</a></span></li><li><span><a href=\"#Julia\" data-toc-modified-id=\"Julia-2.13\"><span class=\"toc-item-num\">2.13&nbsp;&nbsp;</span>Julia</a></span></li><li><span><a href=\"#Test-the-correctness\" data-toc-modified-id=\"Test-the-correctness-2.14\"><span class=\"toc-item-num\">2.14&nbsp;&nbsp;</span>Test the correctness</a></span></li></ul></li><li><span><a href=\"#Have-a-break:-Visualization-of-the-temperature\" data-toc-modified-id=\"Have-a-break:-Visualization-of-the-temperature-3\"><span class=\"toc-item-num\">3&nbsp;&nbsp;</span>Have a break: Visualization of the temperature</a></span></li><li><span><a href=\"#Test-speed\" data-toc-modified-id=\"Test-speed-4\"><span class=\"toc-item-num\">4&nbsp;&nbsp;</span>Test speed</a></span><ul class=\"toc-item\"><li><span><a href=\"#Discussion\" data-toc-modified-id=\"Discussion-4.1\"><span class=\"toc-item-num\">4.1&nbsp;&nbsp;</span>Discussion</a></span><ul class=\"toc-item\"><li><span><a href=\"#CPython\" data-toc-modified-id=\"CPython-4.1.1\"><span class=\"toc-item-num\">4.1.1&nbsp;&nbsp;</span>CPython</a></span></li><li><span><a href=\"#numpy\" data-toc-modified-id=\"numpy-4.1.2\"><span class=\"toc-item-num\">4.1.2&nbsp;&nbsp;</span>numpy</a></span></li><li><span><a href=\"#Cython\" data-toc-modified-id=\"Cython-4.1.3\"><span class=\"toc-item-num\">4.1.3&nbsp;&nbsp;</span>Cython</a></span></li><li><span><a href=\"#Java\" data-toc-modified-id=\"Java-4.1.4\"><span class=\"toc-item-num\">4.1.4&nbsp;&nbsp;</span>Java</a></span></li><li><span><a href=\"#numba\" data-toc-modified-id=\"numba-4.1.5\"><span class=\"toc-item-num\">4.1.5&nbsp;&nbsp;</span>numba</a></span></li><li><span><a href=\"#Julia\" data-toc-modified-id=\"Julia-4.1.6\"><span class=\"toc-item-num\">4.1.6&nbsp;&nbsp;</span>Julia</a></span></li></ul></li></ul></li><li><span><a href=\"#Some-optimization:-Not-part-of-comparison-of-languages\" data-toc-modified-id=\"Some-optimization:-Not-part-of-comparison-of-languages-5\"><span class=\"toc-item-num\">5&nbsp;&nbsp;</span>Some optimization: Not part of comparison of languages</a></span><ul class=\"toc-item\"><li><span><a href=\"#Pingpong\" data-toc-modified-id=\"Pingpong-5.1\"><span class=\"toc-item-num\">5.1&nbsp;&nbsp;</span>Pingpong</a></span></li><li><span><a href=\"#Backup-one-line\" data-toc-modified-id=\"Backup-one-line-5.2\"><span class=\"toc-item-num\">5.2&nbsp;&nbsp;</span>Backup one line</a></span></li><li><span><a href=\"#Use-the-updated-value\" data-toc-modified-id=\"Use-the-updated-value-5.3\"><span class=\"toc-item-num\">5.3&nbsp;&nbsp;</span>Use the updated value</a></span></li></ul></li></ul></div>"
   ]
  },
  {
   "cell_type": "markdown",
   "metadata": {},
   "source": [
    "# Diffusion equation"
   ]
  },
  {
   "cell_type": "markdown",
   "metadata": {},
   "source": [
    "Stationary diffusion equation\n",
    "$$\\frac{\\partial^2 \\phi}{\\partial^2 x} + \\frac{\\partial^2 \\phi}{\\partial^2 y} = -4\\rho$$\n",
    "where the $\\rho$ is the source, $\\phi$ is the density.\n",
    "\n",
    "In the heat transfer example, the heat source is the source, and the temperature is the \"heat density\".\n",
    "\n",
    "We can descrese the equation as\n",
    "$$\n",
    "\\frac{\\phi(x+\\Delta x,y) + \\phi(x-\\Delta x,y) + \\phi(x,y+\\Delta x) + \\phi(x,y-\\Delta x) - 4\\phi(x,y)}{(\\Delta x) ^2} =  -4\\rho\n",
    "$$\n",
    "where $\\Delta x = \\Delta y$\n",
    "Then we can write down the iteration equation\n",
    "$$\n",
    "\\phi(x,y) = \\frac{\\phi(x+\\Delta x,y) + \\phi(x-\\Delta x,y) + \\phi(x,y+\\Delta x) + \\phi(x,y-\\Delta x)}{4} + (\\Delta x) ^2 \\rho\n",
    "$$"
   ]
  },
  {
   "cell_type": "markdown",
   "metadata": {},
   "source": [
    "# implementations"
   ]
  },
  {
   "cell_type": "markdown",
   "metadata": {},
   "source": [
    "## Environment"
   ]
  },
  {
   "cell_type": "code",
   "execution_count": 1,
   "metadata": {
    "ExecuteTime": {
     "end_time": "2019-12-02T15:19:11.490000Z",
     "start_time": "2019-12-02T15:19:11.484000Z"
    }
   },
   "outputs": [
    {
     "name": "stdout",
     "output_type": "stream",
     "text": [
      "3.6.7 |Anaconda, Inc.| (default, Dec 10 2018, 20:35:02) [MSC v.1915 64 bit (AMD64)]\n"
     ]
    }
   ],
   "source": [
    "import sys\n",
    "print(sys.version)"
   ]
  },
  {
   "cell_type": "code",
   "execution_count": 42,
   "metadata": {
    "ExecuteTime": {
     "end_time": "2019-12-02T15:19:11.500500Z",
     "start_time": "2019-12-02T15:19:11.491500Z"
    }
   },
   "outputs": [],
   "source": [
    "import numpy as np\n",
    "\n",
    "class TimeResult:\n",
    "    def __init__(self, time, n, n_updates):\n",
    "        self.time = float(time)\n",
    "        self.n = int(n)\n",
    "        self.n_updates = int(n_updates)\n",
    "        \n",
    "    def avg(self):\n",
    "        return self.time/(self.n*self.n*self.n_updates)\n",
    "    \n",
    "def test_speed(solver, n_updates=1000, array=\"ndarray\"):\n",
    "\n",
    "    print(\"benchmarking: %s\" % solver.__name__)\n",
    "    ns = 10**np.linspace(1.5, 3, 10)\n",
    "    ans = []\n",
    "\n",
    "    for n_float in ns:\n",
    "\n",
    "        n = int(n_float)\n",
    "        rho = np.zeros((n, n), dtype=np.float64)\n",
    "        phi = np.zeros((n, n), dtype=np.float64)\n",
    "\n",
    "        if array == \"ndarray\":\n",
    "            t=%timeit -q -r3 -o solver(phi, rho, 0.1, n_updates)\n",
    "        else:\n",
    "            phi = phi.tolist()\n",
    "            rho = rho.tolist()\n",
    "            t=%timeit -q -r3 -o solver(phi, rho, 0.1, n_updates)\n",
    "\n",
    "\n",
    "        tr = TimeResult(t.average, n, n_updates)\n",
    "        ans.append(tr)\n",
    "        \n",
    "        time = t.average\n",
    "        \n",
    "        print(\"Average (%5d loops) time of %10.4f s for %4d updates on grid of %dx%d\" %\n",
    "              (t.loops, float(time), n_updates, int(n), int(n)))\n",
    "\n",
    "    return ans"
   ]
  },
  {
   "cell_type": "markdown",
   "metadata": {},
   "source": [
    "## Python: `list[]`"
   ]
  },
  {
   "cell_type": "code",
   "execution_count": 3,
   "metadata": {},
   "outputs": [
    {
     "name": "stdout",
     "output_type": "stream",
     "text": [
      "Overwriting temp_list.py\n"
     ]
    }
   ],
   "source": [
    "%%writefile temp_list.py\n",
    "# for the use of pypy\n",
    "\n",
    "import copy\n",
    "\n",
    "def temperature_python_list(phi, rho, dx, n_iter):\n",
    "    # phi[0,:] the left boundary, not update\n",
    "    # phi[phi.shape[0]-1,:] the right boundary, not update\n",
    "    # phi[0,:] the left boundary, not update\n",
    "    # phi[:,phi.shape[1]-1] the top boundary, not update\n",
    "\n",
    "    # a buffer is needed\n",
    "    # we don't want to refer the updated result\n",
    "    # when we write e.g. phi[i-1,j]\n",
    "    phi_update = copy.deepcopy(phi)\n",
    "    M = len(phi)\n",
    "    N = len(phi[0])\n",
    "    for it in range(n_iter):\n",
    "        for i in range(1, M - 1):\n",
    "            for j in range(1, N - 1):\n",
    "                phi_update[i][j] = 0.25 * (phi[i - 1][j] + phi[i + 1][j]\\\n",
    "                    + phi[i][j - 1] + phi[i][j + 1])\\\n",
    "                    + dx*dx * rho[i][j]\n",
    "\n",
    "        for i in range(1, M - 1):\n",
    "            for j in range(1, N - 1):\n",
    "                phi[i][j] = phi_update[i][j]"
   ]
  },
  {
   "cell_type": "code",
   "execution_count": 4,
   "metadata": {},
   "outputs": [
    {
     "name": "stdout",
     "output_type": "stream",
     "text": [
      "benchmarking: temperature_python_list\n",
      "Average ( 1000 loops) time of     0.0009 s for    1 updates on grid of 31x31\n",
      "Average (  100 loops) time of     0.0020 s for    1 updates on grid of 46x46\n",
      "Average (  100 loops) time of     0.0042 s for    1 updates on grid of 68x68\n",
      "Average (  100 loops) time of     0.0092 s for    1 updates on grid of 100x100\n",
      "Average (  100 loops) time of     0.0197 s for    1 updates on grid of 146x146\n",
      "Average (   10 loops) time of     0.0427 s for    1 updates on grid of 215x215\n",
      "Average (   10 loops) time of     0.0935 s for    1 updates on grid of 316x316\n",
      "Average (    1 loops) time of     0.2058 s for    1 updates on grid of 464x464\n",
      "Average (    1 loops) time of     0.4553 s for    1 updates on grid of 681x681\n",
      "Average (    1 loops) time of     0.9981 s for    1 updates on grid of 1000x1000\n"
     ]
    }
   ],
   "source": [
    "from temp_list import temperature_python_list\n",
    "t_python_list=test_speed(temperature_python_list, n_updates=1, array=\"list\")"
   ]
  },
  {
   "cell_type": "markdown",
   "metadata": {},
   "source": [
    "## Python: `ndarray[]`"
   ]
  },
  {
   "cell_type": "code",
   "execution_count": 5,
   "metadata": {
    "ExecuteTime": {
     "end_time": "2019-12-02T15:19:11.605000Z",
     "start_time": "2019-12-02T15:19:11.502500Z"
    }
   },
   "outputs": [],
   "source": [
    "#%%writefile temp.py\n",
    "import numpy as np\n",
    "\n",
    "\n",
    "def temperature_python(phi, rho, dx, n_iter):\n",
    "    # phi[0,:] the left boundary, not update\n",
    "    # phi[phi.shape[0]-1,:] the right boundary, not update\n",
    "    # phi[0,:] the left boundary, not update\n",
    "    # phi[:,phi.shape[1]-1] the top boundary, not update\n",
    "\n",
    "    # a buffer is needed\n",
    "    # we don't want to refer the updated result\n",
    "    # when we write e.g. phi[i-1,j]\n",
    "    phi_update = np.empty_like(phi)\n",
    "    for it in range(n_iter):\n",
    "        for i in range(1, phi.shape[0] - 1):\n",
    "            for j in range(1, phi.shape[1] - 1):\n",
    "                phi_update[i, j] = 0.25 * (phi[i - 1,j] + phi[i + 1,j]\\\n",
    "                    + phi[i, j - 1] + phi[i, j + 1])\\\n",
    "                    + dx*dx * rho[i, j]\n",
    "\n",
    "        for i in range(1, phi.shape[0] - 1):\n",
    "            for j in range(1, phi.shape[1] - 1):\n",
    "                phi[i, j] = phi_update[i, j]"
   ]
  },
  {
   "cell_type": "code",
   "execution_count": 6,
   "metadata": {
    "ExecuteTime": {
     "end_time": "2019-12-02T15:19:58.921500Z",
     "start_time": "2019-12-02T15:19:11.606000Z"
    }
   },
   "outputs": [
    {
     "name": "stdout",
     "output_type": "stream",
     "text": [
      "benchmarking: temperature_python\n",
      "Average ( 1000 loops) time of     0.0016 s for    1 updates on grid of 31x31\n",
      "Average (  100 loops) time of     0.0034 s for    1 updates on grid of 46x46\n",
      "Average (  100 loops) time of     0.0079 s for    1 updates on grid of 68x68\n",
      "Average (  100 loops) time of     0.0170 s for    1 updates on grid of 100x100\n",
      "Average (   10 loops) time of     0.0374 s for    1 updates on grid of 146x146\n",
      "Average (   10 loops) time of     0.0803 s for    1 updates on grid of 215x215\n",
      "Average (   10 loops) time of     0.1830 s for    1 updates on grid of 316x316\n",
      "Average (    1 loops) time of     0.3991 s for    1 updates on grid of 464x464\n",
      "Average (    1 loops) time of     0.8802 s for    1 updates on grid of 681x681\n",
      "Average (    1 loops) time of     1.8445 s for    1 updates on grid of 1000x1000\n"
     ]
    }
   ],
   "source": [
    "t_python_ndarray=test_speed(temperature_python, n_updates=1)"
   ]
  },
  {
   "cell_type": "markdown",
   "metadata": {
    "ExecuteTime": {
     "end_time": "2019-12-01T08:21:19.056500Z",
     "start_time": "2019-12-01T08:21:19.054000Z"
    }
   },
   "source": [
    "## Numpy"
   ]
  },
  {
   "cell_type": "code",
   "execution_count": 7,
   "metadata": {
    "ExecuteTime": {
     "end_time": "2019-12-02T15:19:58.928500Z",
     "start_time": "2019-12-02T15:19:58.923500Z"
    }
   },
   "outputs": [],
   "source": [
    "def temperature_numpy(phi, rho, dx, n_iter):\n",
    "\n",
    "    M = phi.shape[0]\n",
    "    N = phi.shape[1]\n",
    "    rho = dx**2 * rho[1:M - 1, 1:N - 1]\n",
    "    for _ in range(n_iter):\n",
    "        phi[1:M - 1, 1:N - 1] = 0.25*(phi[0:M - 2, 1:N - 1]\\\n",
    "            + phi[2:M, 1:N - 1]\\\n",
    "            + phi[1:M-1, 0:N - 2]\\\n",
    "            + phi[1:M-1, 2:N])\\\n",
    "            + rho"
   ]
  },
  {
   "cell_type": "code",
   "execution_count": 8,
   "metadata": {
    "ExecuteTime": {
     "end_time": "2019-12-02T15:22:09.715500Z",
     "start_time": "2019-12-02T15:19:58.930000Z"
    }
   },
   "outputs": [
    {
     "name": "stdout",
     "output_type": "stream",
     "text": [
      "benchmarking: temperature_numpy\n",
      "Average (  100 loops) time of     0.0118 s for 1000 updates on grid of 31x31\n",
      "Average (  100 loops) time of     0.0159 s for 1000 updates on grid of 46x46\n",
      "Average (   10 loops) time of     0.0280 s for 1000 updates on grid of 68x68\n",
      "Average (   10 loops) time of     0.0492 s for 1000 updates on grid of 100x100\n",
      "Average (   10 loops) time of     0.0867 s for 1000 updates on grid of 146x146\n",
      "Average (   10 loops) time of     0.1703 s for 1000 updates on grid of 215x215\n",
      "Average (    1 loops) time of     0.3504 s for 1000 updates on grid of 316x316\n",
      "Average (    1 loops) time of     2.8684 s for 1000 updates on grid of 464x464\n",
      "Average (    1 loops) time of     6.9661 s for 1000 updates on grid of 681x681\n",
      "Average (    1 loops) time of    16.0591 s for 1000 updates on grid of 1000x1000\n"
     ]
    }
   ],
   "source": [
    "t_numpy=test_speed(temperature_numpy)"
   ]
  },
  {
   "cell_type": "markdown",
   "metadata": {},
   "source": [
    "## Numba"
   ]
  },
  {
   "cell_type": "code",
   "execution_count": 9,
   "metadata": {
    "ExecuteTime": {
     "end_time": "2019-12-02T15:22:10.095000Z",
     "start_time": "2019-12-02T15:22:09.717000Z"
    }
   },
   "outputs": [],
   "source": [
    "import numba as nb\n",
    "#parallel=True not work in this case\n",
    "temperature_numba = nb.jit(nopython=True)(temperature_python)\n",
    "temperature_numba_numpy = nb.jit(nopython=True)(temperature_numpy)"
   ]
  },
  {
   "cell_type": "code",
   "execution_count": 10,
   "metadata": {
    "ExecuteTime": {
     "end_time": "2019-12-02T15:23:55.362000Z",
     "start_time": "2019-12-02T15:22:10.096500Z"
    }
   },
   "outputs": [
    {
     "name": "stdout",
     "output_type": "stream",
     "text": [
      "benchmarking: temperature_python\n",
      "Average (    1 loops) time of     0.0009 s for 1000 updates on grid of 31x31\n",
      "Average (  100 loops) time of     0.0021 s for 1000 updates on grid of 46x46\n",
      "Average (  100 loops) time of     0.0035 s for 1000 updates on grid of 68x68\n",
      "Average (  100 loops) time of     0.0073 s for 1000 updates on grid of 100x100\n",
      "Average (  100 loops) time of     0.0176 s for 1000 updates on grid of 146x146\n",
      "Average (   10 loops) time of     0.0374 s for 1000 updates on grid of 215x215\n",
      "Average (   10 loops) time of     0.0869 s for 1000 updates on grid of 316x316\n",
      "Average (    1 loops) time of     0.2289 s for 1000 updates on grid of 464x464\n",
      "Average (    1 loops) time of     0.8350 s for 1000 updates on grid of 681x681\n",
      "Average (    1 loops) time of     2.2250 s for 1000 updates on grid of 1000x1000\n",
      "benchmarking: temperature_numpy\n",
      "Average (    1 loops) time of     0.0051 s for 1000 updates on grid of 31x31\n",
      "Average (  100 loops) time of     0.0116 s for 1000 updates on grid of 46x46\n",
      "Average (   10 loops) time of     0.0255 s for 1000 updates on grid of 68x68\n",
      "Average (   10 loops) time of     0.0561 s for 1000 updates on grid of 100x100\n",
      "Average (   10 loops) time of     0.1206 s for 1000 updates on grid of 146x146\n",
      "Average (    1 loops) time of     0.2629 s for 1000 updates on grid of 215x215\n",
      "Average (    1 loops) time of     0.5665 s for 1000 updates on grid of 316x316\n",
      "Average (    1 loops) time of     1.5924 s for 1000 updates on grid of 464x464\n",
      "Average (    1 loops) time of     3.5505 s for 1000 updates on grid of 681x681\n",
      "Average (    1 loops) time of     7.9436 s for 1000 updates on grid of 1000x1000\n"
     ]
    }
   ],
   "source": [
    "t_numba=test_speed(temperature_numba)\n",
    "t_numba_numpy=test_speed(temperature_numba_numpy)"
   ]
  },
  {
   "cell_type": "markdown",
   "metadata": {
    "ExecuteTime": {
     "end_time": "2019-12-01T09:46:12.506500Z",
     "start_time": "2019-12-01T09:46:12.501500Z"
    }
   },
   "source": [
    "## Cython: exact python"
   ]
  },
  {
   "cell_type": "code",
   "execution_count": 11,
   "metadata": {
    "ExecuteTime": {
     "end_time": "2019-12-02T15:23:55.761500Z",
     "start_time": "2019-12-02T15:23:55.363500Z"
    }
   },
   "outputs": [],
   "source": [
    "# please install cython\n",
    "# >>> conda install cython\n",
    "%load_ext cython"
   ]
  },
  {
   "cell_type": "markdown",
   "metadata": {},
   "source": [
    "We compile the python to C code. The only optimization is avoiding the reading the bytecode and parsing. Because, in this mode, we still use CPython runtime and the CPython runtime is the slowest part. We except there is no acceleration."
   ]
  },
  {
   "cell_type": "code",
   "execution_count": 12,
   "metadata": {
    "ExecuteTime": {
     "end_time": "2019-12-02T15:23:55.769500Z",
     "start_time": "2019-12-02T15:23:55.763000Z"
    }
   },
   "outputs": [],
   "source": [
    "%%cython\n",
    "#%load temp.py\n",
    "import numpy as np\n",
    "\n",
    "def temperature_cython_python(phi, rho, dx, n_iter):\n",
    "    # phi[0,:] the left boundary, not update\n",
    "    # phi[phi.shape[0]-1,:] the right boundary, not update\n",
    "    # phi[0,:] the left boundary, not update\n",
    "    # phi[:,phi.shape[1]-1] the top boundary, not update\n",
    "    \n",
    "    # a buffer is needed\n",
    "    # we don't want to refer the updated result\n",
    "    # when we write e.g. phi[i-1,j]\n",
    "    phi_update = np.empty_like(phi)\n",
    "    for it in range(n_iter):\n",
    "        for i in range(1, phi.shape[0] - 1):\n",
    "            for j in range(1, phi.shape[1] - 1):\n",
    "                phi_update[i, j] = 0.25 * (phi[i - 1,j] + phi[i + 1,j]\\\n",
    "                    + phi[i, j - 1] + phi[i, j + 1])\\\n",
    "                    + dx**2 * rho[i, j]\n",
    "\n",
    "        for i in range(1, phi.shape[0] - 1):\n",
    "            for j in range(1, phi.shape[1] - 1):\n",
    "                phi[i, j] = phi_update[i, j]"
   ]
  },
  {
   "cell_type": "code",
   "execution_count": 13,
   "metadata": {
    "ExecuteTime": {
     "end_time": "2019-12-02T15:24:35.119500Z",
     "start_time": "2019-12-02T15:23:55.771500Z"
    }
   },
   "outputs": [
    {
     "name": "stdout",
     "output_type": "stream",
     "text": [
      "benchmarking: temperature_cython_python\n",
      "Average ( 1000 loops) time of     0.0014 s for    1 updates on grid of 31x31\n",
      "Average (  100 loops) time of     0.0033 s for    1 updates on grid of 46x46\n",
      "Average (  100 loops) time of     0.0074 s for    1 updates on grid of 68x68\n",
      "Average (  100 loops) time of     0.0158 s for    1 updates on grid of 100x100\n",
      "Average (   10 loops) time of     0.0351 s for    1 updates on grid of 146x146\n",
      "Average (   10 loops) time of     0.0748 s for    1 updates on grid of 215x215\n",
      "Average (   10 loops) time of     0.1687 s for    1 updates on grid of 316x316\n",
      "Average (    1 loops) time of     0.3704 s for    1 updates on grid of 464x464\n",
      "Average (    1 loops) time of     0.7993 s for    1 updates on grid of 681x681\n",
      "Average (    1 loops) time of     1.7352 s for    1 updates on grid of 1000x1000\n"
     ]
    }
   ],
   "source": [
    "t_cython_python=test_speed(temperature_cython_python,n_updates=1)"
   ]
  },
  {
   "cell_type": "markdown",
   "metadata": {},
   "source": [
    "## Cython: with type annotation"
   ]
  },
  {
   "cell_type": "markdown",
   "metadata": {
    "ExecuteTime": {
     "end_time": "2019-12-01T09:22:25.671500Z",
     "start_time": "2019-12-01T09:22:25.664000Z"
    }
   },
   "source": [
    "Cypton is new to me. I hope writing this simple example doesn't require a Cython expert. However, it seems not the case. I looked into the generated c code (via `cython -a`). The generated code doesn't assume the strides to be 1. The code even uses a function to calculate the address from indices. I don't how much the calculation will effect."
   ]
  },
  {
   "cell_type": "code",
   "execution_count": 14,
   "metadata": {
    "ExecuteTime": {
     "end_time": "2019-12-02T15:24:35.124500Z",
     "start_time": "2019-12-02T15:24:35.120500Z"
    }
   },
   "outputs": [],
   "source": [
    "%%cython\n",
    "import numpy as np\n",
    "cimport numpy as np\n",
    "cimport cython\n",
    "\n",
    "\n",
    "@cython.boundscheck(False)\n",
    "@cython.wraparound(False)\n",
    "def temperature_cython_typed(np.ndarray[np.float64_t, ndim=2, mode=\"c\"] phi,\n",
    "                             np.ndarray[np.float64_t, ndim=2, mode=\"c\"] rho,\n",
    "                             double dx,int n_iter):\n",
    "    \n",
    "    cdef np.ndarray[np.float64_t, ndim=2, mode=\"c\"] phi_update = np.empty_like(phi)\n",
    "    cdef int M = phi.shape[0]\n",
    "    cdef int N = phi.shape[1]\n",
    "    cdef int i = 0\n",
    "    cdef int j = 0\n",
    "            \n",
    "    for it in range(n_iter):\n",
    "        for i in range(1, M-1):\n",
    "            for j in range(1, N-1):\n",
    "                phi_update[i, j] = 0.25 * (phi[i - 1, j] + phi[i + 1,j]\\\n",
    "                    + phi[i, j - 1] + phi[i, j + 1])\\\n",
    "                    + dx**2 * rho[i, j]\n",
    "\n",
    "        for i in range(1, M-1):\n",
    "            for j in range(1, N-1):     \n",
    "                phi[i,j] = phi_update[i,j]\n",
    "                "
   ]
  },
  {
   "cell_type": "code",
   "execution_count": 15,
   "metadata": {
    "ExecuteTime": {
     "end_time": "2019-12-02T15:25:11.713500Z",
     "start_time": "2019-12-02T15:24:35.127000Z"
    }
   },
   "outputs": [
    {
     "name": "stdout",
     "output_type": "stream",
     "text": [
      "benchmarking: temperature_cython_typed\n",
      "Average (  100 loops) time of     0.0033 s for 1000 updates on grid of 31x31\n",
      "Average (  100 loops) time of     0.0064 s for 1000 updates on grid of 46x46\n",
      "Average (  100 loops) time of     0.0126 s for 1000 updates on grid of 68x68\n",
      "Average (   10 loops) time of     0.0254 s for 1000 updates on grid of 100x100\n",
      "Average (   10 loops) time of     0.0506 s for 1000 updates on grid of 146x146\n",
      "Average (   10 loops) time of     0.1061 s for 1000 updates on grid of 215x215\n",
      "Average (    1 loops) time of     0.2250 s for 1000 updates on grid of 316x316\n",
      "Average (    1 loops) time of     0.5233 s for 1000 updates on grid of 464x464\n",
      "Average (    1 loops) time of     1.2707 s for 1000 updates on grid of 681x681\n",
      "Average (    1 loops) time of     3.1272 s for 1000 updates on grid of 1000x1000\n"
     ]
    }
   ],
   "source": [
    "t_cython_typed=test_speed(temperature_cython_typed)"
   ]
  },
  {
   "cell_type": "markdown",
   "metadata": {},
   "source": [
    "## Cython: optimized for strides"
   ]
  },
  {
   "cell_type": "markdown",
   "metadata": {},
   "source": [
    "Now, I tell the cython, the array is indeed a continuous `c` array. The function call for the calculation of index is avoid now."
   ]
  },
  {
   "cell_type": "code",
   "execution_count": 16,
   "metadata": {
    "ExecuteTime": {
     "end_time": "2019-12-02T15:25:11.720000Z",
     "start_time": "2019-12-02T15:25:11.715000Z"
    }
   },
   "outputs": [],
   "source": [
    "%%cython\n",
    "import numpy as np\n",
    "cimport numpy as np\n",
    "cimport cython\n",
    "\n",
    "\n",
    "@cython.boundscheck(False)\n",
    "@cython.wraparound(False)\n",
    "def temperature_cython_optimized(np.ndarray[np.float64_t, ndim=2, mode=\"c\"] phi_,\n",
    "                             np.ndarray[np.float64_t, ndim=2, mode=\"c\"] rho_,\n",
    "                             double dx,int n_iter):\n",
    "    \n",
    "    cdef np.ndarray[np.float64_t, ndim=2, mode=\"c\"] phi_update_ = np.empty_like(phi_)    \n",
    "    cdef int M = phi_.shape[0]\n",
    "    cdef int N = phi_.shape[1]\n",
    "    cdef int i = 0\n",
    "    cdef int j = 0\n",
    "    \n",
    "    ##########################################\n",
    "    # we assume it is continious c array\n",
    "    ##########################################\n",
    "    \n",
    "    cdef double[:,::1] phi = phi_\n",
    "    cdef double[:,::1] rho = rho_\n",
    "    cdef double[:,::1] phi_update = phi_update_\n",
    "            \n",
    "    for it in range(n_iter):\n",
    "        for i in range(1, M-1):\n",
    "            for j in range(1, N-1):\n",
    "                phi_update[i, j] = 0.25 * (phi[i - 1, j] + phi[i + 1,j]\\\n",
    "                    + phi[i, j - 1] + phi[i, j + 1])\\\n",
    "                    + dx**2 * rho[i, j]\n",
    "\n",
    "        for i in range(1, M-1):\n",
    "            for j in range(1, N-1):     \n",
    "                phi[i,j] = phi_update[i,j]\n",
    "                "
   ]
  },
  {
   "cell_type": "code",
   "execution_count": 17,
   "metadata": {
    "ExecuteTime": {
     "end_time": "2019-12-02T15:25:51.485500Z",
     "start_time": "2019-12-02T15:25:11.721500Z"
    }
   },
   "outputs": [
    {
     "name": "stdout",
     "output_type": "stream",
     "text": [
      "benchmarking: temperature_cython_optimized\n",
      "Average (  100 loops) time of     0.0025 s for 1000 updates on grid of 31x31\n",
      "Average (  100 loops) time of     0.0047 s for 1000 updates on grid of 46x46\n",
      "Average (  100 loops) time of     0.0092 s for 1000 updates on grid of 68x68\n",
      "Average (  100 loops) time of     0.0183 s for 1000 updates on grid of 100x100\n",
      "Average (   10 loops) time of     0.0380 s for 1000 updates on grid of 146x146\n",
      "Average (   10 loops) time of     0.0753 s for 1000 updates on grid of 215x215\n",
      "Average (   10 loops) time of     0.1618 s for 1000 updates on grid of 316x316\n",
      "Average (    1 loops) time of     0.3862 s for 1000 updates on grid of 464x464\n",
      "Average (    1 loops) time of     1.0856 s for 1000 updates on grid of 681x681\n",
      "Average (    1 loops) time of     2.7655 s for 1000 updates on grid of 1000x1000\n"
     ]
    }
   ],
   "source": [
    "t_cython_optimized=test_speed(temperature_cython_optimized)"
   ]
  },
  {
   "cell_type": "markdown",
   "metadata": {},
   "source": [
    "## Cython: C"
   ]
  },
  {
   "cell_type": "code",
   "execution_count": 18,
   "metadata": {
    "ExecuteTime": {
     "end_time": "2019-12-02T15:25:51.491000Z",
     "start_time": "2019-12-02T15:25:51.487000Z"
    }
   },
   "outputs": [
    {
     "name": "stdout",
     "output_type": "stream",
     "text": [
      "Overwriting temperature_c.c\n"
     ]
    }
   ],
   "source": [
    "%%writefile temperature_c.c\n",
    "\n",
    "#define INDEX(i,j) ((i)*N + (j))\n",
    "\n",
    "void temperature_c(double * phi, double *phi_update, double * rho,\n",
    "    int M, int N, double dx, int n_iter) {\n",
    "\n",
    "    // We will not reuse INDEX(i, j)\n",
    "    // test the compiler!\n",
    "\n",
    "    for (int it = 0; it < n_iter; ++it) {\n",
    "        for (int i = 1; i < M - 1; ++i) {\n",
    "            for (int j = 1; j < N - 1; ++j) {\n",
    "                phi_update[INDEX(i, j)] = 0.25*(phi[INDEX(i, j - 1)] + phi[INDEX(i, j + 1)]\n",
    "                    + phi[INDEX(i - 1, j)] + phi[INDEX(i + 1, j)]) + dx * dx*rho[INDEX(i, j)];\n",
    "            }\n",
    "        }\n",
    "        for (int i = 1; i < M - 1; ++i) {\n",
    "            for (int j = 1; j < N - 1; ++j) {\n",
    "                phi[INDEX(i, j)] = phi_update[INDEX(i, j)];\n",
    "            }\n",
    "        }\n",
    "    }\n",
    "}\n"
   ]
  },
  {
   "cell_type": "markdown",
   "metadata": {
    "ExecuteTime": {
     "end_time": "2019-12-01T20:05:38.974500Z",
     "start_time": "2019-12-01T20:05:38.968000Z"
    }
   },
   "source": [
    "Copy file to the directory that contains `*.pyx`. So the compiler can find our C code."
   ]
  },
  {
   "cell_type": "code",
   "execution_count": 19,
   "metadata": {
    "ExecuteTime": {
     "end_time": "2019-12-02T15:25:51.499000Z",
     "start_time": "2019-12-02T15:25:51.492500Z"
    }
   },
   "outputs": [],
   "source": [
    "import os.path, shutil\n",
    "from sys import platform\n",
    "\n",
    "if platform == \"linux\" or platform == \"linux2\":\n",
    "    # linux\n",
    "    pyx_dir=os.path.join(os.path.expanduser('~'), \".cache/ipython/cython/\")\n",
    "    shutil.copy(\"temperature_c.c\", pyx_dir)\n",
    "elif platform == \"darwin\":\n",
    "    # OS X\n",
    "    # I don't have mac ...\n",
    "    # Try fix this by yourself\n",
    "    pass\n",
    "elif platform == \"win32\":\n",
    "    # Windows...\n",
    "    pyx_dir=os.path.join(os.path.expanduser('~'), \".ipython\\cython\")\n",
    "    shutil.copy(\"temperature_c.c\", pyx_dir)"
   ]
  },
  {
   "cell_type": "markdown",
   "metadata": {},
   "source": [
    "In the '.pyx' part, we transform `ndarray` to C pointer, then call the temperature_c."
   ]
  },
  {
   "cell_type": "code",
   "execution_count": 20,
   "metadata": {
    "ExecuteTime": {
     "end_time": "2019-12-02T15:25:51.510000Z",
     "start_time": "2019-12-02T15:25:51.500500Z"
    }
   },
   "outputs": [],
   "source": [
    "%%cython\n",
    "\n",
    "import numpy as np\n",
    "cimport numpy as np\n",
    "cimport cython\n",
    "\n",
    "cdef extern from \"temperature_c.c\":\n",
    "    # C is include here so that it doesn't need to be compiled externally\n",
    "    pass\n",
    "\n",
    "cdef extern void temperature_c(double *,double *,double *rho, int, int, double, int)\n",
    "\n",
    "@cython.boundscheck(False)\n",
    "@cython.wraparound(False)\n",
    "def temperature_cython_c(np.ndarray[np.float64_t, ndim=2, mode=\"c\"] phi_,\n",
    "                             np.ndarray[np.float64_t, ndim=2, mode=\"c\"] rho_,\n",
    "                             double dx,int n_iter):\n",
    "    \n",
    "    cdef np.ndarray[np.float64_t, ndim=2, mode=\"c\"] phi_update_ = np.empty_like(phi_)    \n",
    "    cdef int M = phi_.shape[0]\n",
    "    cdef int N = phi_.shape[1]\n",
    "    cdef int i = 0\n",
    "    cdef int j = 0\n",
    "    \n",
    "    #####################\n",
    "    # we assume it is continious c array\n",
    "    #####################\n",
    "    \n",
    "    cdef double[:,::1] phi = phi_\n",
    "    cdef double[:,::1] rho = rho_\n",
    "    cdef double[:,::1] phi_update = phi_update_\n",
    "    \n",
    "    temperature_c(&(phi[0,0]), &(phi_update[0,0]), &(rho[0,0]), M, N, dx, n_iter)\n",
    "            "
   ]
  },
  {
   "cell_type": "code",
   "execution_count": 21,
   "metadata": {
    "ExecuteTime": {
     "end_time": "2019-12-02T15:26:29.721500Z",
     "start_time": "2019-12-02T15:25:51.512000Z"
    }
   },
   "outputs": [
    {
     "name": "stdout",
     "output_type": "stream",
     "text": [
      "benchmarking: temperature_cython_c\n",
      "Average ( 1000 loops) time of     0.0012 s for 1000 updates on grid of 31x31\n",
      "Average (  100 loops) time of     0.0027 s for 1000 updates on grid of 46x46\n",
      "Average (  100 loops) time of     0.0062 s for 1000 updates on grid of 68x68\n",
      "Average (  100 loops) time of     0.0136 s for 1000 updates on grid of 100x100\n",
      "Average (   10 loops) time of     0.0296 s for 1000 updates on grid of 146x146\n",
      "Average (   10 loops) time of     0.0636 s for 1000 updates on grid of 215x215\n",
      "Average (   10 loops) time of     0.1417 s for 1000 updates on grid of 316x316\n",
      "Average (    1 loops) time of     0.3898 s for 1000 updates on grid of 464x464\n",
      "Average (    1 loops) time of     1.0448 s for 1000 updates on grid of 681x681\n",
      "Average (    1 loops) time of     2.7971 s for 1000 updates on grid of 1000x1000\n"
     ]
    }
   ],
   "source": [
    "t_cython_c=test_speed(temperature_cython_c)"
   ]
  },
  {
   "cell_type": "markdown",
   "metadata": {},
   "source": [
    "## C/C++"
   ]
  },
  {
   "cell_type": "markdown",
   "metadata": {
    "ExecuteTime": {
     "end_time": "2019-12-01T15:19:14.781500Z",
     "start_time": "2019-12-01T15:19:14.774000Z"
    }
   },
   "source": [
    "It's not convient to use numpy in python's C++ extension. I wrote a standalone C++ program. \n",
    "\n",
    "- I don't do any manually optimization\n",
    "- However, I will enable all possible optimization with my machine and compiler."
   ]
  },
  {
   "cell_type": "code",
   "execution_count": 22,
   "metadata": {
    "ExecuteTime": {
     "end_time": "2019-12-02T15:26:29.727000Z",
     "start_time": "2019-12-02T15:26:29.723000Z"
    }
   },
   "outputs": [
    {
     "name": "stdout",
     "output_type": "stream",
     "text": [
      "Overwriting temp.cxx\n"
     ]
    }
   ],
   "source": [
    "%%writefile temp.cxx\n",
    "\n",
    "#include <stdio.h>\n",
    "#include <vector>\n",
    "#include <chrono>\n",
    "#include <iostream>\n",
    "#include <math.h>\n",
    "\n",
    "\n",
    "#define INDEX(i,j) ((i)*N + (j))\n",
    "\n",
    "void temperature_cpp(double *  phi, double const * rho,\n",
    "    int M, int N, double dx, int n_iter) {\n",
    "\n",
    "    std::vector<double> phi_update_(M*N);\n",
    "    double *phi_update = phi_update_.data();\n",
    "\n",
    "\n",
    "    // We will not reuse INDEX(i, j)\n",
    "    // test the compiler!\n",
    "\n",
    "    for (int it = 0; it < n_iter; ++it) {\n",
    "        for (int i = 1; i < M - 1; ++i) {\n",
    "            for (int j = 1; j < N - 1; ++j) {\n",
    "                phi_update[INDEX(i, j)] = 0.25*(phi[INDEX(i, j - 1)] + phi[INDEX(i, j + 1)]\n",
    "                    + phi[INDEX(i - 1, j)] + phi[INDEX(i + 1, j)]) + dx * dx*rho[INDEX(i, j)];\n",
    "            }\n",
    "        }\n",
    "        for (int i = 1; i < M - 1; ++i) {\n",
    "            for (int j = 1; j < N - 1; ++j) {\n",
    "                phi[INDEX(i, j)] = phi_update[INDEX(i, j)];\n",
    "            }\n",
    "        }\n",
    "    }\n",
    "}\n",
    "\n",
    "int main()\n",
    "{\n",
    "\n",
    "    for (int d = 0; d < 10; ++d) {\n",
    "        int M = (int)pow(10, 1.5 + (3.0 - 1.5)*d / 9);\n",
    "\n",
    "        int N = M;\n",
    "        std::vector<double> phi(M*N);\n",
    "        std::vector<double> rho(M*N);\n",
    "\n",
    "        for (int i = 0; i < M; ++i) {\n",
    "            for (int j = 0; j < N; ++j) {\n",
    "                double x = (i - M / 2) * 0.1;\n",
    "                double y = (j - N / 2) * 0.1;\n",
    "                rho[INDEX(i, j)] = x * x + y * y;\n",
    "            }\n",
    "        }\n",
    "\n",
    "        int n_updates = 1000;\n",
    "        int repeat = 200;\n",
    "        int loops = repeat * 100 * 100 / (N + 1) / (M + 1) + 1;\n",
    "        auto t0 = std::chrono::high_resolution_clock::now();\n",
    "        for (int i = 0; i < loops; ++i) {\n",
    "            temperature_cpp(phi.data(), rho.data(), M, N, 0.1, n_updates);\n",
    "        }\n",
    "        \n",
    "        \n",
    "        auto t1 = std::chrono::high_resolution_clock::now();\n",
    "\n",
    "        double sum = 0;\n",
    "        for(int i = 0; i < M*N; ++i) {\n",
    "            sum += phi[i];\n",
    "        }\n",
    "\n",
    "        double period = std::chrono::duration_cast<std::chrono::microseconds>(t1 - t0).count()/1.0E6;\n",
    "        printf(\"%d %d %d %f %f\\n\", loops, M, n_updates, period/loops, sum);\n",
    "\n",
    "    }\n",
    "}\n"
   ]
  },
  {
   "cell_type": "markdown",
   "metadata": {},
   "source": [
    "Build and run"
   ]
  },
  {
   "cell_type": "code",
   "execution_count": 23,
   "metadata": {
    "ExecuteTime": {
     "end_time": "2019-12-02T15:27:02.548500Z",
     "start_time": "2019-12-02T15:26:29.728500Z"
    },
    "scrolled": false
   },
   "outputs": [
    {
     "name": "stdout",
     "output_type": "stream",
     "text": [
      "**********************************************************************\n",
      "** Visual Studio 2017 Developer Command Prompt v15.7.5\n",
      "** Copyright (c) 2017 Microsoft Corporation\n",
      "**********************************************************************\n",
      "[vcvarsall.bat] Environment initialized for: 'x86_x64'\n",
      "temp.cxx\n"
     ]
    }
   ],
   "source": [
    "from sys import platform\n",
    "\n",
    "if platform == \"linux\" or platform == \"linux2\":\n",
    "    # linux\n",
    "    !g++ temp.cxx -O3 -o temp.exe\n",
    "    cpp_result = !./temp.exe\n",
    "elif platform == \"darwin\":\n",
    "    # OS X\n",
    "    # I don't have mac ...\n",
    "    # Try fix this by yourself\n",
    "    pass\n",
    "elif platform == \"win32\":\n",
    "    # For windows and VS2017\n",
    "    !\"C:\\Program Files (x86)\\Microsoft Visual Studio\\2017\\Community\\VC\\Auxiliary\\Build\\vcvarsall.bat\" x86_amd64 \\\n",
    "    && cl /EHsc /Ox /arch:AVX2 /nologo temp.cxx\n",
    "    cpp_result = !temp.exe\n"
   ]
  },
  {
   "cell_type": "code",
   "execution_count": 24,
   "metadata": {
    "ExecuteTime": {
     "end_time": "2019-12-02T15:27:02.555000Z",
     "start_time": "2019-12-02T15:27:02.550000Z"
    },
    "scrolled": false
   },
   "outputs": [
    {
     "name": "stdout",
     "output_type": "stream",
     "text": [
      "Average time (1954 loops) of     0.00 s for 1000 updates on grid of 31x31 (checknumber:1064.582000)\n",
      "Average time ( 906 loops) of     0.00 s for 1000 updates on grid of 46x46 (checknumber:12214.673322)\n",
      "Average time ( 421 loops) of     0.01 s for 1000 updates on grid of 68x68 (checknumber:133177.171815)\n",
      "Average time ( 197 loops) of     0.01 s for 1000 updates on grid of 100x100 (checknumber:1386626.000757)\n",
      "Average time (  93 loops) of     0.03 s for 1000 updates on grid of 146x146 (checknumber:13690891.777387)\n",
      "Average time (  43 loops) of     0.07 s for 1000 updates on grid of 215x215 (checknumber:140303587.877100)\n",
      "Average time (  20 loops) of     0.14 s for 1000 updates on grid of 316x316 (checknumber:982537540.157539)\n",
      "Average time (  10 loops) of     0.36 s for 1000 updates on grid of 464x464 (checknumber:4115543098.125080)\n",
      "Average time (   5 loops) of     1.00 s for 1000 updates on grid of 681x681 (checknumber:13101325211.826406)\n",
      "Average time (   2 loops) of     2.80 s for 1000 updates on grid of 1000x1000 (checknumber:29040753634.350063)\n"
     ]
    }
   ],
   "source": [
    "def grap_result(raw_result):\n",
    "    ans = []\n",
    "    for r in raw_result[len(raw_result) - 10:]:\n",
    "        loops, dim, updates, time, sm = r.split()\n",
    "        print(\n",
    "            \"Average time (%4d loops) of %8.2f s for %d updates on grid of %dx%d (checknumber:%f)\"\n",
    "            % (int(loops), float(time), int(updates), int(dim), int(dim),\n",
    "               float(sm)))\n",
    "\n",
    "        ans.append(TimeResult(time, dim, updates))\n",
    "    return ans\n",
    "\n",
    "t_cpp = grap_result(cpp_result)"
   ]
  },
  {
   "cell_type": "markdown",
   "metadata": {},
   "source": [
    "## PyPy"
   ]
  },
  {
   "cell_type": "markdown",
   "metadata": {},
   "source": [
    "Setup program"
   ]
  },
  {
   "cell_type": "code",
   "execution_count": 25,
   "metadata": {},
   "outputs": [
    {
     "name": "stdout",
     "output_type": "stream",
     "text": [
      "Overwriting test_pypy.py\n"
     ]
    }
   ],
   "source": [
    "%%writefile test_pypy.py\n",
    "\n",
    "# we have already wrote temp_list.py\n",
    "from temp_list import temperature_python_list\n",
    "import timeit\n",
    "\n",
    "\n",
    "def test_speed(solver, n_updates, array=\"ndarray\"):\n",
    "\n",
    "    ns = [10**(1.5 + (3 - 1.5) * i / 9) for i in range(10)]\n",
    "    ans = []\n",
    "\n",
    "    for n_float in ns:\n",
    "\n",
    "        n = int(n_float)\n",
    "\n",
    "        rho = [[((i / n - 0.5)**2 + (i / n - 0.5)**2) for i in range(n)]\n",
    "               for j in range(n)]\n",
    "        phi = [[0.0 for i in range(n)] for j in range(n)]\n",
    "\n",
    "        t = timeit.repeat(\n",
    "            \"temperature_python_list(phi, rho, 0.1, n_updates)\",\n",
    "            repeat=3,\n",
    "            globals={\n",
    "                \"temperature_python_list\": solver,\n",
    "                \"phi\": phi,\n",
    "                \"rho\": rho,\n",
    "                \"n_updates\": n_updates\n",
    "            },\n",
    "            number=1)\n",
    "\n",
    "        sm = 0.0\n",
    "        for row in phi:\n",
    "            for ele in row:\n",
    "                sm += ele\n",
    "\n",
    "        ans.append(t)\n",
    "\n",
    "        time = min(t)\n",
    "        loops = 1\n",
    "        print(loops, \" \", n, \" \", n_updates, \" \", time/loops, \" \", sm)\n",
    "\n",
    "    return ans\n",
    "\n",
    "\n",
    "if __name__ == '__main__':\n",
    "    test_speed(temperature_python_list, 100)\n",
    "    test_speed(temperature_python_list, 100)"
   ]
  },
  {
   "cell_type": "code",
   "execution_count": 26,
   "metadata": {},
   "outputs": [],
   "source": [
    "pypy_ans=!pypy3 test_pypy.py"
   ]
  },
  {
   "cell_type": "code",
   "execution_count": 27,
   "metadata": {},
   "outputs": [
    {
     "name": "stdout",
     "output_type": "stream",
     "text": [
      "Average time (   1 loops) of     0.00 s for 100 updates on grid of 31x31 (checknumber:92.970957)\n",
      "Average time (   1 loops) of     0.00 s for 100 updates on grid of 46x46 (checknumber:337.623430)\n",
      "Average time (   1 loops) of     0.01 s for 100 updates on grid of 68x68 (checknumber:1044.310515)\n",
      "Average time (   1 loops) of     0.02 s for 100 updates on grid of 100x100 (checknumber:2885.603931)\n",
      "Average time (   1 loops) of     0.05 s for 100 updates on grid of 146x146 (checknumber:7288.559803)\n",
      "Average time (   1 loops) of     0.10 s for 100 updates on grid of 215x215 (checknumber:17831.724565)\n",
      "Average time (   1 loops) of     0.22 s for 100 updates on grid of 316x316 (checknumber:41828.722524)\n",
      "Average time (   1 loops) of     0.49 s for 100 updates on grid of 464x464 (checknumber:95404.139328)\n",
      "Average time (   1 loops) of     1.07 s for 100 updates on grid of 681x681 (checknumber:213549.720377)\n",
      "Average time (   1 loops) of     2.28 s for 100 updates on grid of 1000x1000 (checknumber:472714.199786)\n"
     ]
    }
   ],
   "source": [
    "t_pypy = grap_result(pypy_ans)"
   ]
  },
  {
   "cell_type": "markdown",
   "metadata": {},
   "source": [
    "## Java"
   ]
  },
  {
   "cell_type": "code",
   "execution_count": 28,
   "metadata": {},
   "outputs": [
    {
     "name": "stdout",
     "output_type": "stream",
     "text": [
      "Overwriting Diffusion.java\n"
     ]
    }
   ],
   "source": [
    "%%writefile Diffusion.java\n",
    "\n",
    "\n",
    "public class Diffusion {\n",
    "\n",
    "    static void diffusion(double[] phi, double[] rho, int M, int N, double dx, int n_iters) {\n",
    "\n",
    "        double[] phi_update = new double[M * N];\n",
    "\n",
    "        for (int it = 0; it < n_iters; ++it) {\n",
    "            for (int i = 1; i < M - 1; i++) {\n",
    "                for (int j = 1; j < N - 1; j++) {\n",
    "\n",
    "                    int index = i * N + j;\n",
    "                    phi_update[index] = 0.25 * (phi[index - 1] + phi[index + 1] + phi[index - N] + phi[index + N])\n",
    "                            + dx * dx * rho[index];\n",
    "\n",
    "                }\n",
    "            }\n",
    "            for (int i = 1; i < M - 1; i++) {\n",
    "                for (int j = 1; j < N - 1; j++) {\n",
    "\n",
    "                    int index = i * N + j;\n",
    "                    phi[index] = phi_update[index];\n",
    "\n",
    "                }\n",
    "            }\n",
    "\n",
    "        }\n",
    "\n",
    "    }\n",
    "\n",
    "    static void testSpeed() {\n",
    "        for (int d = 0; d < 10; ++d) {\n",
    "            int M = (int) Math.pow(10, 1.5 + (3.0 - 1.5) * d / 9);\n",
    "\n",
    "            int N = M;\n",
    "            double[] phi = new double[M * N];\n",
    "            double[] rho = new double[M * N];\n",
    "\n",
    "            for (int i = 0; i < M; ++i) {\n",
    "                for (int j = 0; j < N; ++j) {\n",
    "                    double x = (i - M / 2) * 0.1;\n",
    "                    double y = (j - N / 2) * 0.1;\n",
    "                    int index = i * N + j;\n",
    "                    rho[index] = x * x + y * y;\n",
    "                }\n",
    "            }\n",
    "\n",
    "            int repeat = 200;\n",
    "            int loops = repeat * 100 * 100 / (N + 1) / (M + 1) + 1;\n",
    "\n",
    "            long nanoBegin = System.nanoTime();\n",
    "            for (int i = 0; i < loops; ++i) {\n",
    "                diffusion(phi, rho, M, N, 0.1, 1000);\n",
    "            }\n",
    "            long nanoEnd = System.nanoTime();\n",
    "\n",
    "            double sum = 0;\n",
    "            for (int i = 0; i < M * N; ++i) {\n",
    "                sum += phi[i];\n",
    "            }\n",
    "\n",
    "            double time = nanoEnd - nanoBegin;\n",
    "            System.out.printf(\"%d %d %d %f %f\\n\", loops, M, 1000, time / (1E9 * loops), sum);\n",
    "\n",
    "        }\n",
    "\n",
    "    }\n",
    "\n",
    "    public static void main(String[] args) {\n",
    "        testSpeed();\n",
    "        testSpeed();\n",
    "    }\n",
    "}\n"
   ]
  },
  {
   "cell_type": "markdown",
   "metadata": {},
   "source": [
    "Build and run"
   ]
  },
  {
   "cell_type": "code",
   "execution_count": 29,
   "metadata": {},
   "outputs": [],
   "source": [
    "!javac Diffusion.java\n",
    "java_result=!java -cp . Diffusion"
   ]
  },
  {
   "cell_type": "code",
   "execution_count": 30,
   "metadata": {},
   "outputs": [
    {
     "name": "stdout",
     "output_type": "stream",
     "text": [
      "Average time (1954 loops) of     0.00 s for 1000 updates on grid of 31x31 (checknumber:1064.582000)\n",
      "Average time ( 906 loops) of     0.00 s for 1000 updates on grid of 46x46 (checknumber:12214.673322)\n",
      "Average time ( 421 loops) of     0.01 s for 1000 updates on grid of 68x68 (checknumber:133177.171815)\n",
      "Average time ( 197 loops) of     0.02 s for 1000 updates on grid of 100x100 (checknumber:1386626.000757)\n",
      "Average time (  93 loops) of     0.04 s for 1000 updates on grid of 146x146 (checknumber:13690891.777387)\n",
      "Average time (  43 loops) of     0.09 s for 1000 updates on grid of 215x215 (checknumber:140303587.877101)\n",
      "Average time (  20 loops) of     0.22 s for 1000 updates on grid of 316x316 (checknumber:982537540.157539)\n",
      "Average time (  10 loops) of     0.49 s for 1000 updates on grid of 464x464 (checknumber:4115543098.125080)\n",
      "Average time (   5 loops) of     1.22 s for 1000 updates on grid of 681x681 (checknumber:13101325211.826406)\n",
      "Average time (   2 loops) of     2.97 s for 1000 updates on grid of 1000x1000 (checknumber:29040753634.350063)\n"
     ]
    }
   ],
   "source": [
    "t_java = grap_result(java_result)"
   ]
  },
  {
   "cell_type": "markdown",
   "metadata": {},
   "source": [
    "## Julia"
   ]
  },
  {
   "cell_type": "code",
   "execution_count": 88,
   "metadata": {},
   "outputs": [
    {
     "name": "stdout",
     "output_type": "stream",
     "text": [
      "Overwriting diffusion.jl\n"
     ]
    }
   ],
   "source": [
    "%%writefile diffusion.jl\n",
    "\n",
    "function diffusion(psi::Array{Float64,2}, rho::Array{Float64,2}, dx::Float64, n_iters::Int)\n",
    "\n",
    "    psi_update = zeros(Float64, size(psi))\n",
    "\n",
    "    for it = 1:n_iters\n",
    "        # julia array is in coloum order, we you need to loop over first index in the inner loop\n",
    "        for j = 2: size(psi,2)-1\n",
    "            for i = 2: size(psi,1)-1\n",
    "                # inbounds also important\n",
    "                @inbounds psi_update[i,j] = 0.25*(psi[i,j-1]+psi[i,j+1]+psi[i-1,j]+psi[i+1,j]) + dx*dx*rho[i,j]\n",
    "            end\n",
    "        end\n",
    "        for j = 2: size(psi,2)-1\n",
    "            for i = 2: size(psi,1)-1\n",
    "                @inbounds psi[i,j] = psi_update[i,j]\n",
    "            end\n",
    "        end\n",
    "    end\n",
    "\n",
    "end\n",
    "\n",
    "function diffusion_checkbound(psi::Array{Float64,2}, rho::Array{Float64,2}, dx::Float64, n_iters::Int)\n",
    "\n",
    "    psi_update = zeros(Float64, size(psi))\n",
    "\n",
    "    for it = 1:n_iters\n",
    "        # julia array is in coloum order, we you need to loop over first index in the inner loop\n",
    "        for j = 2: size(psi,2)-1\n",
    "            for i = 2: size(psi,1)-1\n",
    "                # inbounds also important\n",
    "                psi_update[i,j] = 0.25*(psi[i,j-1]+psi[i,j+1]+psi[i-1,j]+psi[i+1,j]) + dx*dx*rho[i,j]\n",
    "            end\n",
    "        end\n",
    "        for j = 2: size(psi,2)-1\n",
    "            for i = 2: size(psi,1)-1\n",
    "                psi[i,j] = psi_update[i,j]\n",
    "            end\n",
    "        end\n",
    "    end\n",
    "\n",
    "end\n",
    "\n",
    "function test_speed(f)\n",
    "\n",
    "    for d = 1:10\n",
    "\n",
    "        M = trunc(Int, 10 ^ (1.5 + (3.0 - 1.5)*(d-1) / 9))\n",
    "\n",
    "        N=M\n",
    "        phi = zeros(Float64, M, N)\n",
    "        rho = zeros(Float64, M, N)\n",
    "\n",
    "        for j = 1:N\n",
    "            for i = 1:M\n",
    "                x = (i-1-div(M,2))*0.1\n",
    "                y = (j-1-div(N,2))*0.1\n",
    "                rho[i,j] = x*x + y*y\n",
    "            end\n",
    "        end\n",
    "\n",
    "        repeat = 200\n",
    "        loops = trunc(Int, repeat * 100 * 100 /(N+1)/(M+1) + 1)\n",
    "        \n",
    "        n_updates=1000\n",
    "        time = @elapsed for i = 1:loops\n",
    "            f(phi, rho, 0.1, n_updates)\n",
    "        end\n",
    "\n",
    "        print(loops,\" \",M,\" \",n_updates,\" \", time/loops, \" \", sum(phi), \"\\n\")\n",
    "\n",
    "    end\n",
    "\n",
    "end\n",
    "\n",
    "test_speed(diffusion)\n",
    "test_speed(diffusion)\n",
    "test_speed(diffusion_checkbound)\n",
    "test_speed(diffusion_checkbound)\n"
   ]
  },
  {
   "cell_type": "code",
   "execution_count": 89,
   "metadata": {},
   "outputs": [],
   "source": [
    "julia_result=!julia -O3 diffusion.jl"
   ]
  },
  {
   "cell_type": "code",
   "execution_count": 91,
   "metadata": {},
   "outputs": [
    {
     "name": "stdout",
     "output_type": "stream",
     "text": [
      "Average time (1954 loops) of     0.00 s for 1000 updates on grid of 31x31 (checknumber:1064.582000)\n",
      "Average time ( 906 loops) of     0.00 s for 1000 updates on grid of 46x46 (checknumber:12214.673322)\n",
      "Average time ( 421 loops) of     0.00 s for 1000 updates on grid of 68x68 (checknumber:133177.171815)\n",
      "Average time ( 197 loops) of     0.01 s for 1000 updates on grid of 100x100 (checknumber:1386626.000757)\n",
      "Average time (  93 loops) of     0.02 s for 1000 updates on grid of 146x146 (checknumber:13690891.777387)\n",
      "Average time (  43 loops) of     0.04 s for 1000 updates on grid of 215x215 (checknumber:140303587.877099)\n",
      "Average time (  20 loops) of     0.09 s for 1000 updates on grid of 316x316 (checknumber:982537540.157538)\n",
      "Average time (  10 loops) of     0.22 s for 1000 updates on grid of 464x464 (checknumber:4115543098.124969)\n",
      "Average time (   5 loops) of     0.87 s for 1000 updates on grid of 681x681 (checknumber:13101325211.825836)\n",
      "Average time (   2 loops) of     2.53 s for 1000 updates on grid of 1000x1000 (checknumber:29040753634.344807)\n",
      "Average time (1954 loops) of     0.00 s for 1000 updates on grid of 31x31 (checknumber:1064.582000)\n",
      "Average time ( 906 loops) of     0.01 s for 1000 updates on grid of 46x46 (checknumber:12214.673322)\n",
      "Average time ( 421 loops) of     0.01 s for 1000 updates on grid of 68x68 (checknumber:133177.171815)\n",
      "Average time ( 197 loops) of     0.03 s for 1000 updates on grid of 100x100 (checknumber:1386626.000757)\n",
      "Average time (  93 loops) of     0.07 s for 1000 updates on grid of 146x146 (checknumber:13690891.777387)\n",
      "Average time (  43 loops) of     0.15 s for 1000 updates on grid of 215x215 (checknumber:140303587.877099)\n",
      "Average time (  20 loops) of     0.32 s for 1000 updates on grid of 316x316 (checknumber:982537540.157538)\n",
      "Average time (  10 loops) of     0.71 s for 1000 updates on grid of 464x464 (checknumber:4115543098.124969)\n",
      "Average time (   5 loops) of     1.65 s for 1000 updates on grid of 681x681 (checknumber:13101325211.825836)\n",
      "Average time (   2 loops) of     3.78 s for 1000 updates on grid of 1000x1000 (checknumber:29040753634.344807)\n"
     ]
    }
   ],
   "source": [
    "t_julia = grap_result(julia_result[:20])\n",
    "t_julia_checkbound = grap_result(julia_result[20:])"
   ]
  },
  {
   "cell_type": "markdown",
   "metadata": {},
   "source": [
    "## Test the correctness"
   ]
  },
  {
   "cell_type": "code",
   "execution_count": 34,
   "metadata": {
    "ExecuteTime": {
     "end_time": "2019-12-02T15:27:02.582000Z",
     "start_time": "2019-12-02T15:27:02.557000Z"
    }
   },
   "outputs": [],
   "source": [
    "def test_they_are_same():\n",
    "    \n",
    "    nx = 50\n",
    "    rho = np.zeros((nx, nx), dtype=np.float64)\n",
    "    \n",
    "    xx, yy = np.meshgrid(np.linspace(-1, 1, nx), np.linspace(-1, 1, nx))\n",
    "    rho[:, :] = np.abs(np.sqrt(xx**2 + yy**2) - 0.3) < 0.1\n",
    "\n",
    "    \n",
    "    n_iter=2\n",
    "    # python\n",
    "    phi_python_list = np.zeros((nx, nx), dtype=np.float64)\n",
    "    temperature_python_list(phi_python_list, rho, 0.1, n_iter)\n",
    "\n",
    "    phi_python = np.zeros((nx, nx), dtype=np.float64)\n",
    "    temperature_python(phi_python, rho, 0.1, n_iter)\n",
    "    \n",
    "    assert np.allclose(phi_python, phi_python_list)\n",
    "    \n",
    "    # numpy\n",
    "    phi_numpy = np.zeros((nx, nx), dtype=np.float64)\n",
    "    temperature_numpy(phi_numpy, rho, 0.1, n_iter)\n",
    "\n",
    "    assert np.allclose(phi_python, phi_numpy)\n",
    "    \n",
    "    # numba\n",
    "    phi_numba = np.zeros((nx, nx), dtype=np.float64)\n",
    "    temperature_numba(phi_numba, rho, 0.1, n_iter)\n",
    "        \n",
    "    phi_numba_numpy = np.zeros((nx, nx), dtype=np.float64)\n",
    "    temperature_numba_numpy(phi_numba_numpy, rho, 0.1, n_iter)\n",
    "\n",
    "    assert np.allclose(phi_numba, phi_numpy)\n",
    "    assert np.allclose(phi_numba_numpy, phi_numpy)\n",
    "    \n",
    "    # cython\n",
    "    phi_cython_python = np.zeros((nx, nx), dtype=np.float64)\n",
    "    temperature_cython_python(phi_cython_python, rho, 0.1, n_iter)\n",
    "\n",
    "    phi_cython_typed = np.zeros((nx, nx), dtype=np.float64)\n",
    "    temperature_cython_typed(phi_cython_typed, rho, 0.1, n_iter)\n",
    "\n",
    "    phi_cython_optimized = np.zeros((nx, nx), dtype=np.float64)\n",
    "    temperature_cython_optimized(phi_cython_optimized, rho, 0.1, n_iter)\n",
    "\n",
    "    phi_cython_c = np.zeros((nx, nx), dtype=np.float64)\n",
    "    temperature_cython_c(phi_cython_c, rho, 0.1, n_iter)    \n",
    "    \n",
    "    assert np.allclose(phi_cython_python, phi_numpy)\n",
    "    assert np.allclose(phi_cython_typed, phi_numpy)\n",
    "    assert np.allclose(phi_cython_optimized, phi_numpy)\n",
    "    assert np.allclose(phi_cython_c, phi_numpy)\n",
    "\n",
    "test_they_are_same()"
   ]
  },
  {
   "cell_type": "markdown",
   "metadata": {},
   "source": [
    "# Have a break: Visualization of the temperature"
   ]
  },
  {
   "cell_type": "markdown",
   "metadata": {
    "ExecuteTime": {
     "end_time": "2019-12-01T14:45:45.406500Z",
     "start_time": "2019-12-01T14:45:45.400000Z"
    }
   },
   "source": [
    "Now, see the results. ^_^ "
   ]
  },
  {
   "cell_type": "code",
   "execution_count": 35,
   "metadata": {
    "ExecuteTime": {
     "end_time": "2019-12-02T15:27:03.052000Z",
     "start_time": "2019-12-02T15:27:02.584500Z"
    },
    "scrolled": false
   },
   "outputs": [
    {
     "data": {
      "image/png": "[encoded data removed]",
      "text/plain": [
       "<Figure size 432x288 with 1 Axes>"
      ]
     },
     "metadata": {
      "needs_background": "light"
     },
     "output_type": "display_data"
    },
    {
     "data": {
      "image/png": "[encoded data removed]",
      "text/plain": [
       "<Figure size 432x288 with 1 Axes>"
      ]
     },
     "metadata": {
      "needs_background": "light"
     },
     "output_type": "display_data"
    }
   ],
   "source": [
    "import matplotlib.pyplot as plt\n",
    "%matplotlib inline\n",
    "\n",
    "\n",
    "def plot():\n",
    "    \n",
    "    nx = 50\n",
    "    rho = np.zeros((nx, nx), dtype=np.float64)\n",
    "    \n",
    "    xx, yy = np.meshgrid(np.linspace(-1, 1, nx), np.linspace(-1, 1, nx))\n",
    "    rho[:, :] = np.abs(np.sqrt(xx**2 + yy**2) - 0.3) < 0.1\n",
    "\n",
    "    plt.figure()\n",
    "    plt.imshow(rho)\n",
    "    plt.xlabel(\"x\")\n",
    "    plt.ylabel(\"y\")\n",
    "    plt.title(\"heat source\")\n",
    "    plt.show()\n",
    "\n",
    "    n_iter=1000\n",
    "            \n",
    "    phi_numpy = np.zeros((nx, nx), dtype=np.float64)\n",
    "    temperature_numpy(phi_numpy, rho, 0.1, n_iter)\n",
    "    \n",
    "    plt.figure()\n",
    "    plt.imshow(phi_numpy)\n",
    "    plt.xlabel(\"x\")\n",
    "    plt.ylabel(\"y\")\n",
    "    plt.title(\"temperature\")\n",
    "    plt.show()\n",
    "    \n",
    "plot()"
   ]
  },
  {
   "cell_type": "markdown",
   "metadata": {},
   "source": [
    "# Test speed"
   ]
  },
  {
   "cell_type": "code",
   "execution_count": 93,
   "metadata": {
    "ExecuteTime": {
     "end_time": "2019-12-02T15:27:03.679000Z",
     "start_time": "2019-12-02T15:27:03.053500Z"
    }
   },
   "outputs": [
    {
     "data": {
      "image/png": "[encoded data removed]",
      "text/plain": [
       "<Figure size 648x504 with 1 Axes>"
      ]
     },
     "metadata": {
      "needs_background": "light"
     },
     "output_type": "display_data"
    }
   ],
   "source": [
    "import matplotlib.pyplot as plt\n",
    "%matplotlib inline\n",
    "\n",
    "\n",
    "def plot_figure():\n",
    "\n",
    "    plt.figure(figsize=(9, 7))\n",
    "    plt.yscale('log')\n",
    "    plt.xscale('log')\n",
    "    plt.xlabel(\"# of grid in x (= # of grid in y)\")\n",
    "    plt.ylabel(\"time [s]\")\n",
    "    plt.title(\"time per update per grid point\")\n",
    "\n",
    "    def plot(data, label=None, color=None, linestyle=None):\n",
    "        ns = [int(d.n) for d in data]\n",
    "        tm = [float(d.time) / (float(d.n) * float(d.n) * float(d.n_updates)) for d in data]\n",
    "        plt.plot(ns, tm, label=label, color=color, linestyle=linestyle)\n",
    "\n",
    "    plot(t_python_list, label=\"python list\", color=\"green\")\n",
    "    plot(t_python_ndarray,\n",
    "         label=\"python ndarray\",\n",
    "         color=\"green\",\n",
    "         linestyle='-.')\n",
    "\n",
    "    plot(t_numpy, label=\"numpy\", color=\"gray\")\n",
    "\n",
    "    plot(t_cython_python, label=\"cython python mode\", color=\"red\")\n",
    "\n",
    "    plot(t_cython_typed, label=\"cython typed\", color=\"red\", linestyle='--')\n",
    "    plot(t_cython_optimized,\n",
    "         label=\"cython typed assume cont. c array\",\n",
    "         color=\"red\",\n",
    "         linestyle='-.')\n",
    "    plot(t_cython_c, label=\"cython + pure C\", color=\"red\", linestyle=':')\n",
    "\n",
    "    plot(t_numba, label=\"numba\", color=\"black\")\n",
    "    plot(t_numba_numpy, label=\"numba + numpy\", color=\"black\", linestyle=\"--\")\n",
    "\n",
    "    plot(t_pypy, label=\"Pypy\", color=\"orange\")\n",
    "\n",
    "    plot(t_cpp, label=\"C++\", color=\"purple\")\n",
    "\n",
    "    plot(t_java, label=\"java\", color=\"yellow\")\n",
    "    \n",
    "    plot(t_julia, label=\"julia\", color=\"Cyan\")\n",
    "    plot(t_julia_checkbound, label=\"julia checkbound\", color=\"Cyan\", linestyle=\"--\")\n",
    "\n",
    "    plt.legend()\n",
    "    plt.show()\n",
    "\n",
    "\n",
    "plot_figure()"
   ]
  },
  {
   "cell_type": "markdown",
   "metadata": {},
   "source": [
    "## Discussion"
   ]
  },
  {
   "cell_type": "markdown",
   "metadata": {},
   "source": [
    "### CPython\n",
    "\n",
    "- CPython就是单纯的慢。CPython大多时间花费在了CPython的运行时上。而CPython运行时之所以慢是因为大多数时间用在了类型检查上。花费在单位格点上的时间和格点的数量无关，这是因为CPython运行时太慢了，运行总时间和cpu缓存等等基本没有关系。\n",
    "\n",
    "\n",
    "- python使用list+`[]`会比numpy+`[]`更快。numpy是为矢量化操作优化的，对于这种频繁使用`[]`取出scalar的程序，性能会比使用原始Python list更慢。\n",
    "\n",
    "### numpy\n",
    "\n",
    "- numpy的性能是很不错的，与C/C++和cython相比，性能大概在一个数量级，但是慢了大概2-5倍。如果不自己写循环，numba对numpy没有加速。\n",
    "\n",
    "\n",
    "### Cython\n",
    "- Cython的纯python模式的速度和CPython的python模式的速度相近。Cython依然使用了CPython的运行时。Cython主要是节省了读取bytecode，解析bytecode的时间。而这一部分时间很少。大部分时间还是花费在了CPtyon的运行时上。\n",
    "\n",
    "\n",
    "- 对带类型标记的cython：在Windows上，对连续数组的手动优化有用。在linux上，对连续数组的手动优化没有用。注意，无论是cython + C，还是纯C/C++代码都假定了数组是连续的C数组。所以为了公平起见，作比较的时候，我们应该和带类型标记的cython + 连续数组优化的情况相比。下文中，带类型标记的cython都是指做了连续数组优化的情况。\n",
    "\n",
    "\n",
    "- 在Windows上，带类型标记的`cython`和`C/C++`相比，速度要慢，但是慢很少。在linux上，带类型的标记的`cython`和`C/C++`相比，速度要快。 两者从原理上看，前者是`cython`编译器生成的`C`代码，后者是用户自己写的。编译器对两种代码的优化能力可能有区别。\n",
    "\n",
    "\n",
    "- `cython` + `C`和`C/C++`都是C/C++代码，所以性能应当一样快。在Windows上，两者速度几乎完全一样。在linux上cython + C要稍微慢一些。（代码是几乎一样的。性能有差异，可能是我使用了虚拟机的缘故。如果使用虚拟机，开启-march=native开关后，代码会变慢，而cython + C很可能使用了-march=native)\n",
    "\n",
    "### Java\n",
    "- 带边界检查的所有方法中，表现最好的。\n",
    "\n",
    "### numba\n",
    "- `numba`对于所以格点数量都是最优秀的。`numba`的速度比没有做低阶优化的C/C++还要快。（对C/C++仔细调优后，可能结果会不一样）。但是随着格点数量增加，缓存速度成为速度瓶颈，无论是带类型标记cython,  C/C++还是numba速度都趋于相同。\n",
    "\n",
    "### Julia\n",
    "- 如果不带边界检查的话，和numba表现的一样好。如果带边界检查的话，比java略差，考虑到java是带有边界检查的，但是同时注意，我们使用java的话，编程方式很不自然。"
   ]
  },
  {
   "cell_type": "markdown",
   "metadata": {},
   "source": [
    "# Some optimization: Not part of comparison of languages\n",
    "\n",
    "The algorithm used in speed test is not the optimal. Even for this algorithm, my code is not optimal. I will do some optimzation using numba. Note these optimzation can also used in other code."
   ]
  },
  {
   "cell_type": "markdown",
   "metadata": {},
   "source": [
    "## Pingpong\n",
    "\n",
    "Eliminate the additional copy."
   ]
  },
  {
   "cell_type": "code",
   "execution_count": 49,
   "metadata": {},
   "outputs": [],
   "source": [
    "import numba\n",
    "\n",
    "@numba.njit\n",
    "def temperature_numba_algopt(phi, rho, dx, n_iter):\n",
    "\n",
    "    phi_update = np.empty_like(phi)\n",
    "    \n",
    "    for it in range(n_iter//2):\n",
    "        for i in range(1, phi.shape[0] - 1):\n",
    "            for j in range(1, phi.shape[1] - 1):\n",
    "                phi_update[i, j] = 0.25 * (phi[i - 1,j] + phi[i + 1,j]\\\n",
    "                    + phi[i, j - 1] + phi[i, j + 1])\\\n",
    "                    + dx*dx * rho[i, j]\n",
    "\n",
    "        for i in range(1, phi.shape[0] - 1):\n",
    "            for j in range(1, phi.shape[1] - 1):\n",
    "                phi[i, j] = 0.25 * (phi_update[i - 1,j] + phi_update[i + 1,j]\\\n",
    "                    + phi_update[i, j - 1] + phi_update[i, j + 1])\\\n",
    "                    + dx*dx * rho[i, j]\n",
    "                \n",
    "    if n_iter%2:\n",
    "        for i in range(1, phi.shape[0] - 1):\n",
    "            for j in range(1, phi.shape[1] - 1):\n",
    "                phi[i, j] = phi_update[i, j]      \n",
    "                \n",
    "            "
   ]
  },
  {
   "cell_type": "markdown",
   "metadata": {},
   "source": [
    "## Backup one line"
   ]
  },
  {
   "cell_type": "markdown",
   "metadata": {},
   "source": [
    "Cache friendly and stop unrolling the loop."
   ]
  },
  {
   "cell_type": "code",
   "execution_count": 50,
   "metadata": {},
   "outputs": [],
   "source": [
    "@numba.njit\n",
    "def temperature_numba_algopt2(phi, rho, dx, n_iter):\n",
    "\n",
    "    phi_backup = np.empty(phi.shape[1])\n",
    "\n",
    "    for it in range(n_iter):\n",
    "\n",
    "        for j in range(1, phi.shape[1] - 1):\n",
    "            phi_backup[j] = phi[0, j]\n",
    "\n",
    "        for i in range(1, phi.shape[0] - 1):\n",
    "\n",
    "            for j in range(1, phi.shape[1] - 1):\n",
    "\n",
    "                t = phi_backup[j]\n",
    "\n",
    "                phi_backup[j] = phi[i, j]\n",
    "\n",
    "                phi[i, j] = 0.25 * (t + phi[i + 1,j]\\\n",
    "                    + phi_backup[j-1] + phi[i, j + 1])\\\n",
    "                    + dx*dx * rho[i, j]"
   ]
  },
  {
   "cell_type": "markdown",
   "metadata": {},
   "source": [
    "## Use the updated value\n",
    "Stop unrolling the loop."
   ]
  },
  {
   "cell_type": "code",
   "execution_count": 51,
   "metadata": {},
   "outputs": [],
   "source": [
    "@numba.njit\n",
    "def temperature_numba_algopt3(phi, rho, dx, n_iter):\n",
    "\n",
    "    for it in range(n_iter):\n",
    "        for i in range(1, phi.shape[0] - 1):\n",
    "            for j in range(1, phi.shape[1] - 1):\n",
    "                phi[i, j] = 0.25 * (phi[i-1,j] + phi[i + 1,j]\\\n",
    "                    + phi[i, j - 1] + phi[i, j + 1])\\\n",
    "                    + dx*dx * rho[i, j]"
   ]
  },
  {
   "cell_type": "code",
   "execution_count": 52,
   "metadata": {},
   "outputs": [
    {
     "name": "stdout",
     "output_type": "stream",
     "text": [
      "benchmarking: temperature_numba_algopt2\n",
      "Average (    1 loops) time of     0.0010 s for 1000 updates on grid of 31x31\n",
      "Average (  100 loops) time of     0.0026 s for 1000 updates on grid of 46x46\n",
      "Average (  100 loops) time of     0.0053 s for 1000 updates on grid of 68x68\n",
      "Average (  100 loops) time of     0.0121 s for 1000 updates on grid of 100x100\n",
      "Average (   10 loops) time of     0.0256 s for 1000 updates on grid of 146x146\n",
      "Average (   10 loops) time of     0.0562 s for 1000 updates on grid of 215x215\n",
      "Average (   10 loops) time of     0.1251 s for 1000 updates on grid of 316x316\n",
      "Average (    1 loops) time of     0.2841 s for 1000 updates on grid of 464x464\n",
      "Average (    1 loops) time of     0.6900 s for 1000 updates on grid of 681x681\n",
      "Average (    1 loops) time of     1.6100 s for 1000 updates on grid of 1000x1000\n",
      "benchmarking: temperature_numba_algopt\n",
      "Average (    1 loops) time of     0.0007 s for 1000 updates on grid of 31x31\n",
      "Average ( 1000 loops) time of     0.0014 s for 1000 updates on grid of 46x46\n",
      "Average (  100 loops) time of     0.0030 s for 1000 updates on grid of 68x68\n",
      "Average (  100 loops) time of     0.0056 s for 1000 updates on grid of 100x100\n",
      "Average (  100 loops) time of     0.0120 s for 1000 updates on grid of 146x146\n",
      "Average (   10 loops) time of     0.0251 s for 1000 updates on grid of 215x215\n",
      "Average (   10 loops) time of     0.0536 s for 1000 updates on grid of 316x316\n",
      "Average (   10 loops) time of     0.1409 s for 1000 updates on grid of 464x464\n",
      "Average (    1 loops) time of     0.5361 s for 1000 updates on grid of 681x681\n",
      "Average (    1 loops) time of     1.4971 s for 1000 updates on grid of 1000x1000\n",
      "benchmarking: temperature_numba_algopt3\n",
      "Average (  100 loops) time of     0.0027 s for 1000 updates on grid of 31x31\n",
      "Average (  100 loops) time of     0.0072 s for 1000 updates on grid of 46x46\n",
      "Average (  100 loops) time of     0.0174 s for 1000 updates on grid of 68x68\n",
      "Average (   10 loops) time of     0.0408 s for 1000 updates on grid of 100x100\n",
      "Average (   10 loops) time of     0.0912 s for 1000 updates on grid of 146x146\n",
      "Average (    1 loops) time of     0.2026 s for 1000 updates on grid of 215x215\n",
      "Average (    1 loops) time of     0.4495 s for 1000 updates on grid of 316x316\n",
      "Average (    1 loops) time of     0.9872 s for 1000 updates on grid of 464x464\n",
      "Average (    1 loops) time of     2.1653 s for 1000 updates on grid of 681x681\n",
      "Average (    1 loops) time of     4.6995 s for 1000 updates on grid of 1000x1000\n"
     ]
    }
   ],
   "source": [
    "import numba as nb\n",
    "t_numba_algopt2=test_speed(temperature_numba_algopt2)\n",
    "t_numba_algopt=test_speed(temperature_numba_algopt)\n",
    "t_numba_algopt3=test_speed(temperature_numba_algopt3)"
   ]
  },
  {
   "cell_type": "code",
   "execution_count": 87,
   "metadata": {},
   "outputs": [
    {
     "data": {
      "image/png": "[encoded data removed]",
      "text/plain": [
       "<Figure size 648x504 with 1 Axes>"
      ]
     },
     "metadata": {
      "needs_background": "light"
     },
     "output_type": "display_data"
    }
   ],
   "source": [
    "def plot_figure():\n",
    "\n",
    "    plt.figure(figsize=(9, 7))\n",
    "    plt.yscale('log')\n",
    "    plt.xscale('log')\n",
    "    plt.xlabel(\"# of grid in x (= # of grid in y)\")\n",
    "    plt.ylabel(\"time [s]\")\n",
    "    plt.title(\"time per update per grid point\")\n",
    "\n",
    "    def plot(data, label=None, color=None, linestyle=None):\n",
    "        ns = [int(d.n) for d in data]\n",
    "        tm = [\n",
    "            float(d.time) / (float(d.n) * float(d.n) * float(d.n_updates))\n",
    "            for d in data\n",
    "        ]\n",
    "        plt.plot(ns, tm, label=label, color=color, linestyle=linestyle)\n",
    "\n",
    "    plot(t_cython_optimized,\n",
    "         label=\"cython typed assume cont. c array\",\n",
    "         color=\"red\",\n",
    "         linestyle='-.')\n",
    "\n",
    "    plot(t_cython_c, label=\"cython + pure C\", color=\"red\", linestyle=':')\n",
    "\n",
    "    plot(t_numba, label=\"numba\", color=\"black\")\n",
    "    plot(t_numba_algopt, label=\"numba pingpong\", color=\"black\", linestyle=\"-.\")\n",
    "    plot(t_numba_algopt2,\n",
    "         label=\"numba backup one row\",\n",
    "         color=\"black\",\n",
    "         linestyle=\"--\")\n",
    "    plot(t_numba_algopt3,\n",
    "         label=\"numba use updated value\",\n",
    "         color=\"black\",\n",
    "         linestyle=\":\")\n",
    "\n",
    "    plot(t_cpp, label=\"C++\", color=\"purple\")\n",
    "\n",
    "    plot(t_julia, label=\"julia\", color=\"cyan\")\n",
    "\n",
    "    plt.legend()\n",
    "    plt.show()\n",
    "\n",
    "\n",
    "plot_figure()"
   ]
  }
 ],
 "metadata": {
  "hide_input": false,
  "kernelspec": {
   "display_name": "Python 3",
   "language": "python",
   "name": "python3"
  },
  "language_info": {
   "codemirror_mode": {
    "name": "ipython",
    "version": 3
   },
   "file_extension": ".py",
   "mimetype": "text/x-python",
   "name": "python",
   "nbconvert_exporter": "python",
   "pygments_lexer": "ipython3",
   "version": "3.6.7"
  },
  "toc": {
   "base_numbering": 1,
   "nav_menu": {},
   "number_sections": true,
   "sideBar": true,
   "skip_h1_title": false,
   "title_cell": "Table of Contents",
   "title_sidebar": "Contents",
   "toc_cell": true,
   "toc_position": {
    "height": "calc(100% - 180px)",
    "left": "10px",
    "top": "150px",
    "width": "165px"
   },
   "toc_section_display": true,
   "toc_window_display": false
  },
  "varInspector": {
   "cols": {
    "lenName": "24",
    "lenType": "16",
    "lenVar": 40
   },
   "kernels_config": {
    "python": {
     "delete_cmd_postfix": "",
     "delete_cmd_prefix": "del ",
     "library": "var_list.py",
     "varRefreshCmd": "print(var_dic_list())"
    },
    "r": {
     "delete_cmd_postfix": ") ",
     "delete_cmd_prefix": "rm(",
     "library": "var_list.r",
     "varRefreshCmd": "cat(var_dic_list()) "
    }
   },
   "position": {
    "height": "419.886px",
    "left": "1383.28px",
    "right": "20px",
    "top": "120px",
    "width": "339.332px"
   },
   "types_to_exclude": [
    "module",
    "function",
    "builtin_function_or_method",
    "instance",
    "_Feature"
   ],
   "window_display": false
  }
 },
 "nbformat": 4,
 "nbformat_minor": 2
}
