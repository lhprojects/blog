{
 "cells": [
  {
   "cell_type": "markdown",
   "metadata": {
    "toc": true
   },
   "source": [
    "<h1>Table of Contents<span class=\"tocSkip\"></span></h1>\n",
    "<div class=\"toc\"><ul class=\"toc-item\"><li><span><a href=\"#write\" data-toc-modified-id=\"write-1\"><span class=\"toc-item-num\">1&nbsp;&nbsp;</span>write</a></span></li><li><span><a href=\"#read\" data-toc-modified-id=\"read-2\"><span class=\"toc-item-num\">2&nbsp;&nbsp;</span>read</a></span></li></ul></div>"
   ]
  },
  {
   "cell_type": "markdown",
   "metadata": {},
   "source": [
    "# write"
   ]
  },
  {
   "cell_type": "code",
   "execution_count": 26,
   "metadata": {},
   "outputs": [
    {
     "name": "stdout",
     "output_type": "stream",
     "text": [
      "real byte written 3\n"
     ]
    }
   ],
   "source": [
    "with open(\"pythonfile.txt\", \"w\", encoding=\"utf-8\") as f:\n",
    "    f.write(\"我\")\n",
    "    print(\"real byte written\", f.tell())"
   ]
  },
  {
   "cell_type": "markdown",
   "metadata": {},
   "source": [
    "# read"
   ]
  },
  {
   "cell_type": "code",
   "execution_count": 27,
   "metadata": {},
   "outputs": [
    {
     "name": "stdout",
     "output_type": "stream",
     "text": [
      "try reading 1 byte, but we have a 3 bytes unicode\n",
      "character read 我\n",
      "real bytes read 3\n",
      "try reading 1 byte, we start at the half of a 3 bytes unicode\n",
      "'utf-8' codec can't decode byte 0x88 in position 0: invalid start byte\n"
     ]
    }
   ],
   "source": [
    "with open(\"pythonfile.txt\", \"r\", encoding=\"utf-8\") as f:\n",
    "    print(\"try reading 1 byte, but we have a 3 bytes unicode\")\n",
    "    print(\"character read\", f.read(1))\n",
    "    print(\"real bytes read\", f.tell())\n",
    "    \n",
    "    print(\"try reading 1 byte, we start at the half of a 3 bytes unicode\")\n",
    "    try:\n",
    "        f.seek(1)\n",
    "        print(f.read(1))\n",
    "    except Exception as e:\n",
    "        print(e)"
   ]
  }
 ],
 "metadata": {
  "kernelspec": {
   "display_name": "Python 3",
   "language": "python",
   "name": "python3"
  },
  "language_info": {
   "codemirror_mode": {
    "name": "ipython",
    "version": 3
   },
   "file_extension": ".py",
   "mimetype": "text/x-python",
   "name": "python",
   "nbconvert_exporter": "python",
   "pygments_lexer": "ipython3",
   "version": "3.8.5"
  },
  "toc": {
   "base_numbering": 1,
   "nav_menu": {},
   "number_sections": true,
   "sideBar": true,
   "skip_h1_title": false,
   "title_cell": "Table of Contents",
   "title_sidebar": "Contents",
   "toc_cell": true,
   "toc_position": {},
   "toc_section_display": true,
   "toc_window_display": false
  }
 },
 "nbformat": 4,
 "nbformat_minor": 4
}
