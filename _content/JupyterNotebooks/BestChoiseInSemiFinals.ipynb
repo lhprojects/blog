{
 "cells": [
  {
   "cell_type": "markdown",
   "metadata": {
    "toc": true
   },
   "source": [
    "<h1>Table of Contents<span class=\"tocSkip\"></span></h1>\n",
    "<div class=\"toc\"><ul class=\"toc-item\"></ul></div>"
   ]
  },
  {
   "cell_type": "code",
   "execution_count": 96,
   "metadata": {},
   "outputs": [
    {
     "name": "stdout",
     "output_type": "stream",
     "text": [
      "------\n",
      "                          Group1     ||     Group2\n",
      "      Players' power:  1.00 vs  2.00 ||  3.00 vs  4.00\n",
      "Prob of championship:  1.6%    19.7%    26.8%    52.0%\n",
      "------\n",
      "                          Group1     ||     Group2\n",
      "      Players' power:  1.00 vs  3.00 ||  2.00 vs  4.00\n",
      "Prob of championship:  0.9%    38.9%     7.7%    52.5%\n",
      "------\n",
      "                          Group1     ||     Group2\n",
      "      Players' power:  1.00 vs  4.00 ||  2.00 vs  3.00\n",
      "Prob of championship:  0.8%    64.3%     7.7%    27.2%\n"
     ]
    }
   ],
   "source": [
    "\n",
    "def win_bo1(p1, p2):\n",
    "    return 1.0 * p1 /(p1 + p2)\n",
    "\n",
    "def win_bo5(p1,p2):\n",
    "    # W W W\n",
    "    \n",
    "    # L W W W\n",
    "    # W L W W\n",
    "    # W W L W\n",
    "    \n",
    "    # L L W W W\n",
    "    # L W L W W\n",
    "    # L W W L W\n",
    "    \n",
    "    # W L L W W\n",
    "    # W L W L W\n",
    "    \n",
    "    # W L L W W\n",
    "    \n",
    "    w = win_bo1(p1,p2)\n",
    "    l = 1 - w\n",
    "    return (w**3) * (1 + 3*l + 6*l**2)\n",
    "    \n",
    "\n",
    "assert abs(win_bo5(1,2) + win_bo5(2,1) - 1) <= 1E-6\n",
    "assert abs(win_bo5(1,3) + win_bo5(3,1) - 1) <= 1E-6\n",
    "\n",
    "# P1 vs P2 || P3 vs P4\n",
    "def win_champ(p1,p2,p3,p4):\n",
    "    return win_bo5(p1,p2)*win_bo5(p3,p4)*win_bo5(p1,p3) + win_bo5(p1,p2)*win_bo5(p4,p3)*win_bo5(p1,p4)\n",
    "\n",
    "P1=1\n",
    "P2=2\n",
    "P3=3\n",
    "P4=4\n",
    "\n",
    "def win_champ_str(p1,p2,p3,p4):\n",
    "    return \"%.1f%%\"%(win_champ(p1,p2,p3,p4)*100)\n",
    "                     \n",
    "def print_champ_per_sch(p1,p2,p3,p4):\n",
    "    print(\"------\")\n",
    "    print(\"                          Group1     ||     Group2\"  )\n",
    "    print(\"      Players' power: %5.2f vs %5.2f || %5.2f vs %5.2f\"%(p1,p2,p3,p4)  )\n",
    "    print(\"Prob of championship: %5s    %5s    %5s    %5s\"%(win_champ_str(p1,p2,p3,p4),\n",
    "                                        win_champ_str(p2,p1,p3,p4),\n",
    "                                        win_champ_str(p3,p4,p1,p2),\n",
    "                                        win_champ_str(p4,p3,p1,p2))  )\n",
    "\n",
    "print_champ_per_sch(P1, P2, P3, P4)\n",
    "print_champ_per_sch(P1, P3, P2, P4)\n",
    "print_champ_per_sch(P1, P4, P2, P3)"
   ]
  }
 ],
 "metadata": {
  "kernelspec": {
   "display_name": "Python 2",
   "language": "python",
   "name": "python2"
  },
  "language_info": {
   "codemirror_mode": {
    "name": "ipython",
    "version": 2
   },
   "file_extension": ".py",
   "mimetype": "text/x-python",
   "name": "python",
   "nbconvert_exporter": "python",
   "pygments_lexer": "ipython2",
   "version": "2.7.16"
  },
  "toc": {
   "base_numbering": 1,
   "nav_menu": {},
   "number_sections": true,
   "sideBar": true,
   "skip_h1_title": false,
   "title_cell": "Table of Contents",
   "title_sidebar": "Contents",
   "toc_cell": true,
   "toc_position": {},
   "toc_section_display": true,
   "toc_window_display": false
  },
  "varInspector": {
   "cols": {
    "lenName": 16,
    "lenType": 16,
    "lenVar": 40
   },
   "kernels_config": {
    "python": {
     "delete_cmd_postfix": "",
     "delete_cmd_prefix": "del ",
     "library": "var_list.py",
     "varRefreshCmd": "print(var_dic_list())"
    },
    "r": {
     "delete_cmd_postfix": ") ",
     "delete_cmd_prefix": "rm(",
     "library": "var_list.r",
     "varRefreshCmd": "cat(var_dic_list()) "
    }
   },
   "types_to_exclude": [
    "module",
    "function",
    "builtin_function_or_method",
    "instance",
    "_Feature"
   ],
   "window_display": false
  }
 },
 "nbformat": 4,
 "nbformat_minor": 2
}
