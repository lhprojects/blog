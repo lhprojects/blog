{
 "cells": [
  {
   "cell_type": "markdown",
   "metadata": {
    "toc": true
   },
   "source": [
    "<h1>Table of Contents<span class=\"tocSkip\"></span></h1>\n",
    "<div class=\"toc\"><ul class=\"toc-item\"><li><span><a href=\"#Python-Note\" data-toc-modified-id=\"Python-Note-1\"><span class=\"toc-item-num\">1&nbsp;&nbsp;</span>Python Note</a></span></li><li><span><a href=\"#List\" data-toc-modified-id=\"List-2\"><span class=\"toc-item-num\">2&nbsp;&nbsp;</span>List</a></span><ul class=\"toc-item\"><li><span><a href=\"#构造list\" data-toc-modified-id=\"构造list-2.1\"><span class=\"toc-item-num\">2.1&nbsp;&nbsp;</span>构造list</a></span></li><li><span><a href=\"#添加元素\" data-toc-modified-id=\"添加元素-2.2\"><span class=\"toc-item-num\">2.2&nbsp;&nbsp;</span>添加元素</a></span></li><li><span><a href=\"#删除元素\" data-toc-modified-id=\"删除元素-2.3\"><span class=\"toc-item-num\">2.3&nbsp;&nbsp;</span>删除元素</a></span></li><li><span><a href=\"#list-切片\" data-toc-modified-id=\"list-切片-2.4\"><span class=\"toc-item-num\">2.4&nbsp;&nbsp;</span>list 切片</a></span><ul class=\"toc-item\"><li><span><a href=\"#list的__getitem__是浅复制\" data-toc-modified-id=\"list的__getitem__是浅复制-2.4.1\"><span class=\"toc-item-num\">2.4.1&nbsp;&nbsp;</span>list的<code>__getitem__</code>是浅复制</a></span></li><li><span><a href=\"#list的__setitem__和__getitem__不同\" data-toc-modified-id=\"list的__setitem__和__getitem__不同-2.4.2\"><span class=\"toc-item-num\">2.4.2&nbsp;&nbsp;</span>list的<code>__setitem__</code>和<code>__getitem__</code>不同</a></span></li></ul></li></ul></li><li><span><a href=\"#Slice\" data-toc-modified-id=\"Slice-3\"><span class=\"toc-item-num\">3&nbsp;&nbsp;</span>Slice</a></span><ul class=\"toc-item\"><li><span><a href=\"#define-a-slice-with-[start:end:step]\" data-toc-modified-id=\"define-a-slice-with-[start:end:step]-3.1\"><span class=\"toc-item-num\">3.1&nbsp;&nbsp;</span>define a slice with [start:end:step]</a></span></li><li><span><a href=\"#define-a-slice-with-slice()\" data-toc-modified-id=\"define-a-slice-with-slice()-3.2\"><span class=\"toc-item-num\">3.2&nbsp;&nbsp;</span>define a slice with slice()</a></span></li></ul></li><li><span><a href=\"#Dictionary\" data-toc-modified-id=\"Dictionary-4\"><span class=\"toc-item-num\">4&nbsp;&nbsp;</span>Dictionary</a></span><ul class=\"toc-item\"><li><span><a href=\"#create-new-dictionary\" data-toc-modified-id=\"create-new-dictionary-4.1\"><span class=\"toc-item-num\">4.1&nbsp;&nbsp;</span>create new dictionary</a></span></li><li><span><a href=\"#Adding-new-elements\" data-toc-modified-id=\"Adding-new-elements-4.2\"><span class=\"toc-item-num\">4.2&nbsp;&nbsp;</span>Adding new elements</a></span></li><li><span><a href=\"#Accessing-elements\" data-toc-modified-id=\"Accessing-elements-4.3\"><span class=\"toc-item-num\">4.3&nbsp;&nbsp;</span>Accessing elements</a></span><ul class=\"toc-item\"><li><span><a href=\"#[]\" data-toc-modified-id=\"[]-4.3.1\"><span class=\"toc-item-num\">4.3.1&nbsp;&nbsp;</span><code>[]</code></a></span></li><li><span><a href=\"#get\" data-toc-modified-id=\"get-4.3.2\"><span class=\"toc-item-num\">4.3.2&nbsp;&nbsp;</span><code>get</code></a></span></li></ul></li><li><span><a href=\"#Removing-elements\" data-toc-modified-id=\"Removing-elements-4.4\"><span class=\"toc-item-num\">4.4&nbsp;&nbsp;</span>Removing elements</a></span><ul class=\"toc-item\"><li><span><a href=\"#del-[]\" data-toc-modified-id=\"del-[]-4.4.1\"><span class=\"toc-item-num\">4.4.1&nbsp;&nbsp;</span><code>del []</code></a></span></li><li><span><a href=\"#pop\" data-toc-modified-id=\"pop-4.4.2\"><span class=\"toc-item-num\">4.4.2&nbsp;&nbsp;</span><code>pop</code></a></span></li></ul></li><li><span><a href=\"#Dictionary-view-objects\" data-toc-modified-id=\"Dictionary-view-objects-4.5\"><span class=\"toc-item-num\">4.5&nbsp;&nbsp;</span>Dictionary view objects</a></span><ul class=\"toc-item\"><li><span><a href=\"#len\" data-toc-modified-id=\"len-4.5.1\"><span class=\"toc-item-num\">4.5.1&nbsp;&nbsp;</span><code>len</code></a></span></li><li><span><a href=\"#iter\" data-toc-modified-id=\"iter-4.5.2\"><span class=\"toc-item-num\">4.5.2&nbsp;&nbsp;</span><code>iter</code></a></span></li><li><span><a href=\"#keys\" data-toc-modified-id=\"keys-4.5.3\"><span class=\"toc-item-num\">4.5.3&nbsp;&nbsp;</span><code>keys</code></a></span></li><li><span><a href=\"#values\" data-toc-modified-id=\"values-4.5.4\"><span class=\"toc-item-num\">4.5.4&nbsp;&nbsp;</span><code>values</code></a></span></li><li><span><a href=\"#items\" data-toc-modified-id=\"items-4.5.5\"><span class=\"toc-item-num\">4.5.5&nbsp;&nbsp;</span><code>items</code></a></span></li></ul></li></ul></li><li><span><a href=\"#Indexing\" data-toc-modified-id=\"Indexing-5\"><span class=\"toc-item-num\">5&nbsp;&nbsp;</span>Indexing</a></span><ul class=\"toc-item\"><li><span><a href=\"#自定义index\" data-toc-modified-id=\"自定义index-5.1\"><span class=\"toc-item-num\">5.1&nbsp;&nbsp;</span>自定义index</a></span></li><li><span><a href=\"#Index-with-dict\" data-toc-modified-id=\"Index-with-dict-5.2\"><span class=\"toc-item-num\">5.2&nbsp;&nbsp;</span>Index with dict</a></span></li></ul></li><li><span><a href=\"#id\" data-toc-modified-id=\"id-6\"><span class=\"toc-item-num\">6&nbsp;&nbsp;</span><code>id</code></a></span><ul class=\"toc-item\"><li><span><a href=\"#id-of-empty-object\" data-toc-modified-id=\"id-of-empty-object-6.1\"><span class=\"toc-item-num\">6.1&nbsp;&nbsp;</span><code>id</code> of empty object</a></span><ul class=\"toc-item\"><li><span><a href=\"#id([])-==-id([])\" data-toc-modified-id=\"id([])-==-id([])-6.1.1\"><span class=\"toc-item-num\">6.1.1&nbsp;&nbsp;</span><code>id([]) == id([])</code></a></span></li></ul></li><li><span><a href=\"#True-is-always-True,-False-is-always-False\" data-toc-modified-id=\"True-is-always-True,-False-is-always-False-6.2\"><span class=\"toc-item-num\">6.2&nbsp;&nbsp;</span><code>True</code> is always <code>True</code>, <code>False</code> is always <code>False</code></a></span></li><li><span><a href=\"#'==-True'-is-not-equal-to-'is-True'\" data-toc-modified-id=\"'==-True'-is-not-equal-to-'is-True'-6.3\"><span class=\"toc-item-num\">6.3&nbsp;&nbsp;</span><code>'== True'</code> is not equal to <code>'is True'</code></a></span></li><li><span><a href=\"#Often,-'a'-is-'a'\" data-toc-modified-id=\"Often,-'a'-is-'a'-6.4\"><span class=\"toc-item-num\">6.4&nbsp;&nbsp;</span>Often, <code>'a' is 'a'</code></a></span></li></ul></li><li><span><a href=\"#None\" data-toc-modified-id=\"None-7\"><span class=\"toc-item-num\">7&nbsp;&nbsp;</span><code>None</code></a></span><ul class=\"toc-item\"><li><span><a href=\"#None-is-not-anything-but-None\" data-toc-modified-id=\"None-is-not-anything-but-None-7.1\"><span class=\"toc-item-num\">7.1&nbsp;&nbsp;</span><code>None</code> is not anything but <code>None</code></a></span></li><li><span><a href=\"#None-isn't-equal-to-anything-but-None\" data-toc-modified-id=\"None-isn't-equal-to-anything-but-None-7.2\"><span class=\"toc-item-num\">7.2&nbsp;&nbsp;</span><code>None</code> isn't equal to anything but <code>None</code></a></span></li><li><span><a href=\"#People-prefer-using-is-None\" data-toc-modified-id=\"People-prefer-using-is-None-7.3\"><span class=\"toc-item-num\">7.3&nbsp;&nbsp;</span>People prefer using <code>is None</code></a></span></li></ul></li><li><span><a href=\"#Range\" data-toc-modified-id=\"Range-8\"><span class=\"toc-item-num\">8&nbsp;&nbsp;</span>Range</a></span><ul class=\"toc-item\"><li><span><a href=\"#range(...)是range对象\" data-toc-modified-id=\"range(...)是range对象-8.1\"><span class=\"toc-item-num\">8.1&nbsp;&nbsp;</span>range(...)是range对象</a></span></li><li><span><a href=\"#range对象是iterative对象\" data-toc-modified-id=\"range对象是iterative对象-8.2\"><span class=\"toc-item-num\">8.2&nbsp;&nbsp;</span>range对象是iterative对象</a></span></li><li><span><a href=\"#iterative对象可以用于for循环\" data-toc-modified-id=\"iterative对象可以用于for循环-8.3\"><span class=\"toc-item-num\">8.3&nbsp;&nbsp;</span>iterative对象可以用于for循环</a></span></li><li><span><a href=\"#iter(range(...))对象是一个range_iterator对象\" data-toc-modified-id=\"iter(range(...))对象是一个range_iterator对象-8.4\"><span class=\"toc-item-num\">8.4&nbsp;&nbsp;</span>iter(range(...))对象是一个range_iterator对象</a></span></li><li><span><a href=\"#range_iterator对象是iterator对象\" data-toc-modified-id=\"range_iterator对象是iterator对象-8.5\"><span class=\"toc-item-num\">8.5&nbsp;&nbsp;</span>range_iterator对象是iterator对象</a></span></li><li><span><a href=\"#iter(range_iterator)依然是range_iterator\" data-toc-modified-id=\"iter(range_iterator)依然是range_iterator-8.6\"><span class=\"toc-item-num\">8.6&nbsp;&nbsp;</span>iter(range_iterator)依然是range_iterator</a></span></li><li><span><a href=\"#iterator对象可以用于for循环\" data-toc-modified-id=\"iterator对象可以用于for循环-8.7\"><span class=\"toc-item-num\">8.7&nbsp;&nbsp;</span>iterator对象可以用于for循环</a></span></li></ul></li><li><span><a href=\"#Generator\" data-toc-modified-id=\"Generator-9\"><span class=\"toc-item-num\">9&nbsp;&nbsp;</span>Generator</a></span><ul class=\"toc-item\"><li><span><a href=\"#yield定义generator\" data-toc-modified-id=\"yield定义generator-9.1\"><span class=\"toc-item-num\">9.1&nbsp;&nbsp;</span>yield定义generator</a></span></li><li><span><a href=\"#()定义generator\" data-toc-modified-id=\"()定义generator-9.2\"><span class=\"toc-item-num\">9.2&nbsp;&nbsp;</span>()定义generator</a></span></li><li><span><a href=\"#generator是iterator\" data-toc-modified-id=\"generator是iterator-9.3\"><span class=\"toc-item-num\">9.3&nbsp;&nbsp;</span>generator是iterator</a></span></li><li><span><a href=\"#generator可以用于循环\" data-toc-modified-id=\"generator可以用于循环-9.4\"><span class=\"toc-item-num\">9.4&nbsp;&nbsp;</span>generator可以用于循环</a></span></li></ul></li><li><span><a href=\"#del\" data-toc-modified-id=\"del-10\"><span class=\"toc-item-num\">10&nbsp;&nbsp;</span><code>del</code></a></span><ul class=\"toc-item\"><li><span><a href=\"#del-remove-variable-from-local-variables-list\" data-toc-modified-id=\"del-remove-variable-from-local-variables-list-10.1\"><span class=\"toc-item-num\">10.1&nbsp;&nbsp;</span><code>del</code> remove variable from local variables list</a></span></li><li><span><a href=\"#used=None和del-used不同\" data-toc-modified-id=\"used=None和del-used不同-10.2\"><span class=\"toc-item-num\">10.2&nbsp;&nbsp;</span><code>used=None</code>和<code>del used</code>不同</a></span></li></ul></li><li><span><a href=\"#Decorator\" data-toc-modified-id=\"Decorator-11\"><span class=\"toc-item-num\">11&nbsp;&nbsp;</span>Decorator</a></span><ul class=\"toc-item\"><li><span><a href=\"#Creating-Decorator\" data-toc-modified-id=\"Creating-Decorator-11.1\"><span class=\"toc-item-num\">11.1&nbsp;&nbsp;</span>Creating Decorator</a></span></li><li><span><a href=\"#Defining-General-Purpose-Decorators\" data-toc-modified-id=\"Defining-General-Purpose-Decorators-11.2\"><span class=\"toc-item-num\">11.2&nbsp;&nbsp;</span>Defining General Purpose Decorators</a></span></li><li><span><a href=\"#Passing-Arguments-to-the-Decorator\" data-toc-modified-id=\"Passing-Arguments-to-the-Decorator-11.3\"><span class=\"toc-item-num\">11.3&nbsp;&nbsp;</span>Passing Arguments to the Decorator</a></span></li></ul></li><li><span><a href=\"#Class\" data-toc-modified-id=\"Class-12\"><span class=\"toc-item-num\">12&nbsp;&nbsp;</span>Class</a></span><ul class=\"toc-item\"><li><span><a href=\"#class-define-a-variable-of-class-type\" data-toc-modified-id=\"class-define-a-variable-of-class-type-12.1\"><span class=\"toc-item-num\">12.1&nbsp;&nbsp;</span><code>class</code> define a variable of class <code>type</code></a></span></li></ul></li><li><span><a href=\"#Method\" data-toc-modified-id=\"Method-13\"><span class=\"toc-item-num\">13&nbsp;&nbsp;</span>Method</a></span><ul class=\"toc-item\"><li><span><a href=\"#def-doesn't-create-function-for-object!\" data-toc-modified-id=\"def-doesn't-create-function-for-object!-13.1\"><span class=\"toc-item-num\">13.1&nbsp;&nbsp;</span><code>def</code> doesn't create function for object!</a></span></li><li><span><a href=\"#Bound-method\" data-toc-modified-id=\"Bound-method-13.2\"><span class=\"toc-item-num\">13.2&nbsp;&nbsp;</span>Bound method</a></span></li><li><span><a href=\"#Static-method\" data-toc-modified-id=\"Static-method-13.3\"><span class=\"toc-item-num\">13.3&nbsp;&nbsp;</span>Static method</a></span></li></ul></li><li><span><a href=\"#IO\" data-toc-modified-id=\"IO-14\"><span class=\"toc-item-num\">14&nbsp;&nbsp;</span>IO</a></span><ul class=\"toc-item\"><li><ul class=\"toc-item\"><li><span><a href=\"#open-file-as-binary\" data-toc-modified-id=\"open-file-as-binary-14.0.1\"><span class=\"toc-item-num\">14.0.1&nbsp;&nbsp;</span>open file as binary</a></span></li><li><span><a href=\"#open-file-as-text\" data-toc-modified-id=\"open-file-as-text-14.0.2\"><span class=\"toc-item-num\">14.0.2&nbsp;&nbsp;</span>open file as text</a></span></li><li><span><a href=\"#readline\" data-toc-modified-id=\"readline-14.0.3\"><span class=\"toc-item-num\">14.0.3&nbsp;&nbsp;</span>readline</a></span></li></ul></li></ul></li></ul></div>"
   ]
  },
  {
   "cell_type": "markdown",
   "metadata": {},
   "source": [
    "# Python Note\n"
   ]
  },
  {
   "cell_type": "markdown",
   "metadata": {},
   "source": [
    "前提是你已经会Python了，这篇note只是提一些重要的点。"
   ]
  },
  {
   "cell_type": "markdown",
   "metadata": {},
   "source": [
    "# List"
   ]
  },
  {
   "cell_type": "markdown",
   "metadata": {},
   "source": [
    "## 构造list "
   ]
  },
  {
   "cell_type": "code",
   "execution_count": 1,
   "metadata": {},
   "outputs": [],
   "source": [
    "print([])\n",
    "print(\"note [] is not []:\", [] is not [])\n",
    "print(\"but [] equals []:\", [] == [])\n",
    "print(list())\n",
    "print([0,'1',2])\n",
    "print([i for i in range(3)])\n",
    "\n"
   ]
  },
  {
   "cell_type": "markdown",
   "metadata": {},
   "source": [
    "## 添加元素\n",
    "append, extend, insert,+\n"
   ]
  },
  {
   "cell_type": "code",
   "execution_count": 2,
   "metadata": {},
   "outputs": [],
   "source": [
    "a=[]\n",
    "\n",
    "# appending single element\n",
    "a.append(1)\n",
    "print(a)\n",
    "\n",
    "# appending a list as a element\n",
    "a.append([2,3])\n",
    "print(a)\n",
    "\n",
    "# appending elements of a list\n",
    "a.extend([4,5])\n",
    "print(a)\n",
    "\n",
    "# insert a element at a position\n",
    "a.insert(0, 'first')\n",
    "print(a)\n",
    "\n",
    "# copy and append elements of a list\n",
    "b=a+[6,7]\n",
    "print(b)\n",
    "a[0]='second'\n",
    "print(b)"
   ]
  },
  {
   "cell_type": "markdown",
   "metadata": {},
   "source": [
    "## 删除元素\n",
    "pop, remove, del\n"
   ]
  },
  {
   "cell_type": "code",
   "execution_count": 3,
   "metadata": {},
   "outputs": [],
   "source": [
    "a=[i for i in range(5)]\n",
    "print(a)\n",
    "\n",
    "# remove first occurrence of *VALUE*\n",
    "# Raises ValueError if the value is not present.\n",
    "a.remove(3)\n",
    "print(a)\n",
    "\n",
    "# remove and return item at index (default last).\n",
    "a.pop()\n",
    "print(a)\n",
    "a.pop(2) # 2 is the *INDEX*\n",
    "print(a)\n",
    "\n",
    "# remove item at *INDEX*\n",
    "del a[1]\n",
    "# del a[0:3] delete a range is also OK\n",
    "print(a)\n",
    "\n",
    "# remove all items from list\n",
    "a.clear()\n",
    "print(a)\n"
   ]
  },
  {
   "cell_type": "markdown",
   "metadata": {},
   "source": [
    " ## list 切片\n",
    " "
   ]
  },
  {
   "cell_type": "markdown",
   "metadata": {},
   "source": [
    "### list的`__getitem__`是浅复制"
   ]
  },
  {
   "cell_type": "code",
   "execution_count": 4,
   "metadata": {},
   "outputs": [],
   "source": [
    "a=[i for i in range(10)]\n",
    "b=a[:]\n",
    "a[0]=9\n",
    "print(a)\n",
    "print(b)\n",
    "print(a[1] is b[1])"
   ]
  },
  {
   "cell_type": "markdown",
   "metadata": {},
   "source": [
    "### list的`__setitem__`和`__getitem__`不同"
   ]
  },
  {
   "cell_type": "code",
   "execution_count": 5,
   "metadata": {},
   "outputs": [],
   "source": [
    "a=[i for i in range(10)]\n",
    "a[:3]=['a','b','c','d']\n",
    "print(a)"
   ]
  },
  {
   "cell_type": "markdown",
   "metadata": {},
   "source": [
    "# Slice"
   ]
  },
  {
   "cell_type": "markdown",
   "metadata": {},
   "source": [
    "\n",
    "## define a slice with [start:end:step]\n"
   ]
  },
  {
   "cell_type": "code",
   "execution_count": 6,
   "metadata": {},
   "outputs": [],
   "source": [
    "a=[i for i in range(10)]\n",
    "print(a[0:2:1])"
   ]
  },
  {
   "cell_type": "markdown",
   "metadata": {},
   "source": [
    "## define a slice with slice()"
   ]
  },
  {
   "cell_type": "code",
   "execution_count": 7,
   "metadata": {},
   "outputs": [
    {
     "name": "stdout",
     "output_type": "stream",
     "text": [
      "[0, 1]\n"
     ]
    }
   ],
   "source": [
    "a=[i for i in range(10)]\n",
    "s=slice(0,2,1)\n",
    "print(a[s])"
   ]
  },
  {
   "cell_type": "markdown",
   "metadata": {},
   "source": [
    "# Dictionary"
   ]
  },
  {
   "cell_type": "markdown",
   "metadata": {},
   "source": [
    "## create new dictionary"
   ]
  },
  {
   "cell_type": "code",
   "execution_count": 8,
   "metadata": {},
   "outputs": [
    {
     "name": "stdout",
     "output_type": "stream",
     "text": [
      "create empty dict\n",
      "{}\n",
      "note {} is not {}: True\n",
      "but {} equals{}: True\n",
      "\n",
      "create with mapping\n",
      "{'a': 1, 'b': 2}\n",
      "\n",
      "create with iterator of (k,v)\n",
      "{0: 'a', 1: 'b'}\n"
     ]
    }
   ],
   "source": [
    "print(\"create empty dict\")\n",
    "print({})\n",
    "print(\"note {} is not {}:\", {} is not {})\n",
    "print(\"but {} equals{}:\", {} == {})\n",
    "\n",
    "print(\"\\ncreate with mapping\")\n",
    "print({\"a\":1, \"b\":2})\n",
    "\n",
    "print(\"\\ncreate with iterator of (k,v)\")\n",
    "iterator_of_tuple=((k,chr(ord('a')+k)) for k in range(2))\n",
    "d=dict(iterator_of_tuple)\n",
    "print(d)\n"
   ]
  },
  {
   "cell_type": "markdown",
   "metadata": {},
   "source": [
    "## Adding new elements"
   ]
  },
  {
   "cell_type": "code",
   "execution_count": 9,
   "metadata": {},
   "outputs": [
    {
     "name": "stdout",
     "output_type": "stream",
     "text": [
      "Adding new element with indexing\n",
      "{0: 'a'}\n",
      "\n",
      "Updating new element with indexing\n",
      "{0: 'A'}\n"
     ]
    }
   ],
   "source": [
    "print(\"Adding new element with indexing\")\n",
    "d={}\n",
    "d[0] ='a'\n",
    "print(d)\n",
    "\n",
    "print(\"\\nUpdating new element with indexing\")\n",
    "d={}\n",
    "d[0] ='a'\n",
    "d[0] ='A'\n",
    "print(d)\n"
   ]
  },
  {
   "cell_type": "markdown",
   "metadata": {},
   "source": [
    "## Accessing elements"
   ]
  },
  {
   "cell_type": "markdown",
   "metadata": {},
   "source": [
    "### `[]`"
   ]
  },
  {
   "cell_type": "code",
   "execution_count": 10,
   "metadata": {},
   "outputs": [
    {
     "name": "stdout",
     "output_type": "stream",
     "text": [
      "a\n",
      "except while the key not found\n"
     ]
    }
   ],
   "source": [
    "d={}\n",
    "d[0] ='a'\n",
    "print(d[0])\n",
    "try:\n",
    "    print(d[1])\n",
    "except:\n",
    "    print(\"except while the key not found\")\n"
   ]
  },
  {
   "cell_type": "markdown",
   "metadata": {},
   "source": [
    "### `get`\n",
    "Return the value for key if key is in the dictionary, else default. If default is not given, it defaults to None, so that this method never raises a `KeyError`.\n"
   ]
  },
  {
   "cell_type": "code",
   "execution_count": 11,
   "metadata": {},
   "outputs": [
    {
     "name": "stdout",
     "output_type": "stream",
     "text": [
      "a\n",
      "key not found, return: None\n",
      "key not found, custom return: <KNF>\n"
     ]
    }
   ],
   "source": [
    "d={}\n",
    "d[0] ='a'\n",
    "print(d.get(0))\n",
    "print(\"key not found, return:\", d.get(1))\n",
    "print(\"key not found, custom return:\", d.get(1,'<KNF>'))\n"
   ]
  },
  {
   "cell_type": "markdown",
   "metadata": {},
   "source": [
    "## Removing elements"
   ]
  },
  {
   "cell_type": "markdown",
   "metadata": {},
   "source": [
    "### `del []`"
   ]
  },
  {
   "cell_type": "code",
   "execution_count": 12,
   "metadata": {},
   "outputs": [
    {
     "name": "stdout",
     "output_type": "stream",
     "text": [
      "raise except if the key not found\n"
     ]
    }
   ],
   "source": [
    "d={}\n",
    "d[0] ='a'\n",
    "del d[0]\n",
    "try:\n",
    "    del d[1]\n",
    "except:\n",
    "    print(\"raise except if the key not found\")\n",
    "\n",
    "\n"
   ]
  },
  {
   "cell_type": "markdown",
   "metadata": {},
   "source": [
    "### `pop`\n",
    "\n",
    "    If key is in the dictionary, remove it and return its value, else return default. If default is not given and key is not in the dictionary, a KeyError is raised.\n"
   ]
  },
  {
   "cell_type": "code",
   "execution_count": 13,
   "metadata": {},
   "outputs": [
    {
     "name": "stdout",
     "output_type": "stream",
     "text": [
      "\n",
      "Removing a element with pop\n",
      "a\n",
      "b\n",
      "raise except if the key not found\n"
     ]
    }
   ],
   "source": [
    "print(\"\\nRemoving a element with pop\")\n",
    "d={}\n",
    "d[0] ='a'\n",
    "print(d.pop(0))\n",
    "print(d.pop(1, 'b'))\n",
    "try:\n",
    "    d.pop(1)\n",
    "except:\n",
    "    print(\"raise except if the key not found\")\n"
   ]
  },
  {
   "cell_type": "markdown",
   "metadata": {},
   "source": [
    "## Dictionary view objects"
   ]
  },
  {
   "cell_type": "markdown",
   "metadata": {},
   "source": [
    "### `len`\n",
    "Return the number of entries in the dictionary."
   ]
  },
  {
   "cell_type": "code",
   "execution_count": 14,
   "metadata": {},
   "outputs": [
    {
     "data": {
      "text/plain": [
       "2"
      ]
     },
     "execution_count": 14,
     "metadata": {},
     "output_type": "execute_result"
    }
   ],
   "source": [
    "d={1:'a', 2:'b'}\n",
    "len(d)"
   ]
  },
  {
   "cell_type": "markdown",
   "metadata": {},
   "source": [
    "### `iter`\n",
    "dict is an iterative object"
   ]
  },
  {
   "cell_type": "code",
   "execution_count": 15,
   "metadata": {},
   "outputs": [
    {
     "name": "stdout",
     "output_type": "stream",
     "text": [
      "<dict_keyiterator object at 0x00000000052BA638>\n",
      "1\n",
      "2\n"
     ]
    }
   ],
   "source": [
    "d={1:'a', 2:'b'}\n",
    "\n",
    "print(iter(d))\n",
    "\n",
    "for k in d:\n",
    "    print(k)\n",
    "    "
   ]
  },
  {
   "cell_type": "markdown",
   "metadata": {},
   "source": [
    "### `keys`\n",
    "Return a new view of the dictionary’s keys. "
   ]
  },
  {
   "cell_type": "code",
   "execution_count": 16,
   "metadata": {},
   "outputs": [
    {
     "name": "stdout",
     "output_type": "stream",
     "text": [
      "dict_keys([1, 2])\n",
      "<dict_keyiterator object at 0x00000000052C3C28>\n",
      "1\n",
      "2\n",
      "True\n",
      "False\n",
      "True\n",
      "True\n"
     ]
    }
   ],
   "source": [
    "d={1:'a', 2:'b'}\n",
    "\n",
    "print(d.keys())\n",
    "print(iter(d.keys()))\n",
    "\n",
    "for k in d.keys():\n",
    "    print(k)\n",
    "    \n",
    "print(\"__iter__\" in dir(d.keys()))\n",
    "print(\"__next__\" in dir(d.keys()))\n",
    "print(\"__next__\" in dir(iter(d.keys())))\n",
    "print(\"__next__\" in dir(iter(d.keys())))\n"
   ]
  },
  {
   "cell_type": "markdown",
   "metadata": {},
   "source": [
    "### `values`"
   ]
  },
  {
   "cell_type": "code",
   "execution_count": 17,
   "metadata": {},
   "outputs": [
    {
     "name": "stdout",
     "output_type": "stream",
     "text": [
      "dict_values(['a', 'b'])\n",
      "<dict_valueiterator object at 0x00000000052D19A8>\n",
      "a\n",
      "b\n",
      "True\n",
      "False\n",
      "True\n",
      "True\n"
     ]
    }
   ],
   "source": [
    "d={1:'a', 2:'b'}\n",
    "\n",
    "print(d.values())\n",
    "print(iter(d.values()))\n",
    "\n",
    "for k in d.values():\n",
    "    print(k)\n",
    "\n",
    "print(\"__iter__\" in dir(d.values()))\n",
    "print(\"__next__\" in dir(d.values()))\n",
    "print(\"__next__\" in dir(iter(d.values())))\n",
    "print(\"__next__\" in dir(iter(d.values())))"
   ]
  },
  {
   "cell_type": "markdown",
   "metadata": {},
   "source": [
    "### `items`"
   ]
  },
  {
   "cell_type": "code",
   "execution_count": 18,
   "metadata": {},
   "outputs": [
    {
     "name": "stdout",
     "output_type": "stream",
     "text": [
      "dict_items([(1, 'a'), (2, 'b')])\n",
      "<dict_itemiterator object at 0x00000000052D1A98>\n",
      "1 a\n",
      "2 b\n",
      "True\n",
      "False\n",
      "True\n",
      "True\n"
     ]
    }
   ],
   "source": [
    "d={1:'a', 2:'b'}\n",
    "\n",
    "print(d.items())\n",
    "print(iter(d.items()))\n",
    "\n",
    "for k,v in d.items():\n",
    "    print(k,v)\n",
    "\n",
    "print(\"__iter__\" in dir(d.items()))\n",
    "print(\"__next__\" in dir(d.items()))\n",
    "print(\"__next__\" in dir(iter(d.items())))\n",
    "print(\"__next__\" in dir(iter(d.items())))"
   ]
  },
  {
   "cell_type": "markdown",
   "metadata": {},
   "source": [
    "# Indexing"
   ]
  },
  {
   "cell_type": "markdown",
   "metadata": {},
   "source": [
    "## 自定义index"
   ]
  },
  {
   "cell_type": "code",
   "execution_count": 19,
   "metadata": {},
   "outputs": [
    {
     "name": "stdout",
     "output_type": "stream",
     "text": [
      "getitem with: <class 'str'> something\n",
      "setitem with: <class 'str'> something <class 'str'> something\n",
      "getitem with: <class 'slice'> slice(0, 2, None)\n",
      "setitem with: <class 'slice'> slice(0, 2, None) <class 'int'> 1\n"
     ]
    }
   ],
   "source": [
    "class A():     \n",
    "        \n",
    "    def __getitem__(self, s):\n",
    "        print(\"getitem with:\", type(s),s)\n",
    "        \n",
    "    def __setitem__(self, s, v):\n",
    "        print(\"setitem with:\", type(s), s, type(v), v)\n",
    "    \n",
    "a=A()\n",
    "\n",
    "# getitem and setitem are different\n",
    "a['something']\n",
    "a['something']='something'\n",
    "\n",
    "# slice often used with indexing\n",
    "a[0:2]    # getting\n",
    "a[0:2]=1  # setting\n",
    "\n"
   ]
  },
  {
   "cell_type": "markdown",
   "metadata": {},
   "source": [
    "## Index with dict"
   ]
  },
  {
   "cell_type": "code",
   "execution_count": 20,
   "metadata": {},
   "outputs": [
    {
     "name": "stdout",
     "output_type": "stream",
     "text": [
      "1\n",
      "<class 'KeyError'> '3'\n",
      "One\n",
      "Three\n"
     ]
    }
   ],
   "source": [
    "a={'1':1, '2':2}\n",
    "\n",
    "# getitem, key存在\n",
    "print(a['1'])\n",
    "\n",
    "# getitem, key不存在\n",
    "try:\n",
    "    a['3']\n",
    "except KeyError as err:\n",
    "    print(type(err), err)\n",
    "# work like c++ std::map\n",
    "    \n",
    "# setitem, key存在\n",
    "a['1']='One'\n",
    "print(a['1'])\n",
    "    \n",
    "# setitem, key不存在\n",
    "a['3']='Three'\n",
    "print(a['3'])\n",
    "    "
   ]
  },
  {
   "cell_type": "markdown",
   "metadata": {},
   "source": [
    "# `id`"
   ]
  },
  {
   "cell_type": "markdown",
   "metadata": {},
   "source": [
    "## `id` of empty object\n"
   ]
  },
  {
   "cell_type": "code",
   "execution_count": 21,
   "metadata": {},
   "outputs": [
    {
     "name": "stdout",
     "output_type": "stream",
     "text": [
      "id(a), id(b):  79081288 86812424\n",
      "id(a) == id(b):  False\n",
      "a is not b:  True\n",
      "a == b:  True\n"
     ]
    }
   ],
   "source": [
    "a,b=[],[]\n",
    "print(\"id(a), id(b): \", id(a), id(b))\n",
    "print(\"id(a) == id(b): \", id(a) == id(b))\n",
    "print(\"a is not b: \", a is not b)\n",
    "print(\"a == b: \", a == b)"
   ]
  },
  {
   "cell_type": "markdown",
   "metadata": {},
   "source": [
    "### `id([]) == id([])`\n",
    "Some times,"
   ]
  },
  {
   "cell_type": "code",
   "execution_count": 22,
   "metadata": {},
   "outputs": [
    {
     "name": "stdout",
     "output_type": "stream",
     "text": [
      "True\n"
     ]
    }
   ],
   "source": [
    "print(id([]) == id([]))"
   ]
  },
  {
   "cell_type": "markdown",
   "metadata": {},
   "source": [
    "This is because of memory re-usage.\n",
    "They have the same id, but they don't live at the same time"
   ]
  },
  {
   "cell_type": "markdown",
   "metadata": {},
   "source": [
    "## `True` is always `True`, `False` is always `False`"
   ]
  },
  {
   "cell_type": "code",
   "execution_count": 23,
   "metadata": {},
   "outputs": [
    {
     "name": "stdout",
     "output_type": "stream",
     "text": [
      "True\n",
      "True\n",
      "1526450608 1526450608\n",
      "1526450640 1526450640\n"
     ]
    }
   ],
   "source": [
    "print((0==0) is (1==1))\n",
    "print((0!=1) is (1!=0))\n",
    "print(id(True), id(0==0))\n",
    "print(id(False), id(0!=0))"
   ]
  },
  {
   "cell_type": "markdown",
   "metadata": {},
   "source": [
    "## `'== True'` is not equal to `'is True'`"
   ]
  },
  {
   "cell_type": "code",
   "execution_count": 24,
   "metadata": {},
   "outputs": [
    {
     "name": "stdout",
     "output_type": "stream",
     "text": [
      "True\n",
      "False\n",
      "True\n"
     ]
    }
   ],
   "source": [
    "print(1 == True)\n",
    "print(1 is True)\n",
    "print(bool(1) is True)"
   ]
  },
  {
   "cell_type": "markdown",
   "metadata": {},
   "source": [
    "## Often, `'a' is 'a'`"
   ]
  },
  {
   "cell_type": "code",
   "execution_count": 25,
   "metadata": {},
   "outputs": [
    {
     "name": "stdout",
     "output_type": "stream",
     "text": [
      "34668416\n",
      "a\n",
      "34668416\n"
     ]
    }
   ],
   "source": [
    "print(id('a'))\n",
    "print('ab'[0:1])\n",
    "print(id('ab'[0:1]))"
   ]
  },
  {
   "cell_type": "markdown",
   "metadata": {},
   "source": [
    "# `None`"
   ]
  },
  {
   "cell_type": "markdown",
   "metadata": {},
   "source": [
    "## `None` is not anything but `None`"
   ]
  },
  {
   "cell_type": "code",
   "execution_count": 1,
   "metadata": {},
   "outputs": [
    {
     "name": "stdout",
     "output_type": "stream",
     "text": [
      "True\n",
      "True\n",
      "True\n",
      "True\n"
     ]
    }
   ],
   "source": [
    "print(None is not False)\n",
    "print(None is not 0)\n",
    "print(None is not '')\n",
    "print(None is None)"
   ]
  },
  {
   "cell_type": "markdown",
   "metadata": {},
   "source": [
    "## `None` isn't equal to anything but `None`"
   ]
  },
  {
   "cell_type": "code",
   "execution_count": 2,
   "metadata": {},
   "outputs": [
    {
     "name": "stdout",
     "output_type": "stream",
     "text": [
      "True\n",
      "True\n",
      "True\n",
      "True\n"
     ]
    }
   ],
   "source": [
    "print(None != False)\n",
    "print(None != 0)\n",
    "print(None != '')\n",
    "print(None == None)"
   ]
  },
  {
   "cell_type": "markdown",
   "metadata": {},
   "source": [
    "## People prefer using `is None`"
   ]
  },
  {
   "cell_type": "code",
   "execution_count": 3,
   "metadata": {},
   "outputs": [
    {
     "name": "stdout",
     "output_type": "stream",
     "text": [
      "a is None\n",
      "a == None\n"
     ]
    }
   ],
   "source": [
    "a=None\n",
    "# GOOD\n",
    "if a is None:\n",
    "    print(\"a is None\")\n",
    "    \n",
    "# BAD\n",
    "if a == None:\n",
    "    print(\"a == None\")"
   ]
  },
  {
   "cell_type": "markdown",
   "metadata": {},
   "source": [
    "# Range"
   ]
  },
  {
   "cell_type": "markdown",
   "metadata": {},
   "source": [
    "## range(...)是range对象"
   ]
  },
  {
   "cell_type": "code",
   "execution_count": 29,
   "metadata": {},
   "outputs": [
    {
     "name": "stdout",
     "output_type": "stream",
     "text": [
      "<class 'range'>\n"
     ]
    }
   ],
   "source": [
    "print(type(range(100)))"
   ]
  },
  {
   "cell_type": "markdown",
   "metadata": {},
   "source": [
    "## range对象是iterative对象\n",
    "iterative对象(定义为)具有iter方法，没有next方法"
   ]
  },
  {
   "cell_type": "code",
   "execution_count": 30,
   "metadata": {},
   "outputs": [
    {
     "name": "stdout",
     "output_type": "stream",
     "text": [
      "True\n",
      "False\n"
     ]
    }
   ],
   "source": [
    "print('__iter__' in dir(range))\n",
    "print('__next__' in dir(range))"
   ]
  },
  {
   "cell_type": "markdown",
   "metadata": {},
   "source": [
    "## iterative对象可以用于for循环"
   ]
  },
  {
   "cell_type": "code",
   "execution_count": 31,
   "metadata": {},
   "outputs": [
    {
     "name": "stdout",
     "output_type": "stream",
     "text": [
      "0 1 2 3 4 5 6 7 8 9 "
     ]
    }
   ],
   "source": [
    "for i in range(10):\n",
    "    print(i,end=' ')"
   ]
  },
  {
   "cell_type": "markdown",
   "metadata": {},
   "source": [
    "## iter(range(...))对象是一个range_iterator对象"
   ]
  },
  {
   "cell_type": "code",
   "execution_count": 32,
   "metadata": {},
   "outputs": [
    {
     "name": "stdout",
     "output_type": "stream",
     "text": [
      "<class 'range_iterator'>\n"
     ]
    }
   ],
   "source": [
    "print(type(iter(range(100))))"
   ]
  },
  {
   "cell_type": "markdown",
   "metadata": {},
   "source": [
    "## range_iterator对象是iterator对象\n",
    "iterator对象(定义为)具有iter方法和next方法"
   ]
  },
  {
   "cell_type": "code",
   "execution_count": 33,
   "metadata": {},
   "outputs": [
    {
     "name": "stdout",
     "output_type": "stream",
     "text": [
      "True\n",
      "True\n"
     ]
    }
   ],
   "source": [
    "print('__iter__' in dir(type(iter(range(100)))))\n",
    "print('__next__' in dir(type(iter(range(100)))))"
   ]
  },
  {
   "cell_type": "markdown",
   "metadata": {},
   "source": [
    "## iter(range_iterator)依然是range_iterator\n",
    "实际上是同一对象"
   ]
  },
  {
   "cell_type": "code",
   "execution_count": 34,
   "metadata": {},
   "outputs": [
    {
     "name": "stdout",
     "output_type": "stream",
     "text": [
      "<class 'range_iterator'>\n",
      "True\n"
     ]
    }
   ],
   "source": [
    "a=iter(range(10))\n",
    "print(type(iter(a)))\n",
    "print(a==iter(a))"
   ]
  },
  {
   "cell_type": "markdown",
   "metadata": {},
   "source": [
    "## iterator对象可以用于for循环\n"
   ]
  },
  {
   "cell_type": "code",
   "execution_count": 35,
   "metadata": {},
   "outputs": [
    {
     "name": "stdout",
     "output_type": "stream",
     "text": [
      "0 1 2 3 4 5 6 7 8 9 "
     ]
    }
   ],
   "source": [
    "for i in iter(range(10)):\n",
    "    print(i, end=' ')    \n"
   ]
  },
  {
   "cell_type": "markdown",
   "metadata": {},
   "source": [
    "# Generator"
   ]
  },
  {
   "cell_type": "markdown",
   "metadata": {},
   "source": [
    "## yield定义generator"
   ]
  },
  {
   "cell_type": "code",
   "execution_count": 36,
   "metadata": {},
   "outputs": [
    {
     "name": "stdout",
     "output_type": "stream",
     "text": [
      "<class 'generator'>\n"
     ]
    }
   ],
   "source": [
    "def gen():\n",
    "    for i in range(10):\n",
    "        yield i\n",
    "print(type(gen()))\n"
   ]
  },
  {
   "cell_type": "markdown",
   "metadata": {},
   "source": [
    "## ()定义generator"
   ]
  },
  {
   "cell_type": "code",
   "execution_count": 4,
   "metadata": {},
   "outputs": [
    {
     "name": "stdout",
     "output_type": "stream",
     "text": [
      "<class 'generator'>\n"
     ]
    }
   ],
   "source": [
    "a=(i for i in range(10))\n",
    "print(type(a))"
   ]
  },
  {
   "cell_type": "markdown",
   "metadata": {},
   "source": [
    "## generator是iterator"
   ]
  },
  {
   "cell_type": "code",
   "execution_count": 38,
   "metadata": {},
   "outputs": [
    {
     "name": "stdout",
     "output_type": "stream",
     "text": [
      "True\n",
      "True\n"
     ]
    }
   ],
   "source": [
    "a=(i for i in range(10))\n",
    "print('__iter__' in dir(type(a)))\n",
    "print('__next__' in dir(type(a)))"
   ]
  },
  {
   "cell_type": "markdown",
   "metadata": {},
   "source": [
    "## generator可以用于循环"
   ]
  },
  {
   "cell_type": "code",
   "execution_count": 39,
   "metadata": {},
   "outputs": [
    {
     "name": "stdout",
     "output_type": "stream",
     "text": [
      "0 1 2 3 4 5 6 7 8 9 "
     ]
    }
   ],
   "source": [
    "a=(i for i in range(10))\n",
    "for i in a:\n",
    "    print(i, end=' ')"
   ]
  },
  {
   "cell_type": "markdown",
   "metadata": {},
   "source": [
    "# `del`"
   ]
  },
  {
   "cell_type": "markdown",
   "metadata": {},
   "source": [
    "## `del` remove variable from local variables list"
   ]
  },
  {
   "cell_type": "code",
   "execution_count": 40,
   "metadata": {},
   "outputs": [
    {
     "name": "stdout",
     "output_type": "stream",
     "text": [
      "name 'a' is not defined\n"
     ]
    }
   ],
   "source": [
    "a=1\n",
    "del a\n",
    "try:\n",
    "    print(a)\n",
    "except NameError as err:\n",
    "    print(err)\n",
    "    "
   ]
  },
  {
   "cell_type": "markdown",
   "metadata": {},
   "source": [
    "## `used=None`和`del used`不同\n",
    "对于垃圾收集器来说是相同的，但是`del used`彻底从局部变量列表删除了这个变量"
   ]
  },
  {
   "cell_type": "code",
   "execution_count": 41,
   "metadata": {},
   "outputs": [
    {
     "name": "stdout",
     "output_type": "stream",
     "text": [
      "None\n"
     ]
    }
   ],
   "source": [
    "a=1\n",
    "a=None\n",
    "try:\n",
    "    print(a)\n",
    "except NameError as err:\n",
    "    print(err)"
   ]
  },
  {
   "cell_type": "markdown",
   "metadata": {},
   "source": [
    "# Decorator"
   ]
  },
  {
   "cell_type": "markdown",
   "metadata": {},
   "source": [
    "## Creating Decorator\n"
   ]
  },
  {
   "cell_type": "code",
   "execution_count": 5,
   "metadata": {},
   "outputs": [
    {
     "name": "stdout",
     "output_type": "stream",
     "text": [
      "Hi!\n",
      "1\n",
      "Bye!\n",
      "polite_f() takes 1 positional argument but 2 were given\n",
      "name of function `foo` is <function polite_decorator1.<locals>.polite_f at 0x0000000004E7E840>\n"
     ]
    }
   ],
   "source": [
    "# polite_decorator is a function, mapping function to function\n",
    "def polite_decorator1(f):\n",
    "    def polite_f(a):\n",
    "        print(\"Hi!\")\n",
    "        ret=f(a)\n",
    "        print(\"Bye!\")\n",
    "        return ret\n",
    "    return polite_f\n",
    "\n",
    "@polite_decorator1\n",
    "def foo(a,b=None):\n",
    "    print(a)\n",
    "    if b is not None:\n",
    "        print(b)\n",
    "        \n",
    "# @polite_decorator1\n",
    "# same as\n",
    "# foo = polite_decorator1(foo)\n",
    "\n",
    "# we are indeed calling polite_decorator1(original foo)(1)\n",
    "foo(1)\n",
    "\n",
    "# defect 1\n",
    "# arguments number may not match\n",
    "try:\n",
    "    foo(1,2)\n",
    "except TypeError as err:\n",
    "    print(err)\n",
    "    \n",
    "# defect 2\n",
    "# name of foo is not `foo`\n",
    "print('name of function `foo` is', foo)"
   ]
  },
  {
   "cell_type": "markdown",
   "metadata": {},
   "source": [
    "## Defining General Purpose Decorators\n",
    "\n",
    "We need to resolve the defect 1\n"
   ]
  },
  {
   "cell_type": "code",
   "execution_count": 6,
   "metadata": {},
   "outputs": [
    {
     "name": "stdout",
     "output_type": "stream",
     "text": [
      "Hi!\n",
      "1\n",
      "Bye!\n",
      "Hi!\n",
      "1\n",
      "2\n",
      "Bye!\n",
      "name of function `foo` is <function foo at 0x0000000004E7E9D8>\n"
     ]
    }
   ],
   "source": [
    "import functools\n",
    "# polite_decorator is a functiong, mapping function to function\n",
    "def polite_decorator2(f):\n",
    "\n",
    "    @functools.wraps(f)\n",
    "    def polite_f(*args,**kwargs):\n",
    "        print(\"Hi!\")\n",
    "        ret=f(*args,**kwargs)\n",
    "        print(\"Bye!\")\n",
    "        return ret\n",
    "    return polite_f\n",
    "\n",
    "@polite_decorator2\n",
    "def foo(a,b=None):\n",
    "    print(a)\n",
    "    if b is not None:\n",
    "        print(b)\n",
    "    \n",
    "    \n",
    "foo(1)\n",
    "# defect 2 is resolved\n",
    "foo(1,2)\n",
    "# defect 2 is resolved, by adding Line 4\n",
    "print('name of function `foo` is', foo)"
   ]
  },
  {
   "cell_type": "markdown",
   "metadata": {},
   "source": [
    "## Passing Arguments to the Decorator\n",
    "we define a decorator maker that accepts arguments then define a decorator inside it."
   ]
  },
  {
   "cell_type": "code",
   "execution_count": 8,
   "metadata": {},
   "outputs": [
    {
     "name": "stdout",
     "output_type": "stream",
     "text": [
      "Hi! Liang\n",
      "1\n",
      "Bye!\n",
      "Hi! Hao\n",
      "1\n",
      "Bye!\n"
     ]
    }
   ],
   "source": [
    "import functools\n",
    "\n",
    "# polite_decorator is a functiong, mapping function to function\n",
    "def polite_decorator3_maker(name):\n",
    "    def polite_decorator3(f):\n",
    "\n",
    "        @functools.wraps(f)\n",
    "        def polite_f(*args,**kwargs):\n",
    "            print(\"Hi! %s\"%name)\n",
    "            ret=f(*args,**kwargs)\n",
    "            print(\"Bye!\")\n",
    "            return ret\n",
    "        return polite_f\n",
    "    return polite_decorator3\n",
    "\n",
    "# we create decorator first\n",
    "polite_decorator3_Liang=polite_decorator3_maker(\"Liang\")\n",
    "# then use it\n",
    "@polite_decorator3_Liang\n",
    "def foo(a,b=None):\n",
    "    print(a)\n",
    "    if b is not None:\n",
    "        print(b)\n",
    "\n",
    "# compact form\n",
    "@polite_decorator3_maker(\"Hao\")\n",
    "def bar(a,b=None):\n",
    "    print(a)\n",
    "    if b is not None:\n",
    "        print(b)\n",
    "\n",
    "\n",
    "    \n",
    "foo(1)\n",
    "bar(1)"
   ]
  },
  {
   "cell_type": "markdown",
   "metadata": {},
   "source": [
    "# Class"
   ]
  },
  {
   "cell_type": "markdown",
   "metadata": {},
   "source": [
    "## `class` define a variable of class `type`"
   ]
  },
  {
   "cell_type": "code",
   "execution_count": 45,
   "metadata": {},
   "outputs": [
    {
     "name": "stdout",
     "output_type": "stream",
     "text": [
      "<class '__main__.Cls'>\n",
      "<class 'type'>\n"
     ]
    }
   ],
   "source": [
    "class Cls:\n",
    "    pass\n",
    "\n",
    "print(Cls)\n",
    "print(type(Cls))"
   ]
  },
  {
   "cell_type": "markdown",
   "metadata": {},
   "source": [
    "You can even change the object that the variable bind."
   ]
  },
  {
   "cell_type": "code",
   "execution_count": 46,
   "metadata": {},
   "outputs": [
    {
     "name": "stdout",
     "output_type": "stream",
     "text": [
      "<class 'int'>\n",
      "<class 'type'>\n"
     ]
    }
   ],
   "source": [
    "Cls=int\n",
    "print(Cls)\n",
    "print(type(Cls))"
   ]
  },
  {
   "cell_type": "markdown",
   "metadata": {},
   "source": [
    "# Method"
   ]
  },
  {
   "cell_type": "markdown",
   "metadata": {},
   "source": [
    "## `def` doesn't create function for object!\n",
    "`def` create function for class\n"
   ]
  },
  {
   "cell_type": "code",
   "execution_count": 47,
   "metadata": {},
   "outputs": [
    {
     "name": "stdout",
     "output_type": "stream",
     "text": [
      "{'member': None}\n",
      "{'__module__': '__main__', '__init__': <function Cls.__init__ at 0x00000000052C1D08>, 'foo': <function Cls.foo at 0x00000000052C1488>, '__dict__': <attribute '__dict__' of 'Cls' objects>, '__weakref__': <attribute '__weakref__' of 'Cls' objects>, '__doc__': None}\n",
      "obj has member: True\n",
      "obj has foo: False\n",
      "Cls has foo: True\n"
     ]
    }
   ],
   "source": [
    "class Cls:\n",
    "    def __init__(self):\n",
    "        self.member=None\n",
    "\n",
    "    def foo(self):\n",
    "        pass\n",
    "\n",
    "obj=Cls()\n",
    "print(vars(obj))\n",
    "print(vars(Cls))\n",
    "\n",
    "print(\"obj has member:\", \"member\" in vars(obj))\n",
    "print(\"obj has foo:\", \"foo\" in vars(obj))\n",
    "print(\"Cls has foo:\", \"foo\" in vars(Cls))"
   ]
  },
  {
   "cell_type": "markdown",
   "metadata": {},
   "source": [
    "## Bound method\n",
    "    "
   ]
  },
  {
   "cell_type": "code",
   "execution_count": 48,
   "metadata": {},
   "outputs": [
    {
     "name": "stdout",
     "output_type": "stream",
     "text": [
      "\n",
      "original foo's type: <class 'function'>\n",
      "original foo'id is 86775328\n",
      "\n",
      "Cls.foo's type: <class 'function'>\n",
      "Cls.foo's id: 86775328\n"
     ]
    }
   ],
   "source": [
    "class Cls:    \n",
    "    \n",
    "    def foo():\n",
    "        pass\n",
    "\n",
    "    \n",
    "obj=Cls()\n",
    "foo_origin=Cls.__dict__[\"foo\"]\n",
    "\n",
    "print()\n",
    "print(\"original foo's type:\", type(foo_origin))\n",
    "print(\"original foo'id is\", id(foo_origin))\n",
    "print()\n",
    "print(\"Cls.foo's type:\", type(Cls.foo))\n",
    "print(\"Cls.foo's id:\", id(Cls.foo))"
   ]
  },
  {
   "cell_type": "markdown",
   "metadata": {},
   "source": [
    "`__get__` of instance is overwritten, so that we can get a `method` object via `obj.foo`. For `method`, `obj` has bind with the function `foo`, and the `method` is callable object."
   ]
  },
  {
   "cell_type": "code",
   "execution_count": 49,
   "metadata": {
    "scrolled": true
   },
   "outputs": [
    {
     "name": "stdout",
     "output_type": "stream",
     "text": [
      "obj.foo's type: <class 'method'>\n",
      "obj.foo's id: 86805256\n",
      "obj.foo has __call__: True\n"
     ]
    }
   ],
   "source": [
    "print(\"obj.foo's type:\", type(obj.foo))\n",
    "print(\"obj.foo's id:\", id(obj.foo))\n",
    "print(\"obj.foo has __call__:\", \"__call__\" in dir(obj.foo))"
   ]
  },
  {
   "cell_type": "markdown",
   "metadata": {},
   "source": [
    " We can retried the function and bind instance."
   ]
  },
  {
   "cell_type": "code",
   "execution_count": 50,
   "metadata": {},
   "outputs": [
    {
     "name": "stdout",
     "output_type": "stream",
     "text": [
      "obj.foo.__func__'s type: <class 'function'>\n",
      "obj.foo.__func__'s id: 86775328\n",
      "obj'id: 86959384\n",
      "obj.foo.__self__'s type: <class '__main__.Cls'>\n",
      "obj.foo.__self__'s id: 86959384\n"
     ]
    }
   ],
   "source": [
    "print(\"obj.foo.__func__'s type:\", type(obj.foo.__func__))\n",
    "print(\"obj.foo.__func__'s id:\", id(obj.foo.__func__))\n",
    "print(\"obj'id:\", id(obj))\n",
    "print(\"obj.foo.__self__'s type:\", type(obj.foo.__self__))\n",
    "print(\"obj.foo.__self__'s id:\", id(obj.foo.__self__))"
   ]
  },
  {
   "cell_type": "markdown",
   "metadata": {},
   "source": [
    "## Static method"
   ]
  },
  {
   "cell_type": "code",
   "execution_count": 51,
   "metadata": {},
   "outputs": [
    {
     "name": "stdout",
     "output_type": "stream",
     "text": [
      "original foo's type: <class 'function'>\n",
      "original foo'id is 86637152\n",
      "\n",
      "staticmethod foo's type is: <class 'staticmethod'>\n",
      "staticmethod foo'id is 86960392\n"
     ]
    }
   ],
   "source": [
    "class Cls:    \n",
    "    \n",
    "    def foo_origin():\n",
    "        pass\n",
    "    foo=staticmethod(foo_origin)\n",
    "\n",
    "    \n",
    "obj=Cls()\n",
    "foo_origin=Cls.__dict__[\"foo_origin\"]\n",
    "staticmethod_foo=Cls.__dict__[\"foo\"]\n",
    "\n",
    "print(\"original foo's type:\", type(foo_origin))\n",
    "print(\"original foo'id is\", id(foo_origin))\n",
    "print()\n",
    "\n",
    "print(\"staticmethod foo's type is:\", type(staticmethod_foo))\n",
    "print(\"staticmethod foo'id is\", id(staticmethod_foo))"
   ]
  },
  {
   "cell_type": "code",
   "execution_count": 52,
   "metadata": {},
   "outputs": [
    {
     "name": "stdout",
     "output_type": "stream",
     "text": [
      "staticmethod foo.__func__'s type is: <class 'function'>\n",
      "staticmethod foo.__func__'id is 86637152\n"
     ]
    }
   ],
   "source": [
    "print(\"staticmethod foo.__func__'s type is:\", type(staticmethod_foo.__func__))\n",
    "print(\"staticmethod foo.__func__'id is\", id(staticmethod_foo.__func__))"
   ]
  },
  {
   "cell_type": "markdown",
   "metadata": {},
   "source": [
    "Decorator `staticmethod` will return `staticmethod` object. The original function will store in the member `__func__` of `staticmethod` object.\n",
    "`__get__` of class is overwritten, so that we can get correct function when we using `Cls.foo` or `obj.foo`"
   ]
  },
  {
   "cell_type": "code",
   "execution_count": 53,
   "metadata": {},
   "outputs": [
    {
     "name": "stdout",
     "output_type": "stream",
     "text": [
      "Cls.foo's type: <class 'function'>\n",
      "Cls.foo's id: 86637152\n",
      "\n",
      "obj.foo's type: <class 'function'>\n",
      "obj.foo's id: 86637152\n"
     ]
    }
   ],
   "source": [
    "print(\"Cls.foo's type:\", type(Cls.foo))\n",
    "print(\"Cls.foo's id:\", id(Cls.foo))\n",
    "\n",
    "print()\n",
    "print(\"obj.foo's type:\", type(obj.foo))\n",
    "print(\"obj.foo's id:\", id(obj.foo))"
   ]
  },
  {
   "cell_type": "markdown",
   "metadata": {},
   "source": [
    "# IO"
   ]
  },
  {
   "cell_type": "markdown",
   "metadata": {},
   "source": [
    "### open file as binary"
   ]
  },
  {
   "cell_type": "code",
   "execution_count": 54,
   "metadata": {},
   "outputs": [
    {
     "name": "stdout",
     "output_type": "stream",
     "text": [
      "<class 'bytes'>\n",
      "b'1\\r\\n2\\r\\n'\n"
     ]
    }
   ],
   "source": [
    "with open('a.txt', 'rb') as f:\n",
    "    content = f.read()\n",
    "print(type(content))\n",
    "print(content)\n"
   ]
  },
  {
   "cell_type": "markdown",
   "metadata": {},
   "source": [
    "### open file as text"
   ]
  },
  {
   "cell_type": "code",
   "execution_count": 55,
   "metadata": {},
   "outputs": [
    {
     "name": "stdout",
     "output_type": "stream",
     "text": [
      "<class 'str'>\n",
      "<class 'list'> <class 'str'>\n"
     ]
    }
   ],
   "source": [
    "#import sys\n",
    "#print(sys.getdefaultencoding())\n",
    "\n",
    "with open('a.txt', encoding='utf-8') as f:\n",
    "    content=f.read()\n",
    "print(type(content))\n",
    "    \n",
    "with open('a.txt', encoding='utf-8') as f:\n",
    "    content=f.readlines()\n",
    "print(type(content), type(content[0]))\n"
   ]
  },
  {
   "cell_type": "markdown",
   "metadata": {},
   "source": [
    "### readline\n",
    "f.readline() reads a single line from the file; a newline character (\\n) is left at the end of the string, and is only omitted on the last line of the file if the file doesn’t end in a newline. This makes the return value unambiguous; if f.readline() returns an empty string, the end of the file has been reached, while a blank line is represented by '\\n', a string containing only a single newline.\n"
   ]
  },
  {
   "cell_type": "code",
   "execution_count": 56,
   "metadata": {},
   "outputs": [
    {
     "name": "stdout",
     "output_type": "stream",
     "text": [
      "1\n",
      "2\n",
      "1\n",
      "2\n",
      "\n"
     ]
    }
   ],
   "source": [
    "with open('a.txt', encoding='utf-8') as f:\n",
    "    while True:\n",
    "        l = f.readline()\n",
    "        print(l,end='')\n",
    "        if len(l) == 0:\n",
    "            break\n",
    "\n",
    "with open('a.txt', encoding='utf-8') as f:\n",
    "    while True:\n",
    "        l = f.readline().strip()\n",
    "        print(l)\n",
    "        if len(l) == 0:\n",
    "            break\n"
   ]
  }
 ],
 "metadata": {
  "kernelspec": {
   "display_name": "Python 3",
   "language": "python",
   "name": "python3"
  },
  "language_info": {
   "codemirror_mode": {
    "name": "ipython",
    "version": 3
   },
   "file_extension": ".py",
   "mimetype": "text/x-python",
   "name": "python",
   "nbconvert_exporter": "python",
   "pygments_lexer": "ipython3",
   "version": "3.6.7"
  },
  "toc": {
   "base_numbering": 1,
   "nav_menu": {
    "height": "346px",
    "width": "261px"
   },
   "number_sections": true,
   "sideBar": true,
   "skip_h1_title": false,
   "title_cell": "Table of Contents",
   "title_sidebar": "Contents",
   "toc_cell": true,
   "toc_position": {
    "height": "calc(100% - 180px)",
    "left": "10px",
    "top": "150px",
    "width": "402px"
   },
   "toc_section_display": true,
   "toc_window_display": false
  }
 },
 "nbformat": 4,
 "nbformat_minor": 2
}
