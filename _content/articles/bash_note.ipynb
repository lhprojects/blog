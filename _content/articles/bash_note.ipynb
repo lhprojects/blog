{
 "cells": [
  {
   "cell_type": "markdown",
   "metadata": {
    "toc": true
   },
   "source": [
    "<h1>Table of Contents<span class=\"tocSkip\"></span></h1>\n",
    "<div class=\"toc\"><ul class=\"toc-item\"><li><span><a href=\"#if-Statement\" data-toc-modified-id=\"if-Statement-1\"><span class=\"toc-item-num\">1&nbsp;&nbsp;</span><code>if</code> Statement</a></span></li><li><span><a href=\"#false-and-true-Command\" data-toc-modified-id=\"false-and-true-Command-2\"><span class=\"toc-item-num\">2&nbsp;&nbsp;</span><code>false</code> and <code>true</code> Command</a></span></li><li><span><a href=\"#[-Command\" data-toc-modified-id=\"[-Command-3\"><span class=\"toc-item-num\">3&nbsp;&nbsp;</span><code>[</code> Command</a></span></li><li><span><a href=\"#for-Statement\" data-toc-modified-id=\"for-Statement-4\"><span class=\"toc-item-num\">4&nbsp;&nbsp;</span><code>for</code> Statement</a></span></li><li><span><a href=\"#sed\" data-toc-modified-id=\"sed-5\"><span class=\"toc-item-num\">5&nbsp;&nbsp;</span><code>sed</code></a></span><ul class=\"toc-item\"><li><span><a href=\"#Print-and-quiet\" data-toc-modified-id=\"Print-and-quiet-5.1\"><span class=\"toc-item-num\">5.1&nbsp;&nbsp;</span>Print and quiet</a></span></li><li><span><a href=\"#Delete-lines\" data-toc-modified-id=\"Delete-lines-5.2\"><span class=\"toc-item-num\">5.2&nbsp;&nbsp;</span>Delete lines</a></span></li><li><span><a href=\"#Replace-string-with-string\" data-toc-modified-id=\"Replace-string-with-string-5.3\"><span class=\"toc-item-num\">5.3&nbsp;&nbsp;</span>Replace string with string</a></span></li><li><span><a href=\"#Replace-a-line-with-content-of-file\" data-toc-modified-id=\"Replace-a-line-with-content-of-file-5.4\"><span class=\"toc-item-num\">5.4&nbsp;&nbsp;</span>Replace a line with content of file</a></span></li></ul></li><li><span><a href=\"#Pronounce\" data-toc-modified-id=\"Pronounce-6\"><span class=\"toc-item-num\">6&nbsp;&nbsp;</span>Pronounce</a></span><ul class=\"toc-item\"><li><span><a href=\"#Linux-commands-pronounced-as-if-they-are-words\" data-toc-modified-id=\"Linux-commands-pronounced-as-if-they-are-words-6.1\"><span class=\"toc-item-num\">6.1&nbsp;&nbsp;</span>Linux commands pronounced as if they are words</a></span></li><li><span><a href=\"#Linux-commands-that-are-spelled-out\" data-toc-modified-id=\"Linux-commands-that-are-spelled-out-6.2\"><span class=\"toc-item-num\">6.2&nbsp;&nbsp;</span>Linux commands that are spelled out</a></span></li><li><span><a href=\"#Linux-commands-that-are-both-read-and-spelled-out\" data-toc-modified-id=\"Linux-commands-that-are-both-read-and-spelled-out-6.3\"><span class=\"toc-item-num\">6.3&nbsp;&nbsp;</span>Linux commands that are both read and spelled out</a></span></li></ul></li></ul></div>"
   ]
  },
  {
   "cell_type": "markdown",
   "metadata": {},
   "source": [
    "# `if` Statement"
   ]
  },
  {
   "cell_type": "code",
   "execution_count": 1,
   "metadata": {},
   "outputs": [
    {
     "name": "stdout",
     "output_type": "stream",
     "text": [
      "you can see this\n",
      "you can see this\n"
     ]
    }
   ],
   "source": [
    "%%bash\n",
    "\n",
    "if true\n",
    "then\n",
    "    echo \"you can see this\"\n",
    "fi\n",
    "\n",
    "if false\n",
    "then\n",
    "    echo \"you can't see this\"\n",
    "else\n",
    "    echo \"you can see this\"\n",
    "fi\n",
    "\n"
   ]
  },
  {
   "cell_type": "markdown",
   "metadata": {},
   "source": [
    "# `false` and `true` Command"
   ]
  },
  {
   "cell_type": "code",
   "execution_count": 2,
   "metadata": {},
   "outputs": [
    {
     "name": "stdout",
     "output_type": "stream",
     "text": [
      "false and true are commands\n",
      "they are located at /bin/false and /bin/true\n",
      "false return 1\n",
      "true return 0\n"
     ]
    }
   ],
   "source": [
    "%%bash\n",
    "\n",
    "echo false and true are commands\n",
    "echo they are located at $(which false) and $(which true)\n",
    "false\n",
    "echo false return $?\n",
    "true\n",
    "echo true return $?"
   ]
  },
  {
   "cell_type": "markdown",
   "metadata": {},
   "source": [
    "# `[` Command"
   ]
  },
  {
   "cell_type": "code",
   "execution_count": 3,
   "metadata": {},
   "outputs": [
    {
     "name": "stdout",
     "output_type": "stream",
     "text": [
      "[ is a command\n",
      "it is located at /usr/bin/[\n",
      "it should end with ]\n",
      "empty [ ] return 1\n",
      "white space is needed between [ and ], because [] is not a command\n",
      "[ false ] is 0 or true, since false is not a empty string\n"
     ]
    }
   ],
   "source": [
    "%%bash\n",
    "\n",
    "echo '[' is a command\n",
    "\n",
    "echo it is located at $(which '[')\n",
    "\n",
    "echo it should end with ']'\n",
    "[ ]\n",
    "echo empty [ ] return $?\n",
    "echo white space is needed between '[' and ']', because '[]' is not a command\n",
    "\n",
    "[ false ]\n",
    "echo '[ false ]' is $? or true, since false is not a empty string\n"
   ]
  },
  {
   "cell_type": "markdown",
   "metadata": {},
   "source": [
    "# `for` Statement"
   ]
  },
  {
   "cell_type": "code",
   "execution_count": 4,
   "metadata": {},
   "outputs": [
    {
     "name": "stdout",
     "output_type": "stream",
     "text": [
      "1\n",
      "2\n",
      "3\n"
     ]
    }
   ],
   "source": [
    "%%bash \n",
    "\n",
    "for i in 1 2 3\n",
    "do\n",
    "    echo $i\n",
    "done"
   ]
  },
  {
   "cell_type": "markdown",
   "metadata": {},
   "source": [
    "# `sed`\n",
    "\n",
    "`\n",
    "sed <options> -e <location><command> <file>\n",
    "`"
   ]
  },
  {
   "cell_type": "markdown",
   "metadata": {},
   "source": [
    "## Print and quiet"
   ]
  },
  {
   "cell_type": "code",
   "execution_count": 5,
   "metadata": {},
   "outputs": [
    {
     "name": "stdout",
     "output_type": "stream",
     "text": [
      "sed -e  sed_example.txt\n",
      "a a\n",
      "b b\n",
      "c c\n",
      "\n",
      "sed -n -e  sed_example.txt\n",
      "\n",
      "sed p sed_example.txt\n",
      "a a\n",
      "a a\n",
      "b b\n",
      "b b\n",
      "c c\n",
      "c c\n",
      "\n",
      "sed -n -e p sed_example.txt\n",
      "a a\n",
      "b b\n",
      "c c\n",
      "\n",
      "sed -n -e /a/p sed_example.txt\n",
      "a a\n"
     ]
    }
   ],
   "source": [
    "%%bash\n",
    "\n",
    "#   -n, --quiet, --silent\n",
    "#                 suppress automatic printing of pattern space\n",
    "\n",
    "echo sed -e \"\" sed_example.txt\n",
    "sed -e \"\" sed_example.txt\n",
    "\n",
    "echo\n",
    "echo sed -n -e \"\" sed_example.txt\n",
    "sed  -n -e \"\" sed_example.txt\n",
    "\n",
    "echo\n",
    "echo sed \"p\" sed_example.txt\n",
    "sed \"p\" sed_example.txt\n",
    "\n",
    "echo\n",
    "echo sed -n -e \"p\" sed_example.txt\n",
    "sed -n -e \"p\" sed_example.txt\n",
    "\n",
    "echo\n",
    "echo sed -n -e \"/a/p\" sed_example.txt\n",
    "sed -n -e \"/a/p\" sed_example.txt\n"
   ]
  },
  {
   "cell_type": "markdown",
   "metadata": {},
   "source": [
    "## Delete lines\n"
   ]
  },
  {
   "cell_type": "code",
   "execution_count": 6,
   "metadata": {},
   "outputs": [
    {
     "name": "stdout",
     "output_type": "stream",
     "text": [
      "\n",
      "sed -n /a/ d sed_example.txt\n",
      "a a\n",
      "=>\n"
     ]
    }
   ],
   "source": [
    "%%bash\n",
    "\n",
    "echo\n",
    "echo sed -n \"/a/ d\" sed_example.txt\n",
    "sed -n \"/a/p\" sed_example.txt\n",
    "echo '=>'\n",
    "sed -n \"/a/d\" sed_example.txt\n"
   ]
  },
  {
   "cell_type": "markdown",
   "metadata": {},
   "source": [
    "## Replace string with string\n"
   ]
  },
  {
   "cell_type": "code",
   "execution_count": 7,
   "metadata": {},
   "outputs": [
    {
     "name": "stdout",
     "output_type": "stream",
     "text": [
      "s -- substitution\n",
      "s:pattern:repalce_with:options\n",
      "options p -- print, g -- global\n",
      "\n",
      "replace first occurence with given string\n",
      "sed -n s:a:b:p sed_example.txt\n",
      "a a\n",
      "=>\n",
      "b a\n",
      "\n",
      "replace all occurence with given string\n",
      "sed -n s:a:b:gp sed_example.txt\n",
      "a a\n",
      "=>\n",
      "b b\n"
     ]
    }
   ],
   "source": [
    "%%bash\n",
    "\n",
    "\n",
    "echo s -- substitution\n",
    "echo \"s:pattern:repalce_with:options\"\n",
    "echo options p -- print, g -- global\n",
    "\n",
    "echo\n",
    "echo replace first occurence with given string\n",
    "echo sed -n \"s:a:b:p\" sed_example.txt\n",
    "sed -n \"/a/p\" sed_example.txt\n",
    "echo '=>'\n",
    "sed -n \"s:a:b:p\" sed_example.txt\n",
    "\n",
    "echo\n",
    "echo replace all occurence with given string\n",
    "echo sed -n \"s:a:b:gp\" sed_example.txt\n",
    "sed -n \"/a/p\" sed_example.txt\n",
    "echo '=>'\n",
    "sed -n \"s:a:b:gp\" sed_example.txt\n"
   ]
  },
  {
   "cell_type": "markdown",
   "metadata": {},
   "source": [
    "## Replace a line with content of file"
   ]
  },
  {
   "cell_type": "code",
   "execution_count": 8,
   "metadata": {},
   "outputs": [
    {
     "name": "stdout",
     "output_type": "stream",
     "text": [
      "\n",
      "replace with content of file\n",
      "a a\n",
      "=>\n",
      "insert content of file\n",
      "a a\n",
      "1\n",
      "2\n",
      "b b\n",
      "c c\n",
      "=>\n",
      "delete the line\n",
      "a a\n",
      "b b\n",
      "c c\n"
     ]
    }
   ],
   "source": [
    "%%bash\n",
    "\n",
    "echo\n",
    "echo replace with content of file\n",
    "sed -n \"/a/p\" sed_example.txt\n",
    "echo '=>'\n",
    "echo \"insert content of file\"\n",
    "sed \"/a/r a.txt\" sed_example.txt\n",
    "echo '=>'\n",
    "echo \"delete the line\"\n",
    "sed -e \"/a/r a.txt;d\" sed_example.txt\n"
   ]
  },
  {
   "cell_type": "markdown",
   "metadata": {},
   "source": [
    "# Pronounce"
   ]
  },
  {
   "cell_type": "markdown",
   "metadata": {},
   "source": [
    "## Linux commands pronounced as if they are words\n"
   ]
  },
  {
   "cell_type": "markdown",
   "metadata": {},
   "source": [
    "grep ---- similar to “grope”, but with a soft “e” (as in “end”)\n",
    "\n",
    "sed  ---- pronounced like \"said\"\n",
    "\n",
    "sudo ---- sudo\t\tpronounced like \"pseudo” (doesn’t rhyme with “voodoo”) or \"soo doo\" (rhyming with \"voodoo\")\n",
    "\n",
    "vim\t----\trhymes with “gym” (I’ve never heard it pronounced “vee eye em”)\n"
   ]
  },
  {
   "cell_type": "markdown",
   "metadata": {},
   "source": [
    "## Linux commands that are spelled out"
   ]
  },
  {
   "cell_type": "markdown",
   "metadata": {},
   "source": [
    "cd\n",
    "\n",
    "cp\n",
    "\n",
    "env\n",
    "\n",
    "ls\n",
    "\n",
    "ps\n",
    "\n",
    "pwd\n",
    "\n",
    "ssh\n",
    "\n",
    "wc"
   ]
  },
  {
   "cell_type": "markdown",
   "metadata": {},
   "source": [
    "## Linux commands that are both read and spelled out\n"
   ]
  },
  {
   "cell_type": "markdown",
   "metadata": {},
   "source": [
    "emcas ---- E max\n",
    "\n",
    "gzip  ---- G zip\n",
    "\n",
    "mysql ---- my S Q L\n",
    "\n",
    "nslookup ---- N S lookup\n",
    "\n",
    "uname ---- U name\n",
    "\n",
    "wget  ---- W get"
   ]
  }
 ],
 "metadata": {
  "kernelspec": {
   "display_name": "Python 2",
   "language": "python",
   "name": "python2"
  },
  "language_info": {
   "codemirror_mode": {
    "name": "ipython",
    "version": 2
   },
   "file_extension": ".py",
   "mimetype": "text/x-python",
   "name": "python",
   "nbconvert_exporter": "python",
   "pygments_lexer": "ipython2",
   "version": "2.7.15+"
  },
  "toc": {
   "base_numbering": 1,
   "nav_menu": {
    "height": "80.9943px",
    "width": "199.645px"
   },
   "number_sections": true,
   "sideBar": true,
   "skip_h1_title": false,
   "title_cell": "Table of Contents",
   "title_sidebar": "Contents",
   "toc_cell": true,
   "toc_position": {
    "height": "calc(100% - 180px)",
    "left": "10px",
    "top": "150px",
    "width": "165px"
   },
   "toc_section_display": true,
   "toc_window_display": false
  }
 },
 "nbformat": 4,
 "nbformat_minor": 2
}
