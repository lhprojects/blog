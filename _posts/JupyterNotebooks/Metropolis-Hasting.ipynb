{
 "cells": [
  {
   "cell_type": "markdown",
   "metadata": {
    "toc": true
   },
   "source": [
    "<h1>Table of Contents<span class=\"tocSkip\"></span></h1>\n",
    "<div class=\"toc\"><ul class=\"toc-item\"><li><span><a href=\"#离散变量\" data-toc-modified-id=\"离散变量-1\"><span class=\"toc-item-num\">1&nbsp;&nbsp;</span>离散变量</a></span></li><li><span><a href=\"#建议分布：非对称双边指数衰减随机数\" data-toc-modified-id=\"建议分布：非对称双边指数衰减随机数-2\"><span class=\"toc-item-num\">2&nbsp;&nbsp;</span>建议分布：非对称双边指数衰减随机数</a></span></li><li><span><a href=\"#Metropolis-Hasting方法产生高斯分布\" data-toc-modified-id=\"Metropolis-Hasting方法产生高斯分布-3\"><span class=\"toc-item-num\">3&nbsp;&nbsp;</span>Metropolis-Hasting方法产生高斯分布</a></span></li></ul></div>"
   ]
  },
  {
   "cell_type": "markdown",
   "metadata": {},
   "source": [
    "# 离散变量"
   ]
  },
  {
   "cell_type": "markdown",
   "metadata": {},
   "source": [
    "离散随机变量，随机变量取三个值，对应的概率分别为 ${p_i}=[0.2, 0.3, 0.5]$。\n",
    "设 $Q_{ij} = [[0,0.5,0.5],[0.5,0,0.5],[0.5,0,0.5]]$"
   ]
  },
  {
   "cell_type": "code",
   "execution_count": 72,
   "metadata": {
    "scrolled": false
   },
   "outputs": [
    {
     "data": {
      "image/png": "[encoded data removed]",
      "text/plain": [
       "<Figure size 288x288 with 1 Axes>"
      ]
     },
     "metadata": {
      "needs_background": "light"
     },
     "output_type": "display_data"
    }
   ],
   "source": [
    "import numpy as np\n",
    "p = [0.2, 0.3, 0.5]\n",
    "\n",
    "N=10000\n",
    "xs = np.zeros(N)\n",
    "x = 0\n",
    "for i in range(N):\n",
    "    while True:\n",
    "        xp = np.random.randint(3, dtype=np.int)\n",
    "        if xp != x:\n",
    "            break\n",
    "\n",
    "    acc = p[xp]/p[x]\n",
    "    u = np.random.rand()\n",
    "    if u < acc:\n",
    "        # accept\n",
    "        x = xp\n",
    "        \n",
    "    xs[i] = x\n",
    "    \n",
    "import matplotlib.pyplot as plt\n",
    "%matplotlib inline\n",
    "\n",
    "plt.figure(figsize=(4,4))\n",
    "plt.hist(xs, bins=11, range=(-0.1, 2.1))\n",
    "plt.show()"
   ]
  },
  {
   "cell_type": "markdown",
   "metadata": {},
   "source": [
    "离散随机变量，随机变量取三个值，对应的概率分别为 ${p_i}=[0.2, 0.3, 0.5]$。\n",
    "设 $Q_{ij} = [[1/3,1/3,1/3],[1/3,1/3,1/3],[1/3,1/3,1/3]]$"
   ]
  },
  {
   "cell_type": "code",
   "execution_count": 73,
   "metadata": {},
   "outputs": [
    {
     "data": {
      "image/png": "[encoded data removed]",
      "text/plain": [
       "<Figure size 288x288 with 1 Axes>"
      ]
     },
     "metadata": {
      "needs_background": "light"
     },
     "output_type": "display_data"
    }
   ],
   "source": [
    "import numpy as np\n",
    "p = [0.2, 0.3, 0.5]\n",
    "\n",
    "N=10000\n",
    "xs = np.zeros(N)\n",
    "x = 0\n",
    "for i in range(N):\n",
    "    xp = np.random.randint(3, dtype=np.int)\n",
    "\n",
    "    acc = p[xp]/p[x]\n",
    "    u = np.random.rand()\n",
    "    if u < acc:\n",
    "        # accept\n",
    "        x = xp\n",
    "        \n",
    "    xs[i] = x\n",
    "    \n",
    "import matplotlib.pyplot as plt\n",
    "%matplotlib inline\n",
    "\n",
    "plt.figure(figsize=(4,4))\n",
    "plt.hist(xs, bins=11, range=(-0.1, 2.1))\n",
    "plt.show()"
   ]
  },
  {
   "cell_type": "markdown",
   "metadata": {},
   "source": [
    "# 建议分布：非对称双边指数衰减随机数"
   ]
  },
  {
   "cell_type": "code",
   "execution_count": 1,
   "metadata": {},
   "outputs": [
    {
     "data": {
      "image/png": "[encoded data removed]",
      "text/plain": [
       "<Figure size 360x360 with 1 Axes>"
      ]
     },
     "metadata": {
      "needs_background": "light"
     },
     "output_type": "display_data"
    }
   ],
   "source": [
    "import numpy as np\n",
    "\n",
    "def double_side_exp_pdf(x, x0 = 0, k1 = 1, k2 =1): # no normalization\n",
    "    k = np.where(x < x0, k1, k2)\n",
    "    return 1/(1/k1+1/k2)*np.exp(-k*np.abs(x-x0))\n",
    "\n",
    "# k exp(-k x)\n",
    "def exp_rand(n, x0 = 0, k1 = 1, k2 = 1):\n",
    "    \n",
    "    sig = np.random.rand(n) - 1/k1/(1./k1+1./k2)\n",
    "    k = np.where(sig < 0, k1, k2)\n",
    "\n",
    "    c = np.random.rand(n)\n",
    "    x = 1/k*np.log(1 - c)    \n",
    "    x = np.copysign(x, sig)\n",
    "    \n",
    "    x = x + x0\n",
    "    return x\n",
    "\n",
    "import matplotlib.pyplot as plt\n",
    "%matplotlib inline\n",
    "plt.figure(figsize=(5, 5))\n",
    "plt.xlim((-5,5))\n",
    "plt.ylim((0, 1))\n",
    "plt.plot(np.linspace(-5,5,100), double_side_exp_pdf(np.linspace(-5,5,100), k1=1, k2=2), label=\"p.d.f\")\n",
    "plt.hist(exp_rand(10000, k1=1, k2=2), histtype='step', bins=100, density=True, label=\"random number generator\")\n",
    "plt.xlabel(\"x\")\n",
    "plt.ylabel(\"p.d.f / histogram\")\n",
    "plt.legend(frameon=False)\n",
    "plt.show()\n"
   ]
  },
  {
   "cell_type": "markdown",
   "metadata": {},
   "source": [
    "# Metropolis-Hasting方法产生高斯分布"
   ]
  },
  {
   "cell_type": "markdown",
   "metadata": {},
   "source": [
    "$p(x) = {\\rm gauss}(x)$\n",
    "\n",
    "$ q(x, x^\\prime) = \\text{ double_side_exp_pdf}(x^\\prime, x0=x, k1=1, k2=2)$\n",
    "\n",
    "$ q(x, x^\\prime)/ q(x^\\prime, x) \\neq 1$"
   ]
  },
  {
   "cell_type": "code",
   "execution_count": 2,
   "metadata": {},
   "outputs": [
    {
     "name": "stdout",
     "output_type": "stream",
     "text": [
      "gauss(0,x0=1)/gauss(0,x0=1) 2.718281828459045\n"
     ]
    },
    {
     "data": {
      "image/png": "[encoded data removed]",
      "text/plain": [
       "<Figure size 288x288 with 1 Axes>"
      ]
     },
     "metadata": {
      "needs_background": "light"
     },
     "output_type": "display_data"
    }
   ],
   "source": [
    "import numpy as np\n",
    "import matplotlib.pyplot as plt\n",
    "\n",
    "def gauss(x):\n",
    "    return 1/np.sqrt(2*np.pi) * np.exp(- x*x / 2)\n",
    "\n",
    "\n",
    "def MH_gauss():\n",
    "    N=100000\n",
    "    X=0;\n",
    "    #rand = 0.2*(np.random.rand(N)-0.5)\n",
    "    rand = exp_rand(N, k1=1,k2=2)\n",
    "    c = np.random.rand(N)\n",
    "    Xs=np.zeros(N)\n",
    "    for i in range(N):\n",
    "        Xp = X + rand[i]\n",
    "        \n",
    "        alpha = gauss(Xp) * double_side_exp_pdf(X, x0=Xp, k1=1,k2=2) / (gauss(X)*double_side_exp_pdf(Xp, x0=X, k1=1,k2=2))\n",
    "        #acc = gauss(Xp) / (gauss(X))\n",
    "\n",
    "        if c[i] < alpha:\n",
    "            X = Xp\n",
    "        Xs[i] = X\n",
    "    return Xs\n",
    "    \n",
    "    \n",
    "print(\"gauss(0,x0=1)/gauss(0,x0=1)\", double_side_exp_pdf(0,1,k1=1,k2=2)/double_side_exp_pdf(1,0,k1=1,k2=2))\n",
    "\n",
    "import matplotlib.pyplot as plt\n",
    "%matplotlib inline    \n",
    "plt.figure(figsize=(4,4))\n",
    "plt.xlim((-5,5))\n",
    "plt.ylim((0, 0.6))\n",
    "plt.plot(np.linspace(-4,4,100), gauss(np.linspace(-4,4,100)), label=\"gauss\")\n",
    "plt.hist(MH_gauss(), histtype='step', bins=100, density=True, label=\"random number genrator\")\n",
    "plt.xlabel(\"x\")\n",
    "plt.ylabel(\"p.d.f / histogram\")\n",
    "plt.legend(frameon=False)\n",
    "plt.show()\n"
   ]
  }
 ],
 "metadata": {
  "hide_input": false,
  "kernelspec": {
   "display_name": "Python 3",
   "language": "python",
   "name": "python3"
  },
  "language_info": {
   "codemirror_mode": {
    "name": "ipython",
    "version": 3
   },
   "file_extension": ".py",
   "mimetype": "text/x-python",
   "name": "python",
   "nbconvert_exporter": "python",
   "pygments_lexer": "ipython3",
   "version": "3.6.7"
  },
  "toc": {
   "base_numbering": 1,
   "nav_menu": {},
   "number_sections": true,
   "sideBar": true,
   "skip_h1_title": false,
   "title_cell": "Table of Contents",
   "title_sidebar": "Contents",
   "toc_cell": true,
   "toc_position": {
    "height": "calc(100% - 180px)",
    "left": "10px",
    "top": "150px",
    "width": "165px"
   },
   "toc_section_display": true,
   "toc_window_display": true
  },
  "varInspector": {
   "cols": {
    "lenName": "24",
    "lenType": "16",
    "lenVar": 40
   },
   "kernels_config": {
    "python": {
     "delete_cmd_postfix": "",
     "delete_cmd_prefix": "del ",
     "library": "var_list.py",
     "varRefreshCmd": "print(var_dic_list())"
    },
    "r": {
     "delete_cmd_postfix": ") ",
     "delete_cmd_prefix": "rm(",
     "library": "var_list.r",
     "varRefreshCmd": "cat(var_dic_list()) "
    }
   },
   "types_to_exclude": [
    "module",
    "function",
    "builtin_function_or_method",
    "instance",
    "_Feature"
   ],
   "window_display": false
  }
 },
 "nbformat": 4,
 "nbformat_minor": 2
}
