{
 "cells": [
  {
   "cell_type": "markdown",
   "metadata": {
    "toc": true
   },
   "source": [
    "<h1>Table of Contents<span class=\"tocSkip\"></span></h1>\n",
    "<div class=\"toc\"><ul class=\"toc-item\"><li><span><a href=\"#Bootstrap\" data-toc-modified-id=\"Bootstrap-1\"><span class=\"toc-item-num\">1&nbsp;&nbsp;</span>Bootstrap</a></span></li><li><span><a href=\"#Statistical-property-of-[mean-of-the-N-numbers]\" data-toc-modified-id=\"Statistical-property-of-[mean-of-the-N-numbers]-2\"><span class=\"toc-item-num\">2&nbsp;&nbsp;</span>Statistical property of [mean of the N numbers]</a></span><ul class=\"toc-item\"><li><span><a href=\"#Generating-N-random-numbers\" data-toc-modified-id=\"Generating-N-random-numbers-2.1\"><span class=\"toc-item-num\">2.1&nbsp;&nbsp;</span>Generating N random numbers</a></span></li><li><span><a href=\"#By-theory\" data-toc-modified-id=\"By-theory-2.2\"><span class=\"toc-item-num\">2.2&nbsp;&nbsp;</span>By theory</a></span></li><li><span><a href=\"#Or,-doing-monate-carlo,-because-we-know-how-the-N-numbers-were-generated!\" data-toc-modified-id=\"Or,-doing-monate-carlo,-because-we-know-how-the-N-numbers-were-generated!-2.3\"><span class=\"toc-item-num\">2.3&nbsp;&nbsp;</span>Or, doing monate carlo, because we know how the N numbers were generated!</a></span></li><li><span><a href=\"#Or,-we-can-bootstrap-with-original-sample\" data-toc-modified-id=\"Or,-we-can-bootstrap-with-original-sample-2.4\"><span class=\"toc-item-num\">2.4&nbsp;&nbsp;</span>Or, we can bootstrap with original sample</a></span></li><li><span><a href=\"#Comparison\" data-toc-modified-id=\"Comparison-2.5\"><span class=\"toc-item-num\">2.5&nbsp;&nbsp;</span>Comparison</a></span></li></ul></li><li><span><a href=\"#Exercise\" data-toc-modified-id=\"Exercise-3\"><span class=\"toc-item-num\">3&nbsp;&nbsp;</span>Exercise</a></span><ul class=\"toc-item\"><li><span><a href=\"#Generating-N-numbers\" data-toc-modified-id=\"Generating-N-numbers-3.1\"><span class=\"toc-item-num\">3.1&nbsp;&nbsp;</span>Generating N numbers</a></span></li><li><span><a href=\"#Parameter-estimation\" data-toc-modified-id=\"Parameter-estimation-3.2\"><span class=\"toc-item-num\">3.2&nbsp;&nbsp;</span>Parameter estimation</a></span></li><li><span><a href=\"#Error-of-the-estimation\" data-toc-modified-id=\"Error-of-the-estimation-3.3\"><span class=\"toc-item-num\">3.3&nbsp;&nbsp;</span>Error of the estimation</a></span></li><li><span><a href=\"#Using-bootstrap!\" data-toc-modified-id=\"Using-bootstrap!-3.4\"><span class=\"toc-item-num\">3.4&nbsp;&nbsp;</span>Using bootstrap!</a></span></li><li><span><a href=\"#Variance-of-the-error\" data-toc-modified-id=\"Variance-of-the-error-3.5\"><span class=\"toc-item-num\">3.5&nbsp;&nbsp;</span>Variance of the error</a></span></li></ul></li><li><span><a href=\"#Appendix:-Estimators\" data-toc-modified-id=\"Appendix:-Estimators-4\"><span class=\"toc-item-num\">4&nbsp;&nbsp;</span>Appendix: Estimators</a></span></li></ul></div>"
   ]
  },
  {
   "cell_type": "markdown",
   "metadata": {},
   "source": [
    "# Bootstrap\n",
    "\n",
    "\n",
    "Bootstrapping can estimate confidence intervals and variances because it generates the sampling distribution of an estimator by resampling the original sample data, with replacement, to create multiple \"artificial\" samples. This allows us to estimate the distribution of the estimator without making any assumptions about the underlying population distribution. The bootstrapped estimator distribution can be used to calculate confidence intervals and variances, such as the 2.5th and 97.5th percentiles for a confidence interval or the variance of the bootstrapped estimator distribution. This provides a robust and flexible method for statistical inference, especially when traditional methods are not applicable or the population distribution is unknown.\n",
    "                        --- ChatGPT Default(GPT-3.5) Mar 23 Version\n"
   ]
  },
  {
   "cell_type": "markdown",
   "metadata": {},
   "source": [
    " # Statistical property of [mean of the N numbers]\n",
    " \n",
    " The mean of a set of N numbers is a statistical property that represents the average value of the dataset."
   ]
  },
  {
   "cell_type": "markdown",
   "metadata": {},
   "source": [
    "## Generating N random numbers"
   ]
  },
  {
   "cell_type": "code",
   "execution_count": 25,
   "metadata": {},
   "outputs": [],
   "source": [
    "%matplotlib inline                   \n",
    "import numpy as np                    # import the numpy library for numerical computing\n",
    "import matplotlib.pyplot as plt       # import the matplotlib library for visualizations\n",
    "import pandas as pd\n",
    "from IPython.display import display, HTML"
   ]
  },
  {
   "cell_type": "code",
   "execution_count": 12,
   "metadata": {},
   "outputs": [
    {
     "data": {
      "image/png": "[encoded data removed]",
      "text/plain": [
       "<Figure size 432x288 with 1 Axes>"
      ]
     },
     "metadata": {
      "needs_background": "light"
     },
     "output_type": "display_data"
    },
    {
     "data": {
      "image/png": "[encoded data removed]",
      "text/plain": [
       "<Figure size 432x288 with 1 Axes>"
      ]
     },
     "metadata": {
      "needs_background": "light"
     },
     "output_type": "display_data"
    }
   ],
   "source": [
    "N = 100                               # set the number of data points to be generated\n",
    "np.random.seed(0)                     # set the random seed to ensure reproducibility\n",
    "X = np.random.randn(N)                # generate N random numbers from a standard normal distribution\n",
    "\n",
    "# create a scatter plot of X on the x-axis and an array of zeros on the y-axis with marker size 1\n",
    "plt.scatter(X, np.zeros(N), s=1)      \n",
    "plt.xlabel('X')                       # add x-axis label\n",
    "plt.ylabel('Y')                       # add y-axis label\n",
    "plt.title('Scatter Plot')             # add plot title\n",
    "plt.show()                            # display the plot\n",
    "\n",
    "# create a histogram of X with normalized density\n",
    "plt.hist(X, density=True, bins=20)             \n",
    "plt.xlabel('X')                       # add x-axis label\n",
    "plt.ylabel('Density')                 # add y-axis label\n",
    "plt.title('Histogram')                # add plot title\n",
    "plt.show()                            # display the plot"
   ]
  },
  {
   "cell_type": "markdown",
   "metadata": {},
   "source": [
    "## By theory\n",
    "\n",
    "Here's the math behind the calculation of the mean and standard deviation of the mean of `N` numbers using LaTeX:\n",
    "\n",
    "Let $X$ be a set of $N$ random variables, each with mean $\\mu$ and standard deviation $\\sigma$. The sample mean is defined as:\n",
    "\n",
    "$$\n",
    "\\overline{X} = \\frac{X_1 + X_2 + \\cdots + X_N}{N}\n",
    "$$\n",
    "\n",
    "The expected value of the sample mean is:\n",
    "\n",
    "\\begin{align*}\n",
    "E[\\overline{X}] &= E\\left[\\frac{X_1 + X_2 + \\cdots + X_N}{N}\\right] \\\\\n",
    "                &= E\\left[\\frac{X_1}{N} + \\frac{X_2}{N} + \\cdots + \\frac{X_N}{N}\\right] &&\\text{(by linearity of expectation)} \\\\\n",
    "                &= E\\left[\\frac{X_1}{N}\\right] + E\\left[\\frac{X_2}{N}\\right] + \\cdots + E\\left[\\frac{X_N}{N}\\right] \\\\\n",
    "                &= \\frac{\\mu}{N} + \\frac{\\mu}{N} + \\cdots + \\frac{\\mu}{N} \\\\\n",
    "                &= \\mu\n",
    "\\end{align*}\n",
    "\n",
    "Therefore, the expected value of the sample mean is equal to the population mean $\\mu$.\n",
    "\n",
    "The variance of the sample mean is:\n",
    "\n",
    "\\begin{align*}\n",
    "\\text{Var}[\\overline{X}] &= \\text{Var}\\left[\\frac{X_1 + X_2 + \\cdots + X_N}{N}\\right] \\\\\n",
    "                          &= \\text{Var}\\left[\\frac{X_1}{N} + \\frac{X_2}{N} + \\cdots + \\frac{X_N}{N}\\right] &&\\text{(by linearity of variance)} \\\\\n",
    "                          &= \\frac{1}{N^2} \\left(\\text{Var}[X_1] + \\text{Var}[X_2] + \\cdots + \\text{Var}[X_N]\\right) &&\\text{(by independence)} \\\\\n",
    "                          &= \\frac{\\sigma^2}{N}\n",
    "\\end{align*}\n",
    "\n",
    "Therefore, the variance of the sample mean is equal to the population variance $\\sigma^2$ divided by $N$.\n",
    "\n",
    "The standard deviation of the sample mean is:\n",
    "\n",
    "\\begin{align*}\n",
    "\\text{Stdev}[\\overline{X}] &= \\sqrt{\\text{Var}[\\overline{X}]} \\\\\n",
    "                            &= \\sqrt{\\frac{\\sigma^2}{N}} \\\\\n",
    "                            &= \\frac{\\sigma}{\\sqrt{N}}\n",
    "\\end{align*}\n",
    "\n",
    "Therefore, the standard deviation of the sample mean is equal to the population standard deviation $\\sigma$ divided by the square root of $N$."
   ]
  },
  {
   "cell_type": "code",
   "execution_count": 31,
   "metadata": {},
   "outputs": [
    {
     "data": {
      "text/html": [
       "<table border=\"1\" class=\"dataframe\">\n",
       "  <thead>\n",
       "    <tr style=\"text-align: right;\">\n",
       "      <th style=\"min-width: 150px;\">Statistic</th>\n",
       "      <th style=\"min-width: 150px;\">Value</th>\n",
       "    </tr>\n",
       "  </thead>\n",
       "  <tbody>\n",
       "    <tr>\n",
       "      <td>The Theoretical expected value of sample mean</td>\n",
       "      <td>0.0</td>\n",
       "    </tr>\n",
       "    <tr>\n",
       "      <td>The theoretical stdev of the sample mean</td>\n",
       "      <td>0.1</td>\n",
       "    </tr>\n",
       "  </tbody>\n",
       "</table>"
      ],
      "text/plain": [
       "<IPython.core.display.HTML object>"
      ]
     },
     "metadata": {},
     "output_type": "display_data"
    }
   ],
   "source": [
    "df = pd.DataFrame({\n",
    "    \"Statistic\": [\"The Theoretical expected value of sample mean\",\n",
    "                  \"The theoretical stdev of the sample mean\"],\n",
    "    \"Value\": [0, 1/np.sqrt(N)]\n",
    "})\n",
    "display(HTML(df.to_html(index=False, col_space='150px')))"
   ]
  },
  {
   "cell_type": "markdown",
   "metadata": {},
   "source": [
    "## Estimating Expected Value and Standard Deviation of Sample Mean through Monte Carlo Simulation\n",
    "\n",
    "\n",
    "We know the exact distribution of the N numbers generated, the Central Limit Theorem still applies. Therefore, we can use Monte Carlo simulation to estimate the expected value and standard deviation of the sample mean by generating a large number of random samples of size N, calculating the sample mean for each sample, and then estimating the mean and standard deviation of the sample means across all the samples. This approach converges to the true values as the number of samples increases"
   ]
  },
  {
   "cell_type": "code",
   "execution_count": 29,
   "metadata": {},
   "outputs": [
    {
     "data": {
      "text/html": [
       "<table border=\"1\" class=\"dataframe\">\n",
       "  <thead>\n",
       "    <tr style=\"text-align: right;\">\n",
       "      <th>Statistic</th>\n",
       "      <th>Value</th>\n",
       "    </tr>\n",
       "  </thead>\n",
       "  <tbody>\n",
       "    <tr>\n",
       "      <td>Monte Carlo estimated mean of sample means</td>\n",
       "      <td>0.000043</td>\n",
       "    </tr>\n",
       "    <tr>\n",
       "      <td>Monte Carlo estimated stdev of sample means</td>\n",
       "      <td>0.100202</td>\n",
       "    </tr>\n",
       "  </tbody>\n",
       "</table>"
      ],
      "text/plain": [
       "<IPython.core.display.HTML object>"
      ]
     },
     "metadata": {},
     "output_type": "display_data"
    }
   ],
   "source": [
    "np.random.seed(234)                      # set the random seed for reproducibility\n",
    "Xs = np.random.randn(100000, N)          # generate 100,000 rows of N normally distributed random numbers\n",
    "rmeans = np.mean(Xs, axis=1)             # calculate the sample mean of each row\n",
    "rmean = np.mean(rmeans)                  # calculate the mean of the sample means\n",
    "rstddev = np.std(rmeans, ddof=1)         # calculate the standard deviation of the sample means\n",
    "\n",
    "df = pd.DataFrame({\n",
    "    \"Statistic\": [\"Monte Carlo estimated mean of sample means\", \"Monte Carlo estimated stdev of sample means\"],\n",
    "    \"Value\": [rmean, rstddev]\n",
    "})\n",
    "display(HTML(df.to_html(index=False)))\n"
   ]
  },
  {
   "cell_type": "markdown",
   "metadata": {},
   "source": [
    "## Alternatively, we can perform bootstrapping using the original sample\n",
    "\n",
    "Bootstrapping is a statistical technique that involves resampling with replacement from a single original dataset to estimate the variability of a statistic of interest. In the context of the code, we can alternatively perform bootstrapping using the original sample of 100 data points generated from a standard normal distribution to estimate the expected value and standard deviation of the sample mean. However, it is important to keep in mind that the results of bootstrapping are based on the assumptions that the original sample is representative of the population, and that the variability of the sample statistic is similar to the variability of the population statistic"
   ]
  },
  {
   "cell_type": "code",
   "execution_count": 30,
   "metadata": {},
   "outputs": [
    {
     "data": {
      "text/html": [
       "<table border=\"1\" class=\"dataframe\">\n",
       "  <thead>\n",
       "    <tr style=\"text-align: right;\">\n",
       "      <th>Statistic</th>\n",
       "      <th>Value</th>\n",
       "    </tr>\n",
       "  </thead>\n",
       "  <tbody>\n",
       "    <tr>\n",
       "      <td>Bootstrap estimated mean of sample means</td>\n",
       "      <td>0.060647</td>\n",
       "    </tr>\n",
       "    <tr>\n",
       "      <td>Bootstrap estimated stdev of sample means</td>\n",
       "      <td>0.100980</td>\n",
       "    </tr>\n",
       "  </tbody>\n",
       "</table>"
      ],
      "text/plain": [
       "<IPython.core.display.HTML object>"
      ]
     },
     "metadata": {},
     "output_type": "display_data"
    }
   ],
   "source": [
    "np.random.seed(234)                         # set the random seed for reproducibility\n",
    "sample = np.random.choice(X, size=[100000, N], replace=True)   # bootstrap with the original sample to generate 100,000 new samples\n",
    "bmeans = np.mean(sample, axis=1)             # calculate the sample mean of each bootstrapped sample\n",
    "bmean = np.mean(bmeans)                      # calculate the mean of the bootstrapped sample means\n",
    "bstddev = np.std(bmeans, ddof=1)              # calculate the standard deviation of the bootstrapped sample means\n",
    "\n",
    "# create dataframe with the statistics and values\n",
    "df = pd.DataFrame({\n",
    "    \"Statistic\": [\"Bootstrap estimated mean of sample means\", \"Bootstrap estimated stdev of sample means\"],\n",
    "    \"Value\": [bmean, bstddev]\n",
    "})\n",
    "\n",
    "# display the dataframe using IPython display\n",
    "display(HTML(df.to_html(index=False)))\n"
   ]
  },
  {
   "cell_type": "markdown",
   "metadata": {},
   "source": [
    "## Comparison\n",
    "\n",
    "This code generates a table that displays the theoretical, Monte Carlo estimated, and bootstrap estimated expected value and standard deviation of the sample mean, based on the Central Limit Theorem. The code also plots the theoretical PDF and the PDFs estimated through Monte Carlo simulation and bootstrapping. The PDFs show the distribution of the sample mean for each method, and the plots are consistent with the expected values and standard deviations estimated through the different methods.\n",
    "\n"
   ]
  },
  {
   "cell_type": "code",
   "execution_count": 39,
   "metadata": {},
   "outputs": [
    {
     "data": {
      "text/html": [
       "<table border=\"1\" class=\"dataframe\">\n",
       "  <thead>\n",
       "    <tr style=\"text-align: right;\">\n",
       "      <th>Statistic</th>\n",
       "      <th>Value</th>\n",
       "    </tr>\n",
       "  </thead>\n",
       "  <tbody>\n",
       "    <tr>\n",
       "      <td>Theoretical expected value of sample mean</td>\n",
       "      <td>0.000000</td>\n",
       "    </tr>\n",
       "    <tr>\n",
       "      <td>Theoretical standard deviation of sample mean</td>\n",
       "      <td>0.100000</td>\n",
       "    </tr>\n",
       "    <tr>\n",
       "      <td>Monte Carlo estimated expected value of sample mean</td>\n",
       "      <td>0.000043</td>\n",
       "    </tr>\n",
       "    <tr>\n",
       "      <td>Monte Carlo estimated standard deviation of sample mean</td>\n",
       "      <td>0.100202</td>\n",
       "    </tr>\n",
       "    <tr>\n",
       "      <td>Bootstrap estimated expected value of sample mean</td>\n",
       "      <td>0.060647</td>\n",
       "    </tr>\n",
       "    <tr>\n",
       "      <td>Bootstrap estimated standard deviation of sample mean</td>\n",
       "      <td>0.100980</td>\n",
       "    </tr>\n",
       "  </tbody>\n",
       "</table>"
      ],
      "text/plain": [
       "<IPython.core.display.HTML object>"
      ]
     },
     "metadata": {},
     "output_type": "display_data"
    },
    {
     "data": {
      "image/png": "[encoded data removed]",
      "text/plain": [
       "<Figure size 432x288 with 1 Axes>"
      ]
     },
     "metadata": {
      "needs_background": "light"
     },
     "output_type": "display_data"
    }
   ],
   "source": [
    "# calculate theoretical expected value and standard deviation\n",
    "np.random.seed(234)\n",
    "th_mean = 0\n",
    "th_stddev = 1/np.sqrt(N)\n",
    "\n",
    "# perform Monte Carlo simulation to estimate expected value and standard deviation\n",
    "np.random.seed(234)\n",
    "Xs = np.random.randn(100000, N)\n",
    "rmeans = np.mean(Xs, axis=1)\n",
    "rmean = np.mean(rmeans)\n",
    "rstddev = np.std(rmeans, ddof=1)\n",
    "\n",
    "# perform bootstrapping to estimate expected value and standard deviation\n",
    "np.random.seed(234)\n",
    "sample = np.random.choice(X, size=[100000, N], replace=True)\n",
    "bmeans = np.mean(sample, axis=1)\n",
    "bmean = np.mean(bmeans)\n",
    "bstddev = np.std(bmeans, ddof=1)\n",
    "\n",
    "# create dataframe with the statistics and values\n",
    "df = pd.DataFrame({\n",
    "    \"Statistic\": [\"Theoretical expected value of sample mean\", \"Theoretical standard deviation of sample mean\",\n",
    "                  \"Monte Carlo estimated expected value of sample mean\", \"Monte Carlo estimated standard deviation of sample mean\",\n",
    "                  \"Bootstrap estimated expected value of sample mean\", \"Bootstrap estimated standard deviation of sample mean\"],\n",
    "    \"Value\": [th_mean, th_stddev, rmean, rstddev, bmean, bstddev]\n",
    "})\n",
    "\n",
    "# display the dataframe using IPython display\n",
    "display(HTML(df.to_html(index=False)))\n",
    "\n",
    "# plot the PDFs\n",
    "plt.plot(np.linspace(-1, 1, 100), 1/np.sqrt(2*np.pi)/th_stddev*np.exp(-np.linspace(-1, 1, 100)**2/(2*th_stddev**2)), label=\"Theory\")\n",
    "plt.hist(rmeans, density=True, histtype='step', label=\"Monte Carlo\", bins=50)\n",
    "plt.hist(bmeans, density=True, histtype='step', label=\"Bootstrap\", bins=50)\n",
    "plt.legend()\n",
    "plt.xlabel(\"Mean of N numbers\")\n",
    "plt.ylabel(\"PDF\")\n",
    "plt.show()\n"
   ]
  },
  {
   "cell_type": "markdown",
   "metadata": {},
   "source": [
    "The Monte Carlo method will reach the theoretical results as the number of samples generated increases. On the other hand, for the bootstrap, the expected value of the sample mean is close to the true value of zero. However, we cannot gain any more useful information than simply averaging over the sample. Nonetheless, the standard deviation of the sample mean is very close to the true value, and this result is not trivial. It is important to note that the standard deviation of the sample is not the same as the standard deviation of the sample mean. The latter is much smaller and harder to estimate accurately"
   ]
  },
  {
   "cell_type": "markdown",
   "metadata": {},
   "source": [
    "# Exercise"
   ]
  },
  {
   "cell_type": "markdown",
   "metadata": {},
   "source": [
    "## Generating N numbers\n",
    "\n",
    "We can estimate the expectation and standard deviation"
   ]
  },
  {
   "cell_type": "code",
   "execution_count": 41,
   "metadata": {},
   "outputs": [
    {
     "data": {
      "image/png": "[encoded data removed]",
      "text/plain": [
       "<Figure size 432x288 with 1 Axes>"
      ]
     },
     "metadata": {
      "needs_background": "light"
     },
     "output_type": "display_data"
    }
   ],
   "source": [
    "def data_of_unkonw_distribution():\n",
    "    np.random.seed(0)\n",
    "    N = 100\n",
    "    X = np.random.randn(N) + np.random.rand(N) - 0.5\n",
    "    return X\n",
    "\n",
    "    X = data_of_unkonw_distribution()\n",
    "\n",
    "\n",
    "plt.scatter(X, np.zeros(N))\n",
    "plt.show()\n"
   ]
  },
  {
   "cell_type": "markdown",
   "metadata": {},
   "source": [
    "## Parameter estimation"
   ]
  },
  {
   "cell_type": "code",
   "execution_count": 42,
   "metadata": {},
   "outputs": [
    {
     "name": "stdout",
     "output_type": "stream",
     "text": [
      "  mean = 0.060\n",
      "stddev = 1.013\n"
     ]
    }
   ],
   "source": [
    "mean = np.mean(X)\n",
    "stddev = np.std(X, ddof=1)\n",
    "print(\"  mean = %.3f\" % (mean))\n",
    "print(\"stddev = %.3f\" % (stddev))"
   ]
  },
  {
   "cell_type": "markdown",
   "metadata": {},
   "source": [
    "## Error of the estimation\n",
    "We can estimate the error of mean. But how to estimate the error of stddev?\n",
    "we can't do monte carlo, because we have don't the exact distribution of the data."
   ]
  },
  {
   "cell_type": "code",
   "execution_count": 8,
   "metadata": {},
   "outputs": [
    {
     "name": "stdout",
     "output_type": "stream",
     "text": [
      "  mean = 0.060 +- 0.101\n",
      "stddev = 1.013 +- ?\n"
     ]
    }
   ],
   "source": [
    "print(\"  mean = %.3f +- %.3f\"%(mean,stddev/np.sqrt(N)))\n",
    "print(\"stddev = %.3f +- ?\"%(stddev))"
   ]
  },
  {
   "cell_type": "markdown",
   "metadata": {},
   "source": [
    "## Using bootstrap!"
   ]
  },
  {
   "cell_type": "code",
   "execution_count": 9,
   "metadata": {},
   "outputs": [
    {
     "name": "stdout",
     "output_type": "stream",
     "text": [
      "bootstrap 1 sigma error of mean    = 0.100781\n",
      "bootstrap 1 sigma error of stddev  = 0.064653\n"
     ]
    }
   ],
   "source": [
    "np.random.seed(234)\n",
    "sample = np.random.choice(X, size=[1000000, N], replace=True)\n",
    "bmeans = np.mean(sample, axis=1)\n",
    "bstddevs = np.std(sample, axis=1, ddof=1)\n",
    "\n",
    "bmeanstddev = np.std(bmeans, ddof=1)\n",
    "bstddevstddev = np.std(bstddevs, ddof=1)\n",
    "\n",
    "print(\"bootstrap 1 sigma error of mean    = %f\" % (bmeanstddev))\n",
    "print(\"bootstrap 1 sigma error of stddev  = %f\" % (bstddevstddev))"
   ]
  },
  {
   "cell_type": "markdown",
   "metadata": {},
   "source": [
    "Wow, the 1 sigma error of mean is closed to the one of theory!\n",
    "This let use be very confident that standard deviation is also closed to the one of theory!"
   ]
  },
  {
   "cell_type": "markdown",
   "metadata": {},
   "source": [
    "## Variance of the error\n",
    "\n",
    "We are lucky there is a formula to calculate the variance of the variance estimator, ${\\rm Var}(\\hat{\\sigma^2})$, in theory. Then we known the standard deviation of the variance estimator, ${\\rm Std}[\\hat{\\sigma^2}]$.\n",
    "At the first order approximation, we can the calculate the standard deviation of square root of the variance estimator by\n",
    "$$\n",
    "{\\rm Std}[\\sqrt{\\hat{\\sigma^2}}] \\approx \\frac{{\\rm Std}[\\hat{\\sigma^2}]}{2\\hat{\\sigma}}\n",
    "$$"
   ]
  },
  {
   "cell_type": "code",
   "execution_count": 10,
   "metadata": {},
   "outputs": [
    {
     "name": "stdout",
     "output_type": "stream",
     "text": [
      "0.06385819057430948\n"
     ]
    }
   ],
   "source": [
    "def estimate_std_of_std(X):\n",
    "    n = X.shape[0]\n",
    "    mean = np.mean(X)\n",
    "    sigma2 = np.sum((X - mean)**2)/(n-1)\n",
    "    mu_4 = np.mean((X - mean)**4)\n",
    "    sigma = np.sqrt(sigma2)\n",
    "    sigma4 = sigma2 *sigma2\n",
    "    # although sigma2 is unbias, sigma4 is still bias, but it's OK\n",
    "    var_of_var = mu_4 / n - sigma2**2 * (n - 3) / (n * (n - 1))\n",
    "    std_of_std = np.sqrt(var_of_var) / (2 * sigma)\n",
    "    return std_of_std\n",
    "\n",
    "\n",
    "print(estimate_std_of_std(X))"
   ]
  },
  {
   "cell_type": "markdown",
   "metadata": {},
   "source": [
    "# Appendix: Estimators"
   ]
  },
  {
   "cell_type": "markdown",
   "metadata": {},
   "source": [
    "\n",
    "|  <div style=\"width:150px\">  </div> |<div style=\"width:150px\"> symbol </div> |  <div style=\"width:150px\"> formula </div>| comments|\n",
    "|   :---   |   :---:   |   :---:   |   :---   |\n",
    "| Expectation/Mean | $\\mu$ | $E[x]$ | The expected value or average value of a variable |\n",
    "| Variance | $\\sigma^2$ | $E[(x-\\mu)^2]$ | A measure of how spread out the values of a variable are |\n",
    "| Fourth Central Moment | $\\mu_4$ | $E[(x-\\mu)^4]$ | A measure of how heavy the tails of the distribution of a variable are |\n",
    "| Estimator of Mean/sample mean | $\\hat{\\mu}$ | $\\frac{1}{n} \\sum_i x_i$ | Unbiased |\n",
    "| Estimator of Variance | $\\hat{\\sigma^2}$ | $\\frac{1}{n-1}\\sum_i (x_i - \\hat{\\mu})^2$ | Unbiased |\n",
    "| Estimator of $\\mu_4$ | $\\hat{\\mu_4}$ | $\\frac{1}{n}\\sum_i (x_i - \\hat{\\mu})^4$ |Generally biased (2) |\n",
    "| Variance of the sample mean | ${\\rm Var}[\\hat{\\mu}]$ | $\\frac{\\sigma^2}{n}$ |  |\n",
    "| Variance of Estimator of Variance | ${\\rm Var}[\\hat{\\sigma^2}]$ | $ {\\mu_4\\over n}-{\\sigma^4\\,(n-3)\\over n\\,(n-1)} $ | (1) |\n",
    "\n",
    "\n",
    "I initially derived equation (1) using the results from a reputable publication. Unfortunately, I have since forgotten the name of the publication. However, I found an online proof provided by others at the following link: https://math.stackexchange.com/questions/72975/variance-of-sample-variance.\n",
    "\n",
    "(2) is generally biased. For unbiased and more results, refer to  \n",
    "Mathematical Statistics with Mathematica, Chapter 7 – Moments of Sampling Distributions (http://www.mathstatica.com/book/Rose_and_Smith_2002edition_Chapter7.pdf )\n"
   ]
  }
 ],
 "metadata": {
  "hide_input": false,
  "kernelspec": {
   "display_name": "Python 3",
   "language": "python",
   "name": "python3"
  },
  "language_info": {
   "codemirror_mode": {
    "name": "ipython",
    "version": 3
   },
   "file_extension": ".py",
   "mimetype": "text/x-python",
   "name": "python",
   "nbconvert_exporter": "python",
   "pygments_lexer": "ipython3",
   "version": "3.8.5"
  },
  "toc": {
   "base_numbering": 1,
   "nav_menu": {},
   "number_sections": true,
   "sideBar": true,
   "skip_h1_title": false,
   "title_cell": "Table of Contents",
   "title_sidebar": "Contents",
   "toc_cell": true,
   "toc_position": {},
   "toc_section_display": true,
   "toc_window_display": false
  },
  "varInspector": {
   "cols": {
    "lenName": "24",
    "lenType": "16",
    "lenVar": 40
   },
   "kernels_config": {
    "python": {
     "delete_cmd_postfix": "",
     "delete_cmd_prefix": "del ",
     "library": "var_list.py",
     "varRefreshCmd": "print(var_dic_list())"
    },
    "r": {
     "delete_cmd_postfix": ") ",
     "delete_cmd_prefix": "rm(",
     "library": "var_list.r",
     "varRefreshCmd": "cat(var_dic_list()) "
    }
   },
   "types_to_exclude": [
    "module",
    "function",
    "builtin_function_or_method",
    "instance",
    "_Feature"
   ],
   "window_display": false
  }
 },
 "nbformat": 4,
 "nbformat_minor": 2
}
