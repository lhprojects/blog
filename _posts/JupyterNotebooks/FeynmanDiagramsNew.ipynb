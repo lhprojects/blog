{
 "cells": [
  {
   "cell_type": "markdown",
   "id": "impaired-mixer",
   "metadata": {
    "toc": true
   },
   "source": [
    "<h1>Table of Contents<span class=\"tocSkip\"></span></h1>\n",
    "<div class=\"toc\"><ul class=\"toc-item\"><li><span><a href=\"#Preparations\" data-toc-modified-id=\"Preparations-1\"><span class=\"toc-item-num\">1&nbsp;&nbsp;</span>Preparations</a></span></li><li><span><a href=\"#ZH\" data-toc-modified-id=\"ZH-2\"><span class=\"toc-item-num\">2&nbsp;&nbsp;</span>ZH</a></span></li><li><span><a href=\"#$ee\\rightarrow-ZH$\" data-toc-modified-id=\"$ee\\rightarrow-ZH$-3\"><span class=\"toc-item-num\">3&nbsp;&nbsp;</span>$ee\\rightarrow ZH$</a></span></li><li><span><a href=\"#$W$-boson-fusion\" data-toc-modified-id=\"$W$-boson-fusion-4\"><span class=\"toc-item-num\">4&nbsp;&nbsp;</span>$W$ boson fusion</a></span></li><li><span><a href=\"#$Z$-boson-fusion\" data-toc-modified-id=\"$Z$-boson-fusion-5\"><span class=\"toc-item-num\">5&nbsp;&nbsp;</span>$Z$ boson fusion</a></span></li><li><span><a href=\"#top-quark\" data-toc-modified-id=\"top-quark-6\"><span class=\"toc-item-num\">6&nbsp;&nbsp;</span>top quark</a></span></li></ul></div>"
   ]
  },
  {
   "cell_type": "markdown",
   "id": "south-drill",
   "metadata": {},
   "source": [
    "# Preparations"
   ]
  },
  {
   "cell_type": "markdown",
   "id": "latter-translation",
   "metadata": {},
   "source": [
    "Requirements\n",
    "\n",
    "python 2.7+\n",
    "\n",
    "numpy 1.6+\n",
    "\n",
    "matplotlib 1.4+\n"
   ]
  },
  {
   "cell_type": "code",
   "execution_count": 2,
   "id": "committed-feedback",
   "metadata": {
    "deletable": false,
    "editable": false,
    "run_control": {
     "frozen": true
    }
   },
   "outputs": [
    {
     "name": "stdout",
     "output_type": "stream",
     "text": [
      "Collecting feynman\n",
      "  Downloading feynman-2.0.2.tar.gz (236 kB)\n",
      "     -------------------------------------- 236.3/236.3 kB 1.0 MB/s eta 0:00:00\n",
      "  Preparing metadata (setup.py): started\n",
      "  Preparing metadata (setup.py): finished with status 'done'\n",
      "Requirement already satisfied: matplotlib>=1.1 in c:\\users\\liangh\\anaconda3\\lib\\site-packages (from feynman) (3.3.2)\n",
      "Requirement already satisfied: numpy>=1.6 in c:\\users\\liangh\\anaconda3\\lib\\site-packages (from feynman) (1.19.2)\n",
      "Requirement already satisfied: pyparsing!=2.0.4,!=2.1.2,!=2.1.6,>=2.0.3 in c:\\users\\liangh\\anaconda3\\lib\\site-packages (from matplotlib>=1.1->feynman) (2.4.7)\n",
      "Requirement already satisfied: cycler>=0.10 in c:\\users\\liangh\\anaconda3\\lib\\site-packages (from matplotlib>=1.1->feynman) (0.10.0)\n",
      "Requirement already satisfied: python-dateutil>=2.1 in c:\\users\\liangh\\anaconda3\\lib\\site-packages (from matplotlib>=1.1->feynman) (2.8.1)\n",
      "Requirement already satisfied: pillow>=6.2.0 in c:\\users\\liangh\\anaconda3\\lib\\site-packages (from matplotlib>=1.1->feynman) (8.1.0)\n",
      "Requirement already satisfied: kiwisolver>=1.0.1 in c:\\users\\liangh\\anaconda3\\lib\\site-packages (from matplotlib>=1.1->feynman) (1.3.0)\n",
      "Requirement already satisfied: certifi>=2020.06.20 in c:\\users\\liangh\\anaconda3\\lib\\site-packages (from matplotlib>=1.1->feynman) (2021.10.8)\n",
      "Requirement already satisfied: six in c:\\users\\liangh\\anaconda3\\lib\\site-packages (from cycler>=0.10->matplotlib>=1.1->feynman) (1.15.0)\n",
      "Building wheels for collected packages: feynman\n",
      "  Building wheel for feynman (setup.py): started\n",
      "  Building wheel for feynman (setup.py): finished with status 'done'\n",
      "  Created wheel for feynman: filename=feynman-2.0.2-py3-none-any.whl size=243750 sha256=4a2205198da39bdf935d6d41a43d3da488f8dc2401e047dcc88939d84df60c19\n",
      "  Stored in directory: c:\\users\\liangh\\appdata\\local\\pip\\cache\\wheels\\07\\1e\\b6\\20bf2ab0b1bbb6541fcf6bed2c084ae6e8904505ca7301d1fa\n",
      "Successfully built feynman\n",
      "Installing collected packages: feynman\n",
      "Successfully installed feynman-2.0.2\n"
     ]
    },
    {
     "name": "stderr",
     "output_type": "stream",
     "text": [
      "\n",
      "[notice] A new release of pip available: 22.3.1 -> 23.1.2\n",
      "[notice] To update, run: python.exe -m pip install --upgrade pip\n"
     ]
    }
   ],
   "source": [
    "!pip install feynman"
   ]
  },
  {
   "cell_type": "code",
   "execution_count": 1,
   "id": "prescription-november",
   "metadata": {},
   "outputs": [],
   "source": [
    "import matplotlib.pyplot as plt\n",
    "from feynman import Diagram\n",
    "plt.rcParams.update({\n",
    "    \"text.usetex\": True,\n",
    "    \"font.family\": \"Helvetica\"\n",
    "})"
   ]
  },
  {
   "cell_type": "markdown",
   "id": "entertaining-tours",
   "metadata": {},
   "source": [
    "# ZH"
   ]
  },
  {
   "cell_type": "code",
   "execution_count": 2,
   "id": "fiscal-matter",
   "metadata": {
    "scrolled": false
   },
   "outputs": [
    {
     "data": {
      "image/png": "[encoded data removed]",
      "text/plain": [
       "<Figure size 360x288 with 1 Axes>"
      ]
     },
     "metadata": {},
     "output_type": "display_data"
    }
   ],
   "source": [
    "\n",
    "fig = plt.figure(figsize=(5.,4.))\n",
    "ax = fig.add_axes([0.0,0.0,1.0,1.0], frameon=False)\n",
    "\n",
    "diagram = Diagram(ax)\n",
    "in1 = diagram.vertex(xy=(.05,0.95), marker='')\n",
    "in2= diagram.vertex(xy=(.05,0.05), marker='')\n",
    "v1 = diagram.vertex(xy=(.3,.5), marker='')\n",
    "v2 = diagram.vertex(xy=(.7,.5), marker='')\n",
    "higgsout = diagram.vertex(xy=(.95,.95), marker='')\n",
    "out1 = diagram.vertex(xy=(.95,.05),marker='')\n",
    "\n",
    "q1 = diagram.line(in1, v1)\n",
    "q2 = diagram.line(v1, in2)\n",
    "wz1 = diagram.line(v1, v2, style='wiggly')\n",
    "wz2 = diagram.line(v2, out1, style='wiggly')\n",
    "higgs = diagram.line(v2, higgsout, arrow=False, style='dotted')\n",
    "\n",
    "q1.text(\"$e^-$\", y=0.05,fontsize=30)\n",
    "q2.text(r\"$e^+$\", y=0.05,fontsize=30)\n",
    "\n",
    "wz1.text(\"$Z^*$\", y=0.07,fontsize=30)\n",
    "wz2.text(\"$Z$\", y=0.05,fontsize=30)\n",
    "\n",
    "higgs.text(\"$H$\",fontsize=30)\n",
    "\n",
    "diagram.plot()\n",
    "plt.savefig(\"ZHNew.pdf\")\n",
    "plt.show()\n",
    "\n"
   ]
  },
  {
   "cell_type": "markdown",
   "id": "baking-reunion",
   "metadata": {},
   "source": [
    "# $W$ boson fusion"
   ]
  },
  {
   "cell_type": "code",
   "execution_count": 3,
   "id": "infinite-oriental",
   "metadata": {},
   "outputs": [
    {
     "data": {
      "image/png": "[encoded data removed]",
      "text/plain": [
       "<Figure size 360x288 with 1 Axes>"
      ]
     },
     "metadata": {},
     "output_type": "display_data"
    }
   ],
   "source": [
    "import matplotlib.pyplot as plt\n",
    "from feynman import Diagram\n",
    "\n",
    "fig = plt.figure(figsize=(5.,4.))\n",
    "ax = fig.add_axes([0.0,0.0,1.0,1.0], frameon=False)\n",
    "\n",
    "diagram = Diagram(ax)\n",
    "in1 = diagram.vertex(xy=(.05,.95), marker='')\n",
    "in2= diagram.vertex(xy=(.05,.05), marker='')\n",
    "v1 = diagram.vertex(xy=(.4,.75), marker='')\n",
    "v2 = diagram.vertex(xy=(.4,.25), marker='')\n",
    "v3 = diagram.vertex(xy=(.6,.5), marker='')\n",
    "out1 = diagram.vertex(xy=(.95,.95), marker='')\n",
    "out2 = diagram.vertex(xy=(.95,.05), marker='')\n",
    "higgsout = diagram.vertex(xy=(.95,.5), marker='')\n",
    "\n",
    "q1 = diagram.line(in1, v1, arrow=True)\n",
    "q2 = diagram.line(v2, in2, arrow=True)\n",
    "wz1 = diagram.line(v1, v3, style='wiggly')\n",
    "wz2 = diagram.line(v2, v3, style='wiggly')\n",
    "higgs = diagram.line(v3, higgsout, style='dotted', arrow=False)\n",
    "q3 = diagram.line(v1, out1, arrow=True)\n",
    "q4 = diagram.line(out2, v2, arrow=True)\n",
    "\n",
    "q1.text(\"$e^-$\", y=0.05, fontsize=30)\n",
    "q2.text(\"$e^+$\", y=-0.06, fontsize=30)\n",
    "wz1.text(\"$W^*$\",y=0.05,fontsize=25)\n",
    "wz2.text(\"$W^*$\",y=-0.08,fontsize=25)\n",
    "q3.text(r\"$\\nu_e$\",y=0.06, fontsize=30)\n",
    "q4.text(r\"$\\bar{\\nu_e}$\",y=-0.06, fontsize=30)\n",
    "higgs.text(\"$H$\", y =0.05, fontsize=30)\n",
    "\n",
    "diagram.plot()\n",
    "plt.savefig(\"WWFNew.pdf\")\n",
    "plt.show()"
   ]
  },
  {
   "cell_type": "markdown",
   "id": "handed-spelling",
   "metadata": {},
   "source": [
    "# $Z$ boson fusion"
   ]
  },
  {
   "cell_type": "code",
   "execution_count": 4,
   "id": "laughing-albert",
   "metadata": {
    "scrolled": false
   },
   "outputs": [
    {
     "data": {
      "image/png": "[encoded data removed]",
      "text/plain": [
       "<Figure size 360x288 with 1 Axes>"
      ]
     },
     "metadata": {},
     "output_type": "display_data"
    }
   ],
   "source": [
    "import matplotlib.pyplot as plt\n",
    "from feynman import Diagram\n",
    "\n",
    "fig = plt.figure(figsize=(5.,4.))\n",
    "ax = fig.add_axes([0.0,0.0,1.0,1.0], frameon=False)\n",
    "\n",
    "diagram = Diagram(ax)\n",
    "in1 = diagram.vertex(xy=(.05,.95), marker='')\n",
    "in2= diagram.vertex(xy=(.05,.05), marker='')\n",
    "v1 = diagram.vertex(xy=(.4,.75), marker='')\n",
    "v2 = diagram.vertex(xy=(.4,.25), marker='')\n",
    "v3 = diagram.vertex(xy=(.6,.5), marker='')\n",
    "out1 = diagram.vertex(xy=(.95,.95), marker='')\n",
    "out2 = diagram.vertex(xy=(.95,.05), marker='')\n",
    "higgsout = diagram.vertex(xy=(.95,.5), marker='')\n",
    "\n",
    "q1 = diagram.line(in1, v1, arrow=True)\n",
    "q2 = diagram.line(v2, in2, arrow=True)\n",
    "wz1 = diagram.line(v1, v3, style='wiggly')\n",
    "wz2 = diagram.line(v2, v3, style='wiggly')\n",
    "higgs = diagram.line(v3, higgsout, style='dotted', arrow=False)\n",
    "q3 = diagram.line(v1, out1, arrow=True)\n",
    "q4 = diagram.line(out2, v2, arrow=True)\n",
    "\n",
    "q1.text(\"$e^-$\", y=0.05, fontsize=30)\n",
    "q2.text(\"$e^+$\", y=-0.06, fontsize=30)\n",
    "wz1.text(\"$Z^*$\",y=0.05,fontsize=25)\n",
    "wz2.text(\"$Z^*$\",y=-0.08,fontsize=25)\n",
    "q3.text(r\"$e^-$\",y=0.06, fontsize=30)\n",
    "q4.text(r\"$e^+$\",y=-0.06, fontsize=30)\n",
    "higgs.text(\"$H$\", y =0.05, fontsize=30)\n",
    "\n",
    "diagram.plot()\n",
    "plt.savefig(\"ZZFNew.pdf\")\n",
    "plt.show()"
   ]
  }
 ],
 "metadata": {
  "hide_input": false,
  "kernelspec": {
   "display_name": "Python 3",
   "language": "python",
   "name": "python3"
  },
  "language_info": {
   "codemirror_mode": {
    "name": "ipython",
    "version": 3
   },
   "file_extension": ".py",
   "mimetype": "text/x-python",
   "name": "python",
   "nbconvert_exporter": "python",
   "pygments_lexer": "ipython3",
   "version": "3.8.5"
  },
  "toc": {
   "base_numbering": 1,
   "nav_menu": {},
   "number_sections": true,
   "sideBar": true,
   "skip_h1_title": false,
   "title_cell": "Table of Contents",
   "title_sidebar": "Contents",
   "toc_cell": true,
   "toc_position": {},
   "toc_section_display": true,
   "toc_window_display": false
  },
  "varInspector": {
   "cols": {
    "lenName": 16,
    "lenType": 16,
    "lenVar": 40
   },
   "kernels_config": {
    "python": {
     "delete_cmd_postfix": "",
     "delete_cmd_prefix": "del ",
     "library": "var_list.py",
     "varRefreshCmd": "print(var_dic_list())"
    },
    "r": {
     "delete_cmd_postfix": ") ",
     "delete_cmd_prefix": "rm(",
     "library": "var_list.r",
     "varRefreshCmd": "cat(var_dic_list()) "
    }
   },
   "types_to_exclude": [
    "module",
    "function",
    "builtin_function_or_method",
    "instance",
    "_Feature"
   ],
   "window_display": false
  }
 },
 "nbformat": 4,
 "nbformat_minor": 5
}
