{
 "cells": [
  {
   "cell_type": "markdown",
   "metadata": {
    "toc": true
   },
   "source": [
    "<h1>Table of Contents<span class=\"tocSkip\"></span></h1>\n",
    "<div class=\"toc\"><ul class=\"toc-item\"><li><span><a href=\"#K臂老虎机和强化学习\" data-toc-modified-id=\"K臂老虎机和强化学习-1\"><span class=\"toc-item-num\">1&nbsp;&nbsp;</span>K臂老虎机和强化学习</a></span><ul class=\"toc-item\"><li><span><a href=\"#K臂老虎机\" data-toc-modified-id=\"K臂老虎机-1.1\"><span class=\"toc-item-num\">1.1&nbsp;&nbsp;</span>K臂老虎机</a></span></li><li><span><a href=\"#学习器‘基类’\" data-toc-modified-id=\"学习器‘基类’-1.2\"><span class=\"toc-item-num\">1.2&nbsp;&nbsp;</span>学习器‘基类’</a></span></li><li><span><a href=\"#$\\epsilon$-贪心\" data-toc-modified-id=\"$\\epsilon$-贪心-1.3\"><span class=\"toc-item-num\">1.3&nbsp;&nbsp;</span>$\\epsilon$-贪心</a></span></li><li><span><a href=\"#只利用\" data-toc-modified-id=\"只利用-1.4\"><span class=\"toc-item-num\">1.4&nbsp;&nbsp;</span>只利用</a></span></li><li><span><a href=\"#softmax法\" data-toc-modified-id=\"softmax法-1.5\"><span class=\"toc-item-num\">1.5&nbsp;&nbsp;</span>softmax法</a></span></li></ul></li><li><span><a href=\"#不同方法的比较\" data-toc-modified-id=\"不同方法的比较-2\"><span class=\"toc-item-num\">2&nbsp;&nbsp;</span>不同方法的比较</a></span></li></ul></div>"
   ]
  },
  {
   "cell_type": "markdown",
   "metadata": {},
   "source": [
    "# K臂老虎机和强化学习"
   ]
  },
  {
   "cell_type": "markdown",
   "metadata": {},
   "source": [
    "## K臂老虎机"
   ]
  },
  {
   "cell_type": "code",
   "execution_count": 1,
   "metadata": {},
   "outputs": [],
   "source": [
    "import numba\n",
    "import numpy as np\n",
    "def _trival(f):\n",
    "    return f\n",
    "_dec = numba.njit\n",
    "#_dec = _trival\n",
    "\n",
    "# K bandits maker\n",
    "# return: K bandits data structure\n",
    "@_dec\n",
    "def initialize_KBandits(P, R):\n",
    "    return P, R\n",
    "\n",
    "# roll K bandits\n",
    "#   self: the K bandits data\n",
    "#      k: the kth hand\n",
    "# return: the score\n",
    "@_dec\n",
    "def roll_KBandits(self, k):\n",
    "    P,R = self\n",
    "    \n",
    "    rnd = np.random.rand()\n",
    "    if rnd < P[k]:\n",
    "        return R[k]\n",
    "    else:\n",
    "        return 0."
   ]
  },
  {
   "cell_type": "markdown",
   "metadata": {},
   "source": [
    "## 学习器‘基类’"
   ]
  },
  {
   "cell_type": "code",
   "execution_count": 2,
   "metadata": {},
   "outputs": [],
   "source": [
    "\n",
    "@_dec\n",
    "def initialize_BaseLearner(K):\n",
    "    \"\"\"\n",
    "    base leaner data structure\n",
    "          K: number of hands\n",
    "    return: leaner data structure\n",
    "    \"\"\"\n",
    "    Q =  np.zeros(K)\n",
    "    n = np.zeros(K)\n",
    "    tot =  np.zeros(1)\n",
    "    return K, Q, n, tot\n",
    "\n",
    "@_dec\n",
    "def update_BaseLearner(self, which, v):\n",
    "    K,Q,n,tot = self\n",
    "    q = Q[which]\n",
    "    n[which] += 1\n",
    "    Q[which] += (v - q)/n[which]\n",
    "    tot[0] += v\n",
    "    \n",
    "@_dec\n",
    "def get_average_score_BaseLearner(self):\n",
    "    K,Q,n,tot = self\n",
    "    return tot[0]/n.sum()\n",
    "    "
   ]
  },
  {
   "cell_type": "markdown",
   "metadata": {},
   "source": [
    "## $\\epsilon$-贪心"
   ]
  },
  {
   "cell_type": "code",
   "execution_count": 3,
   "metadata": {},
   "outputs": [],
   "source": [
    "\n",
    "    \n",
    "@_dec\n",
    "def intialize_EpsilonGreedyLearner(K, epsilon, n_half=np.inf):\n",
    "    base = initialize_BaseLearner(K)\n",
    "    return base, epsilon, n_half\n",
    "    \n",
    "    \n",
    "\n",
    "@_dec\n",
    "def next_try_EpsilonGreedyLearner(self):\n",
    "    base, epsilon, n_half = self\n",
    "    K, Q, n, tot = base\n",
    "    rnd = np.random.rand()\n",
    "\n",
    "    if rnd <= epsilon*np.sqrt( 1/(1+n.sum()/n_half) ):\n",
    "        # exploration \n",
    "        k = np.random.randint(K)\n",
    "    else:\n",
    "        # exploitation\n",
    "        rmax = np.max(Q)\n",
    "        # collect the indices of maximum values\n",
    "        indices = np.nonzero(Q == rmax)[0]\n",
    "        # select randomly from the indices\n",
    "        k = indices[np.random.randint(len(indices))]\n",
    "    return k\n",
    "    "
   ]
  },
  {
   "cell_type": "markdown",
   "metadata": {},
   "source": [
    "## 只利用"
   ]
  },
  {
   "cell_type": "code",
   "execution_count": 4,
   "metadata": {},
   "outputs": [],
   "source": [
    "@_dec\n",
    "def initialize_ExploitationOnlyLearner(K):\n",
    "    base = initialize_BaseLearner(K)\n",
    "    return (base,)\n",
    "\n",
    "@_dec\n",
    "def next_try_ExploitationOnlyLearner(self):\n",
    "    base, = self\n",
    "    K, Q, n, tot = base\n",
    "    \n",
    "    if tot[0] > 0:\n",
    "        k = np.argmax(Q)\n",
    "    else:\n",
    "        k = np.random.randint(K)\n",
    "    return k\n",
    "    "
   ]
  },
  {
   "cell_type": "markdown",
   "metadata": {},
   "source": [
    "## softmax法"
   ]
  },
  {
   "cell_type": "code",
   "execution_count": 5,
   "metadata": {},
   "outputs": [],
   "source": [
    "\n",
    "@_dec\n",
    "def intialize_SoftmaxKBLearn(K, tau):\n",
    "    base = initialize_BaseLearner(K)\n",
    "    return base, tau\n",
    "  \n",
    "    \n",
    "@_dec\n",
    "def next_try_SoftmaxKBLearn(self):\n",
    "    base, tau = self\n",
    "    K, Q, n, tot = base\n",
    "    \n",
    "    \n",
    "    qmax = np.max(Q)\n",
    "    p = np.exp((Q-qmax)/tau)\n",
    "    p *= 1/p.sum()    \n",
    "    p = np.cumsum(p)\n",
    "\n",
    "    rnd = np.random.rand(1)[0]\n",
    "    for k in range(K):\n",
    "        if rnd <= p[k]:\n",
    "            break                \n",
    "    return k"
   ]
  },
  {
   "cell_type": "markdown",
   "metadata": {},
   "source": [
    "# 不同方法的比较"
   ]
  },
  {
   "cell_type": "code",
   "execution_count": 10,
   "metadata": {
    "scrolled": false
   },
   "outputs": [],
   "source": [
    "import matplotlib.pyplot as plt\n",
    "\n",
    "@_dec\n",
    "def simulate(K, N, P, R):\n",
    "    \n",
    "    np.random.seed(0)\n",
    "    \n",
    "    results=np.zeros((7, 1000, N))    \n",
    "    \n",
    "    kb = initialize_KBandits(P, R)\n",
    "    \n",
    "    for r in range(3):\n",
    "        \n",
    "        epsilon = 0.0\n",
    "        \n",
    "        if r == 0:\n",
    "            epsilon = 1.0\n",
    "        elif r == 1:\n",
    "            epsilon = 0.01\n",
    "        elif r == 2:\n",
    "            epsilon = 0.1\n",
    "            \n",
    "        \n",
    "        for i in range(1000):\n",
    "            epsilongreedy = intialize_EpsilonGreedyLearner(K, epsilon)\n",
    "            for n in range(N):\n",
    "                \n",
    "                k = next_try_EpsilonGreedyLearner(epsilongreedy)\n",
    "                v = roll_KBandits(kb, k)\n",
    "                update_BaseLearner(epsilongreedy[0], k, v)                \n",
    "                results[r, i, n] = get_average_score_BaseLearner(epsilongreedy[0])\n",
    "                \n",
    "\n",
    "    for i in range(1000):\n",
    "        exploitationonly = initialize_ExploitationOnlyLearner(K)\n",
    "        for n in range(N):\n",
    "\n",
    "            k = next_try_ExploitationOnlyLearner(exploitationonly)\n",
    "            v = roll_KBandits(kb, k)\n",
    "            update_BaseLearner(exploitationonly[0], k, v)                \n",
    "            results[3, i, n] = get_average_score_BaseLearner(exploitationonly[0])\n",
    "    \n",
    "                \n",
    "    for r in range(4,6):\n",
    "        \n",
    "        tau = 0.\n",
    "        if r == 4:\n",
    "            tau = 0.01\n",
    "        else:\n",
    "            tau = 0.1\n",
    "                    \n",
    "        for i in range(1000):\n",
    "            softmax = intialize_SoftmaxKBLearn(K, tau)\n",
    "            for n in range(N):\n",
    "                \n",
    "                k = next_try_SoftmaxKBLearn(softmax)\n",
    "                v = roll_KBandits(kb, k)\n",
    "                update_BaseLearner(softmax[0], k, v)       \n",
    "                results[r, i, n] = get_average_score_BaseLearner(softmax[0])           \n",
    "                \n",
    "                \n",
    "    for i in range(1000):\n",
    "        epsilongreedy = intialize_EpsilonGreedyLearner(K, 0.1, n_half=50)\n",
    "        for n in range(N):\n",
    "\n",
    "            k = next_try_EpsilonGreedyLearner(epsilongreedy)\n",
    "            v = roll_KBandits(kb, k)\n",
    "            update_BaseLearner(epsilongreedy[0], k, v)                \n",
    "            results[6, i, n] = get_average_score_BaseLearner(epsilongreedy[0])\n",
    "\n",
    "    return results\n",
    "\n",
    "K = 2\n",
    "N=3000\n",
    "P=np.array([0.4, 0.2])\n",
    "R=np.ones(K)\n",
    "results = simulate(K=K, N=N, P=P, R=R)\n",
    "results = np.mean(results, axis=1)"
   ]
  },
  {
   "cell_type": "code",
   "execution_count": 17,
   "metadata": {},
   "outputs": [
    {
     "data": {
      "image/png": "[encoded data removed]",
      "text/plain": [
       "<Figure size 576x432 with 1 Axes>"
      ]
     },
     "metadata": {
      "needs_background": "light"
     },
     "output_type": "display_data"
    }
   ],
   "source": [
    "def show():\n",
    "            \n",
    "    plt.figure(figsize=(8,6))\n",
    "    plt.title(\"1000 experiments average\")\n",
    "    plt.plot(np.linspace(1,N,N), results[0,:], label=r\"explore only\", linestyle=\"--\")\n",
    "    plt.plot(np.linspace(1,N,N), results[1,:], label=r\"$\\epsilon$-greedy $\\epsilon$=0.01\")\n",
    "    plt.plot(np.linspace(1,N,N), results[2,:], label=r\"$\\epsilon$-greedy $\\epsilon$=0.1\")\n",
    "    plt.plot(np.linspace(1,N,N), results[3,:], label=r\"exposit only\", linestyle=\"--\")\n",
    "    plt.plot(np.linspace(1,N,N), results[4,:], label=r\"softmax $\\tau$=0.01\")\n",
    "    plt.plot(np.linspace(1,N,N), results[5,:], label=r\"softmax $\\tau$=0.1\")\n",
    "    plt.plot(np.linspace(1,N,N), results[6,:], label=r\"$\\epsilon$-greedy $\\epsilon$=0.1 n_half=100\")\n",
    "    \n",
    "    plt.ylabel(\"score\", fontsize=\"large\")\n",
    "    plt.xlabel(\"N try\", fontsize=\"large\")\n",
    "    plt.legend()\n",
    "    plt.show()\n",
    "            \n",
    "show()"
   ]
  }
 ],
 "metadata": {
  "hide_input": false,
  "kernelspec": {
   "display_name": "Python 3",
   "language": "python",
   "name": "python3"
  },
  "language_info": {
   "codemirror_mode": {
    "name": "ipython",
    "version": 3
   },
   "file_extension": ".py",
   "mimetype": "text/x-python",
   "name": "python",
   "nbconvert_exporter": "python",
   "pygments_lexer": "ipython3",
   "version": "3.6.7"
  },
  "toc": {
   "base_numbering": 1,
   "nav_menu": {},
   "number_sections": true,
   "sideBar": true,
   "skip_h1_title": false,
   "title_cell": "Table of Contents",
   "title_sidebar": "Contents",
   "toc_cell": true,
   "toc_position": {
    "height": "calc(100% - 180px)",
    "left": "10px",
    "top": "150px",
    "width": "165px"
   },
   "toc_section_display": true,
   "toc_window_display": true
  },
  "varInspector": {
   "cols": {
    "lenName": "24",
    "lenType": "16",
    "lenVar": 40
   },
   "kernels_config": {
    "python": {
     "delete_cmd_postfix": "",
     "delete_cmd_prefix": "del ",
     "library": "var_list.py",
     "varRefreshCmd": "print(var_dic_list())"
    },
    "r": {
     "delete_cmd_postfix": ") ",
     "delete_cmd_prefix": "rm(",
     "library": "var_list.r",
     "varRefreshCmd": "cat(var_dic_list()) "
    }
   },
   "types_to_exclude": [
    "module",
    "function",
    "builtin_function_or_method",
    "instance",
    "_Feature"
   ],
   "window_display": false
  }
 },
 "nbformat": 4,
 "nbformat_minor": 4
}
