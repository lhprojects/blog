{
 "cells": [
  {
   "cell_type": "markdown",
   "metadata": {
    "toc": true
   },
   "source": [
    "<h1>Table of Contents<span class=\"tocSkip\"></span></h1>\n",
    "<div class=\"toc\"><ul class=\"toc-item\"><li><span><a href=\"#my_timeit\" data-toc-modified-id=\"my_timeit-1\"><span class=\"toc-item-num\">1&nbsp;&nbsp;</span>my_timeit</a></span></li><li><span><a href=\"#$|x|_2$\" data-toc-modified-id=\"$|x|_2$-2\"><span class=\"toc-item-num\">2&nbsp;&nbsp;</span>$|x|_2$</a></span></li><li><span><a href=\"#$\\sum_j-X_{ij}-Y_{jk}$\" data-toc-modified-id=\"$\\sum_j-X_{ij}-Y_{jk}$-3\"><span class=\"toc-item-num\">3&nbsp;&nbsp;</span>$\\sum_j X_{ij} Y_{jk}$</a></span></li><li><span><a href=\"#$\\sum_j-X_{ij}-Y_{kj}$\" data-toc-modified-id=\"$\\sum_j-X_{ij}-Y_{kj}$-4\"><span class=\"toc-item-num\">4&nbsp;&nbsp;</span>$\\sum_j X_{ij} Y_{kj}$</a></span></li><li><span><a href=\"#$\\sum_i-X_{ij}-Y_{ij}$\" data-toc-modified-id=\"$\\sum_i-X_{ij}-Y_{ij}$-5\"><span class=\"toc-item-num\">5&nbsp;&nbsp;</span>$\\sum_i X_{ij} Y_{ij}$</a></span></li><li><span><a href=\"#$\\sum_j-X_{ij}-Y_{ij}$\" data-toc-modified-id=\"$\\sum_j-X_{ij}-Y_{ij}$-6\"><span class=\"toc-item-num\">6&nbsp;&nbsp;</span>$\\sum_j X_{ij} Y_{ij}$</a></span></li><li><span><a href=\"#solve-vs-lstsq\" data-toc-modified-id=\"solve-vs-lstsq-7\"><span class=\"toc-item-num\">7&nbsp;&nbsp;</span><code>solve</code> vs <code>lstsq</code></a></span></li></ul></div>"
   ]
  },
  {
   "cell_type": "code",
   "execution_count": 28,
   "metadata": {},
   "outputs": [
    {
     "name": "stdout",
     "output_type": "stream",
     "text": [
      "3.8.5 (default, Sep  3 2020, 21:29:08) [MSC v.1916 64 bit (AMD64)]\n",
      "1.19.2\n",
      "1.5.2\n",
      "AMD Ryzen 7 3700X 8-Core Processor\n",
      "l3_cache_size 33554432\n",
      "l2_cache_size 4194304\n"
     ]
    }
   ],
   "source": [
    "import numpy as np\n",
    "import scipy as sp\n",
    "import scipy.linalg\n",
    "import sys\n",
    "print(sys.version)\n",
    "print(np.__version__)\n",
    "print(sp.__version__)\n",
    "\n",
    "try:\n",
    "    import cpuinfo    \n",
    "    info = cpuinfo.get_cpu_info()\n",
    "    if \"brand\" in info:\n",
    "        print(info['brand'])\n",
    "    elif \"brand_raw\" in info:\n",
    "        print(info['brand_raw'])\n",
    "    if \"l3_cache_size\" in info:\n",
    "        print(\"l3_cache_size\",info[\"l3_cache_size\"])\n",
    "    if \"l2_cache_size\" in info:\n",
    "        print(\"l2_cache_size\", info[\"l2_cache_size\"])\n",
    "    if \"l1_cache_size\" in info:\n",
    "        print(\"l1_cache_size\",info[\"l1_cache_size\"])\n",
    "except:\n",
    "    pass"
   ]
  },
  {
   "cell_type": "markdown",
   "metadata": {},
   "source": [
    "## my_timeit"
   ]
  },
  {
   "cell_type": "code",
   "execution_count": 2,
   "metadata": {},
   "outputs": [],
   "source": [
    "import timeit\n",
    "\n",
    "X=None\n",
    "x=None\n",
    "Y=None\n",
    "A=None\n",
    "y=None\n",
    "def my_timeit(stat):\n",
    "    timer = timeit.Timer(stat, globals={\"sp\":sp, \"np\": np, \"X\": X, \"x\": x, \"Y\": Y, \"y\":y, \"A\": A})\n",
    "    n, time = timer.autorange()\n",
    "    time = time / n\n",
    "    if time < 1E-3:\n",
    "        print(\"%-50s [%.1f µs]\" % (stat, time * 1E6))\n",
    "    elif time < 1:\n",
    "        print(\"%-50s [%.1f ms]\" % (stat, time * 1E3))\n",
    "    else:\n",
    "        print(\"%-50s [%.1f s]\" % (stat, time))"
   ]
  },
  {
   "cell_type": "markdown",
   "metadata": {},
   "source": [
    "## $|x|_2$"
   ]
  },
  {
   "cell_type": "code",
   "execution_count": 3,
   "metadata": {},
   "outputs": [
    {
     "name": "stdout",
     "output_type": "stream",
     "text": [
      "np.dot(x,x)                                        [1.2 µs]\n",
      "np.inner(x,x)                                      [1.2 µs]\n",
      "np.linalg.norm(x, ord=2)                           [4.2 µs]\n",
      "sp.linalg.norm(x, ord=2, check_finite=False)       [2.3 µs]\n"
     ]
    }
   ],
   "source": [
    "N = 1000\n",
    "x = np.random.randn(N)\n",
    "# dot and inner avoid temp. memory\n",
    "my_timeit(\"np.dot(x,x)\")\n",
    "my_timeit(\"np.inner(x,x)\")\n",
    "# np.linalg.norm use np.sum(conj(x)*x) to calculate norm of order 2 for vector\n",
    "my_timeit(\"np.linalg.norm(x, ord=2)\")\n",
    "# sp.linalg.norm use blas to calculate norm of order 2 for vector\n",
    "my_timeit(\"sp.linalg.norm(x, ord=2, check_finite=False)\")"
   ]
  },
  {
   "cell_type": "markdown",
   "metadata": {},
   "source": [
    "## $\\sum_j X_{ij} Y_{jk}$"
   ]
  },
  {
   "cell_type": "code",
   "execution_count": 4,
   "metadata": {},
   "outputs": [
    {
     "name": "stdout",
     "output_type": "stream",
     "text": [
      "[((1, 0), {'j'}, 'jk,ij->ik', ['ik'], True)]\n",
      "[((1, 0), {'j'}, 'jk,ij->ik', ['ik'], True)]\n",
      "X.dot(Y)                                           [28.3 ms]\n",
      "np.einsum(\"ij,jk->ik\", X, Y)                       [417.7 ms]\n",
      "np.einsum(\"ij,jk->ik\", X, Y, optimize=True)        [28.6 ms]\n"
     ]
    }
   ],
   "source": [
    "N = 1000\n",
    "M = 999\n",
    "X = np.random.randn(N, M)\n",
    "Y = np.random.randn(M, N)\n",
    "assert np.allclose(X.dot(Y), np.einsum(\"ij,jk->ik\", X, Y))\n",
    "\n",
    "\n",
    "#print(np.einsum_path(\"ij,jk->ik\", X, Y)[1])\n",
    "print(np.einsum_path(\"ij,jk->ik\", X, Y, optimize=True, einsum_call=True)[1])\n",
    "print(np.einsum_path(\"ij,jk->ik\", X, Y, optimize=True, einsum_call=True)[1])\n",
    "\n",
    "# memory order is not good\n",
    "my_timeit(\"X.dot(Y)\")\n",
    "# huge temp. memory\n",
    "#my_timeit(\"np.sum(X[:,:,np.newaxis]*Y[np.newaxis,:,:], axis=1)\")\n",
    "my_timeit('np.einsum(\"ij,jk->ik\", X, Y)')\n",
    "my_timeit('np.einsum(\"ij,jk->ik\", X, Y, optimize=True)')\n"
   ]
  },
  {
   "cell_type": "markdown",
   "metadata": {},
   "source": [
    "## $\\sum_j X_{ij} Y_{kj}$"
   ]
  },
  {
   "cell_type": "code",
   "execution_count": 5,
   "metadata": {},
   "outputs": [
    {
     "name": "stdout",
     "output_type": "stream",
     "text": [
      "X.dot(Y.T)                                         [67.8 ms]\n",
      "np.einsum(\"ij,kj->ik\",X, Y, optimize=False)        [412.8 ms]\n",
      "np.einsum(\"ij,kj->ik\",X, Y, optimize=True)         [63.8 ms]\n"
     ]
    }
   ],
   "source": [
    "N = 1000\n",
    "M = 999\n",
    "X = np.random.randn(N, M)\n",
    "Y = np.random.randn(N, M)\n",
    "assert np.allclose(X.dot(Y.T), np.einsum(\"ij,kj->ik\", X, Y))\n",
    "assert np.allclose(np.sum(X[:,np.newaxis,:]*Y[np.newaxis,:,:], axis=-1), np.einsum(\"ij,kj->ik\", X, Y))\n",
    "\n",
    "# memory order is not good\n",
    "my_timeit(\"X.dot(Y.T)\")\n",
    "# huge temp. memory\n",
    "#my_timeit(\"np.sum(X[:,np.newaxis,:]*Y[np.newaxis,:,:], axis=-1)\")\n",
    "my_timeit('np.einsum(\"ij,kj->ik\",X, Y, optimize=False)')\n",
    "my_timeit('np.einsum(\"ij,kj->ik\",X, Y, optimize=True)')\n"
   ]
  },
  {
   "cell_type": "markdown",
   "metadata": {},
   "source": [
    "## $\\sum_i X_{ij} Y_{ij}$"
   ]
  },
  {
   "cell_type": "code",
   "execution_count": 6,
   "metadata": {
    "scrolled": true
   },
   "outputs": [
    {
     "name": "stdout",
     "output_type": "stream",
     "text": [
      "np.sum(X*Y, axis=0)                                [2.5 ms]\n",
      "np.einsum(\"ij,ij->j\",X, Y)                         [725.5 µs]\n"
     ]
    }
   ],
   "source": [
    "N = 1000\n",
    "M = 999\n",
    "X = np.random.randn(N, M)\n",
    "Y = np.random.randn(N, M)\n",
    "assert np.allclose(np.sum(X * Y, axis=0), np.einsum(\"ij,ij->j\", X, Y))\n",
    "\n",
    "# einsum avoid temp. memory\n",
    "my_timeit(\"np.sum(X*Y, axis=0)\")\n",
    "my_timeit('np.einsum(\"ij,ij->j\",X, Y)')"
   ]
  },
  {
   "cell_type": "markdown",
   "metadata": {},
   "source": [
    "## $\\sum_j X_{ij} Y_{ij}$"
   ]
  },
  {
   "cell_type": "code",
   "execution_count": 7,
   "metadata": {},
   "outputs": [
    {
     "name": "stdout",
     "output_type": "stream",
     "text": [
      "np.sum(X*Y, axis=1)                                [2.9 ms]\n",
      "np.einsum(\"ij,ij->i\",X, Y)                         [620.3 µs]\n"
     ]
    }
   ],
   "source": [
    "N = 1000\n",
    "M = 999\n",
    "X = np.random.randn(N, M)\n",
    "Y = np.random.randn(N, M)\n",
    "assert np.allclose(np.sum(X * Y, axis=-1), np.einsum(\"ij,ij->i\", X, Y))\n",
    "\n",
    "# einsum avoid temp. memory\n",
    "my_timeit(\"np.sum(X*Y, axis=1)\")\n",
    "my_timeit('np.einsum(\"ij,ij->i\",X, Y)')"
   ]
  },
  {
   "cell_type": "markdown",
   "metadata": {},
   "source": [
    "## `solve` vs `lstsq`"
   ]
  },
  {
   "cell_type": "code",
   "execution_count": 8,
   "metadata": {},
   "outputs": [
    {
     "name": "stdout",
     "output_type": "stream",
     "text": [
      "np.linalg.solve(A, y)                              [10.0 ms]\n",
      "np.linalg.lstsq(A, y, rcond=None)                  [161.4 ms]\n",
      "U,S,VT=np.linalg.svd(A)                            [261.9 ms]\n",
      "U,S,VT=np.linalg.svd(A); VT.T.dot(1/S*U.T.dot(y))  [276.4 ms]\n"
     ]
    }
   ],
   "source": [
    "N = 1000\n",
    "A = np.random.randn(N, N)\n",
    "y = np.random.randn(N)\n",
    "my_timeit(\"np.linalg.solve(A, y)\")\n",
    "my_timeit(\"np.linalg.lstsq(A, y, rcond=None)\")\n",
    "my_timeit(\"U,S,VT=np.linalg.svd(A)\")\n",
    "my_timeit(\"U,S,VT=np.linalg.svd(A); VT.T.dot(1/S*U.T.dot(y))\")"
   ]
  }
 ],
 "metadata": {
  "hide_input": false,
  "kernelspec": {
   "display_name": "Python 3",
   "language": "python",
   "name": "python3"
  },
  "language_info": {
   "codemirror_mode": {
    "name": "ipython",
    "version": 3
   },
   "file_extension": ".py",
   "mimetype": "text/x-python",
   "name": "python",
   "nbconvert_exporter": "python",
   "pygments_lexer": "ipython3",
   "version": "3.8.5"
  },
  "toc": {
   "base_numbering": 1,
   "nav_menu": {},
   "number_sections": true,
   "sideBar": true,
   "skip_h1_title": false,
   "title_cell": "Table of Contents",
   "title_sidebar": "Contents",
   "toc_cell": true,
   "toc_position": {},
   "toc_section_display": true,
   "toc_window_display": false
  },
  "varInspector": {
   "cols": {
    "lenName": "24",
    "lenType": "16",
    "lenVar": 40
   },
   "kernels_config": {
    "python": {
     "delete_cmd_postfix": "",
     "delete_cmd_prefix": "del ",
     "library": "var_list.py",
     "varRefreshCmd": "print(var_dic_list())"
    },
    "r": {
     "delete_cmd_postfix": ") ",
     "delete_cmd_prefix": "rm(",
     "library": "var_list.r",
     "varRefreshCmd": "cat(var_dic_list()) "
    }
   },
   "types_to_exclude": [
    "module",
    "function",
    "builtin_function_or_method",
    "instance",
    "_Feature"
   ],
   "window_display": false
  }
 },
 "nbformat": 4,
 "nbformat_minor": 4
}
