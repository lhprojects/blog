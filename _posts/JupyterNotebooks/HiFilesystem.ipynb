{
 "cells": [
  {
   "cell_type": "markdown",
   "metadata": {
    "toc": true
   },
   "source": [
    "<h1>Table of Contents<span class=\"tocSkip\"></span></h1>\n",
    "<div class=\"toc\"><ul class=\"toc-item\"><li><span><a href=\"#Tools\" data-toc-modified-id=\"Tools-1\"><span class=\"toc-item-num\">1&nbsp;&nbsp;</span>Tools</a></span><ul class=\"toc-item\"><li><span><a href=\"#cxx-script\" data-toc-modified-id=\"cxx-script-1.1\"><span class=\"toc-item-num\">1.1&nbsp;&nbsp;</span>cxx script</a></span></li><li><span><a href=\"#Name-demangle\" data-toc-modified-id=\"Name-demangle-1.2\"><span class=\"toc-item-num\">1.2&nbsp;&nbsp;</span>Name demangle</a></span></li></ul></li><li><span><a href=\"#path\" data-toc-modified-id=\"path-2\"><span class=\"toc-item-num\">2&nbsp;&nbsp;</span>path</a></span><ul class=\"toc-item\"><li><span><a href=\"#string-and-unicode\" data-toc-modified-id=\"string-and-unicode-2.1\"><span class=\"toc-item-num\">2.1&nbsp;&nbsp;</span>string and unicode</a></span></li><li><span><a href=\"#path::path()\" data-toc-modified-id=\"path::path()-2.2\"><span class=\"toc-item-num\">2.2&nbsp;&nbsp;</span>path::path()</a></span></li><li><span><a href=\"#path::string()\" data-toc-modified-id=\"path::string()-2.3\"><span class=\"toc-item-num\">2.3&nbsp;&nbsp;</span>path::string()</a></span></li></ul></li><li><span><a href=\"#Path-decomposition\" data-toc-modified-id=\"Path-decomposition-3\"><span class=\"toc-item-num\">3&nbsp;&nbsp;</span>Path decomposition</a></span></li><li><span><a href=\"#directory_entry\" data-toc-modified-id=\"directory_entry-4\"><span class=\"toc-item-num\">4&nbsp;&nbsp;</span>directory_entry</a></span></li><li><span><a href=\"#directory_iterator\" data-toc-modified-id=\"directory_iterator-5\"><span class=\"toc-item-num\">5&nbsp;&nbsp;</span>directory_iterator</a></span></li><li><span><a href=\"#Non-member-function\" data-toc-modified-id=\"Non-member-function-6\"><span class=\"toc-item-num\">6&nbsp;&nbsp;</span>Non-member function</a></span></li></ul></div>"
   ]
  },
  {
   "cell_type": "markdown",
   "metadata": {},
   "source": [
    "# Tools"
   ]
  },
  {
   "cell_type": "markdown",
   "metadata": {},
   "source": [
    "You need g++n(n>=8)."
   ]
  },
  {
   "cell_type": "code",
   "execution_count": 1,
   "metadata": {},
   "outputs": [
    {
     "name": "stdout",
     "output_type": "stream",
     "text": [
      "g++ (Ubuntu 8.3.0-6ubuntu1~18.04.1) 8.3.0\r\n"
     ]
    }
   ],
   "source": [
    "!g++ --version | grep g++"
   ]
  },
  {
   "cell_type": "markdown",
   "metadata": {},
   "source": [
    "## cxx script\n",
    "To run c++ in cell, you need download a c++ source file and build it."
   ]
  },
  {
   "cell_type": "code",
   "execution_count": 2,
   "metadata": {},
   "outputs": [
    {
     "name": "stdout",
     "output_type": "stream",
     "text": [
      "g++ (Ubuntu 8.3.0-6ubuntu1~18.04.1) 8.3.0\n",
      "cxx.cxx\n",
      "cxx installed to current directory\n"
     ]
    }
   ],
   "source": [
    "%%script bash\n",
    "g++ --version | grep g++\n",
    "ls cxx.cxx\n",
    "g++ -std=c++03 cxx.cxx -o cxx && echo cxx installed to current directory"
   ]
  },
  {
   "cell_type": "markdown",
   "metadata": {},
   "source": [
    "## Name demangle\n",
    "\n",
    "If you want to the `typeid(...).name()` looks more clear. You need to include the `demangle.h`, and call `demangle(typeid(...).name())` instead."
   ]
  },
  {
   "cell_type": "code",
   "execution_count": 3,
   "metadata": {},
   "outputs": [
    {
     "name": "stdout",
     "output_type": "stream",
     "text": [
      "demangle.h\r\n"
     ]
    }
   ],
   "source": [
    "!ls demangle.h"
   ]
  },
  {
   "cell_type": "markdown",
   "metadata": {},
   "source": [
    "# path"
   ]
  },
  {
   "cell_type": "markdown",
   "metadata": {},
   "source": [
    "## string and unicode"
   ]
  },
  {
   "cell_type": "code",
   "execution_count": 4,
   "metadata": {},
   "outputs": [
    {
     "name": "stdout",
     "output_type": "stream",
     "text": [
      "  \"\\U0001F60A\" 😊\n",
      "typeof(u8\"\\U0001F60A\") char const*\n",
      "u8\"\\U0001F60A\" 😊\n",
      " u\"\\U0001F60A\" 0x55651da9948a\n",
      " U\"\\U0001F60A\" 0x55651da994a0\n"
     ]
    }
   ],
   "source": [
    "%%script ./cxx -std=c++2a -lstdc++fs\n",
    "\n",
    "#include <iostream>\n",
    "#include <filesystem>\n",
    "#include <string.h>\n",
    "#include \"demangle.h\"\n",
    "\n",
    "int main() {\n",
    "    using namespace std;\n",
    "    namespace fs = std::filesystem;\n",
    "\n",
    "    const char *ptr = \"\\U0001F60A\";\n",
    "    cout << R\"(  \"\\U0001F60A\" )\" << ptr << endl;\n",
    "\n",
    "    // g++ version <= 8, auto -> char const *\n",
    "    // g++ version >= 9, auto -> char8_t const *\n",
    "    auto u8_ptr = u8\"\\U0001F60A\";\n",
    "    cout << R\"(typeof(u8\"\\U0001F60A\") )\" << demangle(typeid(u8_ptr).name()) << endl;\n",
    "    // you would see content of string, for g++ version <= 8\n",
    "    // you would see a pointer address, for g++ version >= 9\n",
    "    cout << R\"(u8\"\\U0001F60A\" )\" << u8_ptr << endl;\n",
    "\n",
    "    const char16_t *u16_ptr = u\"\\U0001F60A\";\n",
    "    cout << R\"( u\"\\U0001F60A\" )\"<< u16_ptr << endl;\n",
    "    \n",
    "    const char32_t *u32_ptr = U\"\\U0001F60A\";\n",
    "    cout << R\"( U\"\\U0001F60A\" )\" << u32_ptr << endl;\n",
    "\n",
    "}\n"
   ]
  },
  {
   "cell_type": "markdown",
   "metadata": {},
   "source": [
    "## path::path()"
   ]
  },
  {
   "cell_type": "code",
   "execution_count": 5,
   "metadata": {},
   "outputs": [
    {
     "name": "stdout",
     "output_type": "stream",
     "text": [
      "everything OK!\n"
     ]
    }
   ],
   "source": [
    "%%script ./cxx -std=c++2a -lstdc++fs\n",
    "\n",
    "#include <iostream>\n",
    "#include <filesystem>\n",
    "#include <string.h>\n",
    "#include \"demangle.h\"\n",
    "\n",
    "int main() {\n",
    "    using namespace std;\n",
    "    namespace fs = std::filesystem;\n",
    "    \n",
    "    // path constructed from char const *\n",
    "    fs::path path1 { \"\\U0001F60A\" };\n",
    "    \n",
    "    // path constructed from u8\"\"\n",
    "    // u8\"\" is array of char in c++17\n",
    "    // u8\"\" is array of char8_t in c++20\n",
    "    fs::path path2 { u8\"\\U0001F60A\" };\n",
    "    \n",
    "    fs::path path4 { u\"ascii\" };\n",
    "    \n",
    "    // path constructed from u\"\" (UTF-16)\n",
    "    // g++ refuse to convert unicode for UTF-16\n",
    "    //fs::path path5 { u\"\\U0001F60A\" };\n",
    "    \n",
    "    // path constructed from U\"\" (UTF-32)\n",
    "    fs::path path6 { U\"\\U0001F60A\" };\n",
    "    \n",
    "    printf(\"everything OK!\\n\");\n",
    "}\n"
   ]
  },
  {
   "cell_type": "markdown",
   "metadata": {},
   "source": [
    "## path::string()"
   ]
  },
  {
   "cell_type": "code",
   "execution_count": 6,
   "metadata": {},
   "outputs": [
    {
     "name": "stdout",
     "output_type": "stream",
     "text": [
      "path: \"😊\"\n",
      "path::string 😊\n"
     ]
    }
   ],
   "source": [
    "%%script ./cxx -std=c++2a -lstdc++fs\n",
    "\n",
    "#include <iostream>\n",
    "#include <filesystem>\n",
    "#include <string.h>\n",
    "#include \"demangle.h\"\n",
    "\n",
    "int main() {\n",
    "    using namespace std;\n",
    "    namespace fs = std::filesystem;\n",
    "\n",
    "    // constructed from UTF-32\n",
    "    fs::path path { \"\\U0001F60A\" };\n",
    "    \n",
    "    // path can work with std::cout\n",
    "    cout << \"path: \" << path << endl;\n",
    "    \n",
    "    // convert to multiple-bytes\n",
    "    cout << \"path::string \" << path.string() << endl;\n",
    "    \n",
    "    // If gcc version <= 8, u8string() will return string\n",
    "    // This will change in the future, u8string() will return u8string\n",
    "    // cout << path.u8string() << endl;\n",
    "    \n",
    "    // not working, we have no u16cout, u32cout\n",
    "    // cout << path.u16string() << endl;\n",
    "    // cout << path.u32string() << endl;\n",
    "\n",
    "    //printf(\"everything OK!\\n\");\n",
    "}"
   ]
  },
  {
   "cell_type": "markdown",
   "metadata": {},
   "source": [
    "# Path decomposition"
   ]
  },
  {
   "cell_type": "code",
   "execution_count": 7,
   "metadata": {},
   "outputs": [
    {
     "name": "stdout",
     "output_type": "stream",
     "text": [
      "path\"/home/liangh/projects/blog/JupyterNotebooks/a.b\"\n",
      "path.root_name()\"\"\n",
      "path.root_path()\"/\"\n",
      "path.relative_path()\"home/liangh/projects/blog/JupyterNotebooks/a.b\"\n",
      "path.parent_path()\"/home/liangh/projects/blog/JupyterNotebooks\"\n",
      "path.filename()\"a.b\"\n",
      "path.stem()\"a\"\n",
      "path.extension()\".b\"\n"
     ]
    }
   ],
   "source": [
    "%%script ./cxx -std=c++2a -lstdc++fs\n",
    "\n",
    "#include <iostream>\n",
    "#include <filesystem>\n",
    "\n",
    "int main() {\n",
    "    using namespace std;\n",
    "    namespace fs = std::filesystem;\n",
    "    \n",
    "    fs::path path = fs::current_path();\n",
    "    path.append(\"a.b\");\n",
    "    cout << \"path\" <<  path << endl;\n",
    "    cout << \"path.root_name()\" <<  path.root_name() << endl;\n",
    "    cout << \"path.root_path()\" <<  path.root_path() << endl;\n",
    "    cout << \"path.relative_path()\" << path.relative_path() << endl;\n",
    "    cout << \"path.parent_path()\" <<  path.parent_path() << endl;\n",
    "    cout << \"path.filename()\" << path.filename() << endl;\n",
    "    cout << \"path.stem()\" << path.stem() << endl;\n",
    "    cout << \"path.extension()\" << path.extension() << endl;\n",
    "        \n",
    "}\n"
   ]
  },
  {
   "cell_type": "markdown",
   "metadata": {},
   "source": [
    "# directory_entry"
   ]
  },
  {
   "cell_type": "code",
   "execution_count": 8,
   "metadata": {},
   "outputs": [
    {
     "name": "stdout",
     "output_type": "stream",
     "text": [
      "de.exists()1\n",
      "de.is_directory()1\n",
      "de.is_regular_file()0\n",
      "de.is_symlink()0\n"
     ]
    }
   ],
   "source": [
    "%%script ./cxx -std=c++2a -lstdc++fs\n",
    "\n",
    "#include <iostream>\n",
    "#include <filesystem>\n",
    "\n",
    "int main() {\n",
    "    using namespace std;\n",
    "    namespace fs = std::filesystem;\n",
    "    \n",
    "    auto path = fs::current_path();\n",
    "    fs::directory_entry de { path };\n",
    "    cout << \"de.exists()\" << de.exists() << endl;\n",
    "    cout << \"de.is_directory()\" << de.is_directory() << endl;\n",
    "    cout << \"de.is_regular_file()\" << de.is_regular_file() << endl;\n",
    "    cout << \"de.is_symlink()\" << de.is_symlink() << endl;\n",
    "    try {\n",
    "        cout << de.file_size() << endl;        \n",
    "    } catch(...) {        \n",
    "    }\n",
    "        \n",
    "}\n"
   ]
  },
  {
   "cell_type": "markdown",
   "metadata": {},
   "source": [
    "# directory_iterator"
   ]
  },
  {
   "cell_type": "code",
   "execution_count": 9,
   "metadata": {},
   "outputs": [
    {
     "name": "stdout",
     "output_type": "stream",
     "text": [
      "\"/home/liangh/projects/blog/JupyterNotebooks/cxx_test\"\n",
      "\"/home/liangh/projects/blog/JupyterNotebooks/BiasAndVarianceInPolyFit.ipynb\"\n",
      "\"/home/liangh/projects/blog/JupyterNotebooks/cxx_test\"\n",
      "\"/home/liangh/projects/blog/JupyterNotebooks/BiasAndVarianceInPolyFit.ipynb\"\n",
      "\"/home/liangh/projects/blog/JupyterNotebooks/BiasAndVarianceInPolyFit.ipynb\"\n",
      "\"/home/liangh/projects/blog/JupyterNotebooks/structure_binding_tuple.cxx\"\n"
     ]
    }
   ],
   "source": [
    "%%script ./cxx -std=c++2a -lstdc++fs\n",
    "\n",
    "\n",
    "#include <iostream>\n",
    "#include <filesystem>\n",
    "\n",
    "int main() {\n",
    "    using namespace std;\n",
    "    namespace fs = std::filesystem;\n",
    "    \n",
    "    auto path = fs::current_path();\n",
    "    fs::directory_iterator di { path };\n",
    "    // directory_iterator is a iterator\n",
    "    for(int i = 0; di != fs::directory_iterator() && i < 2; ++di, ++i) {\n",
    "        cout << (*di).path() << endl;\n",
    "    }\n",
    " \n",
    "    // directory_iterator is a range\n",
    "    auto i = 0;\n",
    "    auto rng = fs::directory_iterator(path);\n",
    "    for(auto const &de : rng) {\n",
    "        // de: const &directory_entry\n",
    "        cout << de.path() << endl;\n",
    "\n",
    "        ++i;\n",
    "        if(i >=2) break;\n",
    "    }\n",
    "    i = 0;\n",
    "    for(auto const &de : rng) {\n",
    "        // de: const &directory_entry\n",
    "        cout << de.path() << endl;\n",
    "\n",
    "        ++i;\n",
    "        if(i >=2) break;\n",
    "    }\n",
    "}\n"
   ]
  },
  {
   "cell_type": "markdown",
   "metadata": {},
   "source": [
    "# Non-member function"
   ]
  },
  {
   "cell_type": "code",
   "execution_count": 10,
   "metadata": {},
   "outputs": [
    {
     "name": "stdout",
     "output_type": "stream",
     "text": [
      "fs::current_path() \"/home/liangh/projects/blog/JupyterNotebooks\"\n",
      "1\n",
      "available 1864G\n",
      "\"/home/liangh/projects/blog/JupyterNotebooks/.\"\n",
      "\"/home/liangh/projects/blog/JupyterNotebooks\"\n",
      "\"/home/liangh/projects/blog/JupyterNotebooks\"\n",
      "\"/home/liangh/projects/blog\"\n",
      "\"..\"\n",
      "1\n",
      "00\n"
     ]
    }
   ],
   "source": [
    "%%script ./cxx -std=c++2a -lstdc++fs\n",
    "\n",
    "#include <iostream>\n",
    "#include <filesystem>\n",
    "\n",
    "\n",
    "void my_remove_all(std::filesystem::path const &path) {\n",
    "    using namespace std;\n",
    "    std::error_code ec;\n",
    "    std::filesystem::remove_all(path, ec);\n",
    "    if(ec) {\n",
    "        cout << \"can't remove \" << path << \" because \" \n",
    "            << ec.message() << endl;\n",
    "    }\n",
    "}\n",
    "\n",
    "int main() {\n",
    "    using namespace std;\n",
    "    namespace fs = std::filesystem;\n",
    "\n",
    "    cout << \"fs::current_path() \" << fs::current_path() << endl;\n",
    "    cout << fs::is_directory(fs::current_path()) << endl;\n",
    "    cout << \"available \" << fs::space(fs::current_path()).available/(1024*1024*1024) << \"G\" << endl;\n",
    "    \n",
    "    fs::path path { \".\" };\n",
    "    auto parent_path = fs::canonical(path).parent_path();\n",
    "    cout << fs::absolute(path) << endl;\n",
    "    cout << fs::canonical(path) << endl;\n",
    "    cout << fs::weakly_canonical(path) << endl;\n",
    "    cout << (parent_path) << endl;\n",
    "    cout << fs::relative(parent_path) << endl;\n",
    "    \n",
    "    my_remove_all(fs::path{\"a\"});\n",
    "    my_remove_all(fs::path{\"b\"});\n",
    "\n",
    "    fs::create_directory(fs::path{\"a\"});\n",
    "    fs::create_directory(fs::path{\"a/1\"});\n",
    "    fs::copy(fs::path{\"a\"}, fs::path{\"b\"}, fs::copy_options::recursive);\n",
    "    cout << exists(fs::path{\"b/1\"}) << endl;\n",
    "    fs::rename(fs::path{\"b/1\"}, fs::path{\"b/2\"});\n",
    "    fs::remove(fs::path{\"b/2\"});\n",
    "    \n",
    "    cout << exists(fs::path{\"b/1\"}) << exists(fs::path{\"b/2\"}) << endl;    \n",
    "    \n",
    "    my_remove_all(fs::path{\"a\"});\n",
    "    my_remove_all(fs::path{\"b\"});\n",
    "    \n",
    "    \n",
    "}\n"
   ]
  }
 ],
 "metadata": {
  "kernelspec": {
   "display_name": "Python 2",
   "language": "python",
   "name": "python2"
  },
  "language_info": {
   "codemirror_mode": {
    "name": "ipython",
    "version": 2
   },
   "file_extension": ".py",
   "mimetype": "text/x-python",
   "name": "python",
   "nbconvert_exporter": "python",
   "pygments_lexer": "ipython2",
   "version": "2.7.15+"
  },
  "toc": {
   "base_numbering": 1,
   "nav_menu": {},
   "number_sections": true,
   "sideBar": true,
   "skip_h1_title": false,
   "title_cell": "Table of Contents",
   "title_sidebar": "Contents",
   "toc_cell": true,
   "toc_position": {},
   "toc_section_display": true,
   "toc_window_display": false
  }
 },
 "nbformat": 4,
 "nbformat_minor": 2
}
