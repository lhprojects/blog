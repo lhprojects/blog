{
 "cells": [
  {
   "cell_type": "markdown",
   "metadata": {},
   "source": [
    "题目来自公众号\n",
    "https://mp.weixin.qq.com/s/SyC_LLQL8AU3i6wYNlOdNQ"
   ]
  },
  {
   "cell_type": "markdown",
   "metadata": {},
   "source": [
    "1、一行代码实现1--100之和"
   ]
  },
  {
   "cell_type": "code",
   "execution_count": 1,
   "metadata": {},
   "outputs": [],
   "source": [
    "sum(range(1,101))"
   ]
  },
  {
   "cell_type": "markdown",
   "metadata": {},
   "source": [
    "2、如何在一个函数内部修改全局变量"
   ]
  },
  {
   "cell_type": "code",
   "execution_count": 2,
   "metadata": {},
   "outputs": [],
   "source": [
    "\n",
    "a=5\n",
    "def fn():\n",
    "    global a\n",
    "    a=4\n",
    "    \n",
    "fn()\n",
    "print(a)\n"
   ]
  },
  {
   "cell_type": "markdown",
   "metadata": {},
   "source": [
    "3、列出5个python标准库"
   ]
  },
  {
   "cell_type": "code",
   "execution_count": 3,
   "metadata": {},
   "outputs": [
    {
     "name": "stderr",
     "output_type": "stream",
     "text": [
      "C:\\Users\\liangh\\Anaconda3\\lib\\site-packages\\h5py\\__init__.py:36: FutureWarning: Conversion of the second argument of issubdtype from `float` to `np.floating` is deprecated. In future, it will be treated as `np.float64 == np.dtype(float).type`.\n",
      "  from ._conv import register_converters as _register_converters\n"
     ]
    }
   ],
   "source": [
    "import numpy\n",
    "import tensorflow\n",
    "import datetime"
   ]
  },
  {
   "cell_type": "markdown",
   "metadata": {},
   "source": [
    "4、字典如何删除键和合并两个字典"
   ]
  },
  {
   "cell_type": "code",
   "execution_count": 4,
   "metadata": {},
   "outputs": [
    {
     "name": "stdout",
     "output_type": "stream",
     "text": [
      "{'one': 1, 'two': 2, 'three': 3, 'four': 4}\n"
     ]
    }
   ],
   "source": [
    "d1={\"one\":1, \"two\":2}\n",
    "d2={\"three\":3, \"four\":4}\n",
    "\n",
    "d1.update(d2)\n",
    "print(d1)\n",
    "\n",
    "del d1[\"two\"]\n"
   ]
  },
  {
   "cell_type": "markdown",
   "metadata": {},
   "source": [
    "5、谈下python的GIL"
   ]
  },
  {
   "cell_type": "markdown",
   "metadata": {},
   "source": [
    "6、python实现列表去重的方法"
   ]
  },
  {
   "cell_type": "code",
   "execution_count": 5,
   "metadata": {},
   "outputs": [
    {
     "name": "stdout",
     "output_type": "stream",
     "text": [
      "[1, 2, 3]\n"
     ]
    }
   ],
   "source": [
    "a=[1,2,3,3]\n",
    "a=list(set(a))\n",
    "print(a)"
   ]
  },
  {
   "cell_type": "markdown",
   "metadata": {},
   "source": [
    "7、fun(*args,**kwargs)中的*args,**kwargs什么意思？"
   ]
  },
  {
   "cell_type": "code",
   "execution_count": 6,
   "metadata": {},
   "outputs": [
    {
     "name": "stdout",
     "output_type": "stream",
     "text": [
      "a:a\n",
      "b:b\n",
      "args: c\n",
      "args: d\n",
      "a a\n",
      "args ('b', 'c')\n",
      "kargs {'d': ''}\n"
     ]
    }
   ],
   "source": [
    "def demo(a,b,*args):\n",
    "    print(\"a:\"+a)\n",
    "    print(\"b:\"+b)\n",
    "    for arg in args:\n",
    "        print(\"args:\",arg)\n",
    "        \n",
    "demo('a','b','c','d')        \n",
    "        \n",
    "def demo2(a,*args,**kargs):\n",
    "    print(\"a\", a)\n",
    "    print(\"args\", args)\n",
    "    print(\"kargs\", kargs)\n",
    "    \n",
    "demo2('a','b','c',d='')\n",
    "\n"
   ]
  },
  {
   "cell_type": "markdown",
   "metadata": {},
   "source": [
    "8、python2和python3的range（100）的区别"
   ]
  },
  {
   "cell_type": "code",
   "execution_count": 7,
   "metadata": {},
   "outputs": [
    {
     "name": "stdout",
     "output_type": "stream",
     "text": [
      "<class 'range'>\n",
      "True\n",
      "False\n",
      "0\n",
      "1\n",
      "2\n",
      "3\n",
      "4\n",
      "0\n",
      "1\n",
      "2\n",
      "3\n",
      "4\n"
     ]
    }
   ],
   "source": [
    "from collections import Iterable\n",
    "from collections import Iterator\n",
    "\n",
    "print(type(range(100)))\n",
    "print(isinstance(range(100), Iterable))\n",
    "print(isinstance(range(100), Iterator))\n",
    "\n",
    "for x in range(5):\n",
    "    print(x)\n",
    "    \n",
    "i=iter(range(5))\n",
    "while True:\n",
    "    try:\n",
    "        v=next(i)\n",
    "        print(v)\n",
    "    except StopIteration:\n",
    "        break\n",
    "        "
   ]
  },
  {
   "cell_type": "markdown",
   "metadata": {},
   "source": [
    "9、一句话解释什么样的语言能够用装饰器?"
   ]
  },
  {
   "cell_type": "markdown",
   "metadata": {},
   "source": [
    "10、python内建数据类型有哪些\n",
    "\n"
   ]
  },
  {
   "cell_type": "code",
   "execution_count": 8,
   "metadata": {},
   "outputs": [
    {
     "name": "stdout",
     "output_type": "stream",
     "text": [
      "0\n",
      "False\n",
      "\n",
      "[]\n",
      "()\n",
      "{}\n"
     ]
    }
   ],
   "source": [
    "print(int())\n",
    "print(bool())\n",
    "print(str())\n",
    "print(list())\n",
    "print(tuple())\n",
    "print(dict())"
   ]
  },
  {
   "cell_type": "markdown",
   "metadata": {},
   "source": [
    "11、简述面向对象中__new__和__init__区别"
   ]
  },
  {
   "cell_type": "code",
   "execution_count": 9,
   "metadata": {},
   "outputs": [
    {
     "name": "stdout",
     "output_type": "stream",
     "text": [
      "new\n",
      "229392680\n",
      "229392680\n",
      "init\n"
     ]
    }
   ],
   "source": [
    "class MyClass:\n",
    "    def __init__(self):\n",
    "        print(id(self))\n",
    "        print(\"init\")\n",
    "        \n",
    "    def __new__(cls):\n",
    "        print(\"new\")        \n",
    "        obj=object.__new__(cls)\n",
    "        print(id(obj))\n",
    "        return obj\n",
    "cls=MyClass()\n"
   ]
  },
  {
   "cell_type": "markdown",
   "metadata": {},
   "source": [
    "12、简述with方法打开处理文件帮我我们做了什么？"
   ]
  },
  {
   "cell_type": "code",
   "execution_count": 10,
   "metadata": {},
   "outputs": [
    {
     "name": "stdout",
     "output_type": "stream",
     "text": [
      "b'{\\n \"cells\": [\\n  {\\n   \"cell_type\": \"markdown\",\\n   \"metadata\": {},\\n   \"source\": [\\n    \"\\xe9\\xa2\\x98\\xe7\\x9b\\xae\\xe6\\x9d\\xa5\\xe8\\x87\\xaa\\xe5\\x85\\xac'\n"
     ]
    }
   ],
   "source": [
    "with open('python110.ipynb','rb') as f:\n",
    "    print(f.read(100))\n",
    "    \n"
   ]
  },
  {
   "cell_type": "markdown",
   "metadata": {},
   "source": [
    "13、列表[1,2,3,4,5],请使用map()函数输出[1,4,9,16,25]，并使用列表推导式提取出大于10的数，最终输出[16,25]"
   ]
  },
  {
   "cell_type": "code",
   "execution_count": 11,
   "metadata": {},
   "outputs": [
    {
     "name": "stdout",
     "output_type": "stream",
     "text": [
      "[1, 4, 9, 16, 25]\n",
      "[16, 25]\n"
     ]
    }
   ],
   "source": [
    "a=[1,2,3,4,5]\n",
    "b_=map(lambda x: x**2, a)\n",
    "print(list(b_))\n",
    "\n",
    "b=map(lambda x: x**2, a)\n",
    "c=[x for x in b if x > 10]\n",
    "print(c)"
   ]
  },
  {
   "cell_type": "markdown",
   "metadata": {},
   "source": [
    "14、python中生成随机整数、随机小数、0--1之间小数方法"
   ]
  },
  {
   "cell_type": "code",
   "execution_count": 12,
   "metadata": {},
   "outputs": [
    {
     "name": "stdout",
     "output_type": "stream",
     "text": [
      "0.23366259680266144\n",
      "9\n",
      "[0.96830714 0.31136065 0.79058545 0.36671531 0.11437129]\n",
      "[[7 8]\n",
      " [9 9]]\n"
     ]
    }
   ],
   "source": [
    "import random\n",
    "print(random.random())\n",
    "print(random.randint(0,10))\n",
    "\n",
    "import numpy as np\n",
    "print(np.random.random(5))\n",
    "print(np.random.randint(5,10,size=(2,2)))\n"
   ]
  },
  {
   "cell_type": "markdown",
   "metadata": {},
   "source": [
    "15、避免转义给字符串加哪个字母表示原始字符串？"
   ]
  },
  {
   "cell_type": "code",
   "execution_count": 13,
   "metadata": {},
   "outputs": [
    {
     "name": "stdout",
     "output_type": "stream",
     "text": [
      "\\\\abc\n"
     ]
    }
   ],
   "source": [
    "print(r\"\\\\abc\")"
   ]
  },
  {
   "cell_type": "markdown",
   "metadata": {},
   "source": [
    "16、`<div class=\"nam\">中国</div>`，用正则匹配出标签里面的内容（“中国”），其中class的类名是不确定的"
   ]
  },
  {
   "cell_type": "code",
   "execution_count": 14,
   "metadata": {},
   "outputs": [
    {
     "name": "stdout",
     "output_type": "stream",
     "text": [
      "['中国']\n"
     ]
    }
   ],
   "source": [
    "import re\n",
    "reg='<div class=\".*\">(.*?)</div>'\n",
    "a=re.findall(reg,r'6、<div class=\"nam\">中国</div>')\n",
    "print(a)"
   ]
  },
  {
   "cell_type": "markdown",
   "metadata": {},
   "source": [
    "17、python中断言方法举例"
   ]
  },
  {
   "cell_type": "code",
   "execution_count": 15,
   "metadata": {},
   "outputs": [],
   "source": [
    "a=3\n",
    "assert(a>0)\n"
   ]
  },
  {
   "cell_type": "markdown",
   "metadata": {},
   "source": [
    "18、数据表student有id,name,score,city字段，其中name中的名字可有重复，需要消除重复行,请写sql语句"
   ]
  },
  {
   "cell_type": "markdown",
   "metadata": {},
   "source": [
    "?\n"
   ]
  },
  {
   "cell_type": "markdown",
   "metadata": {},
   "source": [
    "19、10个Linux常用命令"
   ]
  },
  {
   "cell_type": "markdown",
   "metadata": {},
   "source": [
    "ls  pwd  cd  touch  rm  mkdir  tree  cp  mv  cat  more  grep  echo "
   ]
  },
  {
   "cell_type": "markdown",
   "metadata": {},
   "source": [
    "20、python2和python3区别？列举5个"
   ]
  },
  {
   "cell_type": "markdown",
   "metadata": {},
   "source": [
    "print, range"
   ]
  },
  {
   "cell_type": "markdown",
   "metadata": {},
   "source": [
    "21、列出python中可变数据类型和不可变数据类型，并简述原理"
   ]
  },
  {
   "cell_type": "code",
   "execution_count": 16,
   "metadata": {},
   "outputs": [
    {
     "data": {
      "text/plain": [
       "tuple"
      ]
     },
     "execution_count": 16,
     "metadata": {},
     "output_type": "execute_result"
    }
   ],
   "source": [
    "int\n",
    "bool\n",
    "float\n",
    "str\n",
    "tuple"
   ]
  },
  {
   "cell_type": "markdown",
   "metadata": {},
   "source": [
    "22、s = \"ajldjlajfdljfddd\"，去重并从小到大排序输出\"adfjl\""
   ]
  },
  {
   "cell_type": "code",
   "execution_count": 17,
   "metadata": {},
   "outputs": [
    {
     "name": "stdout",
     "output_type": "stream",
     "text": [
      "adfjl\n"
     ]
    }
   ],
   "source": [
    "s = \"ajldjlajfdljfddd\"\n",
    "a=\"\".join(sorted(list(set(s))))\n",
    "print(a)"
   ]
  },
  {
   "cell_type": "markdown",
   "metadata": {},
   "source": [
    "23、用lambda函数实现两个数相乘"
   ]
  },
  {
   "cell_type": "code",
   "execution_count": 18,
   "metadata": {},
   "outputs": [
    {
     "data": {
      "text/plain": [
       "12"
      ]
     },
     "execution_count": 18,
     "metadata": {},
     "output_type": "execute_result"
    }
   ],
   "source": [
    "f=lambda x,y: x*y\n",
    "f(3,4)"
   ]
  },
  {
   "cell_type": "markdown",
   "metadata": {},
   "source": [
    "24、字典根据键从小到大排序\n",
    "\n"
   ]
  },
  {
   "cell_type": "code",
   "execution_count": 19,
   "metadata": {},
   "outputs": [
    {
     "name": "stdout",
     "output_type": "stream",
     "text": [
      "[('age', 18), ('city', '深圳'), ('name', 'zs'), ('tel', '1362626627')]\n"
     ]
    }
   ],
   "source": [
    "dic={\"name\":\"zs\",\"age\":18,\"city\":\"深圳\",\"tel\":\"1362626627\"}\n",
    "\n",
    "print(sorted(list(dic.items()),key=lambda x: x[0]))\n"
   ]
  },
  {
   "cell_type": "markdown",
   "metadata": {},
   "source": [
    "25、利用collections库的Counter方法统计字符串每个单词出现的次数\"kjalfj;ldsjafl;hdsllfdhg;lahfbl;hl;ahlf;h\"\n",
    "\n"
   ]
  },
  {
   "cell_type": "code",
   "execution_count": 20,
   "metadata": {},
   "outputs": [
    {
     "name": "stdout",
     "output_type": "stream",
     "text": [
      "Counter({'l': 9, ';': 6, 'h': 6, 'f': 5, 'a': 4, 'j': 3, 'd': 3, 's': 2, 'k': 1, 'g': 1, 'b': 1})\n"
     ]
    }
   ],
   "source": [
    "from collections import Counter\n",
    "a=\"kjalfj;ldsjafl;hdsllfdhg;lahfbl;hl;ahlf;h\"\n",
    "ans=Counter(a)\n",
    "print(ans)"
   ]
  },
  {
   "cell_type": "markdown",
   "metadata": {},
   "source": [
    "26、字符串a = \"not 404 found 张三 99 深圳\"，每个词中间是空格，用正则过滤掉英文和数字，最终输出\"张三  深圳\""
   ]
  },
  {
   "cell_type": "code",
   "execution_count": 21,
   "metadata": {},
   "outputs": [],
   "source": [
    "import re"
   ]
  },
  {
   "cell_type": "markdown",
   "metadata": {},
   "source": [
    "27、filter方法求出列表所有奇数并构造新列表，a =  [1, 2, 3, 4, 5, 6, 7, 8, 9, 10]\n",
    "\n"
   ]
  },
  {
   "cell_type": "code",
   "execution_count": 22,
   "metadata": {},
   "outputs": [
    {
     "data": {
      "text/plain": [
       "[1, 3, 5, 7, 9]"
      ]
     },
     "execution_count": 22,
     "metadata": {},
     "output_type": "execute_result"
    }
   ],
   "source": [
    "a = [1, 2, 3, 4, 5, 6, 7, 8, 9, 10]\n",
    "list(filter(lambda x: x%2==1,a))\n"
   ]
  },
  {
   "cell_type": "markdown",
   "metadata": {},
   "source": [
    "28、列表推导式求列表所有奇数并构造新列表，a =  [1, 2, 3, 4, 5, 6, 7, 8, 9, 10]\n",
    "\n"
   ]
  },
  {
   "cell_type": "code",
   "execution_count": 23,
   "metadata": {},
   "outputs": [
    {
     "data": {
      "text/plain": [
       "[1, 3, 5, 7, 9]"
      ]
     },
     "execution_count": 23,
     "metadata": {},
     "output_type": "execute_result"
    }
   ],
   "source": [
    "a = [1, 2, 3, 4, 5, 6, 7, 8, 9, 10]\n",
    "[x for x in a if x%2 == 1]"
   ]
  },
  {
   "cell_type": "markdown",
   "metadata": {},
   "source": [
    "29、正则re.complie作用"
   ]
  },
  {
   "cell_type": "code",
   "execution_count": null,
   "metadata": {},
   "outputs": [],
   "source": []
  },
  {
   "cell_type": "markdown",
   "metadata": {},
   "source": [
    "30、a=（1，）b=(1)，c=(\"1\") 分别是什么类型的数据？"
   ]
  },
  {
   "cell_type": "code",
   "execution_count": 24,
   "metadata": {},
   "outputs": [
    {
     "name": "stdout",
     "output_type": "stream",
     "text": [
      "<class 'tuple'>\n",
      "<class 'int'>\n",
      "<class 'str'>\n"
     ]
    }
   ],
   "source": [
    "print(type((1,)))\n",
    "print(type((1)))\n",
    "print(type((\"1\")))\n"
   ]
  },
  {
   "cell_type": "markdown",
   "metadata": {},
   "source": [
    "31、两个列表[1,5,7,9]和[2,2,6,8]合并为[1,2,2,3,6,7,8,9]"
   ]
  },
  {
   "cell_type": "code",
   "execution_count": 25,
   "metadata": {},
   "outputs": [
    {
     "name": "stdout",
     "output_type": "stream",
     "text": [
      "[1, 2, 2, 5, 6, 7, 8, 9]\n"
     ]
    }
   ],
   "source": [
    "a=[1,5,7,9]\n",
    "b=[2,2,6,8]\n",
    "a.extend(b)\n",
    "a.sort()\n",
    "print(a)"
   ]
  },
  {
   "cell_type": "markdown",
   "metadata": {},
   "source": [
    "32、用python删除文件和用linux命令删除文件方法"
   ]
  },
  {
   "cell_type": "markdown",
   "metadata": {},
   "source": [
    "python：os.remove(文件名)\n",
    "\n",
    "linux:       rm  文件名"
   ]
  },
  {
   "cell_type": "markdown",
   "metadata": {},
   "source": [
    "33、log日志中，我们需要用时间戳记录error,warning等的发生时间，请用datetime模块打印当前时间戳 “2018-04-01 11:38:54”"
   ]
  },
  {
   "cell_type": "code",
   "execution_count": 26,
   "metadata": {},
   "outputs": [
    {
     "data": {
      "text/plain": [
       "'2019-10-17 16:13:36'"
      ]
     },
     "execution_count": 26,
     "metadata": {},
     "output_type": "execute_result"
    }
   ],
   "source": [
    "import datetime\n",
    "n=datetime.datetime.now()\n",
    "n.strftime(\"%Y-%m-%d %H:%M:%S\")"
   ]
  },
  {
   "cell_type": "markdown",
   "metadata": {},
   "source": [
    "34、数据库优化查询方法\n"
   ]
  },
  {
   "cell_type": "markdown",
   "metadata": {},
   "source": [
    "35、请列出你会的任意一种统计图（条形图、折线图等）绘制的开源库，第三方也行\n",
    "\n"
   ]
  },
  {
   "cell_type": "markdown",
   "metadata": {},
   "source": [
    "36、写一段自定义异常代码\n",
    "\n"
   ]
  },
  {
   "cell_type": "code",
   "execution_count": 27,
   "metadata": {},
   "outputs": [
    {
     "name": "stdout",
     "output_type": "stream",
     "text": [
      "0\n",
      "1\n",
      "2\n",
      "3\n",
      "too large\n"
     ]
    }
   ],
   "source": [
    "def catchException():\n",
    "    try:\n",
    "        for i in range(5):\n",
    "            print(i)\n",
    "            if i > 2:\n",
    "                raise Exception(\"too large\")\n",
    "    except Exception as ex:\n",
    "        print(ex)\n",
    "    \n",
    "catchException()   "
   ]
  },
  {
   "cell_type": "markdown",
   "metadata": {},
   "source": [
    "37、正则表达式匹配中，（.*）和（.*?）匹配区别？\n"
   ]
  },
  {
   "cell_type": "markdown",
   "metadata": {},
   "source": [
    "38、简述Django的orm\n",
    "\n"
   ]
  },
  {
   "cell_type": "markdown",
   "metadata": {},
   "source": [
    "39、[[1,2],[3,4],[5,6]]一行代码展开该列表，得出[1,2,3,4,5,6]\n"
   ]
  },
  {
   "cell_type": "code",
   "execution_count": 28,
   "metadata": {},
   "outputs": [
    {
     "name": "stdout",
     "output_type": "stream",
     "text": [
      "[1, 2, 3, 4, 5, 6]\n"
     ]
    }
   ],
   "source": [
    "a=[[1,2],[3,4],[5,6]]\n",
    "b=[x for ar in a for x in ar]\n",
    "print(b)"
   ]
  },
  {
   "cell_type": "markdown",
   "metadata": {},
   "source": [
    "40、x=\"abc\",y=\"def\",z=[\"d\",\"e\",\"f\"],分别求出x.join(y)和x.join(z)返回的结果\n",
    "\n"
   ]
  },
  {
   "cell_type": "code",
   "execution_count": 29,
   "metadata": {},
   "outputs": [
    {
     "name": "stdout",
     "output_type": "stream",
     "text": [
      "dabceabcf\n",
      "dabceabcf\n"
     ]
    }
   ],
   "source": [
    "x=\"abc\"\n",
    "y=\"def\"\n",
    "z=[\"d\",\"e\",\"f\"]\n",
    "print(x.join(y))\n",
    "print(x.join(z))\n",
    "\n"
   ]
  },
  {
   "cell_type": "markdown",
   "metadata": {},
   "source": [
    "41、举例说明异常模块中try except else finally的相关意义\n",
    "\n"
   ]
  },
  {
   "cell_type": "code",
   "execution_count": 30,
   "metadata": {},
   "outputs": [
    {
     "name": "stdout",
     "output_type": "stream",
     "text": [
      "except\n",
      "finally\n"
     ]
    }
   ],
   "source": [
    "\n",
    "try:\n",
    "    raise Exception(\"abc\")\n",
    "except Exception:\n",
    "    print(\"except\")\n",
    "else:\n",
    "    print('else')\n",
    "finally:\n",
    "    print(\"finally\")\n"
   ]
  },
  {
   "cell_type": "markdown",
   "metadata": {},
   "source": [
    "42、python中交换两个数值\n",
    "\n"
   ]
  },
  {
   "cell_type": "code",
   "execution_count": 31,
   "metadata": {},
   "outputs": [
    {
     "name": "stdout",
     "output_type": "stream",
     "text": [
      "2 1\n"
     ]
    }
   ],
   "source": [
    "a,b=1,2\n",
    "b,a=a,b\n",
    "print(a,b)"
   ]
  },
  {
   "cell_type": "markdown",
   "metadata": {},
   "source": [
    "43、举例说明zip（）函数用法\n",
    "\n"
   ]
  },
  {
   "cell_type": "code",
   "execution_count": 32,
   "metadata": {},
   "outputs": [
    {
     "name": "stdout",
     "output_type": "stream",
     "text": [
      "1 100\n",
      "2 101\n",
      "3 102\n",
      "4 103\n"
     ]
    }
   ],
   "source": [
    "for x,y in zip(range(1,5), range(100,200)):\n",
    "    print(x,y)"
   ]
  },
  {
   "cell_type": "markdown",
   "metadata": {},
   "source": [
    "44、a=\"张明 98分\"，用re.sub，将98替换为100\n",
    "\n"
   ]
  },
  {
   "cell_type": "markdown",
   "metadata": {},
   "source": [
    "45、写5条常用sql语句\n",
    "\n"
   ]
  },
  {
   "cell_type": "markdown",
   "metadata": {},
   "source": [
    "46、a=\"hello\"和b=\"你好\"编码成bytes类型\n",
    "\n"
   ]
  },
  {
   "cell_type": "code",
   "execution_count": 33,
   "metadata": {},
   "outputs": [],
   "source": [
    "a=\"hello\"\n",
    "b=\"你好\"\n"
   ]
  },
  {
   "cell_type": "markdown",
   "metadata": {},
   "source": [
    "47、[1,2,3]+[4,5,6]的结果是多少？\n",
    "\n"
   ]
  },
  {
   "cell_type": "code",
   "execution_count": 34,
   "metadata": {},
   "outputs": [
    {
     "data": {
      "text/plain": [
       "[1, 2, 3, 4, 5, 6]"
      ]
     },
     "execution_count": 34,
     "metadata": {},
     "output_type": "execute_result"
    }
   ],
   "source": [
    "[1,2,3]+ [4,5,6]"
   ]
  },
  {
   "cell_type": "markdown",
   "metadata": {},
   "source": [
    "48、提高python运行效率的方法\n",
    "\n"
   ]
  },
  {
   "cell_type": "markdown",
   "metadata": {},
   "source": [
    "49、简述mysql和redis区别\n",
    "\n"
   ]
  },
  {
   "cell_type": "markdown",
   "metadata": {},
   "source": [
    "50、遇到bug如何处理"
   ]
  },
  {
   "cell_type": "markdown",
   "metadata": {},
   "source": [
    "51、正则匹配，匹配日期2018-03-20\n",
    "\n"
   ]
  },
  {
   "cell_type": "markdown",
   "metadata": {},
   "source": [
    "52、list=[2,3,5,4,9,6]，从小到大排序，不许用sort，输出[2,3,4,5,6,9]\n",
    "\n"
   ]
  },
  {
   "cell_type": "code",
   "execution_count": 35,
   "metadata": {},
   "outputs": [
    {
     "name": "stdout",
     "output_type": "stream",
     "text": [
      "[2, 3, 4, 5, 6, 9]\n"
     ]
    }
   ],
   "source": [
    "a=[2,3,5,4,9,6]\n",
    "out=[]\n",
    "while len(a) != 0:\n",
    "    m=min(a)\n",
    "    out.append(m)\n",
    "    a.remove(m)\n",
    "print(out)"
   ]
  },
  {
   "cell_type": "markdown",
   "metadata": {},
   "source": [
    "53、写一个单列模式\n",
    "\n"
   ]
  },
  {
   "cell_type": "code",
   "execution_count": 36,
   "metadata": {},
   "outputs": [
    {
     "name": "stdout",
     "output_type": "stream",
     "text": [
      "229466968\n",
      "229466968\n",
      "1\n"
     ]
    }
   ],
   "source": [
    "class S:\n",
    "    __instance=None\n",
    "    def __new__(cls,v):\n",
    "        if cls.__instance is None:\n",
    "            cls.__instance=object.__new__(cls)\n",
    "            cls.__instance.v=v\n",
    "        return cls.__instance\n",
    "\n",
    "    \n",
    "print(id(S(1)))\n",
    "print(id(S(2)))\n",
    "a=S(1)\n",
    "b=S(2)\n",
    "print(a.v)"
   ]
  },
  {
   "cell_type": "markdown",
   "metadata": {},
   "source": [
    "54、保留两位小数"
   ]
  },
  {
   "cell_type": "markdown",
   "metadata": {},
   "source": [
    "55、求三个方法打印结果\n"
   ]
  },
  {
   "cell_type": "markdown",
   "metadata": {},
   "source": [
    "56、列出常见的状态码和意义\n",
    "\n"
   ]
  },
  {
   "cell_type": "markdown",
   "metadata": {},
   "source": [
    "57、分别从前端、后端、数据库阐述web项目的性能优化\n",
    "\n"
   ]
  },
  {
   "cell_type": "markdown",
   "metadata": {},
   "source": [
    "58、使用pop和del删除字典中的\"name\"字段，dic={\"name\":\"zs\",\"age\":18}\n",
    "\n"
   ]
  },
  {
   "cell_type": "code",
   "execution_count": 37,
   "metadata": {},
   "outputs": [],
   "source": [
    "dic={\"name\":\"zs\",\"age\":18}\n",
    "\n",
    "dic.pop('name')\n",
    "del dic['age']\n"
   ]
  },
  {
   "cell_type": "markdown",
   "metadata": {},
   "source": [
    "59、列出常见MYSQL数据存储引擎\n",
    "\n"
   ]
  },
  {
   "cell_type": "markdown",
   "metadata": {},
   "source": [
    "60、计算代码运行结果，zip函数历史文章已经说了，得出[(\"a\",1),(\"b\",2)，(\"c\",3),(\"d\",4),(\"e\",5)]\n",
    "\n"
   ]
  },
  {
   "cell_type": "markdown",
   "metadata": {},
   "source": [
    "61、简述同源策略\n",
    "\n"
   ]
  },
  {
   "cell_type": "markdown",
   "metadata": {},
   "source": [
    "62、简述cookie和session的区别\n",
    "\n"
   ]
  },
  {
   "cell_type": "markdown",
   "metadata": {},
   "source": [
    "63、简述多线程、多进程\n",
    "\n"
   ]
  },
  {
   "cell_type": "markdown",
   "metadata": {},
   "source": [
    "64、简述any()和all()方法\n",
    "\n"
   ]
  },
  {
   "cell_type": "code",
   "execution_count": 38,
   "metadata": {},
   "outputs": [
    {
     "name": "stdout",
     "output_type": "stream",
     "text": [
      "True\n",
      "False\n"
     ]
    }
   ],
   "source": [
    "print(any([0,1]))\n",
    "print(all([0,1]))\n"
   ]
  },
  {
   "cell_type": "markdown",
   "metadata": {},
   "source": [
    "65、IOError、AttributeError、ImportError、IndentationError、IndexError、KeyError、SyntaxError、NameError分别代表什么异常\n",
    "\n"
   ]
  },
  {
   "cell_type": "markdown",
   "metadata": {},
   "source": [
    "66、python中copy和deepcopy区别\n",
    "\n"
   ]
  },
  {
   "cell_type": "code",
   "execution_count": 39,
   "metadata": {},
   "outputs": [
    {
     "name": "stdout",
     "output_type": "stream",
     "text": [
      "31210720\n",
      "31210720\n",
      "31210720\n",
      "229521416\n",
      "229521736\n",
      "31129416 31127736\n",
      "31129416 31127736\n",
      "229521544\n",
      "229338696\n",
      "229521480 31127736\n",
      "229521480 31127736\n",
      "229521800\n",
      "229521736\n",
      "229521416 31127736\n",
      "229522120 31127736\n"
     ]
    }
   ],
   "source": [
    "import copy\n",
    "a=\"abc\"\n",
    "print(id(a))\n",
    "print(id(copy.copy(a)))\n",
    "print(id(copy.deepcopy(a)))\n",
    "\n",
    "\n",
    "a=[\"a\",\"b\"]\n",
    "aa=copy.copy(a)\n",
    "print(id(a))\n",
    "print(id(aa))\n",
    "print(id(a[0]),id(a[1]))\n",
    "print(id(aa[0]),id(a[1]))\n",
    "\n",
    "a=[[\"a\",\"c\"],\"b\"]\n",
    "aa=copy.copy(a)\n",
    "print(id(a))\n",
    "print(id(aa))\n",
    "print(id(a[0]),id(a[1]))\n",
    "print(id(aa[0]),id(a[1]))\n",
    "\n",
    "a=[[\"a\",\"c\"],\"b\"]\n",
    "aa=copy.deepcopy(a)\n",
    "print(id(a))\n",
    "print(id(aa))\n",
    "print(id(a[0]),id(a[1]))\n",
    "print(id(aa[0]),id(a[1]))\n"
   ]
  },
  {
   "cell_type": "markdown",
   "metadata": {},
   "source": [
    "67、列出几种魔法方法并简要介绍用途\n",
    "\n"
   ]
  },
  {
   "cell_type": "code",
   "execution_count": 40,
   "metadata": {},
   "outputs": [
    {
     "name": "stdout",
     "output_type": "stream",
     "text": [
      "A\n"
     ]
    }
   ],
   "source": [
    "class A:\n",
    "    def __str__(a):\n",
    "        return \"A\"\n",
    "        \n",
    "        \n",
    "print(A())"
   ]
  },
  {
   "cell_type": "markdown",
   "metadata": {},
   "source": [
    "68、C:\\Users\\ry-wu.junya\\Desktop>python 1.py 22 33命令行启动程序并传参，print(sys.argv)会输出什么数据？\n",
    "\n"
   ]
  },
  {
   "cell_type": "code",
   "execution_count": 41,
   "metadata": {},
   "outputs": [
    {
     "name": "stdout",
     "output_type": "stream",
     "text": [
      "['C:\\\\Users\\\\liangh\\\\Anaconda3\\\\lib\\\\site-packages\\\\ipykernel_launcher.py', '-f', 'C:\\\\Users\\\\liangh\\\\AppData\\\\Roaming\\\\jupyter\\\\runtime\\\\kernel-f1880ac0-bda0-4e5b-9a8b-cff34a36d909.json']\n"
     ]
    }
   ],
   "source": [
    "import sys\n",
    "print(sys.argv)"
   ]
  },
  {
   "cell_type": "markdown",
   "metadata": {},
   "source": [
    "69、请将[i for i in range(3)]改成生成器\n",
    "\n"
   ]
  },
  {
   "cell_type": "code",
   "execution_count": 42,
   "metadata": {},
   "outputs": [
    {
     "name": "stdout",
     "output_type": "stream",
     "text": [
      "<class 'list'>\n",
      "<generator object <genexpr> at 0x000000000DA9FA98>\n"
     ]
    }
   ],
   "source": [
    "print(type([i for i in range(3)]))\n",
    "print((i for i in range(3)))\n"
   ]
  },
  {
   "cell_type": "markdown",
   "metadata": {},
   "source": [
    "70、a = \"  hehheh  \",去除收尾空格\n",
    "\n"
   ]
  },
  {
   "cell_type": "code",
   "execution_count": 43,
   "metadata": {},
   "outputs": [
    {
     "data": {
      "text/plain": [
       "'hehheh'"
      ]
     },
     "execution_count": 43,
     "metadata": {},
     "output_type": "execute_result"
    }
   ],
   "source": [
    "a = \" hehheh \"\n",
    "a.strip()"
   ]
  },
  {
   "cell_type": "markdown",
   "metadata": {},
   "source": [
    "71、举例sort和sorted对列表排序，list=[0,-1,3,-10,5,9]"
   ]
  },
  {
   "cell_type": "code",
   "execution_count": 44,
   "metadata": {},
   "outputs": [
    {
     "data": {
      "text/plain": [
       "[-10, -1, 0, 3, 5, 9]"
      ]
     },
     "execution_count": 44,
     "metadata": {},
     "output_type": "execute_result"
    }
   ],
   "source": [
    "a=[0,-1,3,-10,5,9]\n",
    "sorted(a)"
   ]
  },
  {
   "cell_type": "markdown",
   "metadata": {},
   "source": [
    "72、对list排序foo = [-5,8,0,4,9,-4,-20,-2,8,2,-4],使用lambda函数从小到大排序\n",
    "\n"
   ]
  },
  {
   "cell_type": "code",
   "execution_count": 45,
   "metadata": {},
   "outputs": [
    {
     "data": {
      "text/plain": [
       "[-20, -5, -4, -4, -2, 0, 2, 4, 8, 8, 9]"
      ]
     },
     "execution_count": 45,
     "metadata": {},
     "output_type": "execute_result"
    }
   ],
   "source": [
    "foo = [-5,8,0,4,9,-4,-20,-2,8,2,-4]\n",
    "sorted(foo, key=lambda x:x)"
   ]
  },
  {
   "cell_type": "markdown",
   "metadata": {},
   "source": [
    "73、使用lambda函数对list排序foo = [-5,8,0,4,9,-4,-20,-2,8,2,-4]，输出结果为\n",
    "\n",
    "[0,2,4,8,8,9,-2,-4,-4,-5,-20]，正数从小到大，负数从大到小\n",
    "\n"
   ]
  },
  {
   "cell_type": "code",
   "execution_count": 46,
   "metadata": {},
   "outputs": [
    {
     "data": {
      "text/plain": [
       "[0, 2, 4, 8, 8, 9, -2, -4, -4, -5, -20]"
      ]
     },
     "execution_count": 46,
     "metadata": {},
     "output_type": "execute_result"
    }
   ],
   "source": [
    "foo = [-5,8,0,4,9,-4,-20,-2,8,2,-4]\n",
    "sorted(foo, key=lambda x: (x<0,abs(x)))"
   ]
  },
  {
   "cell_type": "markdown",
   "metadata": {},
   "source": [
    "74、列表嵌套字典的排序，分别根据年龄和姓名排序\n",
    "\n"
   ]
  },
  {
   "cell_type": "code",
   "execution_count": 47,
   "metadata": {},
   "outputs": [
    {
     "data": {
      "text/plain": [
       "[{'name': 'df', 'age': 23},\n",
       " {'name': 'll', 'age': 54},\n",
       " {'name': 'wa', 'age': 17},\n",
       " {'name': 'zs', 'age': 19}]"
      ]
     },
     "execution_count": 47,
     "metadata": {},
     "output_type": "execute_result"
    }
   ],
   "source": [
    "foo = [{\"name\":\"zs\",\"age\":19},{\"name\":\"ll\",\"age\":54},\n",
    "        {\"name\":\"wa\",\"age\":17},{\"name\":\"df\",\"age\":23}]\n",
    "sorted(foo, key=lambda x : (x['name'],x['age']))\n"
   ]
  },
  {
   "cell_type": "markdown",
   "metadata": {},
   "source": [
    "75、列表嵌套元组，分别按字母和数字排序\n",
    "\n",
    "\n"
   ]
  },
  {
   "cell_type": "markdown",
   "metadata": {},
   "source": [
    "76、列表嵌套列表排序，年龄数字相同怎么办？\n",
    "\n"
   ]
  },
  {
   "cell_type": "markdown",
   "metadata": {},
   "source": [
    "77、根据键对字典排序（方法一，zip函数）\n",
    "\n"
   ]
  },
  {
   "cell_type": "markdown",
   "metadata": {},
   "source": [
    "78、根据键对字典排序（方法二,不用zip)\n",
    "\n"
   ]
  },
  {
   "cell_type": "markdown",
   "metadata": {},
   "source": [
    "79、列表推导式、字典推导式、生成器\n",
    "\n"
   ]
  },
  {
   "cell_type": "code",
   "execution_count": 48,
   "metadata": {},
   "outputs": [
    {
     "name": "stdout",
     "output_type": "stream",
     "text": [
      "<class 'list'>\n",
      "<class 'generator'>\n",
      "<class 'dict'>\n"
     ]
    }
   ],
   "source": [
    "print(type([i for i in range(3)]))\n",
    "print(type((i for i in range(3))))\n",
    "print(type({i:i*i for i in range(3)}))\n"
   ]
  },
  {
   "cell_type": "markdown",
   "metadata": {},
   "source": [
    "80、最后出一道检验题目，根据字符串长度排序，看排序是否灵活运用\n",
    "\n"
   ]
  },
  {
   "cell_type": "markdown",
   "metadata": {},
   "source": [
    "81、举例说明SQL注入和解决办法\n",
    "\n"
   ]
  },
  {
   "cell_type": "markdown",
   "metadata": {},
   "source": [
    "82、s=\"info:xiaoZhang 33 shandong\",用正则切分字符串输出['info', 'xiaoZhang', '33', 'shandong']\n",
    "\n"
   ]
  },
  {
   "cell_type": "markdown",
   "metadata": {},
   "source": [
    "83、正则匹配以163.com结尾的邮箱\n",
    "\n"
   ]
  },
  {
   "cell_type": "markdown",
   "metadata": {},
   "source": [
    "84、递归求和\n",
    "\n"
   ]
  },
  {
   "cell_type": "markdown",
   "metadata": {},
   "source": [
    "85、python字典和json字符串相互转化方法\n",
    "\n"
   ]
  },
  {
   "cell_type": "markdown",
   "metadata": {},
   "source": [
    "86、MyISAM 与 InnoDB 区别：\n",
    "\n"
   ]
  },
  {
   "cell_type": "markdown",
   "metadata": {},
   "source": [
    "87、统计字符串中某字符出现次数\n",
    "\n"
   ]
  },
  {
   "cell_type": "code",
   "execution_count": 49,
   "metadata": {},
   "outputs": [
    {
     "data": {
      "text/plain": [
       "2"
      ]
     },
     "execution_count": 49,
     "metadata": {},
     "output_type": "execute_result"
    }
   ],
   "source": [
    "a=[\"abc\",\"d\",\"abc\"]\n",
    "a.count(\"abc\")"
   ]
  },
  {
   "cell_type": "markdown",
   "metadata": {},
   "source": [
    "88、字符串转化大小写\n",
    "\n"
   ]
  },
  {
   "cell_type": "code",
   "execution_count": 50,
   "metadata": {},
   "outputs": [
    {
     "name": "stdout",
     "output_type": "stream",
     "text": [
      "abc\n",
      "ABC\n"
     ]
    }
   ],
   "source": [
    "a=\"Abc\"\n",
    "print(a.lower())\n",
    "print(a.upper())"
   ]
  },
  {
   "cell_type": "markdown",
   "metadata": {},
   "source": [
    "89、用两种方法去空格\n",
    "\n"
   ]
  },
  {
   "cell_type": "code",
   "execution_count": 51,
   "metadata": {},
   "outputs": [
    {
     "data": {
      "text/plain": [
       "'abc'"
      ]
     },
     "execution_count": 51,
     "metadata": {},
     "output_type": "execute_result"
    }
   ],
   "source": [
    "a=\"a b c\"\n",
    "a.replace(\" \",\"\")"
   ]
  },
  {
   "cell_type": "markdown",
   "metadata": {},
   "source": [
    "90、正则匹配不是以4和7结尾的手机号\n",
    "\n"
   ]
  },
  {
   "cell_type": "markdown",
   "metadata": {},
   "source": [
    "91、简述python引用计数机制\n",
    "\n"
   ]
  },
  {
   "cell_type": "markdown",
   "metadata": {},
   "source": [
    "92、int(\"1.4\"),int(1.4)输出结果？\n",
    "\n"
   ]
  },
  {
   "cell_type": "code",
   "execution_count": 52,
   "metadata": {},
   "outputs": [
    {
     "name": "stdout",
     "output_type": "stream",
     "text": [
      "invalid literal for int() with base 10: '1.4'\n"
     ]
    }
   ],
   "source": [
    "int(1.4)\n",
    "try:\n",
    "    int(\"1.4\")\n",
    "except ValueError as v:\n",
    "    print(v)"
   ]
  },
  {
   "cell_type": "markdown",
   "metadata": {},
   "source": [
    "94、正则表达式匹配第一个URL\n",
    "\n"
   ]
  },
  {
   "cell_type": "markdown",
   "metadata": {},
   "source": [
    "95、正则匹配中文\n",
    "\n"
   ]
  },
  {
   "cell_type": "markdown",
   "metadata": {},
   "source": [
    "96、简述乐观锁和悲观锁\n",
    "\n"
   ]
  },
  {
   "cell_type": "markdown",
   "metadata": {},
   "source": [
    "97、r、r+、rb、rb+文件打开模式区别\n",
    "\n"
   ]
  },
  {
   "cell_type": "markdown",
   "metadata": {},
   "source": [
    "98、Linux命令重定向 > 和 >>\n",
    "\n"
   ]
  },
  {
   "cell_type": "markdown",
   "metadata": {},
   "source": [
    "99、正则表达式匹配出`<html><h1>www.itcast.cn</h1></html>`\n",
    "\n"
   ]
  },
  {
   "cell_type": "markdown",
   "metadata": {},
   "source": [
    "100、python传参数是传值还是传址？\n",
    "\n"
   ]
  },
  {
   "cell_type": "markdown",
   "metadata": {},
   "source": [
    "101、求两个列表的交集、差集、并集\n",
    "\n"
   ]
  },
  {
   "cell_type": "code",
   "execution_count": 53,
   "metadata": {},
   "outputs": [
    {
     "name": "stdout",
     "output_type": "stream",
     "text": [
      "{'b', 'c', 'a'}\n",
      "{'b'}\n",
      "{'a'}\n"
     ]
    }
   ],
   "source": [
    "a={\"a\",\"b\"}\n",
    "b={\"b\",\"c\"}\n",
    "print(a.union(b))\n",
    "print(a.intersection(b))\n",
    "print(a.difference(b))\n"
   ]
  },
  {
   "cell_type": "markdown",
   "metadata": {},
   "source": [
    "102、生成0-100的随机数\n",
    "\n"
   ]
  },
  {
   "cell_type": "markdown",
   "metadata": {},
   "source": [
    "103、lambda匿名函数好处\n",
    "\n"
   ]
  },
  {
   "cell_type": "markdown",
   "metadata": {},
   "source": [
    "104、常见的网络传输协议\n",
    "\n"
   ]
  },
  {
   "cell_type": "markdown",
   "metadata": {},
   "source": [
    "105、单引号、双引号、三引号用法\n",
    "\n"
   ]
  },
  {
   "cell_type": "markdown",
   "metadata": {},
   "source": [
    "106、python垃圾回收机制\n",
    "\n"
   ]
  },
  {
   "cell_type": "markdown",
   "metadata": {},
   "source": [
    "107、HTTP请求中get和post区别\n",
    "\n"
   ]
  },
  {
   "cell_type": "markdown",
   "metadata": {},
   "source": [
    "108、python中读取Excel文件的方法\n",
    "\n"
   ]
  },
  {
   "cell_type": "markdown",
   "metadata": {},
   "source": [
    "109、简述多线程、多进程\n",
    "\n"
   ]
  },
  {
   "cell_type": "markdown",
   "metadata": {},
   "source": [
    "110、python正则中search和match\n",
    "\n"
   ]
  },
  {
   "cell_type": "code",
   "execution_count": null,
   "metadata": {},
   "outputs": [],
   "source": []
  }
 ],
 "metadata": {
  "kernelspec": {
   "display_name": "Python 3",
   "language": "python",
   "name": "python3"
  },
  "language_info": {
   "codemirror_mode": {
    "name": "ipython",
    "version": 3
   },
   "file_extension": ".py",
   "mimetype": "text/x-python",
   "name": "python",
   "nbconvert_exporter": "python",
   "pygments_lexer": "ipython3",
   "version": "3.6.7"
  }
 },
 "nbformat": 4,
 "nbformat_minor": 2
}
