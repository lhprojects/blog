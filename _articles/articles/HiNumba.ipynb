{
 "cells": [
  {
   "cell_type": "markdown",
   "metadata": {
    "toc": true
   },
   "source": [
    "<h1>Table of Contents<span class=\"tocSkip\"></span></h1>\n",
    "<div class=\"toc\"><ul class=\"toc-item\"><li><span><a href=\"#Introduction\" data-toc-modified-id=\"Introduction-1\"><span class=\"toc-item-num\">1&nbsp;&nbsp;</span>Introduction</a></span><ul class=\"toc-item\"><li><span><a href=\"#Check-numba-version\" data-toc-modified-id=\"Check-numba-version-1.1\"><span class=\"toc-item-num\">1.1&nbsp;&nbsp;</span>Check <code>numba</code> version</a></span></li><li><span><a href=\"#Support-overloading\" data-toc-modified-id=\"Support-overloading-1.2\"><span class=\"toc-item-num\">1.2&nbsp;&nbsp;</span>Support overloading</a></span></li><li><span><a href=\"#Support-class-function\" data-toc-modified-id=\"Support-class-function-1.3\"><span class=\"toc-item-num\">1.3&nbsp;&nbsp;</span>Support class function</a></span></li></ul></li><li><span><a href=\"#numba-examples\" data-toc-modified-id=\"numba-examples-2\"><span class=\"toc-item-num\">2&nbsp;&nbsp;</span><code>numba</code> examples</a></span><ul class=\"toc-item\"><li><span><a href=\"#Addition-2-arrays\" data-toc-modified-id=\"Addition-2-arrays-2.1\"><span class=\"toc-item-num\">2.1&nbsp;&nbsp;</span>Addition 2 arrays</a></span><ul class=\"toc-item\"><li><span><a href=\"#Testing\" data-toc-modified-id=\"Testing-2.1.1\"><span class=\"toc-item-num\">2.1.1&nbsp;&nbsp;</span>Testing</a></span></li></ul></li><li><span><a href=\"#Addition-3-arrays\" data-toc-modified-id=\"Addition-3-arrays-2.2\"><span class=\"toc-item-num\">2.2&nbsp;&nbsp;</span>Addition 3 arrays</a></span><ul class=\"toc-item\"><li><span><a href=\"#Testing\" data-toc-modified-id=\"Testing-2.2.1\"><span class=\"toc-item-num\">2.2.1&nbsp;&nbsp;</span>Testing</a></span></li></ul></li><li><span><a href=\"#Summation-of-an-array-with-given-indices\" data-toc-modified-id=\"Summation-of-an-array-with-given-indices-2.3\"><span class=\"toc-item-num\">2.3&nbsp;&nbsp;</span>Summation of an array with given indices</a></span><ul class=\"toc-item\"><li><span><a href=\"#Testing\" data-toc-modified-id=\"Testing-2.3.1\"><span class=\"toc-item-num\">2.3.1&nbsp;&nbsp;</span>Testing</a></span></li></ul></li><li><span><a href=\"#Trace-of-a-matrix\" data-toc-modified-id=\"Trace-of-a-matrix-2.4\"><span class=\"toc-item-num\">2.4&nbsp;&nbsp;</span>Trace of a matrix</a></span><ul class=\"toc-item\"><li><span><a href=\"#Testing\" data-toc-modified-id=\"Testing-2.4.1\"><span class=\"toc-item-num\">2.4.1&nbsp;&nbsp;</span>Testing</a></span></li></ul></li><li><span><a href=\"#Distances\" data-toc-modified-id=\"Distances-2.5\"><span class=\"toc-item-num\">2.5&nbsp;&nbsp;</span>Distances</a></span><ul class=\"toc-item\"><li><span><a href=\"#Testing\" data-toc-modified-id=\"Testing-2.5.1\"><span class=\"toc-item-num\">2.5.1&nbsp;&nbsp;</span>Testing</a></span></li></ul></li><li><span><a href=\"#Distances---test-function-as-argument\" data-toc-modified-id=\"Distances---test-function-as-argument-2.6\"><span class=\"toc-item-num\">2.6&nbsp;&nbsp;</span>Distances - test function as argument</a></span><ul class=\"toc-item\"><li><span><a href=\"#Testing\" data-toc-modified-id=\"Testing-2.6.1\"><span class=\"toc-item-num\">2.6.1&nbsp;&nbsp;</span>Testing</a></span></li></ul></li></ul></li></ul></div>"
   ]
  },
  {
   "cell_type": "markdown",
   "metadata": {},
   "source": [
    "# Introduction"
   ]
  },
  {
   "cell_type": "markdown",
   "metadata": {},
   "source": [
    "## Check `numba` version\n"
   ]
  },
  {
   "cell_type": "code",
   "execution_count": 1,
   "metadata": {},
   "outputs": [
    {
     "name": "stdout",
     "output_type": "stream",
     "text": [
      "0.46.0\n"
     ]
    }
   ],
   "source": [
    "import numba as nb\n",
    "print(nb.__version__)"
   ]
  },
  {
   "cell_type": "markdown",
   "metadata": {},
   "source": [
    "## Support overloading"
   ]
  },
  {
   "cell_type": "code",
   "execution_count": 2,
   "metadata": {},
   "outputs": [
    {
     "name": "stdout",
     "output_type": "stream",
     "text": [
      "[(array(float64, 1d, C), array(float64, 1d, C)) -> array(float64, 1d, C), (array(int32, 1d, C), array(int32, 1d, C)) -> array(float64, 1d, C)]\n",
      "[(array(float64, 1d, C), array(float64, 1d, C)) -> array(float64, 1d, C), (array(int32, 1d, C), array(int32, 1d, C)) -> array(int32, 1d, C)]\n"
     ]
    }
   ],
   "source": [
    "import numpy as np\n",
    "import numba as nb\n",
    "\n",
    "def add_python(a,b):\n",
    "    c=np.empty(a.shape[0])\n",
    "    for i in range(a.shape[0]):\n",
    "        c[i] = a[i] + b[i]\n",
    "    return c\n",
    "\n",
    "def add_numpy(a,b):\n",
    "    return a+b\n",
    "\n",
    "add_python_numba=nb.jit(nopython=True)(add_python)\n",
    "add_numpy_numba=nb.jit(nopython=True)(add_numpy)\n",
    "\n",
    "add_python_numba(np.array([1.]), np.array([1.]))\n",
    "add_numpy_numba(np.array([1.]), np.array([1.]))\n",
    "add_python_numba(np.array([1]), np.array([1]))\n",
    "add_numpy_numba(np.array([1]), np.array([1]))\n",
    "\n",
    "print(add_python_numba.nopython_signatures)\n",
    "print(add_numpy_numba.nopython_signatures)  "
   ]
  },
  {
   "cell_type": "markdown",
   "metadata": {},
   "source": [
    "## Support class function"
   ]
  },
  {
   "cell_type": "markdown",
   "metadata": {},
   "source": [
    "Not `classmethod`."
   ]
  },
  {
   "cell_type": "code",
   "execution_count": 3,
   "metadata": {},
   "outputs": [],
   "source": [
    "import numba as nb\n",
    "class C:\n",
    "    \n",
    "    @nb.jit(nopython=True)\n",
    "    def add(a,b):\n",
    "        return a + b\n",
    "    "
   ]
  },
  {
   "cell_type": "code",
   "execution_count": 4,
   "metadata": {},
   "outputs": [
    {
     "name": "stdout",
     "output_type": "stream",
     "text": [
      "2.0\n"
     ]
    }
   ],
   "source": [
    "print(C.add(1.,1.))"
   ]
  },
  {
   "cell_type": "markdown",
   "metadata": {},
   "source": [
    "#  `numba` examples"
   ]
  },
  {
   "cell_type": "markdown",
   "metadata": {},
   "source": [
    "## Addition 2 arrays"
   ]
  },
  {
   "cell_type": "markdown",
   "metadata": {},
   "source": [
    "We calculate the addition of two arrays."
   ]
  },
  {
   "cell_type": "code",
   "execution_count": 5,
   "metadata": {},
   "outputs": [],
   "source": [
    "import numpy as np\n",
    "import numba as nb\n",
    "\n",
    "def add_python(a,b):\n",
    "    c=np.empty(a.shape[0])\n",
    "    for i in range(a.shape[0]):\n",
    "        c[i] = a[i] + b[i]\n",
    "    return c\n",
    "\n",
    "def add_numpy(a,b):\n",
    "    return a+b\n",
    "\n",
    "add_python_numba=nb.jit(nopython=True)(add_python)\n",
    "add_numpy_numba=nb.jit(nopython=True)(add_numpy)\n"
   ]
  },
  {
   "cell_type": "markdown",
   "metadata": {},
   "source": [
    "### Testing"
   ]
  },
  {
   "cell_type": "code",
   "execution_count": 6,
   "metadata": {},
   "outputs": [
    {
     "name": "stdout",
     "output_type": "stream",
     "text": [
      "python:\n",
      "424 µs ± 16.4 µs per loop (mean ± std. dev. of 7 runs, 1000 loops each)\n",
      "numpy:\n",
      "1.12 µs ± 17.3 ns per loop (mean ± std. dev. of 7 runs, 1000000 loops each)\n",
      "python numba:\n",
      "998 ns ± 17.4 ns per loop (mean ± std. dev. of 7 runs, 1000000 loops each)\n",
      "numpy numba:\n",
      "1.01 µs ± 13.7 ns per loop (mean ± std. dev. of 7 runs, 1000000 loops each)\n"
     ]
    }
   ],
   "source": [
    "a=np.random.randn(1000)\n",
    "b=np.random.randn(1000)\n",
    "\n",
    "add_python_numba(a,b)\n",
    "add_numpy_numba(a,b)\n",
    "\n",
    "print(\"python:\")\n",
    "%timeit add_python(a,b)\n",
    "print(\"numpy:\")\n",
    "%timeit add_numpy(a,b)\n",
    "print(\"python numba:\")\n",
    "%timeit add_python_numba(a,b)\n",
    "print(\"numpy numba:\")\n",
    "%timeit add_numpy_numba(a,b)"
   ]
  },
  {
   "cell_type": "markdown",
   "metadata": {},
   "source": [
    "## Addition 3 arrays"
   ]
  },
  {
   "cell_type": "markdown",
   "metadata": {},
   "source": [
    "We calculate the addition of three arrays"
   ]
  },
  {
   "cell_type": "code",
   "execution_count": 7,
   "metadata": {},
   "outputs": [],
   "source": [
    "import numpy as np\n",
    "import numba as nb\n",
    "\n",
    "def add_python(a,b,c):\n",
    "    d=np.empty(a.shape[0])\n",
    "    for i in range(a.shape[0]):\n",
    "        d[i] = a[i] + b[i] + c[i]\n",
    "    return d\n",
    "\n",
    "def add_numpy(a,b,c):\n",
    "    return a+b+c\n",
    "\n",
    "add_python_numba=nb.jit(nopython=True)(add_python)\n",
    "add_numpy_numba=nb.jit(nopython=True)(add_numpy)"
   ]
  },
  {
   "cell_type": "markdown",
   "metadata": {},
   "source": [
    "### Testing"
   ]
  },
  {
   "cell_type": "code",
   "execution_count": 8,
   "metadata": {},
   "outputs": [
    {
     "name": "stdout",
     "output_type": "stream",
     "text": [
      "python:\n",
      "682 µs ± 10.2 µs per loop (mean ± std. dev. of 7 runs, 1000 loops each)\n",
      "numpy:\n",
      "2.24 µs ± 14.4 ns per loop (mean ± std. dev. of 7 runs, 100000 loops each)\n",
      "python numba:\n",
      "1.35 µs ± 24.8 ns per loop (mean ± std. dev. of 7 runs, 1000000 loops each)\n",
      "numpy numba:\n",
      "1.39 µs ± 31.6 ns per loop (mean ± std. dev. of 7 runs, 1000000 loops each)\n"
     ]
    }
   ],
   "source": [
    "a=np.random.randn(1000)\n",
    "b=np.random.randn(1000)\n",
    "c=np.random.randn(1000)\n",
    "\n",
    "add_python_numba(a,b,c)\n",
    "add_numpy_numba(a,b,c)\n",
    "\n",
    "print(\"python:\")\n",
    "%timeit add_python(a,b,c)\n",
    "print(\"numpy:\")\n",
    "%timeit add_numpy(a,b,c)\n",
    "print(\"python numba:\")\n",
    "%timeit add_python_numba(a,b,c)\n",
    "print(\"numpy numba:\")\n",
    "%timeit add_numpy_numba(a,b,c)\n"
   ]
  },
  {
   "cell_type": "markdown",
   "metadata": {},
   "source": [
    "## Summation of an array with given indices"
   ]
  },
  {
   "cell_type": "markdown",
   "metadata": {},
   "source": [
    "We calculate the summation of an array with give indices"
   ]
  },
  {
   "cell_type": "code",
   "execution_count": 9,
   "metadata": {},
   "outputs": [],
   "source": [
    "import numpy as np\n",
    "import numba as nb\n",
    "\n",
    "def sum_python(v,idx):\n",
    "    sm=0\n",
    "    for i in range(idx.shape[0]):\n",
    "        sm += v[i]\n",
    "    return sm\n",
    "\n",
    "def sum_numpy(v,idx):\n",
    "    return np.sum(v[idx])\n",
    "\n",
    "sum_python_numba=nb.jit(nopython=True)(sum_python)\n",
    "sum_numpy_numba=nb.jit(nopython=True)(sum_numpy)"
   ]
  },
  {
   "cell_type": "markdown",
   "metadata": {},
   "source": [
    "### Testing"
   ]
  },
  {
   "cell_type": "code",
   "execution_count": 10,
   "metadata": {},
   "outputs": [
    {
     "name": "stdout",
     "output_type": "stream",
     "text": [
      "python:\n",
      "26.5 µs ± 1.23 µs per loop (mean ± std. dev. of 7 runs, 10000 loops each)\n",
      "numpy:\n",
      "5.25 µs ± 71.5 ns per loop (mean ± std. dev. of 7 runs, 100000 loops each)\n",
      "python numba:\n",
      "505 ns ± 12.7 ns per loop (mean ± std. dev. of 7 runs, 1000000 loops each)\n",
      "numpy numba:\n",
      "737 ns ± 8.93 ns per loop (mean ± std. dev. of 7 runs, 1000000 loops each)\n"
     ]
    }
   ],
   "source": [
    "a=np.random.randn(1000)\n",
    "idx=np.random.randint(1000,size=100)\n",
    "\n",
    "sum_python_numba(a, idx)\n",
    "sum_numpy_numba(a, idx)\n",
    "\n",
    "print(\"python:\")\n",
    "%timeit sum_python(a,idx)\n",
    "print(\"numpy:\")\n",
    "%timeit sum_numpy(a,idx)\n",
    "print(\"python numba:\")\n",
    "%timeit sum_python_numba(a,idx)\n",
    "print(\"numpy numba:\")\n",
    "%timeit sum_numpy_numba(a,idx)"
   ]
  },
  {
   "cell_type": "markdown",
   "metadata": {},
   "source": [
    "##  Trace of a matrix"
   ]
  },
  {
   "cell_type": "code",
   "execution_count": 11,
   "metadata": {},
   "outputs": [],
   "source": [
    "import numpy as np\n",
    "import numba as nb\n",
    "\n",
    "def trace_python(a):\n",
    "    trace = 0\n",
    "    for i in range(a.shape[0]):\n",
    "        trace += a[i, i]\n",
    "    return trace\n",
    "\n",
    "def trace_numpy(a):\n",
    "    return np.diag(a).sum()\n",
    "\n",
    "trace_python_numba = nb.jit(nopython=True)(trace_python)\n",
    "trace_numpy_numba = nb.jit(nopython=True)(trace_numpy)"
   ]
  },
  {
   "cell_type": "markdown",
   "metadata": {},
   "source": [
    "### Testing"
   ]
  },
  {
   "cell_type": "code",
   "execution_count": 12,
   "metadata": {},
   "outputs": [
    {
     "name": "stdout",
     "output_type": "stream",
     "text": [
      "python\n",
      "258 µs ± 7.96 µs per loop (mean ± std. dev. of 7 runs, 1000 loops each)\n",
      "numpy:\n",
      "9.4 µs ± 411 ns per loop (mean ± std. dev. of 7 runs, 100000 loops each)\n",
      "python numba:\n",
      "2.3 µs ± 115 ns per loop (mean ± std. dev. of 7 runs, 100000 loops each)\n",
      "numpy numba:\n",
      "3.68 µs ± 38.8 ns per loop (mean ± std. dev. of 7 runs, 100000 loops each)\n"
     ]
    }
   ],
   "source": [
    "n=1000\n",
    "a=np.random.rand(n,n)\n",
    "\n",
    "trace_python_numba(a)\n",
    "trace_numpy_numba(a)\n",
    "\n",
    "print(\"python\")\n",
    "%timeit trace_python(a)\n",
    "print(\"numpy:\")\n",
    "%timeit trace_numpy(a)\n",
    "print(\"python numba:\")\n",
    "%timeit trace_python_numba(a)\n",
    "print(\"numpy numba:\")\n",
    "%timeit trace_numpy_numba(a)"
   ]
  },
  {
   "cell_type": "markdown",
   "metadata": {},
   "source": [
    "## Distances"
   ]
  },
  {
   "cell_type": "markdown",
   "metadata": {},
   "source": [
    "We calculate the distances of each vector\n"
   ]
  },
  {
   "cell_type": "code",
   "execution_count": 13,
   "metadata": {},
   "outputs": [],
   "source": [
    "import numpy as np\n",
    "import numba as nb\n",
    "\n",
    "def distance_python(a):\n",
    "    d=np.zeros((a.shape[0], a.shape[0]))\n",
    "    for i in range(a.shape[0]):\n",
    "        for j in range(a.shape[0]):\n",
    "            d2=0.0\n",
    "            for k in range(a.shape[1]):\n",
    "                d2 += np.square(a[i,k]-a[j,k])\n",
    "            d[i,j] = np.sqrt(d2)\n",
    "    return d\n",
    "\n",
    "def distance_numpy(a):\n",
    "    #a[Ndata, Xdim]\n",
    "    #a1[Ndata,1, Xdim]\n",
    "    #a2[1,Ndata, Xdim]\n",
    "    a1=a.reshape(-1,1,a.shape[1])\n",
    "    a2=a.reshape(1,-1,a.shape[1])\n",
    "    #b[Ndata,Ndata, Xdim]\n",
    "    b=a1-a2\n",
    "    d=np.sqrt(np.sum(np.square(b),axis=-1))\n",
    "    return d\n",
    "    \n",
    "\n",
    "distance_python_numba = nb.jit(nopython=True)(distance_python)\n",
    "distance_numpy_numba = nb.jit(nopython=True)(distance_numpy)"
   ]
  },
  {
   "cell_type": "markdown",
   "metadata": {},
   "source": [
    "### Testing"
   ]
  },
  {
   "cell_type": "markdown",
   "metadata": {},
   "source": [
    "Test correctness"
   ]
  },
  {
   "cell_type": "code",
   "execution_count": 14,
   "metadata": {},
   "outputs": [
    {
     "name": "stdout",
     "output_type": "stream",
     "text": [
      "[[0.         1.0862949  0.75142547 0.82100835]\n",
      " [1.0862949  0.         0.54109866 0.79213744]\n",
      " [0.75142547 0.54109866 0.         0.68058665]\n",
      " [0.82100835 0.79213744 0.68058665 0.        ]]\n",
      "[[0.         1.0862949  0.75142547 0.82100835]\n",
      " [1.0862949  0.         0.54109866 0.79213744]\n",
      " [0.75142547 0.54109866 0.         0.68058665]\n",
      " [0.82100835 0.79213744 0.68058665 0.        ]]\n",
      "[[0.         1.0862949  0.75142547 0.82100835]\n",
      " [1.0862949  0.         0.54109866 0.79213744]\n",
      " [0.75142547 0.54109866 0.         0.68058665]\n",
      " [0.82100835 0.79213744 0.68058665 0.        ]]\n",
      "[[0.         1.0862949  0.75142547 0.82100835]\n",
      " [1.0862949  0.         0.54109866 0.79213744]\n",
      " [0.75142547 0.54109866 0.         0.68058665]\n",
      " [0.82100835 0.79213744 0.68058665 0.        ]]\n"
     ]
    }
   ],
   "source": [
    "n=4\n",
    "a=np.random.rand(n, 3)\n",
    "print(distance_python(a))\n",
    "print(distance_numpy(a))\n",
    "print(distance_python_numba(a))\n",
    "print(distance_numpy_numba(a))\n"
   ]
  },
  {
   "cell_type": "markdown",
   "metadata": {},
   "source": [
    "Test performance"
   ]
  },
  {
   "cell_type": "code",
   "execution_count": 15,
   "metadata": {},
   "outputs": [
    {
     "name": "stdout",
     "output_type": "stream",
     "text": [
      "python\n",
      "2.1 s ± 62 ms per loop (mean ± std. dev. of 7 runs, 1 loop each)\n",
      "numpy:\n",
      "6.76 ms ± 253 µs per loop (mean ± std. dev. of 7 runs, 100 loops each)\n",
      "python numba:\n",
      "1.02 ms ± 8.81 µs per loop (mean ± std. dev. of 7 runs, 1000 loops each)\n",
      "numpy numba:\n",
      "9.79 ms ± 220 µs per loop (mean ± std. dev. of 7 runs, 100 loops each)\n"
     ]
    }
   ],
   "source": [
    "n=100\n",
    "a=np.random.rand(n,n)\n",
    "\n",
    "\n",
    "distance_python_numba(a)\n",
    "distance_numpy_numba(a)\n",
    "\n",
    "print(\"python\")\n",
    "%timeit distance_python(a)\n",
    "print(\"numpy:\")\n",
    "%timeit distance_numpy(a)\n",
    "print(\"python numba:\")\n",
    "%timeit distance_python_numba(a)\n",
    "print(\"numpy numba:\")\n",
    "%timeit distance_numpy_numba(a)"
   ]
  },
  {
   "cell_type": "markdown",
   "metadata": {},
   "source": [
    "## Distances - test function as argument"
   ]
  },
  {
   "cell_type": "markdown",
   "metadata": {},
   "source": [
    "We calculate the distances of each vector"
   ]
  },
  {
   "cell_type": "code",
   "execution_count": 16,
   "metadata": {},
   "outputs": [],
   "source": [
    "import numpy as np\n",
    "import numba as nb\n",
    "\n",
    "def distance(a,i,j):\n",
    "    d2=0.0\n",
    "    for k in range(a.shape[1]):\n",
    "        d2 += np.square(a[i,k]-a[j,k])\n",
    "    return np.sqrt(d2)\n",
    "    \n",
    "def distance_python2(a):\n",
    "    d=np.zeros((a.shape[0], a.shape[0]))\n",
    "    for i in range(a.shape[0]):\n",
    "        for j in range(a.shape[0]):\n",
    "            d[i,j] = distance(a,i,j)\n",
    "    return d\n",
    "\n",
    "def distance_python3(a, dist):\n",
    "    d=np.zeros((a.shape[0], a.shape[0]))\n",
    "    for i in range(a.shape[0]):\n",
    "        for j in range(a.shape[0]):\n",
    "            d[i,j] = dist(a,i,j)\n",
    "    return d\n",
    "\n",
    "distance = nb.jit(nopython=True)(distance)\n",
    "distance_python2_numba = nb.jit(nopython=True)(distance_python2)\n",
    "distance_python3_numba = nb.jit(nopython=True)(distance_python3)\n"
   ]
  },
  {
   "cell_type": "markdown",
   "metadata": {},
   "source": [
    "### Testing"
   ]
  },
  {
   "cell_type": "code",
   "execution_count": 17,
   "metadata": {},
   "outputs": [
    {
     "name": "stdout",
     "output_type": "stream",
     "text": [
      "numba version1:\n",
      "1.03 ms ± 17.8 µs per loop (mean ± std. dev. of 7 runs, 1000 loops each)\n",
      "numba version2:\n",
      "1.01 ms ± 6.04 µs per loop (mean ± std. dev. of 7 runs, 1000 loops each)\n",
      "numba version3:\n",
      "1.03 ms ± 9.89 µs per loop (mean ± std. dev. of 7 runs, 1000 loops each)\n"
     ]
    }
   ],
   "source": [
    "n=100\n",
    "a=np.random.rand(n,n)\n",
    "\n",
    "distance_python2_numba(a)\n",
    "distance_python3_numba(a, distance)\n",
    "\n",
    "print(\"numba version1:\")\n",
    "%timeit distance_python_numba(a)\n",
    "print(\"numba version2:\")\n",
    "%timeit distance_python2_numba(a)\n",
    "print(\"numba version3:\")\n",
    "%timeit distance_python3_numba(a, distance)"
   ]
  }
 ],
 "metadata": {
  "kernelspec": {
   "display_name": "Python 3",
   "language": "python",
   "name": "python3"
  },
  "language_info": {
   "codemirror_mode": {
    "name": "ipython",
    "version": 3
   },
   "file_extension": ".py",
   "mimetype": "text/x-python",
   "name": "python",
   "nbconvert_exporter": "python",
   "pygments_lexer": "ipython3",
   "version": "3.6.7"
  },
  "toc": {
   "base_numbering": 1,
   "nav_menu": {},
   "number_sections": true,
   "sideBar": true,
   "skip_h1_title": false,
   "title_cell": "Table of Contents",
   "title_sidebar": "Contents",
   "toc_cell": true,
   "toc_position": {},
   "toc_section_display": true,
   "toc_window_display": false
  }
 },
 "nbformat": 4,
 "nbformat_minor": 2
}
