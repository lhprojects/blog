{
 "cells": [
  {
   "cell_type": "markdown",
   "metadata": {
    "toc": true
   },
   "source": [
    "<h1>Table of Contents<span class=\"tocSkip\"></span></h1>\n",
    "<div class=\"toc\"><ul class=\"toc-item\"><li><span><a href=\"#Direct-rbf-basis\" data-toc-modified-id=\"Direct-rbf-basis-1\"><span class=\"toc-item-num\">1&nbsp;&nbsp;</span>Direct rbf basis</a></span></li><li><span><a href=\"#More-precision-with-try_direct_rbf_basis\" data-toc-modified-id=\"More-precision-with-try_direct_rbf_basis-2\"><span class=\"toc-item-num\">2&nbsp;&nbsp;</span>More precision with try_direct_rbf_basis</a></span></li></ul></div>"
   ]
  },
  {
   "cell_type": "markdown",
   "metadata": {},
   "source": [
    "## Direct rbf basis\n",
    "Use finish dimension of $\\Phi$ to proximate the kernel, via\n",
    "$$\n",
    "K(x_i, x_j) \\approx \\Phi^T(x_i) \\Phi(x_j)\n",
    "$$\n",
    "We use the svd of $\\Phi$ to evaluate the $K(Y,X)K^{-1}(X,X)$ like the normal (unkerneled)  ridge regression."
   ]
  },
  {
   "cell_type": "code",
   "execution_count": 28,
   "metadata": {},
   "outputs": [],
   "source": [
    "import numpy as np\n",
    "\n",
    "class RBF:\n",
    "    '''\n",
    "    kij = exp(-(d(xi, xj))^2/(2 l^2))\n",
    "    '''\n",
    "    def __init__(self, length_scale = 1.0, sigma = 1.):\n",
    "        self.length_scale = length_scale\n",
    "        self.sigma = sigma\n",
    "        \n",
    "    def __call__(self, X, Y=None):\n",
    "        '''\n",
    "        (X.shape[0], X.shape[1])\n",
    "        '''\n",
    "        if Y is None:\n",
    "            Y = X\n",
    "            \n",
    "        distance2 = np.square(X[:,np.newaxis,:] - Y[np.newaxis,:,:]).sum(axis=2)\n",
    "        distance2 /= 2*self.length_scale**2\n",
    "        K = np.exp(-distance2)\n",
    "        K *= self.sigma\n",
    "        return K\n",
    "        \n",
    "def Zero(X):\n",
    "    return np.zeros(X.shape[0])\n",
    "        \n",
    "class GaussianProcessRegressor:\n",
    "    \n",
    "    def __init__(self, m = None, kernel=None, alpha=1E-10, try_direct_rbf_basis=False):\n",
    "            \n",
    "        self.kernel = kernel\n",
    "            \n",
    "        self.m = m\n",
    "        \n",
    "        self.alpha = alpha\n",
    "        \n",
    "        self.try_direct_rbf_basis = try_direct_rbf_basis\n",
    "        \n",
    "    def fit(self, X, y):\n",
    "        '''\n",
    "        X should be 2D matrix\n",
    "        If you have only 1 feature use shape of (N,1)\n",
    "        '''\n",
    "        \n",
    "        self.kernel_ = self.kernel\n",
    "        if self.kernel_ is None:\n",
    "            self.kernel_ = RBF(length_scale = 1.0, sigma = 1.0)\n",
    "            \n",
    "        \n",
    "        self.m_ = self.m\n",
    "        if self.m_ is None:\n",
    "            self.m_ = Zero\n",
    "            \n",
    "        X = np.array(X, dtype=np.float_)\n",
    "        y = np.array(y, dtype=np.float_)\n",
    "        \n",
    "        y = y - self.m_(X)\n",
    "        KXX = self.kernel_(X, X)\n",
    "        \n",
    "            \n",
    "        if self.alpha != 0:\n",
    "            KXX += self.alpha * np.eye(X.shape[0])\n",
    "\n",
    "        try:\n",
    "            invKXX = np.linalg.inv(KXX)\n",
    "            weights = invKXX.dot(y)\n",
    "            self.invKXX = invKXX\n",
    "            self.coef_ = weights\n",
    "        except:\n",
    "            pass\n",
    "            \n",
    "        \n",
    "        self.X = X\n",
    "        self.y = y\n",
    "        self.y_m = y\n",
    "        self.KXX = KXX\n",
    "        \n",
    "        \n",
    "    def predict(self, X, return_std=False):\n",
    "        '''\n",
    "        X should be 2D matrix\n",
    "        If you have only 1 feature use shape of (N,1)\n",
    "        '''\n",
    "        X = np.array(X, dtype=np.float_)\n",
    "        \n",
    "        Y = X\n",
    "        X = self.X\n",
    "        KYX = self.kernel_(Y, X)\n",
    "        \n",
    "        ok = False\n",
    "        if self.try_direct_rbf_basis and type(self.kernel_) is RBF and self.X.shape[1] == 1:\n",
    "            Ng = 1000\n",
    "            \n",
    "            Xmin = min(Y.min(), self.X.min()) - self.kernel_.length_scale*5\n",
    "            Xmax = max(Y.max(), self.X.max()) + self.kernel_.length_scale*5\n",
    "            \n",
    "            ok = ((Xmax - Xmin)/Ng < 0.1*self.kernel_.length_scale)\n",
    "            if ok:\n",
    "                length_scale = self.kernel_.length_scale\n",
    "                sigma = self.kernel_.sigma\n",
    "                dx = (Xmax -  Xmin)/Ng\n",
    "\n",
    "                X_ = np.linspace(Xmin, Xmax, Ng)\n",
    "\n",
    "                h = np.sqrt(np.abs(sigma)) * 1/np.sqrt(np.sqrt(np.pi/2) * length_scale) *\\\n",
    "                        np.exp(-(X - X_[np.newaxis,:])**2/(length_scale**2)) * np.sqrt(dx)\n",
    "\n",
    "                hhat = np.sqrt(np.abs(sigma)) * 1/np.sqrt(np.sqrt(np.pi/2) * length_scale) *\\\n",
    "                        np.exp(-(Y - X_[np.newaxis,:])**2/(length_scale**2)) * np.sqrt(dx)\n",
    "                \n",
    "\n",
    "                U,S,VT = np.linalg.svd(h, full_matrices=False)\n",
    "\n",
    "                invD = S/(S*S+self.alpha)\n",
    "                weights = VT.T.dot(   (invD * U).T.dot(self.y_m)  )\n",
    "                f = hhat.dot(weights) + self.m_(Y)\n",
    "\n",
    "                \n",
    "                if not return_std:\n",
    "                    return f\n",
    "                \n",
    "                U,S,VT = np.linalg.svd(h, full_matrices=True)\n",
    "                VThT = VT.dot(hhat.T)\n",
    "\n",
    "                INg = np.ones(h.shape[1])\n",
    "                dg = self.alpha/(S*S+self.alpha)\n",
    "                INg[:len(dg)] = dg\n",
    "                \n",
    "                                \n",
    "                cov = VThT.T.dot(  INg[:,np.newaxis] * VThT )\n",
    "\n",
    "                cov = cov + self.alpha * np.eye(Y.shape[0])\n",
    "\n",
    "                return f, np.sqrt(np.maximum(0, np.diagonal(cov)))\n",
    "            \n",
    "        if not ok:\n",
    "            f = KYX.dot(self.coef_) + self.m_(Y)\n",
    "\n",
    "            if not return_std:\n",
    "                return f\n",
    "\n",
    "            invKXX =  self.invKXX        \n",
    "            KYY = self.kernel_(Y, Y) + self.alpha * np.eye(Y.shape[0])\n",
    "            KXY =  KYX.T\n",
    "            KYY_post = KYY - KYX.dot( invKXX.dot(KXY) )\n",
    "            return f, np.sqrt(np.maximum(0, np.diagonal(KYY_post)))\n",
    "        \n",
    "        "
   ]
  },
  {
   "cell_type": "markdown",
   "metadata": {},
   "source": [
    "## More precision with try_direct_rbf_basis"
   ]
  },
  {
   "cell_type": "code",
   "execution_count": 167,
   "metadata": {},
   "outputs": [
    {
     "name": "stdout",
     "output_type": "stream",
     "text": [
      "                        dx 0.0000010001\n",
      "                     truth 0.4050878004\n",
      "try_direct_rbf_basis= True 0.4050875088\n",
      "try_direct_rbf_basis=False 0.4049654965\n"
     ]
    },
    {
     "data": {
      "image/png": "[encoded data removed]",
      "text/plain": [
       "<Figure size 288x288 with 1 Axes>"
      ]
     },
     "metadata": {
      "needs_background": "light"
     },
     "output_type": "display_data"
    },
    {
     "data": {
      "image/png": "[encoded data removed]",
      "text/plain": [
       "<Figure size 288x288 with 1 Axes>"
      ]
     },
     "metadata": {
      "needs_background": "light"
     },
     "output_type": "display_data"
    }
   ],
   "source": [
    "import matplotlib.pyplot as plt\n",
    "%matplotlib inline\n",
    "\n",
    "np.random.seed(0)\n",
    "X_train = 0.5 + np.square(np.abs(np.linspace(0,1,10).reshape(-1,1) - 0.5))*np.sign(np.linspace(0,1,10).reshape(-1,1) - 0.5)\n",
    "\n",
    "y_train = ((X_train[:,0]-0.5)**4) + 0.00342*X_train[:,0]\n",
    "X_plt = np.linspace(0,1, 100)\n",
    "y_plt_ = ((X_plt-0.5)**4) + 0.00342*X_plt\n",
    "\n",
    "X_search = np.linspace(0.40,0.41, 10000)\n",
    "\n",
    "gpr1=GaussianProcessRegressor(kernel=RBF(1,1), alpha=(1E-12)**2, try_direct_rbf_basis=True)\n",
    "gpr1.fit(X_train, y_train)\n",
    "y_plt1, std1 = gpr1.predict(X_plt.reshape(-1,1), return_std=True)\n",
    "\n",
    "y_search = gpr1.predict(X_search.reshape(-1,1))\n",
    "xmin1 = X_search[np.argmin(y_search)]\n",
    "ymax1 = np.min(y_search)\n",
    "\n",
    "# continuing reducing alpha will introduce numerical unstability\n",
    "gpr2=GaussianProcessRegressor(kernel=RBF(1,1), alpha=3E-6**2, try_direct_rbf_basis=False)\n",
    "gpr2.fit(X_train, y_train)\n",
    "y_plt2, std2 = gpr2.predict(X_plt.reshape(-1,1), return_std=True)\n",
    "\n",
    "y_search = gpr2.predict(X_search.reshape(-1,1))\n",
    "xmin2 = X_search[np.argmin(y_search)]\n",
    "ymax2 = np.min(y_search)\n",
    "\n",
    "print(\"                        dx\", \"%.10f\"%(X_search[1]-X_search[0]))\n",
    "print(\"                     truth\", \"%.10f\"%(0.5 - np.power(0.00342/4,1/3)))\n",
    "print(\"try_direct_rbf_basis= True\", \"%.10f\"%xmin1)\n",
    "print(\"try_direct_rbf_basis=False\", \"%.10f\"%xmin2)\n",
    "\n",
    "plt.figure(figsize=(4,4))\n",
    "plt.scatter(X_train, y_train, label=\"train\")\n",
    "\n",
    "plt.plot(X_plt, y_plt1, label=\"fit try_direct_rbf_basis=True\")\n",
    "plt.fill_between(X_plt, y_plt1-std1, y_plt1+std1, label=\"fit try_direct_rbf_basis=True\")\n",
    "plt.scatter([xmin1], [ymax1], marker=\"*\", label=\"fit try_direct_rbf_basis=True\")\n",
    "\n",
    "plt.plot(X_plt, y_plt2, label=\"fit try_direct_rbf_basis=False\")\n",
    "plt.fill_between(X_plt, y_plt2-std2, y_plt2+std2, label=\"fit try_direct_rbf_basis=False\")\n",
    "plt.scatter([xmin2], [ymax2], marker=\"*\",  label=\"fit try_direct_rbf_basis=False\")\n",
    "plt.legend(loc=(1,0))\n",
    "plt.xlim((0.3,0.8))\n",
    "plt.ylim((0.00,0.01))\n",
    "plt.show()\n",
    "\n",
    "\n",
    "plt.figure(figsize=(4,4))\n",
    "plt.plot(X_plt, 5*std1, label=\"5*std\")\n",
    "plt.plot(X_plt, np.abs(y_plt_ - y_plt1), label=\"err\")\n",
    "plt.yscale(\"log\")\n",
    "plt.legend()\n",
    "plt.show()"
   ]
  }
 ],
 "metadata": {
  "hide_input": false,
  "kernelspec": {
   "display_name": "Python 3",
   "language": "python",
   "name": "python3"
  },
  "language_info": {
   "codemirror_mode": {
    "name": "ipython",
    "version": 3
   },
   "file_extension": ".py",
   "mimetype": "text/x-python",
   "name": "python",
   "nbconvert_exporter": "python",
   "pygments_lexer": "ipython3",
   "version": "3.6.7"
  },
  "toc": {
   "base_numbering": 1,
   "nav_menu": {},
   "number_sections": true,
   "sideBar": true,
   "skip_h1_title": false,
   "title_cell": "Table of Contents",
   "title_sidebar": "Contents",
   "toc_cell": true,
   "toc_position": {
    "height": "calc(100% - 180px)",
    "left": "10px",
    "top": "150px",
    "width": "256px"
   },
   "toc_section_display": true,
   "toc_window_display": false
  },
  "varInspector": {
   "cols": {
    "lenName": "24",
    "lenType": "16",
    "lenVar": 40
   },
   "kernels_config": {
    "python": {
     "delete_cmd_postfix": "",
     "delete_cmd_prefix": "del ",
     "library": "var_list.py",
     "varRefreshCmd": "print(var_dic_list())"
    },
    "r": {
     "delete_cmd_postfix": ") ",
     "delete_cmd_prefix": "rm(",
     "library": "var_list.r",
     "varRefreshCmd": "cat(var_dic_list()) "
    }
   },
   "types_to_exclude": [
    "module",
    "function",
    "builtin_function_or_method",
    "instance",
    "_Feature"
   ],
   "window_display": false
  }
 },
 "nbformat": 4,
 "nbformat_minor": 2
}
