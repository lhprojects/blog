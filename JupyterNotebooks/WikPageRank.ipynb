{
 "cells": [
  {
   "cell_type": "markdown",
   "metadata": {
    "toc": true
   },
   "source": [
    "<h1>Table of Contents<span class=\"tocSkip\"></span></h1>\n",
    "<div class=\"toc\"><ul class=\"toc-item\"><li><span><a href=\"#PageRank\" data-toc-modified-id=\"PageRank-1\"><span class=\"toc-item-num\">1&nbsp;&nbsp;</span>PageRank</a></span><ul class=\"toc-item\"><li><span><a href=\"#加载数据\" data-toc-modified-id=\"加载数据-1.1\"><span class=\"toc-item-num\">1.1&nbsp;&nbsp;</span>加载数据</a></span></li><li><span><a href=\"#迭代算法\" data-toc-modified-id=\"迭代算法-1.2\"><span class=\"toc-item-num\">1.2&nbsp;&nbsp;</span>迭代算法</a></span></li></ul></li><li><span><a href=\"#存储\" data-toc-modified-id=\"存储-2\"><span class=\"toc-item-num\">2&nbsp;&nbsp;</span>存储</a></span><ul class=\"toc-item\"><li><span><a href=\"#应用\" data-toc-modified-id=\"应用-2.1\"><span class=\"toc-item-num\">2.1&nbsp;&nbsp;</span>应用</a></span><ul class=\"toc-item\"><li><span><a href=\"#查询\" data-toc-modified-id=\"查询-2.1.1\"><span class=\"toc-item-num\">2.1.1&nbsp;&nbsp;</span>查询</a></span></li><li><span><a href=\"#top-100\" data-toc-modified-id=\"top-100-2.1.2\"><span class=\"toc-item-num\">2.1.2&nbsp;&nbsp;</span>top 100</a></span></li></ul></li></ul></li></ul></div>"
   ]
  },
  {
   "cell_type": "markdown",
   "metadata": {},
   "source": [
    "# PageRank"
   ]
  },
  {
   "cell_type": "markdown",
   "metadata": {},
   "source": [
    "## 加载数据"
   ]
  },
  {
   "cell_type": "code",
   "execution_count": 3,
   "metadata": {},
   "outputs": [
    {
     "name": "stdout",
     "output_type": "stream",
     "text": [
      "0\n",
      "Anarchism\n"
     ]
    }
   ],
   "source": [
    "import wiki\n",
    "import imp\n",
    "imp.reload(wiki)\n",
    "wiki_titles = wiki.WikiTitles(file = \"pass1.5.data\")\n",
    "print(wiki_titles.get_index_from_title(\"Anarchism\"))\n",
    "print(wiki_titles.get_title_from_index(wiki_titles.get_index_from_title(\"Anarchism\")))"
   ]
  },
  {
   "cell_type": "code",
   "execution_count": 4,
   "metadata": {},
   "outputs": [
    {
     "name": "stdout",
     "output_type": "stream",
     "text": [
      "['Logarithmic scale', 'Algorithm', 'Google Search', 'Web page', 'Web search engine', 'Larry Page', 'Google Patents', 'Network theory', 'Weighting', 'Hyperlink', 'Set (abstract data type)', 'World Wide Web', 'Link building', 'Webgraph', 'CNN', 'USA.gov', 'Recursion', 'Backlink', 'HITS algorithm', 'Jon Kleinberg', 'Teoma', 'Ask.com', 'CLEVER project', 'TrustRank', 'Google Hummingbird', 'Eigenvalues and eigenvectors', 'Scientometrics', 'Thomas L. Saaty', 'Analytic hierarchy process', 'Cognitive model', 'Baidu', 'Robin Li', 'The New York Times', 'Forbes', 'Sergey Brin', 'Stanford University', 'Rajeev Motwani', 'Terry Winograd', 'Google', 'Software patent', 'Citation analysis', 'Eugene Garfield', 'Hyper Search', 'Massimo Marchiori', 'University of Padua', 'Probability distribution', 'Matt Cutts', 'Markov chain', 'URL', 'Adjacency matrix', 'Stochastic matrix', 'Eigenvector centrality', 'Eigengap', 'Expected value', 'Wikipedia', 'Link farm', 'Trade secret', 'Power iteration', 'Steady state', 'Identity matrix', 'Perron–Frobenius theorem', 'Apache Spark', 'MATLAB', 'GNU Octave', 'Python (programming language)', 'Graph (abstract data type)', 'Bipartite graph', 'Random walk', 'Distributed algorithm', 'Google Toolbar', 'Danny Sullivan (technologist)', 'Search engine results page', 'Moz (marketing software)', 'Search engine optimization', 'Google Maps', 'Google Directory', 'HTTP 302', 'Meta element', 'Website spoofing', 'Nofollow', 'HTML attribute', 'Gaming the system', 'Citation', 'Sociometry', 'Attention economy', 'Institute for Scientific Information', 'Impact factor', 'Eigenfactor', 'SCImago Journal Rank', 'Neuroscience', 'Neuron', 'Twitter', 'Swiftype', 'Web crawler', 'Blogosphere', 'Scale-free network', 'Lexical semantics', 'Word-sense disambiguation', 'Semantic similarity', 'WordNet', 'Synonym ring', 'Link relation', 'Blog', 'Spamdexing', 'Spam in blogs', 'Search engine optimization metrics', 'Google Chrome', 'Domain Authority', 'EigenTrust', 'Google bombing', 'Google matrix', 'Google Panda', 'Google Penguin', 'VisualRank', 'Hilltop algorithm', 'Katz centrality', 'SimRank', 'CheiRank', 'Attention inequality']\n"
     ]
    }
   ],
   "source": [
    "wiki_links = wiki.WikiLinks(file = \"pass2.npz\", wiki_titles=wiki_titles)\n",
    "print(wiki_links.get_links_from_title(\"PageRank\"))"
   ]
  },
  {
   "cell_type": "markdown",
   "metadata": {},
   "source": [
    "## 迭代算法"
   ]
  },
  {
   "cell_type": "code",
   "execution_count": 5,
   "metadata": {},
   "outputs": [],
   "source": [
    "import numba as nb\n",
    "import numpy as np\n",
    "@nb.njit\n",
    "def PR_update(links, page_n_links, PR, PR_out, d):\n",
    "    \n",
    "    n_pages = len(PR)\n",
    "    \n",
    "    for i in range(n_pages):\n",
    "        PR_out[i] = 0.0\n",
    "        \n",
    "    l = 0\n",
    "    for i in range(n_pages):\n",
    "        \n",
    "        n_links = page_n_links[i]\n",
    "        # this let the sum of the PR smaller than 1\n",
    "        if n_links > 0:\n",
    "            w =  PR[i] / n_links\n",
    "\n",
    "            for j in range(n_links):\n",
    "                PR_out[links[l]] += w\n",
    "                l += 1\n",
    "        else:\n",
    "#             PR_out[i] += PR[i]\n",
    "            pass\n",
    "            \n",
    "    # damp\n",
    "    bias = (1. - d)/n_pages\n",
    "    for i in range(n_pages):\n",
    "        PR_out[i] = PR_out[i]*d + bias\n",
    "        \n",
    "def page_rank(links, page_n_links, n_iters, d=0.85, on_update=None):\n",
    "\n",
    "    PR = np.ones(len(page_n_links))/len(page_n_links)\n",
    "    PR_out = np.empty(len(page_n_links))\n",
    "\n",
    "    for i in range(n_iters):\n",
    "        PR_update(links, page_n_links, PR, PR_out, d)\n",
    "\n",
    "        if on_update:\n",
    "            on_update(i, PR, PR_out)\n",
    "\n",
    "        # swap\n",
    "        t = PR\n",
    "        PR = PR_out\n",
    "        PR_out = t\n",
    "\n",
    "    return PR"
   ]
  },
  {
   "cell_type": "code",
   "execution_count": 6,
   "metadata": {},
   "outputs": [
    {
     "name": "stdout",
     "output_type": "stream",
     "text": [
      "  0: 0.009104   \n",
      " 10: 0.000013   \n",
      " 20: 0.000001   \n",
      " 30: 0.000000   \n"
     ]
    }
   ],
   "source": [
    "def on_update(i, PR, PR_new):\n",
    "    if i % 10 == 0:\n",
    "        norm = np.linalg.norm(PR - PR_new)\n",
    "        print(\"%3d: %f   \"%(i, norm), end=\"\\n\", flush=True)\n",
    "\n",
    "PR = page_rank(wiki_links.links, wiki_links.page_n_links, on_update=on_update, n_iters=40)\n",
    "PR = PR*len(PR)"
   ]
  },
  {
   "cell_type": "markdown",
   "metadata": {},
   "source": [
    "# 存储"
   ]
  },
  {
   "cell_type": "code",
   "execution_count": 13,
   "metadata": {},
   "outputs": [],
   "source": [
    "import pickle\n",
    "with open(\"page_rank.data\", \"wb\") as f:\n",
    "    pickle.dump(PR, f)"
   ]
  },
  {
   "cell_type": "code",
   "execution_count": 9,
   "metadata": {},
   "outputs": [
    {
     "name": "stdout",
     "output_type": "stream",
     "text": [
      "6000000            "
     ]
    }
   ],
   "source": [
    "import sqlite3\n",
    "import os\n",
    "\n",
    "if os.path.exists(\"page_rank.db\"):\n",
    "    os.remove(\"page_rank.db\")\n",
    "    \n",
    "try:\n",
    "    conn = sqlite3.connect(\"page_rank.db\")\n",
    "    c = conn.cursor()\n",
    "    c.execute(\"create table page_rank (idx integer unique primary key, PageRank real)\")\n",
    "    \n",
    "    for idx, pr in enumerate(PR):\n",
    "        c.execute(\"insert into page_rank values (?, ?)\", (idx, pr))\n",
    "        if idx % 10000 == 0:\n",
    "            conn.commit()\n",
    "        if idx % 100000 == 0:\n",
    "            print(\"\\r%d            \"%idx, end=\"\")\n",
    "    \n",
    "finally:\n",
    "    if conn:\n",
    "        conn.close()"
   ]
  },
  {
   "cell_type": "markdown",
   "metadata": {},
   "source": [
    "## 应用"
   ]
  },
  {
   "cell_type": "markdown",
   "metadata": {},
   "source": [
    "### 查询"
   ]
  },
  {
   "cell_type": "code",
   "execution_count": 5,
   "metadata": {},
   "outputs": [],
   "source": [
    "def get_PR(title):\n",
    "    index = wiki_titles.get_index_from_title(title)\n",
    "    if index is not None and idx > 0 and idx < len(PR):\n",
    "        return PR[index]\n",
    "    else:\n",
    "        return np.nan"
   ]
  },
  {
   "cell_type": "code",
   "execution_count": 6,
   "metadata": {},
   "outputs": [
    {
     "name": "stdout",
     "output_type": "stream",
     "text": [
      "China                2922.7\n",
      "Beijing              726.1\n",
      "Hongkong             960.5\n",
      "Shanghai             405.5\n",
      "Taiwan               962.3\n",
      "Guangdong            221.3\n",
      "Hebei                127.7\n",
      "Taipei               226.6\n",
      "Shijiazhuang         28.7\n",
      "Shenzhen             106.0\n",
      "USA                  10132.7\n"
     ]
    }
   ],
   "source": [
    "regions = [\"China\", \"Beijing\", \"Hongkong\", \"Shanghai\", \"Taiwan\", \"Guangdong\", \"Hebei\", \"Taipei\", \"Shijiazhuang\", \"Shenzhen\", \"USA\"]\n",
    "for region in regions:\n",
    "    print(\"%-20s\"%region, \"%.1f\"%get_PR(region))"
   ]
  },
  {
   "cell_type": "markdown",
   "metadata": {},
   "source": [
    "### top 100"
   ]
  },
  {
   "cell_type": "code",
   "execution_count": 7,
   "metadata": {
    "scrolled": false
   },
   "outputs": [
    {
     "name": "stdout",
     "output_type": "stream",
     "text": [
      "United States                                                                                        10132.7\n",
      "World War II                                                                                         5060.9\n",
      "France                                                                                               4984.0\n",
      "Association football                                                                                 4720.8\n",
      "United Kingdom                                                                                       4572.3\n",
      "List of sovereign states                                                                             4529.6\n",
      "The New York Times                                                                                   4267.5\n",
      "Germany                                                                                              4254.5\n",
      "India                                                                                                4072.7\n",
      "New York City                                                                                        3432.1\n",
      "London                                                                                               3062.6\n",
      "Animal                                                                                               3055.0\n",
      "Australia                                                                                            3032.2\n",
      "Canada                                                                                               3008.1\n",
      "Italy                                                                                                2987.7\n",
      "China                                                                                                2922.7\n",
      "Catholic Church                                                                                      2898.4\n",
      "England                                                                                              2857.6\n",
      "Russia                                                                                               2842.6\n",
      "Iran                                                                                                 2840.5\n",
      "English language                                                                                     2751.0\n",
      "Japan                                                                                                2750.8\n",
      "World War I                                                                                          2732.6\n",
      "Arthropod                                                                                            2463.2\n",
      "Insect                                                                                               2449.5\n",
      "U.S. state                                                                                           2307.9\n",
      "Latin                                                                                                2269.7\n",
      "Spain                                                                                                2238.2\n",
      "Poland                                                                                               2107.4\n",
      "California                                                                                           2104.3\n",
      "National Register of Historic Places                                                                 2061.2\n",
      "Soviet Union                                                                                         2045.1\n",
      "The Guardian                                                                                         2033.2\n",
      "Paris                                                                                                2007.7\n",
      "Netherlands                                                                                          1984.5\n",
      "Brazil                                                                                               1910.5\n",
      "Washington, D.C.                                                                                     1878.7\n",
      "Europe                                                                                               1756.9\n",
      "Sweden                                                                                               1753.2\n",
      "Village                                                                                              1689.3\n",
      "Mexico                                                                                               1661.6\n",
      "Moth                                                                                                 1620.8\n",
      "Species                                                                                              1604.7\n",
      "Scotland                                                                                             1581.7\n",
      "Departments of France                                                                                1571.3\n",
      "Switzerland                                                                                          1567.1\n",
      "French language                                                                                      1552.0\n",
      "New Zealand                                                                                          1551.0\n",
      "New York (state)                                                                                     1547.0\n",
      "Genus                                                                                                1521.3\n",
      "BBC                                                                                                  1512.3\n",
      "Oxford University Press                                                                              1478.3\n",
      "Turkey                                                                                               1466.2\n",
      "Bakhsh                                                                                               1460.8\n",
      "Communes of France                                                                                   1455.5\n",
      "Los Angeles                                                                                          1441.8\n",
      "South Africa                                                                                         1426.4\n",
      "European Union                                                                                       1393.9\n",
      "Norway                                                                                               1391.6\n",
      "AllMusic                                                                                             1347.5\n",
      "United States Census Bureau                                                                          1309.2\n",
      "Chicago                                                                                              1304.5\n",
      "Democratic Party (United States)                                                                     1303.4\n",
      "Central European Time                                                                                1297.4\n",
      "Republican Party (United States)                                                                     1285.7\n",
      "Counties of Iran                                                                                     1285.7\n",
      "Provinces of Iran                                                                                    1283.6\n",
      "Belgium                                                                                              1262.7\n",
      "United Nations                                                                                       1244.4\n",
      "The Washington Post                                                                                  1238.3\n",
      "Philippines                                                                                          1213.1\n",
      "Romanization                                                                                         1203.4\n",
      "Lepidoptera                                                                                          1202.8\n",
      "Middle Ages                                                                                          1199.1\n",
      "Austria                                                                                              1188.8\n",
      "Romania                                                                                              1188.4\n",
      "German language                                                                                      1185.1\n",
      "Family (biology)                                                                                     1152.5\n",
      "Spanish language                                                                                     1152.0\n",
      "Central European Summer Time                                                                         1146.6\n",
      "Argentina                                                                                            1145.6\n",
      "Rome                                                                                                 1144.6\n",
      "Newspaper                                                                                            1139.7\n",
      "Dehestan (administrative division)                                                                   1138.4\n",
      "United States dollar                                                                                 1133.3\n",
      "Denmark                                                                                              1132.5\n",
      "Greece                                                                                               1125.9\n",
      "Geographic Names Information System                                                                  1122.4\n",
      "Ontario                                                                                              1111.1\n",
      "Christianity                                                                                         1109.3\n",
      "Indonesia                                                                                            1108.6\n",
      "Pakistan                                                                                             1108.4\n",
      "Cambridge University Press                                                                           1107.7\n",
      "Los Angeles Times                                                                                    1097.1\n",
      "Beetle                                                                                               1093.8\n",
      "American Civil War                                                                                   1092.5\n",
      "Israel                                                                                               1091.0\n",
      "Berlin                                                                                               1076.0\n",
      "Köppen climate classification                                                                        1070.4\n",
      "North America                                                                                        1064.8\n"
     ]
    }
   ],
   "source": [
    "def top100(PR):\n",
    "    n = 0\n",
    "    PR_I_SORT = np.argsort(PR)[::-1]\n",
    "    for j in PR_I_SORT:\n",
    "        title = wiki_titles.get_title_from_index(j)\n",
    "        print(\"%-100s\"%title, \"%.1f\"%PR[j])\n",
    "        n += 1\n",
    "        if n == 100:\n",
    "            break\n",
    "    \n",
    "top100(PR)"
   ]
  }
 ],
 "metadata": {
  "hide_input": false,
  "kernelspec": {
   "display_name": "Python 3",
   "language": "python",
   "name": "python3"
  },
  "language_info": {
   "codemirror_mode": {
    "name": "ipython",
    "version": 3
   },
   "file_extension": ".py",
   "mimetype": "text/x-python",
   "name": "python",
   "nbconvert_exporter": "python",
   "pygments_lexer": "ipython3",
   "version": "3.8.5"
  },
  "toc": {
   "base_numbering": 1,
   "nav_menu": {},
   "number_sections": true,
   "sideBar": true,
   "skip_h1_title": false,
   "title_cell": "Table of Contents",
   "title_sidebar": "Contents",
   "toc_cell": true,
   "toc_position": {
    "height": "calc(100% - 180px)",
    "left": "10px",
    "top": "150px",
    "width": "165px"
   },
   "toc_section_display": true,
   "toc_window_display": true
  },
  "varInspector": {
   "cols": {
    "lenName": "24",
    "lenType": "16",
    "lenVar": 40
   },
   "kernels_config": {
    "python": {
     "delete_cmd_postfix": "",
     "delete_cmd_prefix": "del ",
     "library": "var_list.py",
     "varRefreshCmd": "print(var_dic_list())"
    },
    "r": {
     "delete_cmd_postfix": ") ",
     "delete_cmd_prefix": "rm(",
     "library": "var_list.r",
     "varRefreshCmd": "cat(var_dic_list()) "
    }
   },
   "oldHeight": 271.988364,
   "position": {
    "height": "40px",
    "left": "1445.99px",
    "right": "20px",
    "top": "123.991px",
    "width": "322.983px"
   },
   "types_to_exclude": [
    "module",
    "function",
    "builtin_function_or_method",
    "instance",
    "_Feature"
   ],
   "varInspector_section_display": "none",
   "window_display": true
  }
 },
 "nbformat": 4,
 "nbformat_minor": 4
}
