{
 "cells": [
  {
   "cell_type": "markdown",
   "metadata": {
    "toc": true
   },
   "source": [
    "<h1>Table of Contents<span class=\"tocSkip\"></span></h1>\n",
    "<div class=\"toc\"><ul class=\"toc-item\"><li><span><a href=\"#all-and-any\" data-toc-modified-id=\"all-and-any-1\"><span class=\"toc-item-num\">1&nbsp;&nbsp;</span><code>all</code> and <code>any</code></a></span></li></ul></div>"
   ]
  },
  {
   "cell_type": "markdown",
   "metadata": {},
   "source": [
    "# `all` and `any`\n",
    "\n",
    "What array of which all element(s) are `True` but not any element is `True`?\n",
    "\n",
    "The ***empty array*** !!! ahahaha...\n",
    "\n",
    "Because we need to keep the identity\n",
    "\n",
    "```python\n",
    "all(a + b) == all(a) and all(b)\n",
    "any(a + b) == any(a)  or any(b)\n",
    "```\n",
    "\n",
    "那个数组全部元素都是`True`但是没有任意一个元素为`True`?\n",
    "\n",
    "***空集合*** !!! 哈哈哈...\n",
    "\n",
    "因为我们需要保证恒等式成立\n",
    "\n",
    "```python\n",
    "all(a + b) == all(a) and all(b)\n",
    "any(a + b) == any(a)  or any(b)\n",
    "```\n"
   ]
  },
  {
   "cell_type": "code",
   "execution_count": 1,
   "metadata": {},
   "outputs": [
    {
     "name": "stdout",
     "output_type": "stream",
     "text": [
      "True\n",
      "False\n"
     ]
    }
   ],
   "source": [
    "print(all([]))\n",
    "print(any([]))"
   ]
  },
  {
   "cell_type": "code",
   "execution_count": 2,
   "metadata": {},
   "outputs": [
    {
     "name": "stdout",
     "output_type": "stream",
     "text": [
      "all([True]) == all([True]) and all([])\n",
      "True == True and True\n"
     ]
    }
   ],
   "source": [
    "a=[True]\n",
    "print(\"all({}) == all({}) and all({})\".format(a, a[:1], a[1:])  )\n",
    "print(\"{} == {} and {}\".format(all(a), all(a[:1]), all(a[1:]))  )"
   ]
  },
  {
   "cell_type": "code",
   "execution_count": 3,
   "metadata": {},
   "outputs": [
    {
     "name": "stdout",
     "output_type": "stream",
     "text": [
      "all([False]) == all([False]) and all([])\n",
      "False == False and True\n"
     ]
    }
   ],
   "source": [
    "a=[False]\n",
    "print(\"all({}) == all({}) and all({})\".format(a, a[:1], a[1:])  )\n",
    "print(\"{} == {} and {}\".format(all(a), all(a[:1]), all(a[1:]))  )"
   ]
  },
  {
   "cell_type": "code",
   "execution_count": 4,
   "metadata": {},
   "outputs": [
    {
     "name": "stdout",
     "output_type": "stream",
     "text": [
      "any([True]) == any([True]) or any([])\n",
      "True == True or  False\n"
     ]
    }
   ],
   "source": [
    "a=[True]\n",
    "print(\"any({}) == any({}) or any({})\".format(a, a[:1], a[1:])  )\n",
    "print(\"{} == {} or  {}\".format(any(a), any(a[:1]), any(a[1:]))  )"
   ]
  },
  {
   "cell_type": "code",
   "execution_count": 5,
   "metadata": {},
   "outputs": [
    {
     "name": "stdout",
     "output_type": "stream",
     "text": [
      "any([False]) == any([False]) or any([])\n",
      "False == False or  False\n"
     ]
    }
   ],
   "source": [
    "a=[False]\n",
    "print(\"any({}) == any({}) or any({})\".format(a, a[:1], a[1:])  )\n",
    "print(\"{} == {} or  {}\".format(any(a), any(a[:1]), any(a[1:]))  )"
   ]
  }
 ],
 "metadata": {
  "hide_input": false,
  "kernelspec": {
   "display_name": "Python 3",
   "language": "python",
   "name": "python3"
  },
  "language_info": {
   "codemirror_mode": {
    "name": "ipython",
    "version": 3
   },
   "file_extension": ".py",
   "mimetype": "text/x-python",
   "name": "python",
   "nbconvert_exporter": "python",
   "pygments_lexer": "ipython3",
   "version": "3.6.7"
  },
  "toc": {
   "base_numbering": 1,
   "nav_menu": {},
   "number_sections": true,
   "sideBar": true,
   "skip_h1_title": false,
   "title_cell": "Table of Contents",
   "title_sidebar": "Contents",
   "toc_cell": true,
   "toc_position": {},
   "toc_section_display": true,
   "toc_window_display": true
  },
  "varInspector": {
   "cols": {
    "lenName": "24",
    "lenType": "16",
    "lenVar": 40
   },
   "kernels_config": {
    "python": {
     "delete_cmd_postfix": "",
     "delete_cmd_prefix": "del ",
     "library": "var_list.py",
     "varRefreshCmd": "print(var_dic_list())"
    },
    "r": {
     "delete_cmd_postfix": ") ",
     "delete_cmd_prefix": "rm(",
     "library": "var_list.r",
     "varRefreshCmd": "cat(var_dic_list()) "
    }
   },
   "types_to_exclude": [
    "module",
    "function",
    "builtin_function_or_method",
    "instance",
    "_Feature"
   ],
   "window_display": false
  }
 },
 "nbformat": 4,
 "nbformat_minor": 4
}
