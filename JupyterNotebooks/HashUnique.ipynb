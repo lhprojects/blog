{
 "cells": [
  {
   "cell_type": "markdown",
   "metadata": {
    "toc": true
   },
   "source": [
    "<h1>Table of Contents<span class=\"tocSkip\"></span></h1>\n",
    "<div class=\"toc\"><ul class=\"toc-item\"><li><span><a href=\"#hash_unique.unique-2-10-times-faster-than-numpy.unique-and-pandas.unique\" data-toc-modified-id=\"hash_unique.unique-2-10-times-faster-than-numpy.unique-and-pandas.unique-1\"><span class=\"toc-item-num\">1&nbsp;&nbsp;</span><code>hash_unique.unique</code> 2-10 times faster than <code>numpy.unique</code> and <code>pandas.unique</code></a></span></li><li><span><a href=\"#implementation\" data-toc-modified-id=\"implementation-2\"><span class=\"toc-item-num\">2&nbsp;&nbsp;</span>implementation</a></span></li><li><span><a href=\"#Simple-test\" data-toc-modified-id=\"Simple-test-3\"><span class=\"toc-item-num\">3&nbsp;&nbsp;</span>Simple test</a></span></li><li><span><a href=\"#Check-hash-quality\" data-toc-modified-id=\"Check-hash-quality-4\"><span class=\"toc-item-num\">4&nbsp;&nbsp;</span>Check hash quality</a></span></li><li><span><a href=\"#performance-for-tiny-array\" data-toc-modified-id=\"performance-for-tiny-array-5\"><span class=\"toc-item-num\">5&nbsp;&nbsp;</span>performance for tiny array</a></span></li><li><span><a href=\"#performance-for-medium-array\" data-toc-modified-id=\"performance-for-medium-array-6\"><span class=\"toc-item-num\">6&nbsp;&nbsp;</span>performance for medium array</a></span></li><li><span><a href=\"#performance-for-large-array\" data-toc-modified-id=\"performance-for-large-array-7\"><span class=\"toc-item-num\">7&nbsp;&nbsp;</span>performance for large array</a></span></li></ul></div>"
   ]
  },
  {
   "cell_type": "markdown",
   "metadata": {},
   "source": [
    "# `hash_unique.unique` 2-10 times faster than `numpy.unique` and `pandas.unique`\n",
    "\n",
    "for random array."
   ]
  },
  {
   "cell_type": "markdown",
   "metadata": {},
   "source": [
    "# implementation"
   ]
  },
  {
   "cell_type": "code",
   "execution_count": 1,
   "metadata": {},
   "outputs": [
    {
     "name": "stdout",
     "output_type": "stream",
     "text": [
      "Overwriting hash_unique.py\n"
     ]
    }
   ],
   "source": [
    "%%file hash_unique.py\n",
    "\n",
    "# don't remove the follows for your use\n",
    "# Author: https://lhprojects.github.io/blog/\n",
    "# don't remove above lines\n",
    "\n",
    "import numba\n",
    "import numpy as np\n",
    "\n",
    "\n",
    "def unique(ar, return_counts = False, return_hit_accuracy = False):\n",
    "    '''\n",
    "    ar: integer array\n",
    "    return:\n",
    "        uniques, uniques_counts\n",
    "    '''\n",
    "    \n",
    "    f,s,t = unique_impl(ar)\n",
    "    if return_counts and return_hit_accuracy:\n",
    "        return f, s, t\n",
    "    elif return_counts:\n",
    "        return f, s\n",
    "    elif return_hit_accuracy:\n",
    "        return f, t\n",
    "    else:\n",
    "        return f\n",
    "\n",
    "@numba.njit\n",
    "def length(l):\n",
    "    # https://en.wikipedia.org/wiki/Fowler%E2%80%93Noll%E2%80%93Vo_hash_function\n",
    "    l = int(np.ceil(np.log2(l)))\n",
    "    # 4*len(ar) > l > 2*len(ar)\n",
    "    l = 2 << l\n",
    "    return l\n",
    "\n",
    "@numba.njit\n",
    "def FNV_1(v):\n",
    "    \n",
    "    byte_mask = np.uint64(255)\n",
    "    bs = np.uint64(v)\n",
    "    x1 = (bs) & byte_mask\n",
    "    x2 = (bs>>8) &byte_mask\n",
    "    x3 = (bs>>16) &byte_mask\n",
    "    x4 = (bs>>24) &byte_mask\n",
    "\n",
    "    FNV_primer = np.uint64(1099511628211)\n",
    "    FNV_bias = np.uint64(14695981039346656037)\n",
    "    h = FNV_bias\n",
    "    h = h*FNV_primer\n",
    "    h = h^x1\n",
    "    h = h*FNV_primer\n",
    "    h = h^x2\n",
    "    h = h*FNV_primer\n",
    "    h = h^x3\n",
    "    h = h*FNV_primer\n",
    "    h = h^x4\n",
    "    return h\n",
    "    \n",
    "@numba.njit\n",
    "def unique_impl(ar):\n",
    "    \n",
    "    l = len(ar)\n",
    "    l = int(np.ceil(np.log2(l)))\n",
    "    # 4*len(ar) > l > 2*len(ar)\n",
    "    l = 2 << l\n",
    "    \n",
    "    mask = l - 1      \n",
    "    uniques = np.empty(l, dtype=ar.dtype)\n",
    "    uniques_cnt = np.zeros(l, dtype=np.int_)\n",
    "    \n",
    "    total = 0    \n",
    "    miss_hits = 0    \n",
    "    \n",
    "    for v in ar:\n",
    "        h = FNV_1(v)\n",
    "        \n",
    "        index = (h & mask)\n",
    "        \n",
    "        # open address hash\n",
    "        # great cache performance\n",
    "        while True:\n",
    "            if uniques_cnt[index] == 0:\n",
    "                uniques_cnt[index] += 1\n",
    "                uniques[index] = v\n",
    "                total += 1\n",
    "                break\n",
    "            elif uniques[index] == v:\n",
    "                uniques_cnt[index] += 1 \n",
    "                break\n",
    "            else:\n",
    "                miss_hits += 1\n",
    "                index += 1\n",
    "                index = index & mask\n",
    "    \n",
    "    \n",
    "    # flush the results in a concrete array\n",
    "    uniques_ = np.empty(total, dtype=ar.dtype)\n",
    "    uniques_cnt_ = np.empty(total, dtype=np.int_)\n",
    "    t = 0\n",
    "    for i in range(l):\n",
    "        if uniques_cnt[i] > 0:\n",
    "            uniques_[t] = uniques[i]\n",
    "            uniques_cnt_[t] = uniques_cnt[i]\n",
    "            t += 1\n",
    "            \n",
    "    hit_accuracy = len(ar)/(len(ar) + miss_hits)\n",
    "    return uniques_, uniques_cnt_, hit_accuracy\n"
   ]
  },
  {
   "cell_type": "markdown",
   "metadata": {},
   "source": [
    "# Simple test"
   ]
  },
  {
   "cell_type": "code",
   "execution_count": 2,
   "metadata": {
    "scrolled": false
   },
   "outputs": [
    {
     "name": "stdout",
     "output_type": "stream",
     "text": [
      "(0, 10) (1, 10) (2, 12) (3, 8) (4, 8) (5, 7) (6, 7) (7, 11) (8, 11) (9, 16) \n",
      "(0, 10) (1, 10) (2, 12) (3, 8) (4, 8) (5, 7) (6, 7) (7, 11) (8, 11) (9, 16) \n"
     ]
    }
   ],
   "source": [
    "import hash_unique\n",
    "import pandas\n",
    "import numpy as np\n",
    "import imp\n",
    "imp.reload(hash_unique)\n",
    "\n",
    "x = np.random.randint(10, size=100)\n",
    "\n",
    "u, c = np.unique(x, return_counts=True)\n",
    "\n",
    "hash_u, hash_c = hash_unique.unique(x, return_counts=True)\n",
    "index = np.argsort(hash_u)\n",
    "hash_u = hash_u[index]\n",
    "hash_c = hash_c[index]\n",
    "\n",
    "for u_, c_ in zip(u, c):\n",
    "    print((u_, c_), end=\" \")\n",
    "print()\n",
    "\n",
    "for u_, c_ in zip(hash_u, hash_c):\n",
    "    print((u_, c_), end=\" \")\n",
    "print()"
   ]
  },
  {
   "cell_type": "markdown",
   "metadata": {},
   "source": [
    "# Check hash quality"
   ]
  },
  {
   "cell_type": "code",
   "execution_count": 3,
   "metadata": {
    "scrolled": false
   },
   "outputs": [
    {
     "name": "stdout",
     "output_type": "stream",
     "text": [
      "0.947\n",
      "4345\n",
      "4063\n"
     ]
    }
   ],
   "source": [
    "x = np.random.randint(5000, size=10000)\n",
    "f, hit_accuracy = hash_unique.unique(x, return_hit_accuracy=True)\n",
    "\n",
    "length = hash_unique.length(len(x))\n",
    "y = np.array([hash_unique.FNV_1(v) for v in x], dtype=np.uint64) & np.uint64(length - 1)\n",
    "\n",
    "print(\"%.3f\"%hit_accuracy)\n",
    "print(len(set(x)))\n",
    "print(len(set(y)))"
   ]
  },
  {
   "cell_type": "markdown",
   "metadata": {},
   "source": [
    "# performance for tiny array"
   ]
  },
  {
   "cell_type": "code",
   "execution_count": 4,
   "metadata": {},
   "outputs": [
    {
     "name": "stdout",
     "output_type": "stream",
     "text": [
      "13 µs ± 201 ns per loop (mean ± std. dev. of 7 runs, 100000 loops each)\n",
      "1.39 µs ± 3.92 ns per loop (mean ± std. dev. of 7 runs, 1000000 loops each)\n",
      "25 µs ± 1.68 µs per loop (mean ± std. dev. of 7 runs, 10000 loops each)\n"
     ]
    }
   ],
   "source": [
    "x = np.random.randint(5, size=10)\n",
    "%timeit np.unique(x, return_counts=True)\n",
    "%timeit hash_unique.unique(x, return_counts=True)\n",
    "%timeit pandas.unique(x)"
   ]
  },
  {
   "cell_type": "markdown",
   "metadata": {},
   "source": [
    "# performance for medium array"
   ]
  },
  {
   "cell_type": "code",
   "execution_count": 5,
   "metadata": {},
   "outputs": [
    {
     "name": "stdout",
     "output_type": "stream",
     "text": [
      "464 µs ± 47.1 µs per loop (mean ± std. dev. of 7 runs, 1000 loops each)\n",
      "87.2 µs ± 378 ns per loop (mean ± std. dev. of 7 runs, 10000 loops each)\n",
      "127 µs ± 583 ns per loop (mean ± std. dev. of 7 runs, 10000 loops each)\n"
     ]
    }
   ],
   "source": [
    "x = np.random.randint(5000, size=10000)\n",
    "%timeit np.unique(x, return_counts=True)\n",
    "%timeit hash_unique.unique(x, return_counts=True)\n",
    "%timeit pandas.unique(x)"
   ]
  },
  {
   "cell_type": "code",
   "execution_count": 8,
   "metadata": {},
   "outputs": [
    {
     "name": "stdout",
     "output_type": "stream",
     "text": [
      "108 µs ± 474 ns per loop (mean ± std. dev. of 7 runs, 10000 loops each)\n",
      "74.1 µs ± 268 ns per loop (mean ± std. dev. of 7 runs, 10000 loops each)\n",
      "124 µs ± 428 ns per loop (mean ± std. dev. of 7 runs, 10000 loops each)\n"
     ]
    }
   ],
   "source": [
    "x = np.arange(10000,0,-1)\n",
    "%timeit np.unique(x, return_counts=True)\n",
    "%timeit hash_unique.unique(x)\n",
    "%timeit pandas.unique(x)"
   ]
  },
  {
   "cell_type": "code",
   "execution_count": 9,
   "metadata": {},
   "outputs": [
    {
     "name": "stdout",
     "output_type": "stream",
     "text": [
      "81.7 µs ± 363 ns per loop (mean ± std. dev. of 7 runs, 10000 loops each)\n",
      "74 µs ± 205 ns per loop (mean ± std. dev. of 7 runs, 10000 loops each)\n",
      "123 µs ± 465 ns per loop (mean ± std. dev. of 7 runs, 10000 loops each)\n"
     ]
    }
   ],
   "source": [
    "x = np.arange(0,10000)\n",
    "%timeit np.unique(x, return_counts=True)\n",
    "%timeit hash_unique.unique(x)\n",
    "%timeit pandas.unique(x)"
   ]
  },
  {
   "cell_type": "markdown",
   "metadata": {},
   "source": [
    "# performance for large array"
   ]
  },
  {
   "cell_type": "code",
   "execution_count": 7,
   "metadata": {},
   "outputs": [
    {
     "name": "stdout",
     "output_type": "stream",
     "text": [
      "717 ms ± 4.55 ms per loop (mean ± std. dev. of 7 runs, 1 loop each)\n",
      "407 ms ± 1.64 ms per loop (mean ± std. dev. of 7 runs, 1 loop each)\n",
      "583 ms ± 10.7 ms per loop (mean ± std. dev. of 7 runs, 1 loop each)\n"
     ]
    }
   ],
   "source": [
    "x = np.random.randint(10000000//2, size=10000000)\n",
    "%timeit np.unique(x, return_counts=True)\n",
    "%timeit hash_unique.unique(x, return_counts=True)\n",
    "%timeit pandas.unique(x)"
   ]
  }
 ],
 "metadata": {
  "kernelspec": {
   "display_name": "Python 3",
   "language": "python",
   "name": "python3"
  },
  "language_info": {
   "codemirror_mode": {
    "name": "ipython",
    "version": 3
   },
   "file_extension": ".py",
   "mimetype": "text/x-python",
   "name": "python",
   "nbconvert_exporter": "python",
   "pygments_lexer": "ipython3",
   "version": "3.8.5"
  },
  "toc": {
   "base_numbering": 1,
   "nav_menu": {},
   "number_sections": true,
   "sideBar": true,
   "skip_h1_title": false,
   "title_cell": "Table of Contents",
   "title_sidebar": "Contents",
   "toc_cell": true,
   "toc_position": {},
   "toc_section_display": true,
   "toc_window_display": false
  },
  "varInspector": {
   "cols": {
    "lenName": 16,
    "lenType": 16,
    "lenVar": 40
   },
   "kernels_config": {
    "python": {
     "delete_cmd_postfix": "",
     "delete_cmd_prefix": "del ",
     "library": "var_list.py",
     "varRefreshCmd": "print(var_dic_list())"
    },
    "r": {
     "delete_cmd_postfix": ") ",
     "delete_cmd_prefix": "rm(",
     "library": "var_list.r",
     "varRefreshCmd": "cat(var_dic_list()) "
    }
   },
   "types_to_exclude": [
    "module",
    "function",
    "builtin_function_or_method",
    "instance",
    "_Feature"
   ],
   "window_display": false
  }
 },
 "nbformat": 4,
 "nbformat_minor": 4
}
