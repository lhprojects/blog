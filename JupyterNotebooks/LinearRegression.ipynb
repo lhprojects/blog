{
 "cells": [
  {
   "cell_type": "markdown",
   "metadata": {
    "toc": true
   },
   "source": [
    "<h1>Table of Contents<span class=\"tocSkip\"></span></h1>\n",
    "<div class=\"toc\"><ul class=\"toc-item\"><li><span><a href=\"#Implementation\" data-toc-modified-id=\"Implementation-1\"><span class=\"toc-item-num\">1&nbsp;&nbsp;</span>Implementation</a></span><ul class=\"toc-item\"><li><span><a href=\"#SVD\" data-toc-modified-id=\"SVD-1.1\"><span class=\"toc-item-num\">1.1&nbsp;&nbsp;</span>SVD</a></span></li><li><span><a href=\"#数据中心化\" data-toc-modified-id=\"数据中心化-1.2\"><span class=\"toc-item-num\">1.2&nbsp;&nbsp;</span>数据中心化</a></span></li><li><span><a href=\"#线性回归采用SVD方法\" data-toc-modified-id=\"线性回归采用SVD方法-1.3\"><span class=\"toc-item-num\">1.3&nbsp;&nbsp;</span>线性回归采用SVD方法</a></span></li><li><span><a href=\"#岭回归采用SVD方法\" data-toc-modified-id=\"岭回归采用SVD方法-1.4\"><span class=\"toc-item-num\">1.4&nbsp;&nbsp;</span>岭回归采用SVD方法</a></span></li><li><span><a href=\"#套索回归采用坐标下降（coordinate-descent）方法\" data-toc-modified-id=\"套索回归采用坐标下降（coordinate-descent）方法-1.5\"><span class=\"toc-item-num\">1.5&nbsp;&nbsp;</span>套索回归采用坐标下降（coordinate descent）方法</a></span></li></ul></li><li><span><a href=\"#Linear-Regression\" data-toc-modified-id=\"Linear-Regression-2\"><span class=\"toc-item-num\">2&nbsp;&nbsp;</span>Linear Regression</a></span></li><li><span><a href=\"#Ridge-Regression\" data-toc-modified-id=\"Ridge-Regression-3\"><span class=\"toc-item-num\">3&nbsp;&nbsp;</span>Ridge Regression</a></span></li><li><span><a href=\"#Lasso\" data-toc-modified-id=\"Lasso-4\"><span class=\"toc-item-num\">4&nbsp;&nbsp;</span>Lasso</a></span></li><li><span><a href=\"#Check-with-sklearn\" data-toc-modified-id=\"Check-with-sklearn-5\"><span class=\"toc-item-num\">5&nbsp;&nbsp;</span>Check with sklearn</a></span></li><li><span><a href=\"#Benchmark\" data-toc-modified-id=\"Benchmark-6\"><span class=\"toc-item-num\">6&nbsp;&nbsp;</span>Benchmark</a></span></li></ul></div>"
   ]
  },
  {
   "cell_type": "markdown",
   "metadata": {},
   "source": [
    "# Implementation"
   ]
  },
  {
   "cell_type": "markdown",
   "metadata": {},
   "source": [
    "* $X_{ij}$表示样本$i$的特征$j$的数值。 $\\mathbf{X}$为$m\\times d$大小的矩阵，其中$m$为样本的数量，$d$为特征的数量。\n",
    "* $\\mathbf{y}$为列向量$(...,y_i,...)^T$。\n",
    "* $\\mathbf{x}_i$为列向量$(...,X_{ij},...)^T$。\n",
    "* $\\mathbf{w}$为列向量$(...,w_j,...)^T$。\n",
    "\n"
   ]
  },
  {
   "cell_type": "markdown",
   "metadata": {},
   "source": [
    "## SVD\n",
    "对于一个矩阵$A\\in R^{m\\times n}$，我们将他分解为\n",
    "$A = U \\Sigma V^T$\n",
    "其中$U\\in R^{m\\times m}$，$V\\in R^{n\\times n}$，$\\Sigma\\in R^{m\\times n}$，且$U$和$V$为正交矩阵，$\\Sigma$为\"对角\"矩阵。\n",
    "其中\n",
    "$$\n",
    "\\Sigma={\\rm diag}_{m\\times n}(\\sigma_1,\\sigma_2,...,\\sigma_r,0,...),\\quad r \\le \\min (m,n)\n",
    "$$\n",
    "\n",
    "$$\n",
    "A_{ij} = \\sum_{k\\le r} U_{ik}\\Sigma_k V_{ik}\n",
    "$$\n"
   ]
  },
  {
   "cell_type": "markdown",
   "metadata": {},
   "source": [
    "## 数据中心化\n",
    "损失函数可以表示为\n",
    "$$\n",
    "L = \\sum_i (y_i - X_{ij} w_j - b)^2 + f(w_j)\n",
    "$$\n",
    "\n",
    "\n",
    "\n",
    "数据中心化之后\n",
    "$$\n",
    "\\sum_j X_{ij} = 0\n",
    "$$\n",
    "$$\n",
    "\\sum_j y_j = 0\n",
    "$$\n",
    "\n",
    "\n",
    "对$b$满足\n",
    "$$\n",
    "\\partial_b L = \\sum_i (y_i - X_{ij} w_j - b) = \\sum_i b\n",
    "$$\n",
    "于是\n",
    "$$\n",
    "b = 0\n",
    "$$\n",
    "优化问题变为\n",
    "$$\n",
    "L = \\sum_i (y_i -\\sum_j X_{ij} w_j)^2\n",
    "$$\n",
    "\n",
    "由于\n",
    "$$\n",
    "y(\\hat{\\mathbf{x}}) = \\sum_j w_j (\\hat{x}_j - \\overline{x}_j) + \\overline{y}\n",
    "$$\n",
    "\n",
    "数据中心化前的偏置项为$b^\\prime$\n",
    "$$b^\\prime = \\overline{y} - \\sum_i w_i \\overline{x_i}$$\n",
    "权重为\n",
    "$$w^\\prime = w$$"
   ]
  },
  {
   "cell_type": "markdown",
   "metadata": {},
   "source": [
    "## 线性回归采用SVD方法\n",
    "$$\n",
    "L = \\sum_i (y_i - X_{ij} w_j)^2\n",
    "=  (\\mathbf{y} - \\mathbf{X}\\cdot\\mathbf{w})^T \\cdot (\\mathbf{y} - \\mathbf{X}\\cdot\\mathbf{w})\n",
    "$$\n",
    "\n",
    "对任意$w_j$满足\n",
    "$$\n",
    "0 = \\partial_{w_j} L = \\sum_i 2 (y_i - X_{ij} w_j) (-X_{ij}) = -2 \\mathbf{X}^T (\\mathbf{y} - \\mathbf{X}\\mathbf{w}) \n",
    "$$\n",
    "对$\\mathbf{X}$做SVD\n",
    "$$\n",
    "V\\Sigma^T U^T (\\mathbf{y} - U\\Sigma V^T\\mathbf{w}) = 0\n",
    "$$\n",
    "$V$为正交矩阵一定可逆且逆为$V^T$，于是\n",
    "$$\n",
    "\\Sigma^T \\Sigma V^T\\mathbf{w} = \\Sigma^T U^T \\mathbf{y}\n",
    "$$\n",
    "$\\Sigma^T \\Sigma$为$n \\times n$的方型矩阵，$\\Sigma^T \\Sigma = {\\rm diag}(\\sigma_1^2, ..., \\sigma_r^2, 0, ...)$\n",
    "\n",
    "$\\Sigma$不一定可逆，因为$\\Sigma$可能包含全部为0的行。\n",
    "如果$\\Sigma$可能不包含全部为0的行，则\n",
    "$$\n",
    "\\mathbf{w} = V (\\Sigma^T \\Sigma)^{-1} \\Sigma^T U^T \\mathbf{y}\n",
    "$$\n",
    "\n",
    "\n",
    "如果$\\Sigma$可能包含全部为0的行，对于$\\Sigma$全部为0的行，无论$V^T W$取多少，方程两边都为0，方程自然平衡，于是方程有无穷多个解。\n",
    "这是因为此时$X$的秩($r$)小于$n=d+1$，方程$\\mathbf{y} - \\mathbf{X}\\mathbf{w}$有无穷解，$L$可以达到0。此时我们为了得到确定的$\\mathbf{w}$。我们求使得$L$最小的$\\mathbf{w}$中，使得$|\\bf{w}|^2$最小的。\n",
    "由于\n",
    "$$\n",
    "|\\mathbf{w}|^2 =  |V^T \\mathbf{w}|^2 \n",
    "$$\n",
    "对于$\\Sigma$全为0的行，应当是相应行的$|V^T \\mathbf{w}|$设为0。\n",
    "于是\n",
    "$$\n",
    "(\\Sigma^T \\Sigma)_r V^T\\mathbf{w} = (\\Sigma^T)_r U^T_{r\\times m} \\mathbf{y}\n",
    "$$\n",
    "其中$(\\Sigma^T \\Sigma)_r = {\\rm diag}(\\sigma_1^2, ..., \\sigma_r^2)$，$\\Sigma_r = {\\rm diag}(\\sigma_1, ..., \\sigma_r)$，\n",
    "$U^T_{r\\times m}$表示$U$的前$r$行，最后有\n",
    "$$\n",
    " \\mathbf{w} = V_{n \\times r} \\Sigma_r^{-1} U^T_{r\\times m} \\mathbf{y}\n",
    "$$\n",
    "$V_{m \\times r}$表示$U$的前$r$列。\n",
    "\n"
   ]
  },
  {
   "cell_type": "markdown",
   "metadata": {},
   "source": [
    "## 岭回归采用SVD方法\n",
    "$$\n",
    "L = \\sum_i (y_i - X_{ij} w_j)^2\n",
    "=  (\\mathbf{y} - \\mathbf{X}\\cdot\\mathbf{w})^T \\cdot (\\mathbf{y} - \\mathbf{X}\\cdot\\mathbf{w})\n",
    "+ \\lambda \\mathbf{w}^T  \\mathbf{w}\n",
    "$$\n",
    "其中$\\lambda = \\alpha$\n",
    "$$\n",
    "0 = \\partial_{w_j} L = \\sum_i 2 (y_i - X_{ij} w_j) (-X_{ij}) + 2\\Lambda_{ij} w_j$$\n",
    "$$ \n",
    "0 = -2 \\mathbf{X}^T (\\mathbf{y} - \\mathbf{X}\\mathbf{w}) + 2\\Lambda \\mathbf{w}\n",
    "$$\n",
    "\n",
    "$$\n",
    "(\\lambda I +\\Sigma^T \\Sigma) V^T\\mathbf{w} = \\Sigma^T U^T \\mathbf{y}\n",
    "$$\n",
    "\n",
    "由于 $(\\lambda I + \\Sigma^T \\Sigma)$可逆\n",
    "$$\n",
    "\\mathbf{w} = V (\\lambda I + \\Sigma^T \\Sigma)^{-1}\\Sigma^T U^T \\mathbf{y}\n",
    "$$\n",
    "进一步化简为\n",
    "$$\n",
    "\\mathbf{w} = V_{n\\times r}(\\lambda I + \\Sigma^T \\Sigma)^{-1}_{r}\\Sigma^T_{r} U^T_{r\\times m} \\mathbf{y}\n",
    "$$\n",
    "\n",
    "\n"
   ]
  },
  {
   "cell_type": "markdown",
   "metadata": {},
   "source": [
    "## 套索回归采用坐标下降（coordinate descent）方法\n",
    "$$\n",
    "L = \\sum_i (y_i - \\sum_j X_{ij} w_j)^2 + \\lambda \\sum_j |w_j|\n",
    "$$\n",
    "其中$\\lambda = 2\\alpha m$。\n",
    "loss函数中与$w_k$有关的项为\n",
    "$$\n",
    "L = \\sum_i (y_i - \\sum_j X_{ij} w_j)^2\n",
    "=\\sum_i (y_i - \\sum_j X_{ij\\neq k} w_j - X_{ik}w_k)^2 + \\lambda \\sum_j |w_j|\n",
    "$$\n",
    "\n",
    "$$L \\sim \\sum_i (X_{ik}w_k)^2 + 2 \\sum_i \\left(\\sum_j X_{ij\\neq k }w_{j}- y_i\\right) X_{ik} w_{k}  + \\lambda |w_k|$$\n",
    "\n",
    "$$L \\sim \\left(\\sum_i X^2_{ik}\\right) w_k^2 + 2 \\sum_i \\left(\\sum_j X_{ij}w_{j} - X_{ik} w_{k}  - y_i\\right) X_{ik} w_{k} + \\lambda |w_k|$$\n",
    "\n",
    "定义\n",
    "$$\n",
    "A_j = \\sum_i X^2_{ij}\n",
    "$$\n",
    "\n",
    "$$\n",
    "B_{jk} = \\sum_i X_{ij} X_{ik}\n",
    "$$\n",
    "\n",
    "$$\n",
    "C_k = \\sum_i y_i X_{ik}\n",
    "$$\n",
    "\n",
    "则\n",
    "$$L \\sim A_k w_k^2 + 2 \\left(\\sum_j B_{jk} w_j - A_k w_k  - C_k \\right) w_k + \\lambda |w_k|$$\n",
    "注意大圆括号的项实际并不包含$w_k$。\n",
    "\n",
    "设第$s$步，$w_j$数值为$w_j^{(s)}$，则\n",
    "\n",
    "$$ L \\sim A_k w_k^2 + 2 \\left(\\sum_j B_{j k} w_j^{(s)} - A_k w_k^{(s)}  - C_k \\right) w_k + \\lambda |w_k|$$\n",
    "\n",
    "$$ L \\sim A_k w_k^2 + 2 F_k w_k + \\lambda |w_k|$$\n",
    "\n",
    "优化$w_k$应该分情况讨论，设$w_k > 0$，则最优化位置为\n",
    "$$\n",
    "w_k = -(F_k + \\lambda/2)/A_k\n",
    "$$\n",
    "自恰条件为\n",
    "$$\n",
    "F_k > -\\lambda/2\n",
    "$$\n",
    "\n",
    "设$w_k < 0$，则最优化位置为\n",
    "$$\n",
    "w_k = -(F_k - \\lambda/2)/A_k\n",
    "$$\n",
    "自恰条件为\n",
    "$$\n",
    "F_k > \\lambda/2\n",
    "$$\n",
    "两者都不满足，那么$w_k = 0$\n",
    "\n"
   ]
  },
  {
   "cell_type": "code",
   "execution_count": 1,
   "metadata": {},
   "outputs": [],
   "source": [
    "import numpy as np\n",
    "class LinearRegression:\n",
    "    \n",
    "    def __init__(self):\n",
    "        pass\n",
    "\n",
    "    def fitSVD(self, X, y):\n",
    "        X = np.array(X)\n",
    "        Xmeans = X.mean(axis = 0)\n",
    "        ymeans = y.mean(axis = 0)\n",
    "        X = X - Xmeans\n",
    "        y = y - ymeans\n",
    "        U,D,VT = np.linalg.svd(X, full_matrices=False)\n",
    "        # U m \\times r\n",
    "        # D r \\times r\n",
    "        # VT r \\times n     \n",
    "        \n",
    "        # we don't need really remove the zeros rows\n",
    "        invD = D/(np.square(D) +1E-10)            \n",
    "        W = VT.T.dot((invD * U.T.dot(y)))\n",
    "        self.coef_ = W\n",
    "        self.intercept_ = ymeans - W.dot(Xmeans)\n",
    "        \n",
    "    \n",
    "    def fit(self,X,y):        \n",
    "        self.fitSVD(X,y)\n",
    "        \n",
    "    def predict(self, X):\n",
    "        assert X.ndim == 2\n",
    "        return np.dot(X, self.coef_) + self.intercept_\n",
    "        \n",
    "        \n",
    "class Ridge:\n",
    "    \n",
    "    def __init__(self, alpha = 0.01):\n",
    "        self.alpha_ = float(alpha)\n",
    "        pass\n",
    "    \n",
    "    def fit(self,X,y):\n",
    "        self.fitSVD(X,y)\n",
    "    \n",
    "\n",
    "    def fitSVD(self, X, y):\n",
    "        X = np.array(X)\n",
    "        Xmeans = X.mean(axis = 0)\n",
    "        ymeans = y.mean(axis = 0)\n",
    "        X = X - Xmeans\n",
    "        y = y - ymeans\n",
    "        U,D,VT = np.linalg.svd(X, full_matrices=False)\n",
    "        # U m \\times r\n",
    "        # D r \\times r\n",
    "        # VT r \\times n\n",
    "        \n",
    "        lamb = max(1E-6, self.alpha_)\n",
    "        invD = D/(np.square(D) + lamb) \n",
    "        W = VT.T.dot((invD*U.T.dot(y)))\n",
    "        self.coef_ = W\n",
    "        self.intercept_ = ymeans - W.dot(Xmeans)\n",
    "                        \n",
    "    def predict(self, X):\n",
    "        assert X.ndim == 2\n",
    "        return np.dot(X, self.coef_) + self.intercept_\n",
    "\n",
    "class Lasso:\n",
    "    \n",
    "    def __init__(self,alpha = 0.01):\n",
    "        self.alpha_ = float(alpha)\n",
    "        pass\n",
    "    \n",
    "    def fit(self,X,y, max_iters=100):\n",
    "        assert X.ndim == 2\n",
    "        \n",
    "        X = np.array(X)\n",
    "        Xmeans = X.mean(axis = 0)\n",
    "        ymeans = y.mean(axis = 0)\n",
    "        X = X - Xmeans\n",
    "        y = y - ymeans\n",
    "        \n",
    "        nfeatures = X.shape[1]\n",
    "        \n",
    "        W = np.zeros(nfeatures)\n",
    "        \n",
    "\n",
    "        B = X.T.dot(X)\n",
    "        C = y.dot(X)\n",
    "                \n",
    "        lamb = 2*X.shape[0]*self.alpha_\n",
    "        for it in range(max_iters):\n",
    "            for k in range(nfeatures):\n",
    "                \n",
    "                Ak = B[k,k]\n",
    "                \n",
    "                Fk = B[:,k].dot(W) - Ak*W[k] - C[k]\n",
    "                                \n",
    "                if Fk < -lamb/2: # weight > 0\n",
    "                    weight = -(Fk + lamb/2)/Ak\n",
    "                elif Fk > lamb/2: # weight < 0\n",
    "                    weight = -(Fk - lamb/2)/Ak\n",
    "                else:\n",
    "                    weight = 0.0\n",
    "\n",
    "                W[k] = weight\n",
    "                \n",
    "            \n",
    "        self.coef_ = W\n",
    "        #print(\"W\", W)\n",
    "        #print(\"Xmeans\", Xmeans)\n",
    "        #print(\"ymeans\", ymeans)\n",
    "        self.intercept_ = ymeans - W.dot(Xmeans)\n",
    "                            \n",
    "    def predict(self, X):\n",
    "        assert X.ndim == 2\n",
    "        return np.dot(X, self.coef_) + self.intercept_\n",
    "\n"
   ]
  },
  {
   "cell_type": "markdown",
   "metadata": {},
   "source": [
    "# Linear Regression"
   ]
  },
  {
   "cell_type": "code",
   "execution_count": 2,
   "metadata": {
    "scrolled": false
   },
   "outputs": [
    {
     "data": {
      "image/png": "[encoded data removed]",
      "text/plain": [
       "<Figure size 288x288 with 1 Axes>"
      ]
     },
     "metadata": {
      "needs_background": "light"
     },
     "output_type": "display_data"
    },
    {
     "data": {
      "image/png": "[encoded data removed]",
      "text/plain": [
       "<Figure size 288x288 with 1 Axes>"
      ]
     },
     "metadata": {
      "needs_background": "light"
     },
     "output_type": "display_data"
    }
   ],
   "source": [
    "import matplotlib.pyplot as plt\n",
    "#from mpl_toolkits.mplot3d import Axes3D\n",
    "%matplotlib inline\n",
    "\n",
    "def get_data(M=1, N=100):\n",
    "    np.random.seed(0)\n",
    "    X = np.random.rand(N,M)\n",
    "    w = np.arange(1,M+1)\n",
    "    y = np.sum(w.reshape(1,M)*X, axis=1) + np.random.randn(N)\n",
    "    return X,y,np.append(w,0)\n",
    "\n",
    "def test_learner(lr, N = 100):\n",
    "        \n",
    "    X,y,w = get_data(1, N)\n",
    "    lr.fit(X, y)\n",
    "\n",
    "    X_plt = np.linspace(0, 1, 50)\n",
    "    yhat_plt= lr.predict(X_plt[:,np.newaxis])\n",
    "\n",
    "    fig=plt.figure(figsize=(4,4))\n",
    "    plt.scatter(X, y, color=\"blue\")\n",
    "    plt.plot(X_plt, yhat_plt, label=\"fit\", color=\"red\")\n",
    "    plt.plot(X_plt, X_plt[:]*w[0]+w[1], label=\"model\", color=\"blue\")\n",
    "    plt.xlabel(\"$x$\", fontsize=\"large\")\n",
    "    plt.ylabel(\"$y$\", fontsize=\"large\")\n",
    "    plt.legend(frameon=False, fontsize=\"large\")\n",
    "    plt.show()\n",
    "\n",
    "lr = LinearRegression()\n",
    "test_learner(LinearRegression(), N=1)\n",
    "test_learner(lr)"
   ]
  },
  {
   "cell_type": "markdown",
   "metadata": {},
   "source": [
    "# Ridge Regression"
   ]
  },
  {
   "cell_type": "code",
   "execution_count": 3,
   "metadata": {
    "scrolled": false
   },
   "outputs": [
    {
     "data": {
      "image/png": "[encoded data removed]",
      "text/plain": [
       "<Figure size 288x288 with 1 Axes>"
      ]
     },
     "metadata": {
      "needs_background": "light"
     },
     "output_type": "display_data"
    },
    {
     "data": {
      "image/png": "[encoded data removed]",
      "text/plain": [
       "<Figure size 288x288 with 1 Axes>"
      ]
     },
     "metadata": {
      "needs_background": "light"
     },
     "output_type": "display_data"
    },
    {
     "data": {
      "image/png": "[encoded data removed]",
      "text/plain": [
       "<Figure size 288x288 with 1 Axes>"
      ]
     },
     "metadata": {
      "needs_background": "light"
     },
     "output_type": "display_data"
    }
   ],
   "source": [
    "test_learner(Ridge(alpha=0.01), N=1)\n",
    "test_learner(Ridge())\n",
    "\n",
    "def test_shrinkage(cls, max_alpha = 1):\n",
    "    X,y,w=get_data(1,100)\n",
    "    alphas=[]\n",
    "    cs=[]\n",
    "    bs=[]\n",
    "    alphas = max_alpha*np.power(10, np.linspace(-3, 0))\n",
    "    for alpha in alphas:\n",
    "        lr=cls(alpha)\n",
    "        lr.fit(X, y)\n",
    "        cs.append(lr.coef_)\n",
    "        bs.append(lr.intercept_)\n",
    "\n",
    "    cs=np.array(cs)\n",
    "\n",
    "    plt.figure(figsize=(4,4))\n",
    "    plt.plot(alphas, cs[:,0], label=\"$c_1$\")\n",
    "    plt.plot(alphas, bs, label=\"b\")\n",
    "    plt.yscale(\"log\")\n",
    "    plt.xlabel(r\"$\\alpha$\", fontsize=\"large\")\n",
    "    plt.legend(frameon=False, fontsize=\"large\")\n",
    "    plt.show()\n",
    "\n",
    "    \n",
    "test_shrinkage(Ridge)"
   ]
  },
  {
   "cell_type": "markdown",
   "metadata": {},
   "source": [
    "# Lasso"
   ]
  },
  {
   "cell_type": "code",
   "execution_count": 4,
   "metadata": {
    "scrolled": false
   },
   "outputs": [
    {
     "data": {
      "image/png": "[encoded data removed]",
      "text/plain": [
       "<Figure size 288x288 with 1 Axes>"
      ]
     },
     "metadata": {
      "needs_background": "light"
     },
     "output_type": "display_data"
    },
    {
     "data": {
      "image/png": "[encoded data removed]",
      "text/plain": [
       "<Figure size 288x288 with 1 Axes>"
      ]
     },
     "metadata": {
      "needs_background": "light"
     },
     "output_type": "display_data"
    },
    {
     "data": {
      "image/png": "[encoded data removed]",
      "text/plain": [
       "<Figure size 288x288 with 1 Axes>"
      ]
     },
     "metadata": {
      "needs_background": "light"
     },
     "output_type": "display_data"
    }
   ],
   "source": [
    "test_learner(Lasso(), N=1)\n",
    "test_learner(Lasso())\n",
    "test_shrinkage(Lasso, max_alpha=0.1)"
   ]
  },
  {
   "cell_type": "markdown",
   "metadata": {},
   "source": [
    "# Check with sklearn"
   ]
  },
  {
   "cell_type": "code",
   "execution_count": 5,
   "metadata": {},
   "outputs": [
    {
     "name": "stdout",
     "output_type": "stream",
     "text": [
      "              LinearRegression       Mine [1.76371755 3.3358603  4.86760526] -1.9146711917199584\n",
      "                         Ridge       Mine [1.14464218 1.21175218 2.16407904] 1.3497212361591169\n",
      "                         Lasso       Mine [1.68179732 3.18960496 4.74114205] -1.7050150793574446\n",
      "              LinearRegression    sklearn [1.76371755 3.3358603  4.86760526] -1.914671192484203\n",
      "                         Ridge    sklearn [1.14464218 1.21175218 2.16407904] 1.3497212361591169\n",
      "                         Lasso    sklearn [1.68187857 3.18956226 4.74112515] -1.7050205961966958\n"
     ]
    }
   ],
   "source": [
    "import sklearn as sk\n",
    "import sklearn.linear_model\n",
    "\n",
    "X, y, w = get_data(3, 10)\n",
    "linear=LinearRegression()\n",
    "linear.fit(X,y)\n",
    "\n",
    "ridge=Ridge(alpha=1)\n",
    "ridge.fit(X,y)\n",
    "\n",
    "lasso=Lasso(alpha=1E-2)\n",
    "lasso.fit(X,y)\n",
    "\n",
    "sklr=sk.linear_model.LinearRegression()\n",
    "sklr.fit(X, y)\n",
    "\n",
    "skridge=sk.linear_model.Ridge(alpha=1)\n",
    "skridge.fit(X, y)\n",
    "\n",
    "sklasso=sk.linear_model.Lasso(alpha=1E-2)\n",
    "sklasso.fit(X, y)\n",
    "\n",
    "print(\"%30s %10s\"%(\"LinearRegression\",\"Mine\"), end=\" \")\n",
    "print(linear.coef_, linear.intercept_)\n",
    "print(\"%30s %10s\"%(\"Ridge\",\"Mine\"), end=\" \")\n",
    "print(ridge.coef_, ridge.intercept_)\n",
    "print(\"%30s %10s\"%(\"Lasso\",\"Mine\"), end=\" \")\n",
    "print(lasso.coef_, lasso.intercept_)\n",
    "print(\"%30s %10s\"%(\"LinearRegression\",\"sklearn\"), end=\" \")\n",
    "print(sklr.coef_, sklr.intercept_)\n",
    "print(\"%30s %10s\"%(\"Ridge\",\"sklearn\"), end=\" \")\n",
    "print(skridge.coef_, skridge.intercept_)\n",
    "print(\"%30s %10s\"%(\"Lasso\",\"sklearn\"), end=\" \")\n",
    "print(sklasso.coef_, sklasso.intercept_)"
   ]
  },
  {
   "cell_type": "markdown",
   "metadata": {},
   "source": [
    "# Benchmark"
   ]
  },
  {
   "cell_type": "code",
   "execution_count": 6,
   "metadata": {},
   "outputs": [
    {
     "name": "stdout",
     "output_type": "stream",
     "text": [
      "LinearRegression Mine\n",
      "454 µs ± 37.1 µs per loop (mean ± std. dev. of 7 runs, 1000 loops each)\n",
      "Ridge Mine\n",
      "404 µs ± 53.8 µs per loop (mean ± std. dev. of 7 runs, 1000 loops each)\n",
      "Lasso Mine\n",
      "4.81 ms ± 194 µs per loop (mean ± std. dev. of 7 runs, 100 loops each)\n",
      "LinearRegression sklearn\n",
      "778 µs ± 53.9 µs per loop (mean ± std. dev. of 7 runs, 1000 loops each)\n",
      "Ridge sklearn\n",
      "619 µs ± 35.5 µs per loop (mean ± std. dev. of 7 runs, 1000 loops each)\n",
      "Lasso sklearn\n",
      "578 µs ± 4.46 µs per loop (mean ± std. dev. of 7 runs, 1000 loops each)\n",
      "LinearRegression by inverse X^T.X\n",
      "144 µs ± 7.76 µs per loop (mean ± std. dev. of 7 runs, 10000 loops each)\n",
      "130 µs ± 10.6 µs per loop (mean ± std. dev. of 7 runs, 10000 loops each)\n",
      "124 µs ± 5.02 µs per loop (mean ± std. dev. of 7 runs, 10000 loops each)\n",
      "LinearRegression SVD\n",
      "412 µs ± 139 µs per loop (mean ± std. dev. of 7 runs, 1000 loops each)\n",
      "346 µs ± 46.8 µs per loop (mean ± std. dev. of 7 runs, 1000 loops each)\n",
      "420 µs ± 69.9 µs per loop (mean ± std. dev. of 7 runs, 1000 loops each)\n"
     ]
    }
   ],
   "source": [
    "import numpy as np\n",
    "        \n",
    "class LinearRegression1:\n",
    "    \n",
    "    def __init__(self):\n",
    "        pass\n",
    "    \n",
    "    def fit(self,X,y):\n",
    "        fitSVD1(X,y)\n",
    "    \n",
    "    def fitInv1(self, X, y):\n",
    "        '''\n",
    "        W=(X^T X)^-1 X^T y\n",
    "        calculate from left to right\n",
    "        '''\n",
    "        X=np.c_[X,np.ones(shape=(X.shape[0],1),dtype=X.dtype)]\n",
    "        W=np.linalg.inv(X.T.dot(X)).dot(X.T).dot(y)\n",
    "        self.coef_=W\n",
    "\n",
    "    def fitInv2(self, X, y):        \n",
    "        '''\n",
    "        W=(X^T X)^-1 X^T y\n",
    "        calculate from right to left\n",
    "        '''\n",
    "        X=np.c_[X,np.ones(shape=(X.shape[0],1),dtype=X.dtype)]\n",
    "        W=np.linalg.inv(X.T.dot(X)).dot(X.T.dot(y))\n",
    "        self.coef_=W\n",
    "\n",
    "    def fitInv3(self, X, y):        \n",
    "        '''\n",
    "        W=(X^T X)^-1 X^T y\n",
    "        calculate from right to left\n",
    "        '''\n",
    "        X=np.c_[X,np.ones(shape=(X.shape[0],1),dtype=X.dtype)]\n",
    "        W=np.linalg.solve(X.T.dot(X), X.T.dot(y))\n",
    "        self.coef_=W\n",
    "        \n",
    "    def fitSVD1(self, X, y):\n",
    "        X=np.c_[X,np.ones(shape=(X.shape[0],1),dtype=X.dtype)]\n",
    "        U,D,VT=np.linalg.svd(X, full_matrices=False)\n",
    "        W=VT.T.dot((1/D*U.T.dot(y)))\n",
    "        self.coef_=W\n",
    "\n",
    "N=1000\n",
    "M=10\n",
    "np.random.seed(0)\n",
    "X=np.random.rand(N,M)\n",
    "w=np.arange(M)\n",
    "w=np.power(w,1)\n",
    "y=np.sum(w.reshape(1,M)*X, axis=1) + np.random.randn(N)\n",
    "\n",
    "lr=LinearRegression1()\n",
    "\n",
    "#lr.fitInv1(X,y)\n",
    "#print(lr.coef_)\n",
    "#lr.fitInv2(X,y)\n",
    "#print(lr.coef_)\n",
    "#lr.fitInv3(X,y)\n",
    "#print(lr.coef_)\n",
    "\n",
    "#lr.fitSVD1(X,y)\n",
    "#print(lr.coef_)\n",
    "\n",
    "linear=LinearRegression()\n",
    "#linear.fit(X,y)\n",
    "#print(linear.coef_)\n",
    "\n",
    "ridge=Ridge(alpha=1)\n",
    "#ridge.fit(X,y)\n",
    "\n",
    "lasso=Lasso(alpha=1E-2)\n",
    "#lasso.fit(X,y)\n",
    "\n",
    "import sklearn as sk\n",
    "import sklearn.linear_model\n",
    "sklr=sk.linear_model.LinearRegression()\n",
    "skridge=sk.linear_model.Ridge(alpha=1)\n",
    "sklasso=sk.linear_model.Lasso(alpha=1E-2)\n",
    "\n",
    "print(\"LinearRegression Mine\")\n",
    "%timeit linear.fit(X,y)\n",
    "print(\"Ridge Mine\")\n",
    "%timeit ridge.fit(X,y)\n",
    "print(\"Lasso Mine\")\n",
    "%timeit lasso.fit(X,y)\n",
    "print(\"LinearRegression sklearn\")\n",
    "%timeit sklr.fit(X,y)\n",
    "print(\"Ridge sklearn\")\n",
    "%timeit skridge.fit(X,y)\n",
    "print(\"Lasso sklearn\")\n",
    "%timeit sklasso.fit(X,y)\n",
    "\n",
    "\n",
    "\n",
    "print(\"LinearRegression by inverse X^T.X\")\n",
    "%timeit lr.fitInv1(X,y)\n",
    "%timeit lr.fitInv2(X,y)\n",
    "%timeit lr.fitInv3(X,y)\n",
    "print(\"LinearRegression SVD\")\n",
    "%timeit lr.fitSVD1(X,y)\n",
    "%timeit lr.fitSVD1(X,y)\n",
    "%timeit lr.fitSVD1(X,y)\n"
   ]
  }
 ],
 "metadata": {
  "hide_input": false,
  "kernelspec": {
   "display_name": "Python 3",
   "language": "python",
   "name": "python3"
  },
  "language_info": {
   "codemirror_mode": {
    "name": "ipython",
    "version": 3
   },
   "file_extension": ".py",
   "mimetype": "text/x-python",
   "name": "python",
   "nbconvert_exporter": "python",
   "pygments_lexer": "ipython3",
   "version": "3.6.7"
  },
  "toc": {
   "base_numbering": 1,
   "nav_menu": {},
   "number_sections": true,
   "sideBar": true,
   "skip_h1_title": false,
   "title_cell": "Table of Contents",
   "title_sidebar": "Contents",
   "toc_cell": true,
   "toc_position": {},
   "toc_section_display": true,
   "toc_window_display": false
  },
  "varInspector": {
   "cols": {
    "lenName": "24",
    "lenType": "16",
    "lenVar": 40
   },
   "kernels_config": {
    "python": {
     "delete_cmd_postfix": "",
     "delete_cmd_prefix": "del ",
     "library": "var_list.py",
     "varRefreshCmd": "print(var_dic_list())"
    },
    "r": {
     "delete_cmd_postfix": ") ",
     "delete_cmd_prefix": "rm(",
     "library": "var_list.r",
     "varRefreshCmd": "cat(var_dic_list()) "
    }
   },
   "types_to_exclude": [
    "module",
    "function",
    "builtin_function_or_method",
    "instance",
    "_Feature"
   ],
   "window_display": false
  }
 },
 "nbformat": 4,
 "nbformat_minor": 2
}
