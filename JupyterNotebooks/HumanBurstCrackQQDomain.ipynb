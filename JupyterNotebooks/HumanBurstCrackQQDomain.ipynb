{
 "cells": [
  {
   "cell_type": "markdown",
   "metadata": {
    "toc": true
   },
   "source": [
    "<h1>Table of Contents<span class=\"tocSkip\"></span></h1>\n",
    "<div class=\"toc\"><ul class=\"toc-item\"><li><span><a href=\"#问题\" data-toc-modified-id=\"问题-1\"><span class=\"toc-item-num\">1&nbsp;&nbsp;</span>问题</a></span></li><li><span><a href=\"#过程\" data-toc-modified-id=\"过程-2\"><span class=\"toc-item-num\">2&nbsp;&nbsp;</span>过程</a></span><ul class=\"toc-item\"><li><span><a href=\"#计算M5哈希值字符串\" data-toc-modified-id=\"计算M5哈希值字符串-2.1\"><span class=\"toc-item-num\">2.1&nbsp;&nbsp;</span>计算M5哈希值字符串</a></span></li><li><span><a href=\"#测试1\" data-toc-modified-id=\"测试1-2.2\"><span class=\"toc-item-num\">2.2&nbsp;&nbsp;</span>测试1</a></span></li><li><span><a href=\"#测试2\" data-toc-modified-id=\"测试2-2.3\"><span class=\"toc-item-num\">2.3&nbsp;&nbsp;</span>测试2</a></span></li><li><span><a href=\"#破解第三个域名\" data-toc-modified-id=\"破解第三个域名-2.4\"><span class=\"toc-item-num\">2.4&nbsp;&nbsp;</span>破解第三个域名</a></span></li></ul></li></ul></div>"
   ]
  },
  {
   "cell_type": "markdown",
   "metadata": {},
   "source": [
    "# 问题\n",
    "QQ访问用户浏览器历史，读取用户在某些域名下的搜索行为。一共有四个域名，此前已经知道三个（见：https://www.zhihu.com/question/439768601）\n",
    "\n",
    "```\n",
    "23, 0x1C6389BA, 0xF2FA5666, 0xF2A2E0D3, 0xC892E7BA\n",
    "://S.TAOBAO.COM/SEARCH?\n",
    "\n",
    "34, 0xB829484C, 0x520F7CC3, 0x94EC8A73, 0xD808E79\n",
    "LIST.TMALL.COM/SEARCH_PRODUCT.HTM?\n",
    "\n",
    "30, 0xDDA1029, 0x9E67F3BB, 0xB18ACC45, 0x597CF438\n",
    "(未知)\n",
    "\n",
    "21, 0x2564591C, 0x5B11347B, 0x846A0F72, 0xEF704A8\n",
    "SEARCH.JD.COM/SEARCH?\n",
    "\n",
    "作者：Lion Yang\n",
    "链接：https://www.zhihu.com/question/439768601/answer/1682928251\n",
    "来源：知乎\n",
    "著作权归作者所有。商业转载请联系作者获得授权，非商业转载请注明出处。\n",
    "```\n",
    "\n",
    "通过穷举中国电商网站的方法，现在已经知道第四个域名为\n",
    "\n",
    "```\n",
    "uland.taobao.com/sem/tbsearch?\n",
    "```\n",
    "\n",
    "# 过程\n",
    "\n",
    "## 计算M5哈希值字符串"
   ]
  },
  {
   "cell_type": "code",
   "execution_count": 151,
   "metadata": {},
   "outputs": [],
   "source": [
    "import hashlib\n",
    "\n",
    "def to_bytes(i32):\n",
    "    b1 = i32 & 0xFF\n",
    "    b2 = (i32 >> 8) & 0xFF\n",
    "    b3 = (i32 >> 16) & 0xFF\n",
    "    b4 = (i32 >> 24) & 0xFF\n",
    "    return b1,b2,b3,b4\n",
    "\n",
    "def to_hexstr(bs):\n",
    "    return \"\".join([\"%02x\"%b for b in bs])\n",
    "\n",
    "def fourints_to_hexstr(i1, i2, i3, i4):\n",
    "    bs = to_bytes(i1) + to_bytes(i2) + to_bytes(i3) + to_bytes(i4)\n",
    "    return to_hexstr(bs)\n",
    "    "
   ]
  },
  {
   "cell_type": "markdown",
   "metadata": {},
   "source": [
    "## 测试1"
   ]
  },
  {
   "cell_type": "code",
   "execution_count": 152,
   "metadata": {},
   "outputs": [
    {
     "name": "stdout",
     "output_type": "stream",
     "text": [
      "4c4829b8c37c0f52738aec94798e800d\n",
      "4c4829b8c37c0f52738aec94798e800d\n"
     ]
    }
   ],
   "source": [
    "target = fourints_to_hexstr(0xB829484C, 0x520F7CC3, 0x94EC8A73, 0xD808E79)\n",
    "print(target)\n",
    "\n",
    "h = hashlib.md5(\"LIST.TMALL.COM/SEARCH_PRODUCT.HTM?\".encode(\"UTF-16\")[2:])\n",
    "print(h.hexdigest())"
   ]
  },
  {
   "cell_type": "markdown",
   "metadata": {},
   "source": [
    "## 测试2"
   ]
  },
  {
   "cell_type": "code",
   "execution_count": 153,
   "metadata": {},
   "outputs": [
    {
     "name": "stdout",
     "output_type": "stream",
     "text": [
      "1c5964257b34115b720f6a84a804f70e\n",
      "1c5964257b34115b720f6a84a804f70e\n"
     ]
    }
   ],
   "source": [
    "target = fourints_to_hexstr(0x2564591C, 0x5B11347B, 0x846A0F72, 0xEF704A8)\n",
    "print(target)\n",
    "\n",
    "h = hashlib.md5(\"SEARCH.JD.COM/SEARCH?\".encode(\"UTF-16\")[2:])\n",
    "print(h.hexdigest())"
   ]
  },
  {
   "cell_type": "markdown",
   "metadata": {},
   "source": [
    "## 破解第三个域名"
   ]
  },
  {
   "cell_type": "code",
   "execution_count": 157,
   "metadata": {},
   "outputs": [
    {
     "name": "stdout",
     "output_type": "stream",
     "text": [
      "target 2910da0dbbf3679e45cc8ab138f47c59\n",
      "S.1688.COM/SELLOFFER/OFFER_SEA 30 False\n",
      "YANGKEDUO.COM/SEARCH_RESULT.HTML? 33 False\n",
      "WWW.AMAZON.CN/S 15 False\n",
      "SEARCH.SUNING.COM/ 18 False\n",
      "PSHOP.QQ.COM/SEARCH.SHTML? 26 False\n",
      "SEARCH.KAOLA.COM/SEARCH.HTML? 29 False\n",
      "CATEGORY.VIP.COM/SUGGEST.PHP?K 30 False\n",
      "S.WEIBO.COM/WEIBO/ 18 False\n",
      "TIEBA.BAIDU.COM/F/SEARCH/RES? 29 False\n",
      "WWW.ZHIHU.COM/SEARCH?TYPE=CONT 30 False\n",
      "HTTPS://MARKET.DOUBAN.COM/? 27 False\n",
      "WWW.DOUBAN.COM/SEARCH? 22 False\n",
      "SEARCH.JD.HK/SEARCH? 20 False\n",
      "WWW.BAIDU.COM/S?WD= 19 False\n",
      "MOBILE.YANGKEDUO.COM/SEARCH_RESULT.HTML? 40 False\n",
      "YANGKEDUO.COM/SEARCH_RESULT.HT 30 False\n",
      "ULAND.TAOBAO.COM/SEM/TBSEARCH? 30 True\n"
     ]
    }
   ],
   "source": [
    "target = fourints_to_hexstr(0xDDA1029, 0x9E67F3BB, 0xB18ACC45, 0x597CF438)\n",
    "print(\"target\", target)\n",
    "\n",
    "def test(s):\n",
    "    s = s.upper()\n",
    "    h = hashlib.md5(s.encode(\"UTF-16\")[2:])\n",
    "    print(s, len(s), h.hexdigest() == target)\n",
    "    \n",
    "test(\"s.1688.com/selloffer/offer_sea\")\n",
    "test(\"yangkeduo.com/search_result.html?\")\n",
    "test(\"www.amazon.cn/s\")\n",
    "test(\"search.suning.com/\")\n",
    "test(\"pshop.qq.com/search.shtml?\")\n",
    "test(\"search.kaola.com/search.html?\")\n",
    "test(\"category.vip.com/suggest.php?k\")\n",
    "test(\"s.weibo.com/weibo/\")\n",
    "test(\"tieba.baidu.com/f/search/res?\")\n",
    "test(\"www.zhihu.com/search?type=cont\")\n",
    "test(\"https://market.douban.com/?\")\n",
    "test(\"www.douban.com/search?\")\n",
    "test(\"search.jd.hk/Search?\")\n",
    "test(\"www.baidu.com/s?wd=\")\n",
    "test(\"mobile.yangkeduo.com/search_result.html?\")\n",
    "test(\"yangkeduo.com/search_result.ht\")\n",
    "test(\"uland.taobao.com/sem/tbsearch?\")"
   ]
  }
 ],
 "metadata": {
  "kernelspec": {
   "display_name": "Python 3",
   "language": "python",
   "name": "python3"
  },
  "language_info": {
   "codemirror_mode": {
    "name": "ipython",
    "version": 3
   },
   "file_extension": ".py",
   "mimetype": "text/x-python",
   "name": "python",
   "nbconvert_exporter": "python",
   "pygments_lexer": "ipython3",
   "version": "3.8.5"
  },
  "toc": {
   "base_numbering": 1,
   "nav_menu": {},
   "number_sections": true,
   "sideBar": true,
   "skip_h1_title": false,
   "title_cell": "Table of Contents",
   "title_sidebar": "Contents",
   "toc_cell": true,
   "toc_position": {},
   "toc_section_display": true,
   "toc_window_display": false
  },
  "varInspector": {
   "cols": {
    "lenName": 16,
    "lenType": 16,
    "lenVar": 40
   },
   "kernels_config": {
    "python": {
     "delete_cmd_postfix": "",
     "delete_cmd_prefix": "del ",
     "library": "var_list.py",
     "varRefreshCmd": "print(var_dic_list())"
    },
    "r": {
     "delete_cmd_postfix": ") ",
     "delete_cmd_prefix": "rm(",
     "library": "var_list.r",
     "varRefreshCmd": "cat(var_dic_list()) "
    }
   },
   "types_to_exclude": [
    "module",
    "function",
    "builtin_function_or_method",
    "instance",
    "_Feature"
   ],
   "window_display": false
  }
 },
 "nbformat": 4,
 "nbformat_minor": 4
}
