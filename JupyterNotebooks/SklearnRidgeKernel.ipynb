{
 "cells": [
  {
   "cell_type": "markdown",
   "metadata": {
    "toc": true
   },
   "source": [
    "<h1>Table of Contents<span class=\"tocSkip\"></span></h1>\n",
    "<div class=\"toc\"><ul class=\"toc-item\"></ul></div>"
   ]
  },
  {
   "cell_type": "markdown",
   "metadata": {},
   "source": [
    "\n",
    "意外发现sklearn的KernelRigde\n",
    "\n",
    "* 没有bias项，这意味所谓的系数都要受到L2正则化的影响。\n",
    "* linear kernel没有常数项，$k(x,y) = x\\cdot y$ 。\n",
    "* 多项式核具有偏置项, $k(x,y) = (\\gamma(x\\cdot y) + c_0)^d$\n",
    "\n",
    "因而如果要进行不惩罚偏置项的线性拟合，有两种方法\n",
    "\n",
    "* 使用`sklearn.linear_model.Ridge`\n",
    "* 使用`sklearn.kernel_ridge.KernelRidge(kernel=\"poly\",degree=1, coef0=1E6)` 将`coef0`即($c_0$)设置的足够大，可以将正则化对偏置项的惩罚降到忽略不计。\n"
   ]
  },
  {
   "cell_type": "code",
   "execution_count": 1,
   "metadata": {},
   "outputs": [
    {
     "data": {
      "image/png": "[encoded data removed]",
      "text/plain": [
       "<Figure size 288x288 with 1 Axes>"
      ]
     },
     "metadata": {
      "needs_background": "light"
     },
     "output_type": "display_data"
    }
   ],
   "source": [
    "import numpy as np\n",
    "import matplotlib\n",
    "import matplotlib.pyplot as plt\n",
    "from sklearn.kernel_ridge import KernelRidge\n",
    "from sklearn.linear_model import Ridge\n",
    "%matplotlib inline\n",
    "\n",
    "\n",
    "X_train=np.array([[0.5], [1.0]])\n",
    "y_train=np.array([0.5, 0])\n",
    "X_plt=np.linspace(-1,1,10)\n",
    "\n",
    "alpha=0.2\n",
    "ridge = KernelRidge(kernel=\"poly\", alpha=alpha, coef0=1E0, gamma=1, degree=1)\n",
    "ridge.fit(X_train, y_train)\n",
    "yhat = ridge.predict(X_plt.reshape(-1,1))\n",
    "\n",
    "ridge = KernelRidge( kernel=\"linear\", alpha=alpha, coef0=1E10)\n",
    "ridge.fit(X_train, y_train)\n",
    "yhat3 = ridge.predict(X_plt.reshape(-1,1))\n",
    "\n",
    "ridge = KernelRidge(kernel=\"poly\", alpha=alpha, coef0=1E1, gamma=1, degree=1)\n",
    "ridge.fit(X_train, y_train)\n",
    "yhat1 = ridge.predict(X_plt.reshape(-1,1))\n",
    "\n",
    "ridge2 = Ridge(alpha=alpha)\n",
    "ridge2.fit(X_train, y_train)\n",
    "yhat2 = ridge2.predict(X_plt.reshape(-1,1))\n",
    "\n",
    "plt.figure(figsize=(4,4))\n",
    "X_plt=np.linspace(-1,1,10)\n",
    "plt.scatter(X_train, y_train)\n",
    "plt.plot(X_plt, yhat2, label=\"ridge,\\n\" + r\" $\\alpha=$%.1E\"%alpha)\n",
    "plt.plot(X_plt, yhat3 , label=\"ridge with linear kernel,\\n\" + r\" $\\alpha=$ %.1E\"%(alpha), linestyle=\"-.\")\n",
    "plt.plot(X_plt, yhat , label=\"ridge with poly(1) kernel,\\n\" + r\" $\\alpha=$ %.1E, $c_0 =$ %.1E\"%(alpha, 1 ), linestyle=\"--\")\n",
    "plt.plot(X_plt, yhat1, label=\"ridge with poly(1) kernel,\\n\" + r\" $\\alpha=$ %.1E, $c_0 =$ %.1E\"%(alpha, 10), linestyle=\":\")\n",
    "plt.xlim((-0.1,1.1))\n",
    "plt.ylim((-0.1,1.9))\n",
    "plt.legend()\n",
    "plt.show()"
   ]
  }
 ],
 "metadata": {
  "hide_input": false,
  "kernelspec": {
   "display_name": "Python 3",
   "language": "python",
   "name": "python3"
  },
  "language_info": {
   "codemirror_mode": {
    "name": "ipython",
    "version": 3
   },
   "file_extension": ".py",
   "mimetype": "text/x-python",
   "name": "python",
   "nbconvert_exporter": "python",
   "pygments_lexer": "ipython3",
   "version": "3.6.7"
  },
  "toc": {
   "base_numbering": 1,
   "nav_menu": {},
   "number_sections": true,
   "sideBar": true,
   "skip_h1_title": false,
   "title_cell": "Table of Contents",
   "title_sidebar": "Contents",
   "toc_cell": true,
   "toc_position": {},
   "toc_section_display": true,
   "toc_window_display": true
  },
  "varInspector": {
   "cols": {
    "lenName": "24",
    "lenType": "16",
    "lenVar": 40
   },
   "kernels_config": {
    "python": {
     "delete_cmd_postfix": "",
     "delete_cmd_prefix": "del ",
     "library": "var_list.py",
     "varRefreshCmd": "print(var_dic_list())"
    },
    "r": {
     "delete_cmd_postfix": ") ",
     "delete_cmd_prefix": "rm(",
     "library": "var_list.r",
     "varRefreshCmd": "cat(var_dic_list()) "
    }
   },
   "types_to_exclude": [
    "module",
    "function",
    "builtin_function_or_method",
    "instance",
    "_Feature"
   ],
   "window_display": false
  }
 },
 "nbformat": 4,
 "nbformat_minor": 2
}
