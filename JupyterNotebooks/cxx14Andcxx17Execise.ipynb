{
 "cells": [
  {
   "cell_type": "markdown",
   "metadata": {
    "toc": true
   },
   "source": [
    "<h1>Table of Contents<span class=\"tocSkip\"></span></h1>\n",
    "<div class=\"toc\"><ul class=\"toc-item\"><li><span><a href=\"#Tools\" data-toc-modified-id=\"Tools-1\"><span class=\"toc-item-num\">1&nbsp;&nbsp;</span>Tools</a></span><ul class=\"toc-item\"><li><span><a href=\"#Jupyter-notebook\" data-toc-modified-id=\"Jupyter-notebook-1.1\"><span class=\"toc-item-num\">1.1&nbsp;&nbsp;</span>Jupyter notebook</a></span></li><li><span><a href=\"#c++-compiler\" data-toc-modified-id=\"c++-compiler-1.2\"><span class=\"toc-item-num\">1.2&nbsp;&nbsp;</span>c++ compiler</a></span></li><li><span><a href=\"#cxx-script\" data-toc-modified-id=\"cxx-script-1.3\"><span class=\"toc-item-num\">1.3&nbsp;&nbsp;</span>cxx script</a></span></li><li><span><a href=\"#Name-demagnle\" data-toc-modified-id=\"Name-demagnle-1.4\"><span class=\"toc-item-num\">1.4&nbsp;&nbsp;</span>Name demagnle</a></span></li></ul></li><li><span><a href=\"#C++11-language-features\" data-toc-modified-id=\"C++11-language-features-2\"><span class=\"toc-item-num\">2&nbsp;&nbsp;</span>C++11 language features</a></span><ul class=\"toc-item\"><li><span><a href=\"#Move-semantics\" data-toc-modified-id=\"Move-semantics-2.1\"><span class=\"toc-item-num\">2.1&nbsp;&nbsp;</span>Move semantics</a></span></li><li><span><a href=\"#Range-based-for-loops\" data-toc-modified-id=\"Range-based-for-loops-2.2\"><span class=\"toc-item-num\">2.2&nbsp;&nbsp;</span>Range-based for loops</a></span></li><li><span><a href=\"#Strongly-typed-enums\" data-toc-modified-id=\"Strongly-typed-enums-2.3\"><span class=\"toc-item-num\">2.3&nbsp;&nbsp;</span>Strongly-typed enums</a></span></li><li><span><a href=\"#nullptr\" data-toc-modified-id=\"nullptr-2.4\"><span class=\"toc-item-num\">2.4&nbsp;&nbsp;</span>nullptr</a></span></li></ul></li><li><span><a href=\"#C++14-language-features\" data-toc-modified-id=\"C++14-language-features-3\"><span class=\"toc-item-num\">3&nbsp;&nbsp;</span>C++14 language features</a></span><ul class=\"toc-item\"><li><span><a href=\"#Binary-literals\" data-toc-modified-id=\"Binary-literals-3.1\"><span class=\"toc-item-num\">3.1&nbsp;&nbsp;</span>Binary literals</a></span></li><li><span><a href=\"#Generic-lambda-expressions\" data-toc-modified-id=\"Generic-lambda-expressions-3.2\"><span class=\"toc-item-num\">3.2&nbsp;&nbsp;</span>Generic lambda expressions</a></span></li><li><span><a href=\"#Lambda-capture-initializers\" data-toc-modified-id=\"Lambda-capture-initializers-3.3\"><span class=\"toc-item-num\">3.3&nbsp;&nbsp;</span>Lambda capture initializers</a></span></li><li><span><a href=\"#Return-type-deduction\" data-toc-modified-id=\"Return-type-deduction-3.4\"><span class=\"toc-item-num\">3.4&nbsp;&nbsp;</span>Return type deduction</a></span></li><li><span><a href=\"#Relaxing-constraints-on-constexpr-functions\" data-toc-modified-id=\"Relaxing-constraints-on-constexpr-functions-3.5\"><span class=\"toc-item-num\">3.5&nbsp;&nbsp;</span>Relaxing constraints on constexpr functions</a></span></li><li><span><a href=\"#Variable-Templates\" data-toc-modified-id=\"Variable-Templates-3.6\"><span class=\"toc-item-num\">3.6&nbsp;&nbsp;</span>Variable Templates</a></span></li><li><span><a href=\"#[[deprecated]]-attribute\" data-toc-modified-id=\"[[deprecated]]-attribute-3.7\"><span class=\"toc-item-num\">3.7&nbsp;&nbsp;</span>[[deprecated]] attribute</a></span></li></ul></li><li><span><a href=\"#C++14-Library-Features\" data-toc-modified-id=\"C++14-Library-Features-4\"><span class=\"toc-item-num\">4&nbsp;&nbsp;</span>C++14 Library Features</a></span><ul class=\"toc-item\"><li><span><a href=\"#User-defined-literals-for-standard-library-types\" data-toc-modified-id=\"User-defined-literals-for-standard-library-types-4.1\"><span class=\"toc-item-num\">4.1&nbsp;&nbsp;</span>User-defined literals for standard library types</a></span></li><li><span><a href=\"#Compile-time-integer-sequences\" data-toc-modified-id=\"Compile-time-integer-sequences-4.2\"><span class=\"toc-item-num\">4.2&nbsp;&nbsp;</span>Compile-time integer sequences</a></span></li><li><span><a href=\"#std::make_unique\" data-toc-modified-id=\"std::make_unique-4.3\"><span class=\"toc-item-num\">4.3&nbsp;&nbsp;</span>std::make_unique</a></span></li></ul></li><li><span><a href=\"#C++17-Language-Features\" data-toc-modified-id=\"C++17-Language-Features-5\"><span class=\"toc-item-num\">5&nbsp;&nbsp;</span>C++17 Language Features</a></span><ul class=\"toc-item\"><li><span><a href=\"#Template-argument-deduction-for-class-templates\" data-toc-modified-id=\"Template-argument-deduction-for-class-templates-5.1\"><span class=\"toc-item-num\">5.1&nbsp;&nbsp;</span>Template argument deduction for class templates</a></span></li><li><span><a href=\"#constexpr\" data-toc-modified-id=\"constexpr-5.2\"><span class=\"toc-item-num\">5.2&nbsp;&nbsp;</span>constexpr</a></span></li><li><span><a href=\"#if\" data-toc-modified-id=\"if-5.3\"><span class=\"toc-item-num\">5.3&nbsp;&nbsp;</span>if</a></span></li><li><span><a href=\"#initializer_list\" data-toc-modified-id=\"initializer_list-5.4\"><span class=\"toc-item-num\">5.4&nbsp;&nbsp;</span>initializer_list</a></span></li><li><span><a href=\"#structure-binding\" data-toc-modified-id=\"structure-binding-5.5\"><span class=\"toc-item-num\">5.5&nbsp;&nbsp;</span>structure binding</a></span><ul class=\"toc-item\"><li><span><a href=\"#tuple\" data-toc-modified-id=\"tuple-5.5.1\"><span class=\"toc-item-num\">5.5.1&nbsp;&nbsp;</span>tuple</a></span></li></ul></li><li><span><a href=\"#type-inference\" data-toc-modified-id=\"type-inference-5.6\"><span class=\"toc-item-num\">5.6&nbsp;&nbsp;</span>type inference</a></span></li><li><span><a href=\"#decltype\" data-toc-modified-id=\"decltype-5.7\"><span class=\"toc-item-num\">5.7&nbsp;&nbsp;</span>decltype</a></span></li><li><span><a href=\"#if-constexpr\" data-toc-modified-id=\"if-constexpr-5.8\"><span class=\"toc-item-num\">5.8&nbsp;&nbsp;</span>if constexpr</a></span></li><li><span><a href=\"#range-based-for\" data-toc-modified-id=\"range-based-for-5.9\"><span class=\"toc-item-num\">5.9&nbsp;&nbsp;</span>range based for</a></span></li><li><span><a href=\"#template-'>>'\" data-toc-modified-id=\"template-'>>'-5.10\"><span class=\"toc-item-num\">5.10&nbsp;&nbsp;</span>template '&gt;&gt;'</a></span></li><li><span><a href=\"#template-alias\" data-toc-modified-id=\"template-alias-5.11\"><span class=\"toc-item-num\">5.11&nbsp;&nbsp;</span>template alias</a></span></li><li><span><a href=\"#tuple\" data-toc-modified-id=\"tuple-5.12\"><span class=\"toc-item-num\">5.12&nbsp;&nbsp;</span>tuple</a></span></li></ul></li></ul></div>"
   ]
  },
  {
   "cell_type": "markdown",
   "metadata": {},
   "source": [
    "# Tools"
   ]
  },
  {
   "cell_type": "markdown",
   "metadata": {},
   "source": [
    "## Jupyter notebook"
   ]
  },
  {
   "cell_type": "markdown",
   "metadata": {},
   "source": [
    "You need to install jupyter. To install jupyter, if you are using ubuntu, you can run bellow in a terminal\n",
    "```bash\n",
    "apt-get install jupyter\n",
    "```\n",
    "Then start a jupyter session, by running\n",
    "```bash\n",
    "jupyter notebook\n",
    "```\n",
    "You should see the jupyter file explorer in your internet browser, like chrome.\n",
    "Now, click the this jupyter notebook to open it.\n",
    "\n",
    "If you are using Windows, download the conda (https://www.anaconda.com/distribution/), and install it. Find the jupyter program in your start menu, then start it."
   ]
  },
  {
   "cell_type": "markdown",
   "metadata": {},
   "source": [
    "## c++ compiler"
   ]
  },
  {
   "cell_type": "markdown",
   "metadata": {},
   "source": [
    "We will use g++ to compile the code.\n",
    "\n",
    "If you know cling, and ask me why not use cling. The answer is: I have tried cling kernel on jupyter. I didn't feel good about it: You can't re-define a function by re-run a cell. You can't define two functions in same cell. You can't make the edit-build-run loop very fast.\n",
    "\n",
    "Now, let's check the version of g++.  Let's remind which version of g++ you have installed."
   ]
  },
  {
   "cell_type": "code",
   "execution_count": 14,
   "metadata": {},
   "outputs": [
    {
     "name": "stdout",
     "output_type": "stream",
     "text": [
      "g++ (Ubuntu 10.2.0-5ubuntu1~20.04) 10.2.0\r\n"
     ]
    }
   ],
   "source": [
    "!g++ --version | grep g++"
   ]
  },
  {
   "cell_type": "markdown",
   "metadata": {},
   "source": [
    "## cxx script"
   ]
  },
  {
   "cell_type": "markdown",
   "metadata": {},
   "source": [
    "To run c++ in cell, you need download a c++ source file and build it."
   ]
  },
  {
   "cell_type": "code",
   "execution_count": 6,
   "metadata": {},
   "outputs": [
    {
     "name": "stdout",
     "output_type": "stream",
     "text": [
      "g++ (Ubuntu 10.2.0-5ubuntu1~20.04) 10.2.0\n",
      "cxx installed to current directory\n"
     ]
    }
   ],
   "source": [
    "%%script bash\n",
    "g++ --version | grep g++\n",
    "#wget https://raw.githubusercontent.com/lhprojects/blog/master/JupyterNotebooks/cxx.cxx -O cxx.cxx\n",
    "g++ -std=c++03 cxx.cxx -o cxx && echo cxx installed to current directory"
   ]
  },
  {
   "cell_type": "markdown",
   "metadata": {},
   "source": [
    "## Name demagnle"
   ]
  },
  {
   "cell_type": "markdown",
   "metadata": {},
   "source": [
    "If you want to the `typeid(...).name()` looks more clear. You need to include the `demangle.h`, and call `demangle(typeid(...).name())` instead."
   ]
  },
  {
   "cell_type": "code",
   "execution_count": 7,
   "metadata": {},
   "outputs": [
    {
     "name": "stdout",
     "output_type": "stream",
     "text": [
      "demangle.h\n"
     ]
    }
   ],
   "source": [
    "%%script bash\n",
    "set -e\n",
    "#wget https://raw.githubusercontent.com/lhprojects/blog/master/JupyterNotebooks/demangle.h -O demangle.h\n",
    "ls demangle.h"
   ]
  },
  {
   "cell_type": "markdown",
   "metadata": {},
   "source": [
    "You have done all preparasions."
   ]
  },
  {
   "cell_type": "markdown",
   "metadata": {},
   "source": [
    "# C++11 language features"
   ]
  },
  {
   "cell_type": "markdown",
   "metadata": {},
   "source": [
    "## Move semantics"
   ]
  },
  {
   "cell_type": "code",
   "execution_count": null,
   "metadata": {},
   "outputs": [],
   "source": []
  },
  {
   "cell_type": "markdown",
   "metadata": {},
   "source": [
    "## Range-based for loops"
   ]
  },
  {
   "cell_type": "code",
   "execution_count": 4,
   "metadata": {},
   "outputs": [
    {
     "name": "stdout",
     "output_type": "stream",
     "text": [
      "2 4 6 "
     ]
    }
   ],
   "source": [
    "%%script ./cxx -std=c++11\n",
    "\n",
    "#include <iostream>\n",
    "#include <array>\n",
    "\n",
    "int main() {\n",
    "    using namespace std;\n",
    "    \n",
    "    array<int,3> arr {1 ,2, 3};\n",
    "    for(auto &x : arr) x *= 2;\n",
    "    for(auto x : arr) cout << x << \" \";\n",
    "}"
   ]
  },
  {
   "cell_type": "markdown",
   "metadata": {},
   "source": [
    "## Strongly-typed enums"
   ]
  },
  {
   "cell_type": "code",
   "execution_count": 5,
   "metadata": {},
   "outputs": [
    {
     "name": "stdout",
     "output_type": "stream",
     "text": [
      "Color::None\n",
      "Color::Red\n",
      "Color::Green\n",
      "Color::None\n"
     ]
    }
   ],
   "source": [
    "%%script ./cxx -std=c++11\n",
    "#include <iostream>\n",
    "\n",
    "enum class Color : uint32_t { \n",
    "    Red = 0xff0000,\n",
    "    Green = 0xff00,\n",
    "    Blue = 0xff };\n",
    "\n",
    "    \n",
    "std::ostream &operator<<(std::ostream &os, Color c) {\n",
    "    if (c == Color::Red) {\n",
    "        os << \"Color::Red\";    \n",
    "    } else if(c == Color::Green) {\n",
    "        os << \"Color::Green\";\n",
    "    } else if(c == Color::Green) {\n",
    "        os << \"Color::Blue\";\n",
    "    } else {\n",
    "        os << \"Color::None\";        \n",
    "    }\n",
    "    return os;\n",
    "}\n",
    "    \n",
    "int main() {\n",
    "    \n",
    "    using namespace std;\n",
    "    \n",
    "    cout << Color() << endl;\n",
    "    cout << Color::Red << endl;\n",
    "    cout << Color::Green << endl;\n",
    "    cout << Color::Blue << endl;\n",
    "    \n",
    "}"
   ]
  },
  {
   "cell_type": "code",
   "execution_count": 6,
   "metadata": {},
   "outputs": [
    {
     "name": "stdout",
     "output_type": "stream",
     "text": [
      "Flag A set\n",
      "Flag B set\n"
     ]
    }
   ],
   "source": [
    "%%script ./cxx -std=c++11\n",
    "#include <iostream>\n",
    "\n",
    "enum class Flags { \n",
    "    None,\n",
    "    FlagA = 1,\n",
    "    FlagB = 2,\n",
    "    FlagC = 4,\n",
    "};\n",
    "\n",
    "constexpr Flags operator|(Flags flagA, Flags flagB) {\n",
    "    return (Flags)((int)flagA | (int)flagB);\n",
    "}\n",
    "\n",
    "constexpr Flags operator&(Flags flagA, Flags flagB) {\n",
    "    return (Flags)((int)flagA & (int)flagB);\n",
    "}\n",
    "\n",
    "constexpr Flags operator^(Flags flagA, Flags flagB) {\n",
    "    return (Flags)((int)flagA ^ (int)flagB);\n",
    "}\n",
    "\n",
    "Flags &operator|=(Flags &flagA, Flags flagB) {\n",
    "    return (Flags&)((int&)flagA|=(int)flagB);\n",
    "}\n",
    "\n",
    "Flags &operator&=(Flags &flagA, Flags flagB) {\n",
    "    return (Flags&)((int&)flagA&=(int)flagB);\n",
    "}\n",
    "\n",
    "Flags &operator^=(Flags &flagA, Flags flagB) {\n",
    "    return (Flags&)((int&)flagA^=(int)flagB);\n",
    "}\n",
    "\n",
    "Flags operator~(Flags flagA) {\n",
    "    return (Flags)~(int)flagA;\n",
    "}\n",
    "\n",
    "int main() {\n",
    "    \n",
    "    using namespace std;\n",
    "    Flags flags = Flags::FlagA | Flags::FlagB;\n",
    "    flags = flags & ~Flags::FlagC;\n",
    "    if(bool(flags & Flags::FlagA)) {\n",
    "        cout << \"Flag A set\" << endl;\n",
    "    }\n",
    "    if(bool(flags & Flags::FlagB )) {\n",
    "        cout << \"Flag B set\" << endl;\n",
    "    }\n",
    "    if(bool(flags & Flags::FlagC)) {\n",
    "        cout << \"Flag C set\" << endl;    \n",
    "    }\n",
    "}"
   ]
  },
  {
   "cell_type": "markdown",
   "metadata": {},
   "source": [
    "## nullptr"
   ]
  },
  {
   "cell_type": "code",
   "execution_count": 7,
   "metadata": {},
   "outputs": [
    {
     "name": "stdout",
     "output_type": "stream",
     "text": [
      "foo take int*\n",
      "foo take int\n"
     ]
    }
   ],
   "source": [
    "%%script ./cxx\n",
    "\n",
    "#include <iostream>\n",
    "\n",
    "void foo(int *) {\n",
    "    printf(\"foo take int*\\n\");\n",
    "}\n",
    "\n",
    "void foo(int) {\n",
    "    printf(\"foo take int\\n\");\n",
    "}\n",
    "\n",
    "int main() {\n",
    "    foo(nullptr);\n",
    "    foo(0);\n",
    "    //foo(NULL);\n",
    "}"
   ]
  },
  {
   "cell_type": "markdown",
   "metadata": {},
   "source": [
    "# C++14 language features"
   ]
  },
  {
   "cell_type": "markdown",
   "metadata": {},
   "source": [
    "## Binary literals"
   ]
  },
  {
   "cell_type": "code",
   "execution_count": 8,
   "metadata": {},
   "outputs": [
    {
     "name": "stdout",
     "output_type": "stream",
     "text": [
      "int 6\n",
      "int 255\n",
      "unsigned long 255\n"
     ]
    }
   ],
   "source": [
    "%%script ./cxx -std=c++14\n",
    "\n",
    "#include <iostream>\n",
    "#include \"demangle.h\"\n",
    "\n",
    "int main() {\n",
    "    using namespace std;\n",
    "    auto a = 0b110;\n",
    "    auto b = 0b1111'1111;\n",
    "    auto c = 0b1111'1111UL;\n",
    "    \n",
    "    cout << demangle(typeid(a).name()) << \" \" << a << \"\\n\";    \n",
    "    cout << demangle(typeid(b).name()) << \" \" << b << \"\\n\";    \n",
    "    cout << demangle(typeid(c).name()) << \" \" << c << \"\\n\";    \n",
    "}"
   ]
  },
  {
   "cell_type": "markdown",
   "metadata": {},
   "source": [
    "## Generic lambda expressions"
   ]
  },
  {
   "cell_type": "code",
   "execution_count": 9,
   "metadata": {},
   "outputs": [
    {
     "name": "stdout",
     "output_type": "stream",
     "text": [
      "0\n",
      "str\n",
      "0\n",
      "str\n"
     ]
    }
   ],
   "source": [
    "%%script ./cxx \n",
    "\n",
    "#include <iostream>\n",
    "#include \"demangle.h\"\n",
    "\n",
    "// old style\n",
    "struct Identity {\n",
    "    \n",
    "    template<typename T>\n",
    "    T operator()(T x) { return x; }\n",
    "};\n",
    "\n",
    "int main() {\n",
    "    using namespace std;\n",
    "    auto identity = [](auto x) { return x; };\n",
    "\n",
    "    cout << identity(0) << endl;\n",
    "    cout << identity(\"str\") << endl;\n",
    "\n",
    "    cout << Identity()(0) << endl;\n",
    "    cout << Identity()(\"str\") << endl;\n",
    "}"
   ]
  },
  {
   "cell_type": "markdown",
   "metadata": {},
   "source": [
    "## Lambda capture initializers"
   ]
  },
  {
   "cell_type": "code",
   "execution_count": 10,
   "metadata": {},
   "outputs": [
    {
     "name": "stdout",
     "output_type": "stream",
     "text": [
      "0 1 2 \n"
     ]
    }
   ],
   "source": [
    "%%script ./cxx\n",
    "\n",
    "#include <iostream>\n",
    "\n",
    "int factory(int i) { return i * 10; }\n",
    "\n",
    "int main() {\n",
    "    using namespace std;\n",
    "    \n",
    "    auto f = [x = factory(2)] { return x; }; // returns 20\n",
    "    \n",
    "    auto generator = [x = 0] () mutable {\n",
    "      // this would not compile without 'mutable' as we are modifying x on each call\n",
    "      return x++;\n",
    "    };\n",
    "    \n",
    "    cout << generator() << \" \";\n",
    "    cout << generator() << \" \";\n",
    "    cout << generator() << \" \";\n",
    "    cout << endl;\n",
    "}"
   ]
  },
  {
   "cell_type": "markdown",
   "metadata": {},
   "source": [
    "## Return type deduction"
   ]
  },
  {
   "cell_type": "code",
   "execution_count": 11,
   "metadata": {},
   "outputs": [
    {
     "name": "stdout",
     "output_type": "stream",
     "text": [
      "int (*)(int)\n"
     ]
    }
   ],
   "source": [
    "%%script ./cxx\n",
    "\n",
    "#include <iostream>\n",
    "#include \"demangle.h\"\n",
    "\n",
    "// Deduce return type as `int`.\n",
    "auto f(int i) {\n",
    " return i;\n",
    "}\n",
    "\n",
    "int main() {\n",
    "    using namespace std;\n",
    "    cout << demangle(typeid(&f).name()) << endl;\n",
    "}"
   ]
  },
  {
   "cell_type": "code",
   "execution_count": 12,
   "metadata": {},
   "outputs": [
    {
     "name": "stdout",
     "output_type": "stream",
     "text": [
      "123\n",
      "1234\n"
     ]
    }
   ],
   "source": [
    "%%script ./cxx\n",
    "\n",
    "#include <iostream>\n",
    "\n",
    "template <typename T>\n",
    "auto& f(T& t) {\n",
    "  return t;\n",
    "}\n",
    "\n",
    "int main() {\n",
    "    using namespace std;\n",
    "    \n",
    "    // Returns a reference to a deduced type.\n",
    "    auto g = [](auto& x) -> auto& { return f(x); };\n",
    "    int y = 123;\n",
    "    int& z = g(y); // reference to `y`\n",
    "    \n",
    "    cout << z << endl;\n",
    "    \n",
    "    y = 1234;\n",
    "    cout << z << endl;\n",
    "    \n",
    "}"
   ]
  },
  {
   "cell_type": "code",
   "execution_count": 13,
   "metadata": {},
   "outputs": [],
   "source": [
    "%%script ./cxx\n",
    "\n",
    "#include <iostream>\n",
    "#include \"demangle.h\"\n",
    "\n",
    "\n",
    "int main() {\n",
    "    \n",
    "    using namespace std;\n",
    "    \n",
    "    const int x = 0;\n",
    "    auto x1 = x; // int    \n",
    "\n",
    "    decltype(auto) x2 = x; // const int\n",
    "\n",
    "    int y = 0;\n",
    "    int& y1 = y;\n",
    "    auto y2 = y1; // int\n",
    "    \n",
    "    decltype(auto) y3 = y1; // int&\n",
    "    \n",
    "    int&& z = 0;\n",
    "    auto z1 = std::move(z); // int\n",
    "    decltype(auto) z2 = std::move(z); // int&&    \n",
    "}\n"
   ]
  },
  {
   "cell_type": "code",
   "execution_count": 14,
   "metadata": {},
   "outputs": [],
   "source": [
    "%%script ./cxx\n",
    "\n",
    "#include <type_traits>\n",
    "\n",
    "auto f(const int& i) {\n",
    "    return i;\n",
    "}\n",
    "\n",
    "// Return type is `const int&`.\n",
    "decltype(auto) g(const int& i) {\n",
    "    return i;\n",
    "}\n",
    "\n",
    "int main() {\n",
    "    int x = 123;\n",
    "    static_assert(std::is_same<const int&, decltype(f(x))>::value == 0);\n",
    "    static_assert(std::is_same<int, decltype(f(x))>::value == 1);\n",
    "    static_assert(std::is_same<const int&, decltype(g(x))>::value == 1);    \n",
    "}\n"
   ]
  },
  {
   "cell_type": "markdown",
   "metadata": {},
   "source": [
    "## Relaxing constraints on constexpr functions"
   ]
  },
  {
   "cell_type": "code",
   "execution_count": 15,
   "metadata": {},
   "outputs": [
    {
     "name": "stdout",
     "output_type": "stream",
     "text": [
      "120\n"
     ]
    }
   ],
   "source": [
    "%%script ./cxx\n",
    "\n",
    "#include <iostream>\n",
    "\n",
    "constexpr int factorial(int n) {\n",
    "  if (n <= 1) {\n",
    "    return 1;\n",
    "  } else {\n",
    "    return n * factorial(n - 1);\n",
    "  }\n",
    "}\n",
    "\n",
    "template<int i>\n",
    "struct test {\n",
    "    static const int value = i;\n",
    "};\n",
    "\n",
    "int main() {\n",
    "    using namespace std;\n",
    "    cout << test<factorial(5)>::value << endl;\n",
    "}\n"
   ]
  },
  {
   "cell_type": "markdown",
   "metadata": {},
   "source": [
    "## Variable Templates"
   ]
  },
  {
   "cell_type": "code",
   "execution_count": 16,
   "metadata": {},
   "outputs": [
    {
     "name": "stdout",
     "output_type": "stream",
     "text": [
      "3\n",
      "3.80133\n"
     ]
    }
   ],
   "source": [
    "%%script ./cxx\n",
    "\n",
    "#include <iostream>\n",
    "\n",
    "template<class T>\n",
    "constexpr T pi = T(3.1415926535897932385);\n",
    "\n",
    "template<class T>\n",
    "constexpr T e  = T(2.7182818284590452353);\n",
    "\n",
    "template<class T>\n",
    "T area(T r) {\n",
    "    return pi<T> * r * r;\n",
    "}\n",
    "\n",
    "int main() {\n",
    "    using namespace std;\n",
    "    cout << area(1) << endl;\n",
    "    cout << area(1.1) << endl;\n",
    "}"
   ]
  },
  {
   "cell_type": "markdown",
   "metadata": {},
   "source": [
    "## [[deprecated]] attribute"
   ]
  },
  {
   "cell_type": "code",
   "execution_count": 17,
   "metadata": {},
   "outputs": [
    {
     "name": "stderr",
     "output_type": "stream",
     "text": [
      "cxx_test.cxx: In function ‘int main()’:\n",
      "cxx_test.cxx:8:16: warning: ‘void old_method()’ is deprecated [-Wdeprecated-declarations]\n",
      "     old_method();\n",
      "                ^\n",
      "cxx_test.cxx:3:6: note: declared here\n",
      " void old_method() { }\n",
      "      ^~~~~~~~~~\n",
      "cxx_test.cxx:8:16: warning: ‘void old_method()’ is deprecated [-Wdeprecated-declarations]\n",
      "     old_method();\n",
      "                ^\n",
      "cxx_test.cxx:3:6: note: declared here\n",
      " void old_method() { }\n",
      "      ^~~~~~~~~~\n",
      "cxx_test.cxx:9:19: warning: ‘void legacy_method()’ is deprecated: Use new_method instead [-Wdeprecated-declarations]\n",
      "     legacy_method();\n",
      "                   ^\n",
      "cxx_test.cxx:5:6: note: declared here\n",
      " void legacy_method() { }\n",
      "      ^~~~~~~~~~~~~\n",
      "cxx_test.cxx:9:19: warning: ‘void legacy_method()’ is deprecated: Use new_method instead [-Wdeprecated-declarations]\n",
      "     legacy_method();\n",
      "                   ^\n",
      "cxx_test.cxx:5:6: note: declared here\n",
      " void legacy_method() { }\n",
      "      ^~~~~~~~~~~~~\n"
     ]
    }
   ],
   "source": [
    "%%script ./cxx\n",
    "\n",
    "[[deprecated]]\n",
    "void old_method() { }\n",
    "[[deprecated(\"Use new_method instead\")]]\n",
    "void legacy_method() { }\n",
    "\n",
    "int main() {\n",
    "    old_method();\n",
    "    legacy_method();\n",
    "}\n"
   ]
  },
  {
   "cell_type": "markdown",
   "metadata": {},
   "source": [
    "# C++14 Library Features"
   ]
  },
  {
   "cell_type": "markdown",
   "metadata": {},
   "source": [
    "## User-defined literals for standard library types"
   ]
  },
  {
   "cell_type": "code",
   "execution_count": 18,
   "metadata": {},
   "outputs": [
    {
     "name": "stdout",
     "output_type": "stream",
     "text": [
      "std::chrono::duration<long, std::ratio<3600l, 1l> > 24\n",
      "std::chrono::duration<long, std::ratio<60l, 1l> > 1440\n"
     ]
    }
   ],
   "source": [
    "%%script ./cxx\n",
    "\n",
    "#include <chrono>\n",
    "#include <iostream>\n",
    "#include \"demangle.h\"\n",
    "\n",
    "int main() {\n",
    "    using namespace std;\n",
    "    using namespace std::chrono_literals;\n",
    "    using namespace std::chrono;\n",
    "    \n",
    "    auto day = 24h;\n",
    "    cout << demangle(typeid(day).name()) << \" \" << day.count() << endl;\n",
    "    \n",
    "    auto mnt = duration_cast<minutes>(day);\n",
    "    cout << demangle(typeid(mnt).name()) << \" \" << mnt.count() << endl;\n",
    "}\n"
   ]
  },
  {
   "cell_type": "markdown",
   "metadata": {},
   "source": [
    "## Compile-time integer sequences"
   ]
  },
  {
   "cell_type": "markdown",
   "metadata": {},
   "source": [
    "## std::make_unique"
   ]
  },
  {
   "cell_type": "code",
   "execution_count": 19,
   "metadata": {},
   "outputs": [],
   "source": [
    "%%script ./cxx\n",
    "\n",
    "#include <iostream>\n",
    "#include <memory>\n",
    "\n",
    "int main() {\n",
    "    using namespace std;\n",
    "    auto p = make_unique<int>();\n",
    "}\n"
   ]
  },
  {
   "cell_type": "code",
   "execution_count": null,
   "metadata": {},
   "outputs": [],
   "source": []
  },
  {
   "cell_type": "markdown",
   "metadata": {},
   "source": [
    "# C++17 Language Features"
   ]
  },
  {
   "cell_type": "markdown",
   "metadata": {},
   "source": [
    "## Template argument deduction for class templates"
   ]
  },
  {
   "cell_type": "code",
   "execution_count": 20,
   "metadata": {},
   "outputs": [
    {
     "name": "stdout",
     "output_type": "stream",
     "text": [
      "MyContainer<int>\n",
      "MyContainer<float>\n"
     ]
    }
   ],
   "source": [
    "%%script ./cxx -std=c++17\n",
    "\n",
    "#include <iostream>\n",
    "#include \"demangle.h\"\n",
    "\n",
    "template <typename T = float>\n",
    "struct MyContainer {\n",
    "  T val;\n",
    "  MyContainer() : val() {}\n",
    "  MyContainer(T val) : val(val) {}\n",
    "  // ...\n",
    "};\n",
    "\n",
    "MyContainer c1 {1}; // OK MyContainer<int>\n",
    "MyContainer c2; // OK MyContainer<float>\n",
    "\n",
    "int main() {\n",
    "    using namespace std;\n",
    "    cout << demangle(typeid(c1).name()) << endl;\n",
    "    cout << demangle(typeid(c2).name()) << endl;\n",
    "}\n"
   ]
  },
  {
   "cell_type": "code",
   "execution_count": 21,
   "metadata": {},
   "outputs": [],
   "source": [
    "%%script ./cxx -std=c++17\n",
    "\n",
    "#include <iostream>\n",
    "#include <tuple>\n",
    "#include <memory>\n",
    "#include <string>\n",
    "#include <array>\n",
    "#include <vector>\n",
    "#include \"demangle.h\"\n",
    "\n",
    "auto foo() {\n",
    "    using namespace std;\n",
    "    return tuple(0,0);\n",
    "}\n",
    "\n",
    "int main() {\n",
    "    using namespace std;\n",
    "    \n",
    "    // https://devblogs.microsoft.com/cppblog/how-to-use-class-template-argument-deduction/\n",
    "    // 1. easy to compile, avoid meta programing\n",
    "    // 2. easy to debug\n",
    "    \n",
    "    tuple a = {1, 2};\n",
    "    tuple b = foo();\n",
    "    \n",
    "    array arr = {\"a\", \"b\" };\n",
    "    vector vec = { 1, 2 }; \n",
    "}\n"
   ]
  },
  {
   "cell_type": "markdown",
   "metadata": {},
   "source": [
    "## constexpr"
   ]
  },
  {
   "cell_type": "markdown",
   "metadata": {},
   "source": [
    "## if"
   ]
  },
  {
   "cell_type": "code",
   "execution_count": 22,
   "metadata": {},
   "outputs": [
    {
     "name": "stdout",
     "output_type": "stream",
     "text": [
      "size of v: 2\n"
     ]
    }
   ],
   "source": [
    "%%script ./cxx\n",
    "\n",
    "#include <iostream>\n",
    "\n",
    "int main() {\n",
    "    using namespace std;\n",
    "    auto v = {1, 2};\n",
    "    if(int sz = v.size()) {\n",
    "        cout <<\"size of v: \" <<  sz << endl;\n",
    "    }\n",
    "    // compiler can't sz now\n",
    "    // cout << sz << endl;\n",
    "}"
   ]
  },
  {
   "cell_type": "markdown",
   "metadata": {},
   "source": [
    "## initializer_list"
   ]
  },
  {
   "cell_type": "code",
   "execution_count": 23,
   "metadata": {},
   "outputs": [
    {
     "name": "stdout",
     "output_type": "stream",
     "text": [
      "std::initializer_list<int>\n",
      "1 2 \n",
      "std::vector<int, std::allocator<int> >\n"
     ]
    }
   ],
   "source": [
    "%%script ./cxx\n",
    "\n",
    "#include \"demangle.h\"\n",
    "#include <iostream>\n",
    "#include <vector>\n",
    "\n",
    "int main() {\n",
    "    using namespace std;\n",
    "    \n",
    "    auto a = {1, 2};\n",
    "    cout << demangle(typeid(a).name()) << endl;\n",
    "    \n",
    "    \n",
    "    for(auto itr = a.begin(); itr != a.end(); ++itr) {\n",
    "        cout << *itr << \" \";\n",
    "    }\n",
    "    cout << endl;\n",
    "    \n",
    "    vector<int> v = a;\n",
    "    cout << demangle(typeid(v).name()) << endl;\n",
    "}"
   ]
  },
  {
   "cell_type": "markdown",
   "metadata": {},
   "source": [
    "## structure binding"
   ]
  },
  {
   "cell_type": "markdown",
   "metadata": {},
   "source": [
    "### tuple"
   ]
  },
  {
   "cell_type": "code",
   "execution_count": 24,
   "metadata": {},
   "outputs": [
    {
     "name": "stdout",
     "output_type": "stream",
     "text": [
      "1 2\n"
     ]
    }
   ],
   "source": [
    "%%script ./cxx -std=c++17\n",
    "\n",
    "#include <iostream>\n",
    "#include <tuple>\n",
    "\n",
    "int main() {\n",
    "    using namespace std;\n",
    "    auto t = make_tuple(1,2);\n",
    "    auto [x, y] = t;\n",
    "    cout << x << \" \" << y  << endl;\n",
    "}"
   ]
  },
  {
   "cell_type": "markdown",
   "metadata": {},
   "source": [
    "## type inference"
   ]
  },
  {
   "cell_type": "code",
   "execution_count": 25,
   "metadata": {},
   "outputs": [
    {
     "name": "stdout",
     "output_type": "stream",
     "text": [
      "1 2 "
     ]
    }
   ],
   "source": [
    "%%script ./cxx\n",
    "\n",
    "#include <iostream>\n",
    "\n",
    "int main() {\n",
    "    using namespace std;\n",
    "    \n",
    "    auto a = {1, 2};\n",
    "    for(auto itr = a.begin(); itr != a.end(); ++itr) {\n",
    "        cout << *itr << \" \";\n",
    "    }\n",
    "}"
   ]
  },
  {
   "cell_type": "markdown",
   "metadata": {},
   "source": [
    "## decltype"
   ]
  },
  {
   "cell_type": "code",
   "execution_count": 26,
   "metadata": {},
   "outputs": [
    {
     "name": "stdout",
     "output_type": "stream",
     "text": [
      "2.1\n",
      "int\n",
      "double\n",
      "double\n"
     ]
    }
   ],
   "source": [
    "%%script ./cxx\n",
    "\n",
    "#include \"demangle.h\"\n",
    "#include <iostream>\n",
    "\n",
    "int main() {\n",
    "    using namespace std;\n",
    "    \n",
    "    auto a = 1;\n",
    "    auto b = 1.1;\n",
    "    decltype(a+b) c = a + b;\n",
    "    cout << c << \"\\n\";\n",
    "    cout << demangle(typeid(a).name()) << \"\\n\";\n",
    "    cout << demangle(typeid(b).name()) << \"\\n\";\n",
    "    cout << demangle(typeid(c).name()) << endl;    \n",
    "}"
   ]
  },
  {
   "cell_type": "markdown",
   "metadata": {},
   "source": [
    "## if constexpr"
   ]
  },
  {
   "cell_type": "code",
   "execution_count": 27,
   "metadata": {},
   "outputs": [
    {
     "name": "stdout",
     "output_type": "stream",
     "text": [
      "int\n",
      "double\n"
     ]
    }
   ],
   "source": [
    "%%script ./cxx -std=c++17\n",
    "\n",
    "#include <iostream>\n",
    "#include \"demangle.h\"\n",
    "\n",
    "template<typename T>\n",
    "auto return_one(const T &v) {\n",
    "    if constexpr(std::is_integral<T>::value) {\n",
    "        return 1;\n",
    "    } else {\n",
    "        return 1.0;\n",
    "    }\n",
    "}\n",
    "\n",
    "int main() {\n",
    "    using namespace std;\n",
    "    \n",
    "    cout << demangle(typeid(return_one(0)).name()) << endl;    \n",
    "    cout << demangle(typeid(return_one(0.)).name()) << endl;    \n",
    "    \n",
    "    \n",
    "}"
   ]
  },
  {
   "cell_type": "markdown",
   "metadata": {},
   "source": [
    "## range based for"
   ]
  },
  {
   "cell_type": "code",
   "execution_count": 28,
   "metadata": {},
   "outputs": [
    {
     "name": "stdout",
     "output_type": "stream",
     "text": [
      "1 2 \n"
     ]
    }
   ],
   "source": [
    "%%script ./cxx\n",
    "\n",
    "#include <iostream>\n",
    "int main() {\n",
    "    using namespace std;\n",
    "    \n",
    "    auto a = {1, 2};\n",
    "    for(auto v: a) {\n",
    "        cout << v << \" \";\n",
    "    }\n",
    "    cout << endl;\n",
    "}"
   ]
  },
  {
   "cell_type": "markdown",
   "metadata": {},
   "source": [
    "## template '>>'"
   ]
  },
  {
   "cell_type": "code",
   "execution_count": 29,
   "metadata": {},
   "outputs": [],
   "source": [
    "%%script ./cxx\n",
    "\n",
    "#include <vector>\n",
    "\n",
    "int main() {\n",
    "    using namespace std;\n",
    "    vector<vector<int>> a;\n",
    "}"
   ]
  },
  {
   "cell_type": "markdown",
   "metadata": {},
   "source": [
    "## template alias"
   ]
  },
  {
   "cell_type": "code",
   "execution_count": 30,
   "metadata": {},
   "outputs": [
    {
     "name": "stdout",
     "output_type": "stream",
     "text": [
      "LongForU<int, double> ()\n"
     ]
    }
   ],
   "source": [
    "%%script ./cxx\n",
    "\n",
    "#include <iostream>\n",
    "#include \"demangle.h\"\n",
    "\n",
    "template<typename T, typename U>\n",
    "class LongForU {\n",
    "};\n",
    "\n",
    "template<typename T>\n",
    "using ShortForU = LongForU<T, double>;\n",
    "\n",
    "using namespace std;\n",
    "int main() {\n",
    "    cout << demangle(typeid(ShortForU<int>()).name()) << endl;\n",
    "}"
   ]
  },
  {
   "cell_type": "markdown",
   "metadata": {},
   "source": [
    "## tuple"
   ]
  },
  {
   "cell_type": "code",
   "execution_count": 31,
   "metadata": {},
   "outputs": [
    {
     "name": "stdout",
     "output_type": "stream",
     "text": [
      "1 2\n",
      "1 2\n"
     ]
    }
   ],
   "source": [
    "%%script ./cxx -std=c++17\n",
    "\n",
    "#include <tuple>\n",
    "#include <iostream>\n",
    "\n",
    "int main() {\n",
    "    using namespace std;\n",
    "    \n",
    "    // create tuple\n",
    "    auto t = make_tuple(1, 2);\n",
    "    \n",
    "    // access each element\n",
    "    cout << get<0>(t) << \" \" << get<1>(t) << endl;\n",
    "    \n",
    "    // structure binding    \n",
    "    auto [a, b] = t;\n",
    "    \n",
    "    cout << a << \" \" << b << endl;\n",
    "    \n",
    "}"
   ]
  },
  {
   "cell_type": "markdown",
   "metadata": {},
   "source": [
    "# C++20 Library Features"
   ]
  },
  {
   "cell_type": "markdown",
   "metadata": {},
   "source": [
    "## ranges"
   ]
  },
  {
   "cell_type": "markdown",
   "metadata": {},
   "source": [
    "### Views namespace"
   ]
  },
  {
   "cell_type": "code",
   "execution_count": 84,
   "metadata": {},
   "outputs": [
    {
     "name": "stdout",
     "output_type": "stream",
     "text": [
      "1 2 3 4 5 \n",
      "1 2 3 4 5 \n",
      "1 2 3 4 5 \n"
     ]
    }
   ],
   "source": [
    "%%script ./cxx -std=c++2a\n",
    "#include <vector>\n",
    "#include <stdio.h>\n",
    "#include <ranges>\n",
    "#include <algorithm>\n",
    "\n",
    "template<class Range>\n",
    "void print(Range const &range) {\n",
    "    for(auto v : range) {\n",
    "        printf(\"%d \", v);\n",
    "    }\n",
    "    printf(\"\\n\");\n",
    "}\n",
    "\n",
    "int main() {\n",
    "    \n",
    "    // function in std::ranges::views\n",
    "    // or std::views\n",
    "    auto rng = std::views::iota(1, 10);\n",
    "    \n",
    "    // class in std::ranges\n",
    "    print(std::ranges::take_view(rng, 5));\n",
    "    \n",
    "    // take in std::ranges::views namespace\n",
    "    // or std::views\n",
    "        \n",
    "    print(std::ranges::views::take(rng, 5));\n",
    "    print(std::views::take(rng, 5));\n",
    "        \n",
    "}"
   ]
  },
  {
   "cell_type": "markdown",
   "metadata": {},
   "source": [
    "### Range factories\n",
    "\n",
    "Defined in header `<ranges>`.\n",
    "\n",
    "Defined in namespace `std::ranges`.\n",
    "\n",
    "construction function also in `std::views` and `std::ranges::views`"
   ]
  },
  {
   "cell_type": "code",
   "execution_count": 122,
   "metadata": {},
   "outputs": [
    {
     "name": "stdout",
     "output_type": "stream",
     "text": [
      "\n",
      "1 \n",
      "1 \n",
      "0 1 2 3 4 5 6 7 8 9 \n",
      "0 1 2 3 4 5 6 7 8 9 \n"
     ]
    }
   ],
   "source": [
    "%%script ./cxx -std=c++2a\n",
    "#include <stdio.h>\n",
    "#include <ranges>\n",
    "\n",
    "template<class Range>\n",
    "void print(Range const &range) {\n",
    "    for(auto v : range) {\n",
    "        printf(\"%d \", v);\n",
    "    }\n",
    "    printf(\"\\n\");\n",
    "}\n",
    "\n",
    "int main() {\n",
    "\n",
    "    auto rng = std::views::iota(1, 10);\n",
    "    //print(std::views::empty(rng));\n",
    "    //print(std::views::empty<int>(rng));\n",
    "    //print(std::views::empty());\n",
    "    //print(std::views::empty<int>());\n",
    "    print(std::ranges::empty_view<int>());\n",
    "    \n",
    "    print(std::views::single(1));\n",
    "    print(std::ranges::single_view(1));\n",
    "    \n",
    "    print(std::views::iota(0, 10));\n",
    "    print(std::ranges::iota_view(0, 10));\n",
    "\n",
    "}"
   ]
  },
  {
   "cell_type": "markdown",
   "metadata": {},
   "source": [
    "### Range adaptors\n",
    "\n",
    "Defined in header `<ranges>`\n",
    "\n",
    "Defined in namespace `std::ranges`\n",
    "\n",
    "construction function also in `std::views` and `std::ranges::views`"
   ]
  },
  {
   "cell_type": "code",
   "execution_count": 150,
   "metadata": {
    "scrolled": false
   },
   "outputs": [],
   "source": [
    "%%script ./cxx -std=c++2a\n",
    "#include <stdio.h>\n",
    "#include <ranges>\n",
    "#include \"demangle.h\"\n",
    "int main() {\n",
    "    using namespace std;\n",
    "    using namespace std::ranges;\n",
    "    \n",
    "    // only take has the magic\n",
    "    views::take(iota_view(0, 100), 10);\n",
    "    views::take(10)(iota_view(0, 100));\n",
    "    iota_view(0, 100) | views::take(10);\n",
    "    \n",
    "}"
   ]
  },
  {
   "cell_type": "markdown",
   "metadata": {},
   "source": [
    "### Benchmark"
   ]
  },
  {
   "cell_type": "code",
   "execution_count": 175,
   "metadata": {},
   "outputs": [
    {
     "name": "stdout",
     "output_type": "stream",
     "text": [
      "-887054544 2400ns\n",
      "-887054544 2300ns\n"
     ]
    }
   ],
   "source": [
    "%%script ./cxx -std=c++2a -O3\n",
    "#include <stdio.h>\n",
    "#include <ranges>\n",
    "#include <chrono>\n",
    "\n",
    "int main() {\n",
    "    using namespace std;\n",
    "    using namespace std::ranges;\n",
    "    using namespace std::chrono;\n",
    "    \n",
    "    int z0 = rand()%2;\n",
    "    int m = rand()%2;\n",
    "    \n",
    "    {\n",
    "        auto t0 = high_resolution_clock::now();\n",
    "        int s1 = 0;\n",
    "        auto rng = iota_view(0)\n",
    "        | views::take(10000)\n",
    "        | views::filter([](auto x){ return x % 2 == 0; })\n",
    "        | views::transform([](auto x) { return x*x; });\n",
    "\n",
    "        for (auto v : rng) {\n",
    "            s1 += v;\n",
    "        }\n",
    "        auto t1 = high_resolution_clock::now();\n",
    "        \n",
    "        printf(\"%d %dns\\n\", s1, (int)duration_cast<nanoseconds>(t1-t0).count());\n",
    "        \n",
    "    }\n",
    "    \n",
    "    {\n",
    "        auto t0 = high_resolution_clock::now();\n",
    "        \n",
    "        int s2 = 0;\n",
    "        for (int i = 0; i < 10000; ++i) {\n",
    "            if (i % 2 == m) {\n",
    "                s2 += i * i;      \n",
    "            }\n",
    "        }\n",
    "        auto t1 = high_resolution_clock::now();\n",
    "        \n",
    "        printf(\"%d %dns\\n\", s2, (int)duration_cast<nanoseconds>(t1-t0).count());\n",
    "    }\n",
    "    \n",
    "    \n",
    "}"
   ]
  }
 ],
 "metadata": {
  "kernelspec": {
   "display_name": "Python 3",
   "language": "python",
   "name": "python3"
  },
  "language_info": {
   "codemirror_mode": {
    "name": "ipython",
    "version": 3
   },
   "file_extension": ".py",
   "mimetype": "text/x-python",
   "name": "python",
   "nbconvert_exporter": "python",
   "pygments_lexer": "ipython3",
   "version": "3.8.5"
  },
  "toc": {
   "base_numbering": 1,
   "nav_menu": {
    "height": "258.991px",
    "width": "217.486px"
   },
   "number_sections": true,
   "sideBar": true,
   "skip_h1_title": false,
   "title_cell": "Table of Contents",
   "title_sidebar": "Contents",
   "toc_cell": true,
   "toc_position": {},
   "toc_section_display": true,
   "toc_window_display": false
  }
 },
 "nbformat": 4,
 "nbformat_minor": 2
}
