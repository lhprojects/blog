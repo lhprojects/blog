{
 "cells": [
  {
   "cell_type": "markdown",
   "metadata": {
    "toc": true
   },
   "source": [
    "<h1>Table of Contents<span class=\"tocSkip\"></span></h1>\n",
    "<div class=\"toc\"><ul class=\"toc-item\"><li><span><a href=\"#Gaussian-Process-Regression\" data-toc-modified-id=\"Gaussian-Process-Regression-1\"><span class=\"toc-item-num\">1&nbsp;&nbsp;</span>Gaussian Process Regression</a></span></li><li><span><a href=\"#An-exmaple\" data-toc-modified-id=\"An-exmaple-2\"><span class=\"toc-item-num\">2&nbsp;&nbsp;</span>An exmaple</a></span></li></ul></div>"
   ]
  },
  {
   "cell_type": "markdown",
   "metadata": {},
   "source": [
    "# Gaussian Process Regression"
   ]
  },
  {
   "cell_type": "code",
   "execution_count": 1,
   "metadata": {},
   "outputs": [],
   "source": [
    "import numpy as np\n",
    "\n",
    "class RBF:\n",
    "    '''\n",
    "    kij = exp(-(d(xi, xj))^2/(2 l^2))\n",
    "    '''\n",
    "    def __init__(self, length_scale = 1.0, sigma = 1.):\n",
    "        self.length_scale = length_scale\n",
    "        self.sigma = 1.\n",
    "        \n",
    "    def __call__(self, X, Y=None):\n",
    "        '''\n",
    "        (X.shape[0], X.shape[1])\n",
    "        '''\n",
    "        if Y is None:\n",
    "            Y = X\n",
    "            \n",
    "        distance2 = np.square(X[:,np.newaxis,:] - Y[np.newaxis,:,:]).sum(axis=2)\n",
    "        distance2 /= 2*self.length_scale**2\n",
    "        K = np.exp(-distance2)\n",
    "        K *= self.sigma\n",
    "        return K\n",
    "        \n",
    "def Zero(X):\n",
    "    return np.zeros(X.shape[0])\n",
    "        \n",
    "class GaussianProcessRegressor:\n",
    "    \n",
    "    def __init__(self, m = None, kernel=None, alpha=1E-10):\n",
    "            \n",
    "        self.kernel = kernel          \n",
    "        self.m = m\n",
    "        self.alpha = alpha\n",
    "        \n",
    "    def fit(self, X, y):\n",
    "        '''\n",
    "        X should be 2D matrix\n",
    "        If you have only 1 feature use shape of (N,1)\n",
    "        '''\n",
    "        \n",
    "        self.kernel_ = self.kernel            \n",
    "        if self.kernel_ is None:\n",
    "            self.kernel_ = RBF(length_scale = 1.0, sigma = 1.0)\n",
    "            \n",
    "        self.m_ = self.m\n",
    "        if self.m_ is None:\n",
    "            self.m_ = Zero\n",
    "            \n",
    "        X = np.array(X, dtype=np.float_)\n",
    "        y = np.array(y, dtype=np.float_)\n",
    "        \n",
    "        y = y - self.m_(X)\n",
    "        KXX = self.kernel_(X, X)\n",
    "        \n",
    "            \n",
    "        if self.alpha != 0:\n",
    "            KXX += self.alpha * np.eye(X.shape[0])\n",
    "\n",
    "        invKXX = np.linalg.inv(KXX)\n",
    "        weights = invKXX.dot(y)\n",
    "        self.invKXX = invKXX\n",
    "        self.coef_ = weights\n",
    "            \n",
    "        \n",
    "        self.X = X\n",
    "        self.y = y\n",
    "        self.y_m = y\n",
    "        self.KXX = KXX\n",
    "        \n",
    "        \n",
    "    def predict(self, X, return_std=False):\n",
    "        '''\n",
    "        X should be 2D matrix\n",
    "        If you have only 1 feature use shape of (N,1)\n",
    "        '''\n",
    "        X = np.array(X, dtype=np.float_)\n",
    "        \n",
    "        Y = X\n",
    "        X = self.X\n",
    "        KYX = self.kernel_(Y, X)\n",
    "                    \n",
    "        f = KYX.dot(self.coef_) + self.m_(Y)\n",
    "\n",
    "        if not return_std:\n",
    "            return f\n",
    "\n",
    "        invKXX =  self.invKXX        \n",
    "        KYY = self.kernel_(Y, Y) + self.alpha * np.eye(Y.shape[0])\n",
    "        KXY =  KYX.T\n",
    "        KYY_post = KYY - KYX.dot( invKXX.dot(KXY) )\n",
    "        return f, np.sqrt(np.maximum(0, np.diagonal(KYY_post)))\n",
    "        \n",
    "        "
   ]
  },
  {
   "cell_type": "markdown",
   "metadata": {},
   "source": [
    "# An exmaple"
   ]
  },
  {
   "cell_type": "code",
   "execution_count": 2,
   "metadata": {},
   "outputs": [
    {
     "data": {
      "image/png": "[encoded data removed]",
      "text/plain": [
       "<Figure size 288x288 with 1 Axes>"
      ]
     },
     "metadata": {
      "needs_background": "light"
     },
     "output_type": "display_data"
    }
   ],
   "source": [
    "import matplotlib.pyplot as plt\n",
    "%matplotlib inline\n",
    "\n",
    "np.random.seed(0)\n",
    "X_train = np.random.rand(10).reshape(-1,1)\n",
    "y_train = X_train[:,0] + 0.1*np.random.randn(10)\n",
    "X_plt = np.linspace(0,1,1000)\n",
    "\n",
    "gpr=GaussianProcessRegressor(kernel=RBF(-1,1), alpha=1E-1**2)\n",
    "gpr.fit(X_train, y_train)\n",
    "y_plt = gpr.predict(X_plt.reshape(-1,1))\n",
    "\n",
    "plt.figure(figsize=(4,4))\n",
    "plt.scatter(X_train, y_train, label=\"train\")\n",
    "plt.plot(X_plt, y_plt, label=\"fit\")\n",
    "plt.legend()\n",
    "plt.show()"
   ]
  }
 ],
 "metadata": {
  "hide_input": false,
  "kernelspec": {
   "display_name": "Python 3",
   "language": "python",
   "name": "python3"
  },
  "language_info": {
   "codemirror_mode": {
    "name": "ipython",
    "version": 3
   },
   "file_extension": ".py",
   "mimetype": "text/x-python",
   "name": "python",
   "nbconvert_exporter": "python",
   "pygments_lexer": "ipython3",
   "version": "3.6.7"
  },
  "toc": {
   "base_numbering": 1,
   "nav_menu": {},
   "number_sections": true,
   "sideBar": true,
   "skip_h1_title": false,
   "title_cell": "Table of Contents",
   "title_sidebar": "Contents",
   "toc_cell": true,
   "toc_position": {},
   "toc_section_display": true,
   "toc_window_display": true
  },
  "varInspector": {
   "cols": {
    "lenName": "24",
    "lenType": "16",
    "lenVar": 40
   },
   "kernels_config": {
    "python": {
     "delete_cmd_postfix": "",
     "delete_cmd_prefix": "del ",
     "library": "var_list.py",
     "varRefreshCmd": "print(var_dic_list())"
    },
    "r": {
     "delete_cmd_postfix": ") ",
     "delete_cmd_prefix": "rm(",
     "library": "var_list.r",
     "varRefreshCmd": "cat(var_dic_list()) "
    }
   },
   "types_to_exclude": [
    "module",
    "function",
    "builtin_function_or_method",
    "instance",
    "_Feature"
   ],
   "window_display": false
  }
 },
 "nbformat": 4,
 "nbformat_minor": 2
}
